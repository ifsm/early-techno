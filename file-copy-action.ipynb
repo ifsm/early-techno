{
 "cells": [
  {
   "cell_type": "code",
   "execution_count": null,
   "id": "b77c1358",
   "metadata": {},
   "outputs": [],
   "source": [
    "import os\n",
    "import glob\n",
    "import shutil\n",
    "from pathlib import Path"
   ]
  },
  {
   "cell_type": "markdown",
   "id": "ed994fd0",
   "metadata": {},
   "source": [
    "Copy those CSVs where the BPM does not seem plausible:"
   ]
  },
  {
   "cell_type": "code",
   "execution_count": null,
   "id": "8e1613d6",
   "metadata": {},
   "outputs": [],
   "source": [
    "source_path = \"C:\\\\Users\\\\t_ziemer\\\\Desktop\\\\techno-csv\\\\Germany\\\\*.csv\"  # Replace with your source directory\n",
    "# Define the destination path where you want to copy the files\n",
    "destination_path = \"C:\\\\Users\\\\t_ziemer\\\\Desktop\\\\techno-test\\\\GNew\"  # Replace with your destination directory\n",
    "\n",
    "# Create the destination path as a Path object and create it if it doesn't exist\n",
    "source_path = Path(source_path)\n",
    "dest_path = Path(destination_path)\n",
    "dest_path.mkdir(parents=True, exist_ok=True)\n",
    "\n",
    "# Get all CSV files in the source directory\n",
    "files = glob.glob(source_path)"
   ]
  },
  {
   "cell_type": "code",
   "execution_count": null,
   "id": "f717ab81",
   "metadata": {},
   "outputs": [],
   "source": [
    "# Loop through each file\n",
    "for file in files:\n",
    "    try:\n",
    "        # Read the CSV file\n",
    "        df = pd.read_csv(file)\n",
    "\n",
    "        # Check if column 22 exists (index 21 since indexing starts at 0)\n",
    "        if df.shape[1] > 21:  # Ensure there are at least 21 columns\n",
    "            mean_value = df.iloc[:, 21].mean()  # Get the mean of the 21st column\n",
    "            \n",
    "            # Check if the mean value is smaller than 130 and is not an integer\n",
    "            if mean_value < 120 and not mean_value.is_integer() and (\"1992\" in Path(file).name or \"1991\" in Path(file).name or \"1990\" in Path(file).name or \"1989\" in Path(file).name or \"1988\" in Path(file).name):\n",
    "                # Copy the file to the destination path\n",
    "                shutil.copy(file, dest_path / Path(file).name)\n",
    "                #print(f\"Copied {Path(file).name} to {dest_path} because mean value {mean_value:.2f} is smaller than 130 and not an integer.\")\n",
    "    \n",
    "    except Exception as e:\n",
    "        print(Path(file).name)"
   ]
  },
  {
   "cell_type": "markdown",
   "id": "57801f28",
   "metadata": {},
   "source": [
    "Search for the respective audio files to analyze them "
   ]
  },
  {
   "cell_type": "code",
   "execution_count": null,
   "id": "94d7dfbd",
   "metadata": {},
   "outputs": [],
   "source": [
    "# Define the source directories\n",
    "sourcec = Path(\"C:\\\\Users\\\\t_ziemer\\\\Desktop\\\\techno-test\\\\GNew\")  # Update this path to your source folder 1\n",
    "sourcea = Path(\"C:\\\\Users\\\\t_ziemer\\\\Desktop\\\\techno-94\\\\germany-3\")  # Update this path to your source folder 2\n",
    "targeta = Path(\"C:\\\\Users\\\\t_ziemer\\\\Desktop\\\\techno-test\\\\Germany\")  # Update this path to your target folder\n",
    "\n",
    "# Create the target directory if it doesn't exist\n",
    "targeta.mkdir(parents=True, exist_ok=True)\n",
    "\n",
    "# Loop through all CSV files in sourcec (folder 1)\n",
    "for csv_file in sourcec.glob('*.csv'):\n",
    "    # Get the filename without extension\n",
    "    filename_without_extension = csv_file.stem\n",
    "    \n",
    "    # Construct the path to the corresponding file in sourcea (folder 2)\n",
    "    corresponding_file = sourcea / f\"{filename_without_extension}\"\n",
    "    \n",
    "    # Check if that file exists in sourcea\n",
    "    if corresponding_file.exists():\n",
    "        # Copy the file to targeta\n",
    "        shutil.copy(corresponding_file, targeta / corresponding_file.name)\n",
    "    else:\n",
    "        # Print the filename if it does not exist\n",
    "        print(f\"{filename_without_extension} does not exist in {sourcea}\")"
   ]
  }
 ],
 "metadata": {
  "kernelspec": {
   "display_name": "Python 3 (ipykernel)",
   "language": "python",
   "name": "python3"
  },
  "language_info": {
   "codemirror_mode": {
    "name": "ipython",
    "version": 3
   },
   "file_extension": ".py",
   "mimetype": "text/x-python",
   "name": "python",
   "nbconvert_exporter": "python",
   "pygments_lexer": "ipython3",
   "version": "3.10.7"
  }
 },
 "nbformat": 4,
 "nbformat_minor": 5
}
