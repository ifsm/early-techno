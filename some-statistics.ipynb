{
 "cells": [
  {
   "cell_type": "markdown",
   "id": "5d293263",
   "metadata": {},
   "source": [
    "Some simple statistics"
   ]
  },
  {
   "cell_type": "code",
   "execution_count": 1,
   "id": "2450b1bc",
   "metadata": {},
   "outputs": [],
   "source": [
    "import os\n",
    "import glob\n",
    "measCsv=r'C:\\Users\\t_ziemer\\Desktop\\techno-csv'\n",
    "folds=glob.glob(str(measCsv+'\\\\*'))"
   ]
  },
  {
   "cell_type": "markdown",
   "id": "b050c254",
   "metadata": {},
   "source": [
    "Read file extensions and plot them. I expect m4a, mp3, wav and opus"
   ]
  },
  {
   "cell_type": "code",
   "execution_count": 2,
   "id": "7ed32433",
   "metadata": {},
   "outputs": [],
   "source": [
    "# dictionary of all features:\n",
    "features = {1: 'PhaseSpace',\n",
    "            2: 'ChannelCorrelation',\n",
    "            3: 'PeakMeter',\n",
    "            4: 'RMS',\n",
    "            5: 'CrestFactor',\n",
    "            6: 'PhaseSpaceLow',\n",
    "            7: 'ChannelCorrelationLow',\n",
    "            8: 'PeakMeterLow',\n",
    "            9: 'RMSLow',\n",
    "            10: 'CrestFactorLow',\n",
    "            11: 'PhaseSpaceMid',\n",
    "            12: 'ChannelCorrelationMid',\n",
    "            13: 'PeakMeterMid',\n",
    "            14: 'RMSMid',\n",
    "            15: 'CrestFactorMid',\n",
    "            16: 'PhaseSpaceHigh',\n",
    "            17: 'ChannelCorrelationHigh',\n",
    "            18: 'PeakMeterHigh',\n",
    "            19: 'RMSHigh',\n",
    "            20: 'CrestFactorHigh',\n",
    "            21: 'bpm'}\n",
    "\n",
    "# selection of preferred features\n",
    "nfeatures = {0: 21\n",
    "            }\n",
    "# shall we take each feratures' 'mean', 'median', standard deviation ('std'), skewness ('skew'), or kurtosis ('kurt')?\n",
    "what=['mean']\n",
    "numfeatures = len(nfeatures)"
   ]
  },
  {
   "cell_type": "code",
   "execution_count": 9,
   "id": "d02ecaf1",
   "metadata": {},
   "outputs": [],
   "source": [
    "# takes forever, only works when ALL filenames are correct\n",
    "import numpy as np # for arrays\n",
    "import pandas as pd # for importing csv files\n",
    "from pathlib import Path\n",
    "\n",
    "train_X = []\n",
    "target = []\n",
    "color_map = {}\n",
    "nation = []\n",
    "year = []\n",
    "filename = []\n",
    "\n",
    "# give the classes their names\n",
    "labels=['Germany','USA']\n",
    "\n",
    "for cl, fold in enumerate(folds):\n",
    "    files = glob.glob(str(fold+'\\*.csv'))\n",
    "    numfiles = len(fold)\n",
    "    lal1 = np.empty((numfiles, numfeatures))\n",
    "    #print(lal1)\n",
    "    for j, f in enumerate(files):\n",
    "        la = pd.read_csv(f, index_col=0)\n",
    "        train_X.append(la[features[nfeatures[0]]].mean())\n",
    "        #print(f)\n",
    "        if f[-5]=='s':\n",
    "            #int(f[-13:-9])\n",
    "            #print(int(f[-13:-9]))\n",
    "            year.append(int(f[-14:-10]))\n",
    "            opus = -16\n",
    "        else:\n",
    "            year.append(int(f[-13:-9]))\n",
    "            opus = -15\n",
    "        if fold[-1]=='y':\n",
    "            filename.append(f[45:opus])# depends on absolute file path\n",
    "        else:\n",
    "            filename.append(f[41:opus])# depends on absolute file path\n",
    "            #print(f[45:-16])\n",
    "        nation.append(labels[cl])"
   ]
  },
  {
   "cell_type": "code",
   "execution_count": 10,
   "id": "3f6cf53b",
   "metadata": {},
   "outputs": [],
   "source": [
    "tempi = np.array([filename,nation,year,train_X])\n",
    "tempi = tempi.transpose()\n",
    "df = pd.DataFrame(tempi, columns=['Song','Nation', 'Year', 'BPM'])\n",
    "filename = r'C:\\python\\gits\\early-techno\\tempi24-12-22b.csv'\n",
    "\n",
    "# Save the array to a CSV file\n",
    "df.to_csv(filename, index=False, header=True)"
   ]
  },
  {
   "cell_type": "code",
   "execution_count": 3,
   "id": "94b4bb11",
   "metadata": {},
   "outputs": [],
   "source": [
    "import numpy as np # for arrays\n",
    "import pandas as pd # for importing csv files\n",
    "from pathlib import Path\n",
    "filename = r'C:\\python\\gits\\early-techno\\tempi24-12-22b.csv'\n",
    "df = pd.read_csv(filename, index_col=False)"
   ]
  },
  {
   "cell_type": "code",
   "execution_count": 6,
   "id": "158ebc03",
   "metadata": {},
   "outputs": [],
   "source": [
    "# Quick: spuckt Dateien mit fehlerhaftem Namen aus:\n",
    "import numpy as np # for arrays\n",
    "import pandas as pd # for importing csv files\n",
    "from pathlib import Path\n",
    "\n",
    "train_X = []\n",
    "target = []\n",
    "color_map = {}\n",
    "nation = []\n",
    "year = []\n",
    "filename = []\n",
    "ff = 0\n",
    "\n",
    "# give the classes their names\n",
    "labels=['Germany','USA']\n",
    "\n",
    "for cl, fold in enumerate(folds):\n",
    "    files = glob.glob(str(fold+'\\*.csv'))\n",
    "    numfiles = len(fold)\n",
    "    lal1 = np.empty((numfiles, numfeatures))\n",
    "    for j, f in enumerate(files):\n",
    "        if f[-5]=='s':\n",
    "            try:\n",
    "                int_value = int(f[-14:-10])\n",
    "            except ValueError:\n",
    "                print(f)\n",
    "        else:\n",
    "            try:\n",
    "                int_value = int(f[-13:-9])\n",
    "            except ValueError:\n",
    "                print(f)"
   ]
  },
  {
   "cell_type": "code",
   "execution_count": 37,
   "id": "e6284140",
   "metadata": {},
   "outputs": [
    {
     "name": "stderr",
     "output_type": "stream",
     "text": [
      "C:\\Users\\t_ziemer\\AppData\\Local\\Temp\\ipykernel_22000\\2118111824.py:1: VisibleDeprecationWarning: Creating an ndarray from ragged nested sequences (which is a list-or-tuple of lists-or-tuples-or ndarrays with different lengths or shapes) is deprecated. If you meant to do this, you must specify 'dtype=object' when creating the ndarray.\n",
      "  tempi = np.array([filename,nation,year,train_X])\n"
     ]
    },
    {
     "ename": "ValueError",
     "evalue": "Shape of passed values is (4, 1), indices imply (4, 4)",
     "output_type": "error",
     "traceback": [
      "\u001b[1;31m---------------------------------------------------------------------------\u001b[0m",
      "\u001b[1;31mValueError\u001b[0m                                Traceback (most recent call last)",
      "Cell \u001b[1;32mIn [37], line 3\u001b[0m\n\u001b[0;32m      1\u001b[0m tempi \u001b[38;5;241m=\u001b[39m np\u001b[38;5;241m.\u001b[39marray([filename,nation,year,train_X])\n\u001b[0;32m      2\u001b[0m tempi \u001b[38;5;241m=\u001b[39m tempi\u001b[38;5;241m.\u001b[39mtranspose()\n\u001b[1;32m----> 3\u001b[0m df \u001b[38;5;241m=\u001b[39m pd\u001b[38;5;241m.\u001b[39mDataFrame(tempi, columns\u001b[38;5;241m=\u001b[39m[\u001b[38;5;124m'\u001b[39m\u001b[38;5;124mSong\u001b[39m\u001b[38;5;124m'\u001b[39m,\u001b[38;5;124m'\u001b[39m\u001b[38;5;124mNation\u001b[39m\u001b[38;5;124m'\u001b[39m, \u001b[38;5;124m'\u001b[39m\u001b[38;5;124mYear\u001b[39m\u001b[38;5;124m'\u001b[39m, \u001b[38;5;124m'\u001b[39m\u001b[38;5;124mBPM\u001b[39m\u001b[38;5;124m'\u001b[39m])\n\u001b[0;32m      4\u001b[0m df[\u001b[38;5;124m'\u001b[39m\u001b[38;5;124mYear\u001b[39m\u001b[38;5;124m'\u001b[39m] \u001b[38;5;241m=\u001b[39m pd\u001b[38;5;241m.\u001b[39mto_numeric(df[\u001b[38;5;124m'\u001b[39m\u001b[38;5;124mYear\u001b[39m\u001b[38;5;124m'\u001b[39m])\n\u001b[0;32m      5\u001b[0m df[\u001b[38;5;124m'\u001b[39m\u001b[38;5;124mBPM\u001b[39m\u001b[38;5;124m'\u001b[39m] \u001b[38;5;241m=\u001b[39m pd\u001b[38;5;241m.\u001b[39mto_numeric(df[\u001b[38;5;124m'\u001b[39m\u001b[38;5;124mBPM\u001b[39m\u001b[38;5;124m'\u001b[39m])\n",
      "File \u001b[1;32m~\\AppData\\Local\\Programs\\Python\\Python310\\lib\\site-packages\\pandas\\core\\frame.py:721\u001b[0m, in \u001b[0;36mDataFrame.__init__\u001b[1;34m(self, data, index, columns, dtype, copy)\u001b[0m\n\u001b[0;32m    711\u001b[0m         mgr \u001b[38;5;241m=\u001b[39m dict_to_mgr(\n\u001b[0;32m    712\u001b[0m             \u001b[38;5;66;03m# error: Item \"ndarray\" of \"Union[ndarray, Series, Index]\" has no\u001b[39;00m\n\u001b[0;32m    713\u001b[0m             \u001b[38;5;66;03m# attribute \"name\"\u001b[39;00m\n\u001b[1;32m   (...)\u001b[0m\n\u001b[0;32m    718\u001b[0m             typ\u001b[38;5;241m=\u001b[39mmanager,\n\u001b[0;32m    719\u001b[0m         )\n\u001b[0;32m    720\u001b[0m     \u001b[38;5;28;01melse\u001b[39;00m:\n\u001b[1;32m--> 721\u001b[0m         mgr \u001b[38;5;241m=\u001b[39m \u001b[43mndarray_to_mgr\u001b[49m\u001b[43m(\u001b[49m\n\u001b[0;32m    722\u001b[0m \u001b[43m            \u001b[49m\u001b[43mdata\u001b[49m\u001b[43m,\u001b[49m\n\u001b[0;32m    723\u001b[0m \u001b[43m            \u001b[49m\u001b[43mindex\u001b[49m\u001b[43m,\u001b[49m\n\u001b[0;32m    724\u001b[0m \u001b[43m            \u001b[49m\u001b[43mcolumns\u001b[49m\u001b[43m,\u001b[49m\n\u001b[0;32m    725\u001b[0m \u001b[43m            \u001b[49m\u001b[43mdtype\u001b[49m\u001b[38;5;241;43m=\u001b[39;49m\u001b[43mdtype\u001b[49m\u001b[43m,\u001b[49m\n\u001b[0;32m    726\u001b[0m \u001b[43m            \u001b[49m\u001b[43mcopy\u001b[49m\u001b[38;5;241;43m=\u001b[39;49m\u001b[43mcopy\u001b[49m\u001b[43m,\u001b[49m\n\u001b[0;32m    727\u001b[0m \u001b[43m            \u001b[49m\u001b[43mtyp\u001b[49m\u001b[38;5;241;43m=\u001b[39;49m\u001b[43mmanager\u001b[49m\u001b[43m,\u001b[49m\n\u001b[0;32m    728\u001b[0m \u001b[43m        \u001b[49m\u001b[43m)\u001b[49m\n\u001b[0;32m    730\u001b[0m \u001b[38;5;66;03m# For data is list-like, or Iterable (will consume into list)\u001b[39;00m\n\u001b[0;32m    731\u001b[0m \u001b[38;5;28;01melif\u001b[39;00m is_list_like(data):\n",
      "File \u001b[1;32m~\\AppData\\Local\\Programs\\Python\\Python310\\lib\\site-packages\\pandas\\core\\internals\\construction.py:350\u001b[0m, in \u001b[0;36mndarray_to_mgr\u001b[1;34m(values, index, columns, dtype, copy, typ)\u001b[0m\n\u001b[0;32m    345\u001b[0m \u001b[38;5;66;03m# _prep_ndarraylike ensures that values.ndim == 2 at this point\u001b[39;00m\n\u001b[0;32m    346\u001b[0m index, columns \u001b[38;5;241m=\u001b[39m _get_axes(\n\u001b[0;32m    347\u001b[0m     values\u001b[38;5;241m.\u001b[39mshape[\u001b[38;5;241m0\u001b[39m], values\u001b[38;5;241m.\u001b[39mshape[\u001b[38;5;241m1\u001b[39m], index\u001b[38;5;241m=\u001b[39mindex, columns\u001b[38;5;241m=\u001b[39mcolumns\n\u001b[0;32m    348\u001b[0m )\n\u001b[1;32m--> 350\u001b[0m \u001b[43m_check_values_indices_shape_match\u001b[49m\u001b[43m(\u001b[49m\u001b[43mvalues\u001b[49m\u001b[43m,\u001b[49m\u001b[43m \u001b[49m\u001b[43mindex\u001b[49m\u001b[43m,\u001b[49m\u001b[43m \u001b[49m\u001b[43mcolumns\u001b[49m\u001b[43m)\u001b[49m\n\u001b[0;32m    352\u001b[0m \u001b[38;5;28;01mif\u001b[39;00m typ \u001b[38;5;241m==\u001b[39m \u001b[38;5;124m\"\u001b[39m\u001b[38;5;124marray\u001b[39m\u001b[38;5;124m\"\u001b[39m:\n\u001b[0;32m    354\u001b[0m     \u001b[38;5;28;01mif\u001b[39;00m \u001b[38;5;28missubclass\u001b[39m(values\u001b[38;5;241m.\u001b[39mdtype\u001b[38;5;241m.\u001b[39mtype, \u001b[38;5;28mstr\u001b[39m):\n",
      "File \u001b[1;32m~\\AppData\\Local\\Programs\\Python\\Python310\\lib\\site-packages\\pandas\\core\\internals\\construction.py:421\u001b[0m, in \u001b[0;36m_check_values_indices_shape_match\u001b[1;34m(values, index, columns)\u001b[0m\n\u001b[0;32m    419\u001b[0m passed \u001b[38;5;241m=\u001b[39m values\u001b[38;5;241m.\u001b[39mshape\n\u001b[0;32m    420\u001b[0m implied \u001b[38;5;241m=\u001b[39m (\u001b[38;5;28mlen\u001b[39m(index), \u001b[38;5;28mlen\u001b[39m(columns))\n\u001b[1;32m--> 421\u001b[0m \u001b[38;5;28;01mraise\u001b[39;00m \u001b[38;5;167;01mValueError\u001b[39;00m(\u001b[38;5;124mf\u001b[39m\u001b[38;5;124m\"\u001b[39m\u001b[38;5;124mShape of passed values is \u001b[39m\u001b[38;5;132;01m{\u001b[39;00mpassed\u001b[38;5;132;01m}\u001b[39;00m\u001b[38;5;124m, indices imply \u001b[39m\u001b[38;5;132;01m{\u001b[39;00mimplied\u001b[38;5;132;01m}\u001b[39;00m\u001b[38;5;124m\"\u001b[39m)\n",
      "\u001b[1;31mValueError\u001b[0m: Shape of passed values is (4, 1), indices imply (4, 4)"
     ]
    }
   ],
   "source": [
    "tempi = np.array([filename,nation,year,train_X])\n",
    "tempi = tempi.transpose()\n",
    "df = pd.DataFrame(tempi, columns=['Song','Nation', 'Year', 'BPM'])\n",
    "df['Year'] = pd.to_numeric(df['Year'])\n",
    "df['BPM'] = pd.to_numeric(df['BPM'])\n",
    "\n",
    "import plotly.graph_objects as go\n",
    "# Create a figure object\n",
    "fig = go.Figure()\n",
    "\n",
    "# Add boxplots for BPM by Nation\n",
    "fig.add_trace(go.Box(y=df['BPM'], x=df['Nation'], \n",
    "                     name='BPM', \n",
    "                     boxmean='sd',  # Show mean and standard deviation\n",
    "                     marker=dict(opacity=0.6),  # Adjust boxplot transparency\n",
    "                     showlegend=False))  # Hide legend\n",
    "\n",
    "# Overlay scatter plot of individual data points\n",
    "# Set mode to markers and adjust for transparency\n",
    "fig.add_trace(go.Scatter(x=df['Nation'], y=df['BPM'], \n",
    "                         mode='markers', \n",
    "                         marker=dict(color='blue', opacity=0.5, size=8),  # Semi-transparent\n",
    "                         customdata=df['Song'],  # Add song data\n",
    "                         hovertemplate=\"%{customdata}\"))\n",
    "\n",
    "# Update layout with titles\n",
    "fig.update_layout(title='Boxplots of BPM by Nation with Individual Data Points',\n",
    "                  xaxis_title='Nation',\n",
    "                  yaxis_title='BPM',\n",
    "                  boxmode='group')  # Group boxplots together\n",
    "\n",
    "# Show the plot\n",
    "fig.show()"
   ]
  },
  {
   "cell_type": "code",
   "execution_count": 38,
   "id": "ff0bdfab",
   "metadata": {},
   "outputs": [
    {
     "name": "stderr",
     "output_type": "stream",
     "text": [
      "C:\\Users\\t_ziemer\\AppData\\Local\\Temp\\ipykernel_22000\\3202885722.py:7: VisibleDeprecationWarning: Creating an ndarray from ragged nested sequences (which is a list-or-tuple of lists-or-tuples-or ndarrays with different lengths or shapes) is deprecated. If you meant to do this, you must specify 'dtype=object' when creating the ndarray.\n",
      "  tempi = np.array([filename, nation, year, train_X])\n"
     ]
    },
    {
     "ename": "ValueError",
     "evalue": "Shape of passed values is (4, 1), indices imply (4, 4)",
     "output_type": "error",
     "traceback": [
      "\u001b[1;31m---------------------------------------------------------------------------\u001b[0m",
      "\u001b[1;31mValueError\u001b[0m                                Traceback (most recent call last)",
      "Cell \u001b[1;32mIn [38], line 9\u001b[0m\n\u001b[0;32m      7\u001b[0m tempi \u001b[38;5;241m=\u001b[39m np\u001b[38;5;241m.\u001b[39marray([filename, nation, year, train_X])\n\u001b[0;32m      8\u001b[0m tempi \u001b[38;5;241m=\u001b[39m tempi\u001b[38;5;241m.\u001b[39mtranspose()\n\u001b[1;32m----> 9\u001b[0m df \u001b[38;5;241m=\u001b[39m pd\u001b[38;5;241m.\u001b[39mDataFrame(tempi, columns\u001b[38;5;241m=\u001b[39m[\u001b[38;5;124m'\u001b[39m\u001b[38;5;124mSong\u001b[39m\u001b[38;5;124m'\u001b[39m, \u001b[38;5;124m'\u001b[39m\u001b[38;5;124mNation\u001b[39m\u001b[38;5;124m'\u001b[39m, \u001b[38;5;124m'\u001b[39m\u001b[38;5;124mYear\u001b[39m\u001b[38;5;124m'\u001b[39m, \u001b[38;5;124m'\u001b[39m\u001b[38;5;124mBPM\u001b[39m\u001b[38;5;124m'\u001b[39m])\n\u001b[0;32m     10\u001b[0m df[\u001b[38;5;124m'\u001b[39m\u001b[38;5;124mYear\u001b[39m\u001b[38;5;124m'\u001b[39m] \u001b[38;5;241m=\u001b[39m pd\u001b[38;5;241m.\u001b[39mto_numeric(df[\u001b[38;5;124m'\u001b[39m\u001b[38;5;124mYear\u001b[39m\u001b[38;5;124m'\u001b[39m])\n\u001b[0;32m     11\u001b[0m df[\u001b[38;5;124m'\u001b[39m\u001b[38;5;124mBPM\u001b[39m\u001b[38;5;124m'\u001b[39m] \u001b[38;5;241m=\u001b[39m pd\u001b[38;5;241m.\u001b[39mto_numeric(df[\u001b[38;5;124m'\u001b[39m\u001b[38;5;124mBPM\u001b[39m\u001b[38;5;124m'\u001b[39m])\n",
      "File \u001b[1;32m~\\AppData\\Local\\Programs\\Python\\Python310\\lib\\site-packages\\pandas\\core\\frame.py:721\u001b[0m, in \u001b[0;36mDataFrame.__init__\u001b[1;34m(self, data, index, columns, dtype, copy)\u001b[0m\n\u001b[0;32m    711\u001b[0m         mgr \u001b[38;5;241m=\u001b[39m dict_to_mgr(\n\u001b[0;32m    712\u001b[0m             \u001b[38;5;66;03m# error: Item \"ndarray\" of \"Union[ndarray, Series, Index]\" has no\u001b[39;00m\n\u001b[0;32m    713\u001b[0m             \u001b[38;5;66;03m# attribute \"name\"\u001b[39;00m\n\u001b[1;32m   (...)\u001b[0m\n\u001b[0;32m    718\u001b[0m             typ\u001b[38;5;241m=\u001b[39mmanager,\n\u001b[0;32m    719\u001b[0m         )\n\u001b[0;32m    720\u001b[0m     \u001b[38;5;28;01melse\u001b[39;00m:\n\u001b[1;32m--> 721\u001b[0m         mgr \u001b[38;5;241m=\u001b[39m \u001b[43mndarray_to_mgr\u001b[49m\u001b[43m(\u001b[49m\n\u001b[0;32m    722\u001b[0m \u001b[43m            \u001b[49m\u001b[43mdata\u001b[49m\u001b[43m,\u001b[49m\n\u001b[0;32m    723\u001b[0m \u001b[43m            \u001b[49m\u001b[43mindex\u001b[49m\u001b[43m,\u001b[49m\n\u001b[0;32m    724\u001b[0m \u001b[43m            \u001b[49m\u001b[43mcolumns\u001b[49m\u001b[43m,\u001b[49m\n\u001b[0;32m    725\u001b[0m \u001b[43m            \u001b[49m\u001b[43mdtype\u001b[49m\u001b[38;5;241;43m=\u001b[39;49m\u001b[43mdtype\u001b[49m\u001b[43m,\u001b[49m\n\u001b[0;32m    726\u001b[0m \u001b[43m            \u001b[49m\u001b[43mcopy\u001b[49m\u001b[38;5;241;43m=\u001b[39;49m\u001b[43mcopy\u001b[49m\u001b[43m,\u001b[49m\n\u001b[0;32m    727\u001b[0m \u001b[43m            \u001b[49m\u001b[43mtyp\u001b[49m\u001b[38;5;241;43m=\u001b[39;49m\u001b[43mmanager\u001b[49m\u001b[43m,\u001b[49m\n\u001b[0;32m    728\u001b[0m \u001b[43m        \u001b[49m\u001b[43m)\u001b[49m\n\u001b[0;32m    730\u001b[0m \u001b[38;5;66;03m# For data is list-like, or Iterable (will consume into list)\u001b[39;00m\n\u001b[0;32m    731\u001b[0m \u001b[38;5;28;01melif\u001b[39;00m is_list_like(data):\n",
      "File \u001b[1;32m~\\AppData\\Local\\Programs\\Python\\Python310\\lib\\site-packages\\pandas\\core\\internals\\construction.py:350\u001b[0m, in \u001b[0;36mndarray_to_mgr\u001b[1;34m(values, index, columns, dtype, copy, typ)\u001b[0m\n\u001b[0;32m    345\u001b[0m \u001b[38;5;66;03m# _prep_ndarraylike ensures that values.ndim == 2 at this point\u001b[39;00m\n\u001b[0;32m    346\u001b[0m index, columns \u001b[38;5;241m=\u001b[39m _get_axes(\n\u001b[0;32m    347\u001b[0m     values\u001b[38;5;241m.\u001b[39mshape[\u001b[38;5;241m0\u001b[39m], values\u001b[38;5;241m.\u001b[39mshape[\u001b[38;5;241m1\u001b[39m], index\u001b[38;5;241m=\u001b[39mindex, columns\u001b[38;5;241m=\u001b[39mcolumns\n\u001b[0;32m    348\u001b[0m )\n\u001b[1;32m--> 350\u001b[0m \u001b[43m_check_values_indices_shape_match\u001b[49m\u001b[43m(\u001b[49m\u001b[43mvalues\u001b[49m\u001b[43m,\u001b[49m\u001b[43m \u001b[49m\u001b[43mindex\u001b[49m\u001b[43m,\u001b[49m\u001b[43m \u001b[49m\u001b[43mcolumns\u001b[49m\u001b[43m)\u001b[49m\n\u001b[0;32m    352\u001b[0m \u001b[38;5;28;01mif\u001b[39;00m typ \u001b[38;5;241m==\u001b[39m \u001b[38;5;124m\"\u001b[39m\u001b[38;5;124marray\u001b[39m\u001b[38;5;124m\"\u001b[39m:\n\u001b[0;32m    354\u001b[0m     \u001b[38;5;28;01mif\u001b[39;00m \u001b[38;5;28missubclass\u001b[39m(values\u001b[38;5;241m.\u001b[39mdtype\u001b[38;5;241m.\u001b[39mtype, \u001b[38;5;28mstr\u001b[39m):\n",
      "File \u001b[1;32m~\\AppData\\Local\\Programs\\Python\\Python310\\lib\\site-packages\\pandas\\core\\internals\\construction.py:421\u001b[0m, in \u001b[0;36m_check_values_indices_shape_match\u001b[1;34m(values, index, columns)\u001b[0m\n\u001b[0;32m    419\u001b[0m passed \u001b[38;5;241m=\u001b[39m values\u001b[38;5;241m.\u001b[39mshape\n\u001b[0;32m    420\u001b[0m implied \u001b[38;5;241m=\u001b[39m (\u001b[38;5;28mlen\u001b[39m(index), \u001b[38;5;28mlen\u001b[39m(columns))\n\u001b[1;32m--> 421\u001b[0m \u001b[38;5;28;01mraise\u001b[39;00m \u001b[38;5;167;01mValueError\u001b[39;00m(\u001b[38;5;124mf\u001b[39m\u001b[38;5;124m\"\u001b[39m\u001b[38;5;124mShape of passed values is \u001b[39m\u001b[38;5;132;01m{\u001b[39;00mpassed\u001b[38;5;132;01m}\u001b[39;00m\u001b[38;5;124m, indices imply \u001b[39m\u001b[38;5;132;01m{\u001b[39;00mimplied\u001b[38;5;132;01m}\u001b[39;00m\u001b[38;5;124m\"\u001b[39m)\n",
      "\u001b[1;31mValueError\u001b[0m: Shape of passed values is (4, 1), indices imply (4, 4)"
     ]
    }
   ],
   "source": [
    "# Boxplots\n",
    "import numpy as np\n",
    "import pandas as pd\n",
    "import plotly.graph_objects as go\n",
    "\n",
    "# Assume 'filename', 'nation', 'year', 'train_X' are defined appropriately\n",
    "tempi = np.array([filename, nation, year, train_X])\n",
    "tempi = tempi.transpose()\n",
    "df = pd.DataFrame(tempi, columns=['Song', 'Nation', 'Year', 'BPM'])\n",
    "df['Year'] = pd.to_numeric(df['Year'])\n",
    "df['BPM'] = pd.to_numeric(df['BPM'])\n",
    "\n",
    "# Create a figure object\n",
    "fig = go.Figure()\n",
    "\n",
    "# Add boxplots for BPM by Year, separated by Nation\n",
    "nations = df['Nation'].unique()  # Get unique nations\n",
    "for nation in nations:\n",
    "    nation_data = df[df['Nation'] == nation]  # Filter data for the specific nation\n",
    "    fig.add_trace(go.Box(y=nation_data['BPM'], x=nation_data['Year'],\n",
    "                         name=f'{nation} BPM',\n",
    "                         boxmean='sd',  # Show mean and standard deviation\n",
    "                         marker=dict(opacity=0.6)))  # Adjust boxplot transparency\n",
    "\n",
    "# Overlay scatter plot of individual data points by Year and Nation\n",
    "fig.add_trace(go.Scatter(x=df['Year'], y=df['BPM'],\n",
    "                         mode='markers',\n",
    "                         marker=dict(color='blue', opacity=0.5, size=8),  # Semi-transparent\n",
    "                         customdata=df['Song'],  # Add song data\n",
    "                         hovertemplate=\"%{customdata}\"))\n",
    "\n",
    "# Update layout with titles\n",
    "fig.update_layout(title='Boxplots of BPM by Year with Individual Data Points',\n",
    "                  xaxis_title='Year',\n",
    "                  yaxis_title='BPM',\n",
    "                  boxmode='group')  # Group boxplots together\n",
    "\n",
    "# Show the plot\n",
    "fig.show()"
   ]
  },
  {
   "cell_type": "code",
   "execution_count": 333,
   "id": "c1aed763",
   "metadata": {
    "scrolled": true
   },
   "outputs": [
    {
     "data": {
      "text/html": [
       "<div>\n",
       "<style scoped>\n",
       "    .dataframe tbody tr th:only-of-type {\n",
       "        vertical-align: middle;\n",
       "    }\n",
       "\n",
       "    .dataframe tbody tr th {\n",
       "        vertical-align: top;\n",
       "    }\n",
       "\n",
       "    .dataframe thead th {\n",
       "        text-align: right;\n",
       "    }\n",
       "</style>\n",
       "<table border=\"1\" class=\"dataframe\">\n",
       "  <thead>\n",
       "    <tr style=\"text-align: right;\">\n",
       "      <th></th>\n",
       "      <th>Song</th>\n",
       "      <th>Nation</th>\n",
       "      <th>Year</th>\n",
       "      <th>BPM</th>\n",
       "    </tr>\n",
       "  </thead>\n",
       "  <tbody>\n",
       "    <tr>\n",
       "      <th>229</th>\n",
       "      <td>Alter Ego - Sentimental Books</td>\n",
       "      <td>Germany</td>\n",
       "      <td>1994</td>\n",
       "      <td>60.00000</td>\n",
       "    </tr>\n",
       "    <tr>\n",
       "      <th>1824</th>\n",
       "      <td>House Hallucinates - House Hallucinates (The K...</td>\n",
       "      <td>Germany</td>\n",
       "      <td>1992</td>\n",
       "      <td>64.00000</td>\n",
       "    </tr>\n",
       "    <tr>\n",
       "      <th>2479</th>\n",
       "      <td>Marmion - Marmions Island Part 1 The Landing T...</td>\n",
       "      <td>Germany</td>\n",
       "      <td>1994</td>\n",
       "      <td>69.00000</td>\n",
       "    </tr>\n",
       "    <tr>\n",
       "      <th>227</th>\n",
       "      <td>Alter Ego - Chinese Eyes</td>\n",
       "      <td>Germany</td>\n",
       "      <td>1994</td>\n",
       "      <td>70.00000</td>\n",
       "    </tr>\n",
       "    <tr>\n",
       "      <th>2659</th>\n",
       "      <td>MikeroBenics - Heiliger Krieg</td>\n",
       "      <td>Germany</td>\n",
       "      <td>1994</td>\n",
       "      <td>70.00000</td>\n",
       "    </tr>\n",
       "    <tr>\n",
       "      <th>...</th>\n",
       "      <td>...</td>\n",
       "      <td>...</td>\n",
       "      <td>...</td>\n",
       "      <td>...</td>\n",
       "    </tr>\n",
       "    <tr>\n",
       "      <th>3832</th>\n",
       "      <td>Some More Crime - Europe Lies Dormant</td>\n",
       "      <td>Germany</td>\n",
       "      <td>1991</td>\n",
       "      <td>105.46875</td>\n",
       "    </tr>\n",
       "    <tr>\n",
       "      <th>4845</th>\n",
       "      <td>WestBam - Live At Leningrad (Starring Pop Meka...</td>\n",
       "      <td>Germany</td>\n",
       "      <td>1988</td>\n",
       "      <td>105.46875</td>\n",
       "    </tr>\n",
       "    <tr>\n",
       "      <th>1633</th>\n",
       "      <td>General Motor feat. Miss Sunday - I'm Gonna Gi...</td>\n",
       "      <td>Germany</td>\n",
       "      <td>1991</td>\n",
       "      <td>105.46875</td>\n",
       "    </tr>\n",
       "    <tr>\n",
       "      <th>506</th>\n",
       "      <td>Biz - That's Me</td>\n",
       "      <td>Germany</td>\n",
       "      <td>1994</td>\n",
       "      <td>105.46875</td>\n",
       "    </tr>\n",
       "    <tr>\n",
       "      <th>973</th>\n",
       "      <td>CZ 101 - CZ 102</td>\n",
       "      <td>Germany</td>\n",
       "      <td>1994</td>\n",
       "      <td>105.46875</td>\n",
       "    </tr>\n",
       "  </tbody>\n",
       "</table>\n",
       "<p>240 rows × 4 columns</p>\n",
       "</div>"
      ],
      "text/plain": [
       "                                                   Song   Nation  Year  \\\n",
       "229                       Alter Ego - Sentimental Books  Germany  1994   \n",
       "1824  House Hallucinates - House Hallucinates (The K...  Germany  1992   \n",
       "2479  Marmion - Marmions Island Part 1 The Landing T...  Germany  1994   \n",
       "227                            Alter Ego - Chinese Eyes  Germany  1994   \n",
       "2659                      MikeroBenics - Heiliger Krieg  Germany  1994   \n",
       "...                                                 ...      ...   ...   \n",
       "3832              Some More Crime - Europe Lies Dormant  Germany  1991   \n",
       "4845  WestBam - Live At Leningrad (Starring Pop Meka...  Germany  1988   \n",
       "1633  General Motor feat. Miss Sunday - I'm Gonna Gi...  Germany  1991   \n",
       "506                                     Biz - That's Me  Germany  1994   \n",
       "973                                     CZ 101 - CZ 102  Germany  1994   \n",
       "\n",
       "            BPM  \n",
       "229    60.00000  \n",
       "1824   64.00000  \n",
       "2479   69.00000  \n",
       "227    70.00000  \n",
       "2659   70.00000  \n",
       "...         ...  \n",
       "3832  105.46875  \n",
       "4845  105.46875  \n",
       "1633  105.46875  \n",
       "506   105.46875  \n",
       "973   105.46875  \n",
       "\n",
       "[240 rows x 4 columns]"
      ]
     },
     "execution_count": 333,
     "metadata": {},
     "output_type": "execute_result"
    }
   ],
   "source": [
    "df['BPM'] = pd.to_numeric(df['BPM'], errors='coerce')\n",
    "german_df = df[df['Nation'] == 'Germany']\n",
    "schnellgermany=german_df.sort_values(by='BPM',ascending=True)\n",
    "schnellgermany.head(240)"
   ]
  },
  {
   "cell_type": "code",
   "execution_count": 339,
   "id": "935d8c2b",
   "metadata": {},
   "outputs": [
    {
     "data": {
      "text/plain": [
       "Song      100 Prozent - Power Of The Light (Radio Edit)\n",
       "Nation                                          Germany\n",
       "Year                                               1994\n",
       "BPM                                          135.999178\n",
       "Name: 2, dtype: object"
      ]
     },
     "execution_count": 339,
     "metadata": {},
     "output_type": "execute_result"
    }
   ],
   "source": [
    "df.iloc[2]"
   ]
  },
  {
   "cell_type": "raw",
   "id": "ac1833b9",
   "metadata": {},
   "source": [
    "langsamste = df.sort_values(by='BPM')\n",
    "schnellste = df.sort_values(by='BPM', ascending=False)"
   ]
  },
  {
   "cell_type": "code",
   "execution_count": null,
   "id": "7ce6455c",
   "metadata": {},
   "outputs": [],
   "source": [
    "langsamste.head(15)"
   ]
  },
  {
   "cell_type": "code",
   "execution_count": null,
   "id": "de6e8e25",
   "metadata": {
    "scrolled": false
   },
   "outputs": [],
   "source": [
    "schnellste.head(15)"
   ]
  },
  {
   "cell_type": "code",
   "execution_count": null,
   "id": "44d03704",
   "metadata": {},
   "outputs": [],
   "source": [
    "df['Year'] = pd.to_numeric(df['Year'])\n",
    "df['BPM'] = pd.to_numeric(df['BPM'])\n",
    "\n",
    "import plotly.graph_objects as go\n",
    "# Create a figure object\n",
    "fig = go.Figure()\n",
    "\n",
    "# Add boxplots for BPM by Nation\n",
    "fig.add_trace(go.Box(y=df['BPM'], x=df['Nation'], \n",
    "                     name='BPM', \n",
    "                     boxmean='sd',  # Show mean and standard deviation\n",
    "                     marker=dict(opacity=0.6),  # Adjust boxplot transparency\n",
    "                     showlegend=False))  # Hide legend\n",
    "\n",
    "# Overlay scatter plot of individual data points\n",
    "# Set mode to markers and adjust for transparency\n",
    "fig.add_trace(go.Scatter(x=df['Nation'], y=df['BPM'], \n",
    "                         mode='markers', \n",
    "                         marker=dict(color='blue', opacity=0.5, size=8),  # Semi-transparent\n",
    "                         customdata=df['Song'],  # Add song data\n",
    "                         hovertemplate=\"%{customdata}\"))\n",
    "\n",
    "# Update layout with titles\n",
    "fig.update_layout(title='Boxplots of BPM by Nation with Individual Data Points',\n",
    "                  xaxis_title='Nation',\n",
    "                  yaxis_title='BPM',\n",
    "                  boxmode='group')  # Group boxplots together\n",
    "\n",
    "# Show the plot\n",
    "fig.show()"
   ]
  },
  {
   "cell_type": "code",
   "execution_count": null,
   "id": "c5d51c6e",
   "metadata": {},
   "outputs": [],
   "source": []
  }
 ],
 "metadata": {
  "kernelspec": {
   "display_name": "Python 3 (ipykernel)",
   "language": "python",
   "name": "python3"
  },
  "language_info": {
   "codemirror_mode": {
    "name": "ipython",
    "version": 3
   },
   "file_extension": ".py",
   "mimetype": "text/x-python",
   "name": "python",
   "nbconvert_exporter": "python",
   "pygments_lexer": "ipython3",
   "version": "3.10.7"
  }
 },
 "nbformat": 4,
 "nbformat_minor": 5
}
