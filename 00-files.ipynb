{
 "cells": [
  {
   "cell_type": "markdown",
   "id": "6f974d65",
   "metadata": {},
   "source": [
    "# Working with files"
   ]
  },
  {
   "cell_type": "code",
   "execution_count": 13,
   "id": "b7858464",
   "metadata": {},
   "outputs": [],
   "source": [
    "from os import listdir\n",
    "from os.path import isfile, join"
   ]
  },
  {
   "cell_type": "markdown",
   "id": "f45fa52b",
   "metadata": {},
   "source": [
    "You can define a relative or an absolute path to a folder that contains your files. Then, you can write all filenames into a list:"
   ]
  },
  {
   "cell_type": "markdown",
   "id": "230ca9fa",
   "metadata": {},
   "source": [
    "### relative path"
   ]
  },
  {
   "cell_type": "code",
   "execution_count": 23,
   "id": "b2ca318d",
   "metadata": {},
   "outputs": [
    {
     "data": {
      "text/plain": [
       "['Captain Hollywood Project - Flying High (Spaceship Mix) (1994).mp3.csv',\n",
       " 'Culture Beat - Der Erdbeermund (1991).mp3.csv',\n",
       " 'Dance 2 Trance - P.ower Of A.merican N.atives (Vocal Mix) (1992).m4a.csv',\n",
       " 'Dj Hell - Acid - Musik (1993).mp3.csv',\n",
       " 'Drax - Amphetamine (1994).mp3.csv',\n",
       " 'Energy 52 - Café Del Mar (DJ Kid Paul Mix) (1993).mp3.csv',\n",
       " 'Genlog - Eiskalt (RMB remix) (1994).m4a.csv',\n",
       " 'Humate - Love Stimulation (Original Mix) (1992).mp3.csv',\n",
       " 'Interactive - Who Is Elvis (1991).mp3.csv',\n",
       " 'Mark N-R-G - How Does It Feel (1992).m4a.csv',\n",
       " 'Marusha - Raveland (Wicked mix) (1994).mp3.csv',\n",
       " 'Mijk van Dijk - Home (1994).m4a.csv',\n",
       " 'Phenomania - Who Is Elvis (1991).m4a.csv',\n",
       " 'Sunbeam - Outside World (Original Mix) (1994).mp3.csv',\n",
       " 'Sven Väth - Coda (1992).m4a.csv',\n",
       " \"Taucher - Fantasy (Phase I) (Mark 'Oh remix) (1994).mp3.csv\",\n",
       " 'U96 - Das Boot(1991).mp3.csv',\n",
       " 'WestBam - Monkey say monkey do (1988).m4a.csv']"
      ]
     },
     "execution_count": 23,
     "metadata": {},
     "output_type": "execute_result"
    }
   ],
   "source": [
    "relpath=r'example-data/germany'# path that contains files\n",
    "# write all file names into a list:\n",
    "filenamelist = [f for f in listdir(relpath) if isfile(join(relpath, f))]# works with absolute paths, too\n",
    "onlyfiles"
   ]
  },
  {
   "cell_type": "markdown",
   "id": "3c5dd5fa",
   "metadata": {},
   "source": [
    "### absolute path"
   ]
  },
  {
   "cell_type": "code",
   "execution_count": 24,
   "id": "61db4fb6",
   "metadata": {
    "scrolled": true
   },
   "outputs": [
    {
     "data": {
      "text/plain": [
       "['C:\\\\python\\\\gits\\\\early-techno\\\\example-data\\\\germany\\\\Captain Hollywood Project - Flying High (Spaceship Mix) (1994).mp3.csv',\n",
       " 'C:\\\\python\\\\gits\\\\early-techno\\\\example-data\\\\germany\\\\Culture Beat - Der Erdbeermund (1991).mp3.csv',\n",
       " 'C:\\\\python\\\\gits\\\\early-techno\\\\example-data\\\\germany\\\\Dance 2 Trance - P.ower Of A.merican N.atives (Vocal Mix) (1992).m4a.csv',\n",
       " 'C:\\\\python\\\\gits\\\\early-techno\\\\example-data\\\\germany\\\\Dj Hell - Acid - Musik (1993).mp3.csv',\n",
       " 'C:\\\\python\\\\gits\\\\early-techno\\\\example-data\\\\germany\\\\Drax - Amphetamine (1994).mp3.csv',\n",
       " 'C:\\\\python\\\\gits\\\\early-techno\\\\example-data\\\\germany\\\\Energy 52 - Café Del Mar (DJ Kid Paul Mix) (1993).mp3.csv',\n",
       " 'C:\\\\python\\\\gits\\\\early-techno\\\\example-data\\\\germany\\\\Genlog - Eiskalt (RMB remix) (1994).m4a.csv',\n",
       " 'C:\\\\python\\\\gits\\\\early-techno\\\\example-data\\\\germany\\\\Humate - Love Stimulation (Original Mix) (1992).mp3.csv',\n",
       " 'C:\\\\python\\\\gits\\\\early-techno\\\\example-data\\\\germany\\\\Interactive - Who Is Elvis (1991).mp3.csv',\n",
       " 'C:\\\\python\\\\gits\\\\early-techno\\\\example-data\\\\germany\\\\Mark N-R-G - How Does It Feel (1992).m4a.csv',\n",
       " 'C:\\\\python\\\\gits\\\\early-techno\\\\example-data\\\\germany\\\\Marusha - Raveland (Wicked mix) (1994).mp3.csv',\n",
       " 'C:\\\\python\\\\gits\\\\early-techno\\\\example-data\\\\germany\\\\Mijk van Dijk - Home (1994).m4a.csv',\n",
       " 'C:\\\\python\\\\gits\\\\early-techno\\\\example-data\\\\germany\\\\Phenomania - Who Is Elvis (1991).m4a.csv',\n",
       " 'C:\\\\python\\\\gits\\\\early-techno\\\\example-data\\\\germany\\\\Sunbeam - Outside World (Original Mix) (1994).mp3.csv',\n",
       " 'C:\\\\python\\\\gits\\\\early-techno\\\\example-data\\\\germany\\\\Sven Väth - Coda (1992).m4a.csv',\n",
       " \"C:\\\\python\\\\gits\\\\early-techno\\\\example-data\\\\germany\\\\Taucher - Fantasy (Phase I) (Mark 'Oh remix) (1994).mp3.csv\",\n",
       " 'C:\\\\python\\\\gits\\\\early-techno\\\\example-data\\\\germany\\\\U96 - Das Boot(1991).mp3.csv',\n",
       " 'C:\\\\python\\\\gits\\\\early-techno\\\\example-data\\\\germany\\\\WestBam - Monkey say monkey do (1988).m4a.csv']"
      ]
     },
     "execution_count": 24,
     "metadata": {},
     "output_type": "execute_result"
    }
   ],
   "source": [
    "abspath=r'C:\\python\\gits\\early-techno\\example-data\\germany'\n",
    "\n",
    "import os\n",
    "csvlist = []\n",
    "for root, dirs, files in os.walk(abspath):#loop to list all absolute file paths\n",
    "    for file in files:\n",
    "        csvlist.append(os.path.join(root,file))\n",
    "csvlist"
   ]
  },
  {
   "cell_type": "markdown",
   "id": "90e2153d",
   "metadata": {},
   "source": [
    "Some methods don't work on Linux or Mac OS, that's why it's better to have multiple options."
   ]
  },
  {
   "cell_type": "markdown",
   "id": "6140c0d6",
   "metadata": {},
   "source": [
    "# 2 LP:\n",
    "- Write a function \"checkyear(csvlist):\" that checks whether all filenames contain a year 1983<=year<=1994. If not, add the respective filename to a buglist. Return buglist. \n",
    "- Write a functions that writes all years into a list."
   ]
  },
  {
   "cell_type": "code",
   "execution_count": null,
   "id": "715836ab",
   "metadata": {},
   "outputs": [],
   "source": []
  }
 ],
 "metadata": {
  "kernelspec": {
   "display_name": "Python 3 (ipykernel)",
   "language": "python",
   "name": "python3"
  },
  "language_info": {
   "codemirror_mode": {
    "name": "ipython",
    "version": 3
   },
   "file_extension": ".py",
   "mimetype": "text/x-python",
   "name": "python",
   "nbconvert_exporter": "python",
   "pygments_lexer": "ipython3",
   "version": "3.10.7"
  }
 },
 "nbformat": 4,
 "nbformat_minor": 5
}
