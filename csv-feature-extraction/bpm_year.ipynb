{
 "cells": [
  {
   "cell_type": "code",
   "execution_count": 4,
   "metadata": {},
   "outputs": [],
   "source": [
    "import re\n",
    "import pandas as pd\n",
    "from pathlib import Path\n",
    "\n",
    "from csv_file_processor import CSVFileProcessor\n",
    "\n",
    "BASE_DIR = Path(\"/run/user/1000/gvfs/smb-share:server=fs-s-nas01.rrz.uni-hamburg.de,share=gw-gw-sm\")"
   ]
  },
  {
   "cell_type": "code",
   "execution_count": null,
   "metadata": {},
   "outputs": [],
   "source": [
    "germany_csv_dir = BASE_DIR / \"techno-csv\" / \"germany\"\n",
    "germany_result_file = \"results_bpm_year_germany.csv\"\n",
    "\n",
    "usa_csv_dir = BASE_DIR / \"techno-csv\" / \"usa\"\n",
    "usa_result_file = \"results_bpm_year_usa.csv\"\n",
    "\n",
    "\n",
    "def bpm_tempo(file: Path):\n",
    "    df = pd.read_csv(file)\n",
    "    return df.loc[:, \"bpm\"][0]\n",
    "\n",
    "\n",
    "def extract_year(file: Path):\n",
    "    pattern = r\"\\((\\d{4})\\)\"\n",
    "    match = re.search(pattern, file.name)\n",
    "\n",
    "    if match:\n",
    "        return match.group(1)\n",
    "\n",
    "\n",
    "def bpm_year_extraction(result_file: str, processor: CSVFileProcessor):\n",
    "    with open(result_file, \"w\") as f:\n",
    "        f.write(\"csv_file;audio_file;bpm;year\\n\")\n",
    "\n",
    "        for file, bpm_year in processor.process():\n",
    "            bpm, year = bpm_year\n",
    "            csv_file_path = str(file.relative_to(BASE_DIR))\n",
    "            audio_file_path = str(Path(csv_file_path).with_suffix(\"\")).replace(\"techno-csv\", \"techno-audio\")\n",
    "            f.write(f'\"{csv_file_path}\";\"{audio_file_path}\";{bpm};{year}\\n')\n",
    "\n",
    "\n",
    "extractor = lambda file: (bpm_tempo(file), extract_year(file))\n",
    "usa_processor = CSVFileProcessor(usa_csv_dir, extractor)\n",
    "bpm_year_extraction(usa_result_file, usa_processor)\n",
    "\n",
    "germany_processor = CSVFileProcessor(germany_csv_dir, extractor)\n",
    "bpm_year_extraction(germany_result_file, germany_processor)"
   ]
  }
 ],
 "metadata": {
  "kernelspec": {
   "display_name": ".venv",
   "language": "python",
   "name": "python3"
  },
  "language_info": {
   "codemirror_mode": {
    "name": "ipython",
    "version": 3
   },
   "file_extension": ".py",
   "mimetype": "text/x-python",
   "name": "python",
   "nbconvert_exporter": "python",
   "pygments_lexer": "ipython3",
   "version": "3.12.7"
  }
 },
 "nbformat": 4,
 "nbformat_minor": 2
}
