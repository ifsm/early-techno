{
 "cells": [
  {
   "cell_type": "code",
   "execution_count": 1,
   "metadata": {},
   "outputs": [],
   "source": [
    "import pandas as pd\n",
    "from pathlib import Path\n",
    "\n",
    "from csv_file_processor import CSVFileProcessor\n",
    "\n",
    "BASE_DIR = Path(\"/run/user/1000/gvfs/smb-share:server=fs-s-nas01.rrz.uni-hamburg.de,share=gw-gw-sm\")"
   ]
  },
  {
   "cell_type": "code",
   "execution_count": null,
   "metadata": {},
   "outputs": [],
   "source": [
    "germany_csv_dir = BASE_DIR / \"techno-csv\" / \"germany\"\n",
    "germany_result_file = \"results_channel_correlation_germany.csv\"\n",
    "\n",
    "usa_csv_dir = BASE_DIR / \"techno-csv\" / \"usa\"\n",
    "usa_result_file = \"results_channel_correlation_usa.csv\"\n",
    "\n",
    "correlation_threshold = 0.99\n",
    "\n",
    "def audio_mean_channel_correlation(file: Path):\n",
    "    df = pd.read_csv(file)\n",
    "    return df.loc[:, \"ChannelCorrelation\"].mean()\n",
    "\n",
    "def channel_correlation_extraction(result_file: str, processor: CSVFileProcessor):\n",
    "    with open(result_file, \"w\") as f:\n",
    "        f.write(\"csv_file;audio_file;correlation;is_mono\\n\")\n",
    "\n",
    "        for file, correlation in processor.process():\n",
    "            is_mono = correlation >= correlation_threshold\n",
    "            csv_file_path = str(file.relative_to(BASE_DIR))\n",
    "            audio_file_path = str(Path(csv_file_path).with_suffix(\"\")).replace(\"techno-csv\", \"techno-audio\")\n",
    "            f.write(f\"\\\"{csv_file_path}\\\";\\\"{audio_file_path}\\\";{correlation};{is_mono}\\n\")\n",
    "\n",
    "usa_processor = CSVFileProcessor(usa_csv_dir, audio_mean_channel_correlation)\n",
    "channel_correlation_extraction(usa_result_file, usa_processor)\n",
    "\n",
    "germany_processor = CSVFileProcessor(germany_csv_dir, audio_mean_channel_correlation)\n",
    "channel_correlation_extraction(germany_result_file, germany_processor)"
   ]
  },
  {
   "cell_type": "code",
   "execution_count": 77,
   "metadata": {},
   "outputs": [],
   "source": [
    "def get_mono_files(file: Path):\n",
    "    df = pd.read_csv(file, sep=\";\")\n",
    "    return df[df[\"is_mono\"] == True]\n",
    "\n",
    "usa_mono_files = get_mono_files(Path(usa_result_file))\n",
    "usa_mono_files[[\"audio_file\", \"correlation\"]].to_csv(\"usa_mono_files.csv\", index=False)\n",
    "\n",
    "germany_mono_files = get_mono_files(Path(germany_result_file)))\n",
    "germany_mono_files[[\"audio_file\", \"correlation\"]].to_csv(\"germany_mono_files.csv\", index=False)"
   ]
  }
 ],
 "metadata": {
  "kernelspec": {
   "display_name": ".venv",
   "language": "python",
   "name": "python3"
  },
  "language_info": {
   "codemirror_mode": {
    "name": "ipython",
    "version": 3
   },
   "file_extension": ".py",
   "mimetype": "text/x-python",
   "name": "python",
   "nbconvert_exporter": "python",
   "pygments_lexer": "ipython3",
   "version": "3.13.1"
  }
 },
 "nbformat": 4,
 "nbformat_minor": 2
}
