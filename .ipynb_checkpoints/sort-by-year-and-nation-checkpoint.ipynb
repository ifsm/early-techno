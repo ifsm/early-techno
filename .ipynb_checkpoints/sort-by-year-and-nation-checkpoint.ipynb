{
 "cells": [
  {
   "cell_type": "markdown",
   "id": "9c7f54c7",
   "metadata": {},
   "source": [
    "Order the songs by nation and year"
   ]
  },
  {
   "cell_type": "code",
   "execution_count": 1,
   "id": "e44ac631",
   "metadata": {},
   "outputs": [],
   "source": [
    "import numpy as np\n",
    "import pandas as pd\n",
    "import os\n",
    "import glob\n",
    "import shutil\n",
    "from pathlib import Path\n",
    "import gc"
   ]
  },
  {
   "cell_type": "code",
   "execution_count": 3,
   "id": "fd8db315",
   "metadata": {},
   "outputs": [
    {
     "ename": "TypeError",
     "evalue": "copy() missing 1 required positional argument: 'dst'",
     "output_type": "error",
     "traceback": [
      "\u001b[1;31m---------------------------------------------------------------------------\u001b[0m",
      "\u001b[1;31mTypeError\u001b[0m                                 Traceback (most recent call last)",
      "Cell \u001b[1;32mIn [3], line 36\u001b[0m\n\u001b[0;32m     34\u001b[0m source_path \u001b[38;5;241m=\u001b[39m \u001b[38;5;124mr\u001b[39m\u001b[38;5;124m'\u001b[39m\u001b[38;5;124mC:\u001b[39m\u001b[38;5;124m\\\u001b[39m\u001b[38;5;124mUsers\u001b[39m\u001b[38;5;124m\\\u001b[39m\u001b[38;5;124mt_ziemer\u001b[39m\u001b[38;5;124m\\\u001b[39m\u001b[38;5;124mDesktop\u001b[39m\u001b[38;5;124m\\\u001b[39m\u001b[38;5;124mtechno-csv\u001b[39m\u001b[38;5;124m'\u001b[39m  \u001b[38;5;66;03m# Replace with your source path\u001b[39;00m\n\u001b[0;32m     35\u001b[0m target_path \u001b[38;5;241m=\u001b[39m \u001b[38;5;124mr\u001b[39m\u001b[38;5;124m'\u001b[39m\u001b[38;5;124mC:\u001b[39m\u001b[38;5;124m\\\u001b[39m\u001b[38;5;124mUsers\u001b[39m\u001b[38;5;124m\\\u001b[39m\u001b[38;5;124mt_ziemer\u001b[39m\u001b[38;5;124m\\\u001b[39m\u001b[38;5;124mDesktop\u001b[39m\u001b[38;5;124m\\\u001b[39m\u001b[38;5;124mtechno-csv-natyear\u001b[39m\u001b[38;5;124m'\u001b[39m  \u001b[38;5;66;03m# Replace with your target path\u001b[39;00m\n\u001b[1;32m---> 36\u001b[0m copy_csv_files(source_path, target_path)\n",
      "Cell \u001b[1;32mIn [3], line 30\u001b[0m, in \u001b[0;36mcopy_csv_files\u001b[1;34m(source_path, target_path)\u001b[0m\n\u001b[0;32m     28\u001b[0m \u001b[38;5;66;03m# Copy the CSV file to the target directory\u001b[39;00m\n\u001b[0;32m     29\u001b[0m \u001b[38;5;28;01mif\u001b[39;00m \u001b[38;5;129;01mnot\u001b[39;00m target_file\u001b[38;5;241m.\u001b[39mexists():\n\u001b[1;32m---> 30\u001b[0m     \u001b[43mshutil\u001b[49m\u001b[38;5;241;43m.\u001b[39;49m\u001b[43mcopy\u001b[49m\u001b[43m(\u001b[49m\u001b[43mtarget_file\u001b[49m\u001b[43m)\u001b[49m\n\u001b[0;32m     31\u001b[0m gc\u001b[38;5;241m.\u001b[39mcollect()\n",
      "\u001b[1;31mTypeError\u001b[0m: copy() missing 1 required positional argument: 'dst'"
     ]
    }
   ],
   "source": [
    "import shutil\n",
    "from pathlib import Path\n",
    "\n",
    "def copy_csv_files(source_path: str, target_path: str):\n",
    "    source = Path(source_path)\n",
    "    target = Path(target_path)\n",
    "\n",
    "    # Loop through each subfolder in the source path\n",
    "    for subfolder in source.iterdir():\n",
    "        if subfolder.is_dir() and subfolder.name in {'germany', 'usa'}:\n",
    "            # Determine the suffix based on the subfolder name\n",
    "            suffix = 'g' if subfolder.name == 'germany' else 'u'\n",
    "            \n",
    "            # Loop through each CSV file in the subfolder\n",
    "            for file in subfolder.glob('*.csv'):\n",
    "                file_str = str(file)\n",
    "                if file_str[-5]=='s':\n",
    "                # Determine the new subfolder name based on the filename\n",
    "                    new_subfolder_name = file.name[-14:-10] + suffix\n",
    "                    new_target_subpath = target / new_subfolder_name\n",
    "                else:\n",
    "                    new_subfolder_name = file.name[-13:-9] + suffix\n",
    "                    new_target_subpath = target / new_subfolder_name                    \n",
    "                \n",
    "                # Create the target subfolder if it doesn't exist\n",
    "                new_target_subpath.mkdir(parents=True, exist_ok=True)\n",
    "                target_file = new_target_subpath / file.name\n",
    "                # Copy the CSV file to the target directory\n",
    "                if not target_file.exists():\n",
    "                    shutil.copy(file, target_file)\n",
    "                gc.collect()\n",
    "\n",
    "# Example usage\n",
    "source_path = r'C:\\Users\\t_ziemer\\Desktop\\techno-csv'  # Replace with your source path\n",
    "target_path = r'C:\\Users\\t_ziemer\\Desktop\\techno-csv-natyear'  # Replace with your target path\n",
    "copy_csv_files(source_path, target_path)"
   ]
  },
  {
   "cell_type": "code",
   "execution_count": null,
   "id": "5f62aab9",
   "metadata": {},
   "outputs": [],
   "source": []
  }
 ],
 "metadata": {
  "kernelspec": {
   "display_name": "Python 3 (ipykernel)",
   "language": "python",
   "name": "python3"
  },
  "language_info": {
   "codemirror_mode": {
    "name": "ipython",
    "version": 3
   },
   "file_extension": ".py",
   "mimetype": "text/x-python",
   "name": "python",
   "nbconvert_exporter": "python",
   "pygments_lexer": "ipython3",
   "version": "3.10.7"
  }
 },
 "nbformat": 4,
 "nbformat_minor": 5
}
