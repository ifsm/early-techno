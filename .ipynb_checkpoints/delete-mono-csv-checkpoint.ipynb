{
 "cells": [
  {
   "cell_type": "code",
   "execution_count": 33,
   "id": "fdaec2a8",
   "metadata": {},
   "outputs": [],
   "source": [
    "import pandas as pd\n",
    "import os\n",
    "csvpathtext = r'C:\\Users\\t_ziemer\\Desktop\\techno-94\\germany_mono_files.csv'\n",
    "serverpath = r'C:\\Users\\t_ziemer\\Desktop\\techno-csv'\n",
    "csvfilenames = pd.read_csv(csvpathtext,header=None)"
   ]
  },
  {
   "cell_type": "code",
   "execution_count": 34,
   "id": "303e53d0",
   "metadata": {},
   "outputs": [
    {
     "name": "stdout",
     "output_type": "stream",
     "text": [
      "C:\\Users\\t_ziemer\\Desktop\\techno-csv\\techno-audio\\germany\\Christoph De Babalon - Promise, Broken (1994).m4a.csv\n"
     ]
    }
   ],
   "source": [
    "for n in range(len(csvfilenames)):\n",
    "    #print(csvfilenames[n])\n",
    "    file=os.path.normpath(csvfilenames.iloc[n, 0])\n",
    "    target=os.path.join(serverpath,file+'.csv')\n",
    "    #print(target)\n",
    "    if os.path.isfile(target):\n",
    "        os.remove(target)\n",
    "    else:\n",
    "        print(target)"
   ]
  },
  {
   "cell_type": "code",
   "execution_count": 35,
   "id": "d21f916d",
   "metadata": {},
   "outputs": [],
   "source": [
    "csvpathtext = r'C:\\Users\\t_ziemer\\Desktop\\techno-94\\usa_mono_files.csv'\n",
    "csvfilenames = pd.read_csv(csvpathtext,header=None)\n",
    "for n in range(len(csvfilenames)):\n",
    "    #print(csvfilenames[n])\n",
    "    file=os.path.normpath(csvfilenames.iloc[n, 0])\n",
    "    target=os.path.join(serverpath,file+'.csv')\n",
    "    #print(target)\n",
    "    if os.path.isfile(target):\n",
    "        os.remove(target)\n",
    "    else:\n",
    "        print(target)"
   ]
  },
  {
   "cell_type": "code",
   "execution_count": null,
   "id": "6f346ddc",
   "metadata": {},
   "outputs": [],
   "source": []
  }
 ],
 "metadata": {
  "kernelspec": {
   "display_name": "Python 3 (ipykernel)",
   "language": "python",
   "name": "python3"
  },
  "language_info": {
   "codemirror_mode": {
    "name": "ipython",
    "version": 3
   },
   "file_extension": ".py",
   "mimetype": "text/x-python",
   "name": "python",
   "nbconvert_exporter": "python",
   "pygments_lexer": "ipython3",
   "version": "3.10.7"
  }
 },
 "nbformat": 4,
 "nbformat_minor": 5
}
