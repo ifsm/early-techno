{
 "cells": [
  {
   "cell_type": "code",
   "execution_count": 89,
   "id": "d102ead0",
   "metadata": {},
   "outputs": [
    {
     "name": "stdout",
     "output_type": "stream",
     "text": [
      "CSV-Dateien: ['Chez Damier - Chez A. (Untitled) (1993).mp3', 'Chez Damier - Chez B. (Untitled) (1993).mp3', 'Chez Damier - Chez C. (Untitled) (1993).mp3']\n",
      "Audio-Dateien: ['Chez Damier - Chez B. (Untitled) (1993).mp3', 'Chez Damier - Chez C. (Untitled) (1993).mp3', 'Chez Damier - Help Myself (Reconstructed by Carl Craig) (1992).m4a']\n",
      "Fehlende Audio-Dateien: ['Chez Damier - Help Myself (Reconstructed by Carl Craig) (1992).m4a']\n"
     ]
    }
   ],
   "source": [
    "import os\n",
    "import shutil\n",
    "\n",
    "folder1 = r'C:\\Users\\t_ziemer\\Desktop\\test\\csv'  # Pfad zu csv-Dateien\n",
    "folder2 = r'C:\\Users\\t_ziemer\\Desktop\\test\\audio'  # Pfad zu audio-Dateien\n",
    "folder3 = r'C:\\Users\\t_ziemer\\Desktop\\test\\audio-to-analyze'  # Zielordner\n",
    "\n",
    "# Listen erstellen\n",
    "csvlist = []\n",
    "for root, dirs, files in os.walk(folder1):\n",
    "    for file in files:\n",
    "        if file.endswith('.csv'):\n",
    "            csvlist.append(file[:-4])  # Nur der Dateiname ohne Endung\n",
    "\n",
    "audiolist = []\n",
    "for root, dirs, files in os.walk(folder2):\n",
    "    for file in files:\n",
    "        audiolist.append(file)  # gesamte Dateinamen\n",
    "\n",
    "# Fehlende Einträge überprüfen\n",
    "missinglist = []\n",
    "\n",
    "for audio in audiolist:\n",
    "    audio_name = audio  # Dateiname ohne Endung (hier wird angenommen, dass die Audiodateien ebenfalls eine Endung wie .mp3 oder .wav haben)\n",
    "    if audio_name not in csvlist:  # Überprüfung ohne Endung\n",
    "        missinglist.append(audio)\n",
    "\n",
    "# Ausgabe der Listen\n",
    "print(\"CSV-Dateien:\", csvlist)\n",
    "print(\"Audio-Dateien:\", audiolist)\n",
    "print(\"Fehlende Audio-Dateien:\", missinglist)"
   ]
  },
  {
   "cell_type": "code",
   "execution_count": 90,
   "id": "f476cd49",
   "metadata": {},
   "outputs": [
    {
     "data": {
      "text/plain": [
       "['Chez Damier - Help Myself (Reconstructed by Carl Craig) (1992).m4a']"
      ]
     },
     "execution_count": 90,
     "metadata": {},
     "output_type": "execute_result"
    }
   ],
   "source": [
    "missinglist"
   ]
  },
  {
   "cell_type": "code",
   "execution_count": 91,
   "id": "b412436c",
   "metadata": {},
   "outputs": [],
   "source": [
    "if not os.path.exists(folder3):\n",
    "    os.makedirs(folder3)\n",
    "\n",
    "# Fehlende Audio-Dateien in den neuen Ordner kopieren\n",
    "for missing_audio in missinglist:\n",
    "    # Vollständiger Pfad der fehlenden Datei\n",
    "    source_file = os.path.join(folder2, missing_audio)\n",
    "    # Zielpfad, wo die Datei kopiert werden soll\n",
    "    destination_file = os.path.join(folder3, missing_audio)\n",
    "    # Datei kopieren\n",
    "    shutil.copy2(source_file, destination_file)"
   ]
  },
  {
   "cell_type": "code",
   "execution_count": null,
   "id": "62109bac",
   "metadata": {},
   "outputs": [],
   "source": []
  }
 ],
 "metadata": {
  "kernelspec": {
   "display_name": "Python 3 (ipykernel)",
   "language": "python",
   "name": "python3"
  },
  "language_info": {
   "codemirror_mode": {
    "name": "ipython",
    "version": 3
   },
   "file_extension": ".py",
   "mimetype": "text/x-python",
   "name": "python",
   "nbconvert_exporter": "python",
   "pygments_lexer": "ipython3",
   "version": "3.10.7"
  }
 },
 "nbformat": 4,
 "nbformat_minor": 5
}
