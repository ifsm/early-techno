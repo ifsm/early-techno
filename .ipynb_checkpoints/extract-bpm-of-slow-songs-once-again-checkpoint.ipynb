{
 "cells": [
  {
   "cell_type": "code",
   "execution_count": 1,
   "id": "48fab325",
   "metadata": {},
   "outputs": [],
   "source": [
    "import os\n",
    "import glob\n",
    "import shutil\n",
    "from pathlib import Path"
   ]
  },
  {
   "cell_type": "markdown",
   "id": "276bf41c",
   "metadata": {},
   "source": [
    "BPM-Detector Function:"
   ]
  },
  {
   "cell_type": "code",
   "execution_count": 2,
   "id": "1655fedc",
   "metadata": {},
   "outputs": [],
   "source": [
    "import scipy\n",
    "import numpy as np\n",
    "import statistics\n",
    "from scipy.signal import find_peaks\n",
    "def find_relative_peaks(autocorr,sr):\n",
    "    # Find peaks in the autocorrelation function\n",
    "    peaks, _ = find_peaks(autocorr, height=.6,distance=int(sr*60/240),width=[0,12])#!?! may I need to raise or reduce? Do I need another option, like distance=217\n",
    "    # Plot the autocorrelation function with detected peaks\n",
    "    #plt.plot(autocorr)\n",
    "    #plt.plot(peaks, autocorr[peaks], 'x', color='red')\n",
    "    #plt.title('Autocorrelation Function with Peaks')\n",
    "    #plt.xlabel('Lag')\n",
    "    #plt.ylabel('Autocorrelation')\n",
    "    #plt.show()\n",
    "    return peaks\n",
    "\n",
    "def estimate_bpm(leftds,sr):\n",
    "    histo=[]\n",
    "    n=18# number of tested frames\n",
    "    #plt.plot(leftds)# plot whole song time series\n",
    "    for est in range(n-1):#start a loop to extract bpm from n time frames\n",
    "        core = leftds[int(len(leftds)*est/n):int(len(leftds)*est/n+sr/2)]\n",
    "        # plt.plot(core)# plot core time series\n",
    "        signal = leftds[int(len(leftds)*est/n):int(len(leftds)*est/n)+2*sr]\n",
    "        #plt.plot(signal)# plot comparison signal time series\n",
    "        autocorr = scipy.signal.correlate(core, signal, mode='valid')\n",
    "        autocorr /= np.max(np.abs(autocorr))\n",
    "        #print(len(autocorr))\n",
    "        #lags = np.arange(len(autocorr))\n",
    "        #plt.plot(lags, autocorr, label='Autocorrelation', color='green')\n",
    "        relative_peaks = find_relative_peaks(autocorr,sr)\n",
    "        #print(relative_peaks)\n",
    "        bpm_hist=[]\n",
    "        #lags_in_seconds = relative_peaks / 1378.13\n",
    "        #print(lags_in_seconds)\n",
    "        if len(relative_peaks)>1:\n",
    "            for sub in range(len(relative_peaks)-1):\n",
    "                beats=int(60*sr/(relative_peaks[sub+1]-relative_peaks[sub]))\n",
    "                if beats < 90:\n",
    "                    beats=beats*2\n",
    "                if beats > 200:\n",
    "                    beats=int(beats/2)\n",
    "                #print(beats)\n",
    "                histo.append(beats)\n",
    "    mean_value = sum(histo) / len(histo)\n",
    "# Define 60% and 140% of the mean\n",
    "    low = 0.6 * mean_value\n",
    "    up = 1.4 * mean_value\n",
    "    modified_values = []\n",
    "    for value in histo:\n",
    "        if value < low:\n",
    "            modified_values.append(value * 2)  # Double the value\n",
    "        elif value < up:\n",
    "            modified_values.append(value)  # Keep the value unchanged   \n",
    "    #print(modified_values)\n",
    "    return modified_values"
   ]
  },
  {
   "cell_type": "markdown",
   "id": "5eba7552",
   "metadata": {},
   "source": [
    "Find CSV files to import, modify and export, and audio files to analyze:"
   ]
  },
  {
   "cell_type": "code",
   "execution_count": 3,
   "id": "f27e8dff",
   "metadata": {},
   "outputs": [],
   "source": [
    "#csvlist = []\n",
    "csvpath = r'C:\\Users\\t_ziemer\\Desktop\\techno-csv\\germany'#file path that contains all csv files\n",
    "#for file in files:\n",
    "#    csvlist.append(os.path.join(csvroot,file))"
   ]
  },
  {
   "cell_type": "code",
   "execution_count": 4,
   "id": "9a20045d",
   "metadata": {},
   "outputs": [],
   "source": [
    "import librosa\n",
    "import warnings\n",
    "from matplotlib import pyplot as plt\n",
    "\n",
    "mp3list = []\n",
    "mp3names= []\n",
    "targetpath = r'C:\\Users\\t_ziemer\\Desktop\\techno-test\\germanycsv'\n",
    "path = r'C:\\Users\\t_ziemer\\Desktop\\techno-test\\Germany'#file path that contains all mp3 files to be analyzed\n",
    "for root, dirs, files in os.walk(path):#loop to list all file paths\n",
    "    for file in files:\n",
    "        mp3list.append(os.path.join(root,file))\n",
    "        mp3names.append(file)"
   ]
  },
  {
   "cell_type": "markdown",
   "id": "bd6375a5",
   "metadata": {},
   "source": [
    "check if you find the csv of the respective audio:"
   ]
  },
  {
   "cell_type": "code",
   "execution_count": 9,
   "id": "64eb2534",
   "metadata": {
    "scrolled": false
   },
   "outputs": [
    {
     "name": "stderr",
     "output_type": "stream",
     "text": [
      "C:\\Users\\t_ziemer\\AppData\\Local\\Programs\\Python\\Python310\\lib\\site-packages\\librosa\\util\\decorators.py:88: UserWarning: PySoundFile failed. Trying audioread instead.\n",
      "  return f(*args, **kwargs)\n"
     ]
    },
    {
     "name": "stdout",
     "output_type": "stream",
     "text": [
      "128\n",
      "C:\\Users\\t_ziemer\\Desktop\\techno-test\\germanycsv\\1000 Micro Dats - The Centre (Tuned Mix) (1993).m4a.csv\n",
      "cool\n"
     ]
    },
    {
     "name": "stderr",
     "output_type": "stream",
     "text": [
      "C:\\Users\\t_ziemer\\AppData\\Local\\Programs\\Python\\Python310\\lib\\site-packages\\librosa\\util\\decorators.py:88: UserWarning: PySoundFile failed. Trying audioread instead.\n",
      "  return f(*args, **kwargs)\n"
     ]
    },
    {
     "name": "stdout",
     "output_type": "stream",
     "text": [
      "138\n",
      "C:\\Users\\t_ziemer\\Desktop\\techno-test\\germanycsv\\2Hard Out On Hi - One Good Nite On Hi (1988).m4a.csv\n",
      "cool\n"
     ]
    }
   ],
   "source": [
    "import pandas as pd\n",
    "import csv\n",
    "# Suppress DeprecationWarning\n",
    "warnings.simplefilter(\"ignore\", category=DeprecationWarning)\n",
    "for n in range(len(mp3list)):#len(mp3list)\n",
    "    while True:\n",
    "        try:\n",
    "            array, sr=librosa.load(mp3list[n],sr=500,mono=True)\n",
    "            #print(f'round {n}')\n",
    "            csvfile = pd.read_csv(os.path.join(csvpath,mp3names[n]+'.csv'),index_col=0)\n",
    "            #print(list(csvfile['PhaseSpace']))\n",
    "            #normalization:\n",
    "            if np.max(array)>np.min(array)*-1:\n",
    "                array = array/np.max(array)\n",
    "            else:\n",
    "                array = array/np.min(array)*-1\n",
    "            #print('normalized')\n",
    "            #print(sr)\n",
    "            cut = array[(sr*4):len(array)-(sr*4)]# we crop the first and last 4 seconds\n",
    "            #print('cut')\n",
    "            estimated_bpm = estimate_bpm(cut,sr)\n",
    "            #print('estimated')\n",
    "            tempo = []\n",
    "            tempo.append(statistics.mode(estimated_bpm))\n",
    "            #print(tempo)\n",
    "            if len(tempo) > 1:\n",
    "                tempo = statistics.median(tempo)\n",
    "            #print(tempo[0])\n",
    "            beats=[]\n",
    "            line=list(csvfile.index)\n",
    "            #print(len(line))\n",
    "            for i in range(len(line)):\n",
    "                beats.append(int(tempo[0]))#bpm,median\n",
    "            #print('lines added')\n",
    "            print(tempo[0])\n",
    "            #features=[np.transpose(line), np.transpose(bc), np.transpose(corr), np.transpose(peak), np.transpose(rms), np.transpose(crest), np.transpose(bclow), np.transpose(corrlow), np.transpose(peaklow), np.transpose(rmslow), np.transpose(crestlow), np.transpose(bcmid), np.transpose(corrmid), np.transpose(peakmid), np.transpose(rmsmid), np.transpose(crestmid), np.transpose(bchigh), np.transpose(corrhigh), np.transpose(peakhigh), np.transpose(rmshigh), np.transpose(cresthigh),np.transpose(beats)] \n",
    "            #features = [list(csvfile.index), list(csvfile['PhaseSpace']), list(csvfile['ChannelCorrelation']), list(csvfile['PeakMeter']), list(csvfile['RMS']), list(csvfile['CrestFactor']), list(csvfile['PhaseSpaceLow']), list(csvfile['ChannelCorrelationLow']), list(csvfile['PeakMeterLow']), list(csvfile['RMSLow']), list(csvfile['CrestFactorLow']), list(csvfile['PhaseSpaceMid']), list(csvfile['ChannelCorrelationMid']), list(csvfile['PeakMeterMid']), list(csvfile['RMSMid']), list(csvfile['CrestFactorMid']), list(csvfile['PhaseSpaceHigh']), list(csvfile['ChannelCorrelationHigh']), list(csvfile['PeakMeterHigh']), list(csvfile['RMSHigh']), list(csvfile['CrestFactorHigh']), np.transpose(beats)]\n",
    "            #features = [list(csvfile.index), list(csvfile['PhaseSpace']), list(csvfile['ChannelCorrelation']), list(csvfile['PeakMeter']), list(csvfile['RMS']), list(csvfile['CrestFactor']), list(csvfile['PhaseSpaceLow']), list(csvfile['ChannelCorrelationLow']), list(csvfile['PeakMeterLow']), list(csvfile['RMSLow']), list(csvfile['CrestFactorLow']), list(csvfile['PhaseSpaceMid']), list(csvfile['ChannelCorrelationMid']), list(csvfile['PeakMeterMid']), list(csvfile['RMSMid']), list(csvfile['CrestFactorMid']), list(csvfile['PhaseSpaceHigh']), list(csvfile['ChannelCorrelationHigh']), list(csvfile['PeakMeterHigh']), list(csvfile['RMSHigh']), list(csvfile['CrestFactorHigh']), np.transpose(beats)]\n",
    "            features=np.array([list(csvfile.index), list(csvfile['PhaseSpace']), list(csvfile['ChannelCorrelation']), list(csvfile['PeakMeter']), list(csvfile['RMS']), list(csvfile['CrestFactor']), list(csvfile['PhaseSpaceLow']), list(csvfile['ChannelCorrelationLow']), list(csvfile['PeakMeterLow']), list(csvfile['RMSLow']), list(csvfile['CrestFactorLow']), list(csvfile['PhaseSpaceMid']), list(csvfile['ChannelCorrelationMid']), list(csvfile['PeakMeterMid']), list(csvfile['RMSMid']), list(csvfile['CrestFactorMid']), list(csvfile['PhaseSpaceHigh']), list(csvfile['ChannelCorrelationHigh']), list(csvfile['PeakMeterHigh']), list(csvfile['RMSHigh']), list(csvfile['CrestFactorHigh']), beats])\n",
    "            #print('asasas1')\n",
    "            Details = [\"\", 'PhaseSpace', 'ChannelCorrelation','PeakMeter','RMS', 'CrestFactor', 'PhaseSpaceLow', 'ChannelCorrelationLow', 'PeakMeterLow', 'RMSLow', 'CrestFactorLow', 'PhaseSpaceMid', 'ChannelCorrelationMid', 'PeakMeterMid','RMSMid','CrestFactorMid', 'PhaseSpaceHigh', 'ChannelCorrelationHigh', 'PeakMeterHigh','RMSHigh','CrestFactorHigh','bpm']\n",
    "            #Details = [\"\", 'PhaseSpace','bpm']\n",
    "            print(os.path.join(targetpath,mp3names[n]+'.csv'))\n",
    "            with open(os.path.join(targetpath,mp3names[n]+'.csv'), 'w', newline='') as f:\n",
    "                #print('cool')\n",
    "                write = csv.writer(f) \n",
    "                write.writerow(Details)\n",
    "                print('cool')\n",
    "                write.writerows(np.transpose(features)) \n",
    "            break      \n",
    "        except:\n",
    "            print('shit!')\n",
    "            break"
   ]
  },
  {
   "cell_type": "code",
   "execution_count": null,
   "id": "dbb88db0",
   "metadata": {
    "scrolled": false
   },
   "outputs": [],
   "source": [
    "# Example usage:\n",
    "file_path = r'C:\\Users\\t_ziemer\\Desktop\\techno-test\\germanytest\\E-Noize - Descraciado (1993).m4a'\n",
    "array, sr=librosa.load(file_path,sr=500,mono=True)\n",
    "cut = array[(sr*4):len(array)-(sr*4)]\n",
    "estimated_bpm = estimate_bpm(cut,sr)\n",
    "\n",
    "median=np.median(estimated_bpm)\n",
    "mode=statistics.mode(estimated_bpm)\n",
    "\n",
    "if estimated_bpm is not None:\n",
    "    print(f'Estimated BPM: {median} and {mode}')\n",
    "else:\n",
    "    print('BPM estimation failed.')"
   ]
  },
  {
   "cell_type": "code",
   "execution_count": null,
   "id": "ed0d4d6f",
   "metadata": {},
   "outputs": [],
   "source": []
  }
 ],
 "metadata": {
  "kernelspec": {
   "display_name": "Python 3 (ipykernel)",
   "language": "python",
   "name": "python3"
  },
  "language_info": {
   "codemirror_mode": {
    "name": "ipython",
    "version": 3
   },
   "file_extension": ".py",
   "mimetype": "text/x-python",
   "name": "python",
   "nbconvert_exporter": "python",
   "pygments_lexer": "ipython3",
   "version": "3.10.7"
  }
 },
 "nbformat": 4,
 "nbformat_minor": 5
}
