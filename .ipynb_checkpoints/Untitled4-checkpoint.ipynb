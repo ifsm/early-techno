{
 "cells": [
  {
   "cell_type": "markdown",
   "id": "8148c7a0",
   "metadata": {},
   "source": [
    "Some simple statistics"
   ]
  },
  {
   "cell_type": "code",
   "execution_count": 1,
   "id": "b0d3cbfb",
   "metadata": {},
   "outputs": [],
   "source": [
    "import os\n",
    "import glob\n",
    "\n",
    "measCsv=r'C:\\python\\gits\\early-techno\\example-data'\n",
    "folds=glob.glob(str(measCsv+'\\\\*'))"
   ]
  },
  {
   "cell_type": "code",
   "execution_count": 4,
   "id": "4d7cd641",
   "metadata": {},
   "outputs": [],
   "source": [
    "# dictionary of all features:\n",
    "features = {1: 'PhaseSpace',\n",
    "            2: 'ChannelCorrelation',\n",
    "            3: 'PeakMeter',\n",
    "            4: 'RMS',\n",
    "            5: 'CrestFactor',\n",
    "            6: 'PhaseSpaceLow',\n",
    "            7: 'ChannelCorrelationLow',\n",
    "            8: 'PeakMeterLow',\n",
    "            9: 'RMSLow',\n",
    "            10: 'CrestFactorLow',\n",
    "            11: 'PhaseSpaceMid',\n",
    "            12: 'ChannelCorrelationMid',\n",
    "            13: 'PeakMeterMid',\n",
    "            14: 'RMSMid',\n",
    "            15: 'CrestFactorMid',\n",
    "            16: 'PhaseSpaceHigh',\n",
    "            17: 'ChannelCorrelationHigh',\n",
    "            18: 'PeakMeterHigh',\n",
    "            19: 'RMSHigh',\n",
    "            20: 'CrestFactorHigh',\n",
    "            21: 'bpm'}\n",
    "\n",
    "# selection of preferred features\n",
    "nfeatures = {0: 21\n",
    "            }\n",
    "# shall we take each feratures' 'mean', 'median', standard deviation ('std'), skewness ('skew'), or kurtosis ('kurt')?\n",
    "what=['mean']\n",
    "numfeatures = len(nfeatures)"
   ]
  }
 ],
 "metadata": {
  "kernelspec": {
   "display_name": "Python 3 (ipykernel)",
   "language": "python",
   "name": "python3"
  },
  "language_info": {
   "codemirror_mode": {
    "name": "ipython",
    "version": 3
   },
   "file_extension": ".py",
   "mimetype": "text/x-python",
   "name": "python",
   "nbconvert_exporter": "python",
   "pygments_lexer": "ipython3",
   "version": "3.10.7"
  }
 },
 "nbformat": 4,
 "nbformat_minor": 5
}
