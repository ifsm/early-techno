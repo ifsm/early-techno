{
 "cells": [
  {
   "cell_type": "markdown",
   "id": "9c7f54c7",
   "metadata": {},
   "source": [
    "Order the songs by nation and year"
   ]
  },
  {
   "cell_type": "code",
   "execution_count": 1,
   "id": "e44ac631",
   "metadata": {},
   "outputs": [],
   "source": [
    "import numpy as np\n",
    "import pandas as pd\n",
    "import os\n",
    "import glob\n",
    "import shutil\n",
    "from pathlib import Path\n",
    "import gc"
   ]
  },
  {
   "cell_type": "code",
   "execution_count": 4,
   "id": "fd8db315",
   "metadata": {},
   "outputs": [],
   "source": [
    "import shutil\n",
    "from pathlib import Path\n",
    "\n",
    "def copy_csv_files(source_path: str, target_path: str):\n",
    "    source = Path(source_path)\n",
    "    target = Path(target_path)\n",
    "\n",
    "    # Loop through each subfolder in the source path\n",
    "    for subfolder in source.iterdir():\n",
    "        if subfolder.is_dir() and subfolder.name in {'germany', 'usa'}:\n",
    "            # Determine the suffix based on the subfolder name\n",
    "            suffix = 'g' if subfolder.name == 'germany' else 'u'\n",
    "            \n",
    "            # Loop through each CSV file in the subfolder\n",
    "            for file in subfolder.glob('*.csv'):\n",
    "                file_str = str(file)\n",
    "                if file_str[-5]=='s':\n",
    "                # Determine the new subfolder name based on the filename\n",
    "                    new_subfolder_name = file.name[-14:-10] + suffix\n",
    "                    new_target_subpath = target / new_subfolder_name\n",
    "                else:\n",
    "                    new_subfolder_name = file.name[-13:-9] + suffix\n",
    "                    new_target_subpath = target / new_subfolder_name                    \n",
    "                \n",
    "                # Create the target subfolder if it doesn't exist\n",
    "                new_target_subpath.mkdir(parents=True, exist_ok=True)\n",
    "                target_file = new_target_subpath / file.name\n",
    "                # Copy the CSV file to the target directory\n",
    "                if not target_file.exists():\n",
    "                    shutil.copy(file, target_file)\n",
    "                gc.collect()\n",
    "\n",
    "# Example usage\n",
    "source_path = r'C:\\Users\\t_ziemer\\Desktop\\techno-csv'  # Replace with your source path\n",
    "target_path = r'C:\\Users\\t_ziemer\\Desktop\\techno-csv-natyear'  # Replace with your target path\n",
    "copy_csv_files(source_path, target_path)"
   ]
  },
  {
   "cell_type": "code",
   "execution_count": null,
   "id": "eb827f8c",
   "metadata": {},
   "outputs": [],
   "source": []
  }
 ],
 "metadata": {
  "kernelspec": {
   "display_name": "Python 3 (ipykernel)",
   "language": "python",
   "name": "python3"
  },
  "language_info": {
   "codemirror_mode": {
    "name": "ipython",
    "version": 3
   },
   "file_extension": ".py",
   "mimetype": "text/x-python",
   "name": "python",
   "nbconvert_exporter": "python",
   "pygments_lexer": "ipython3",
   "version": "3.10.7"
  }
 },
 "nbformat": 4,
 "nbformat_minor": 5
}
