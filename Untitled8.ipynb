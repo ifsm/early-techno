{
 "cells": [
  {
   "cell_type": "markdown",
   "id": "324f08cc",
   "metadata": {},
   "source": [
    "Order the songs by nation and year"
   ]
  },
  {
   "cell_type": "code",
   "execution_count": null,
   "id": "11187abc",
   "metadata": {},
   "outputs": [],
   "source": [
    "import numpy as np\n",
    "import pandas as pd\n",
    "import os\n",
    "import glob\n",
    "import shutil\n",
    "from pathlib import Path"
   ]
  },
  {
   "cell_type": "code",
   "execution_count": null,
   "id": "baf5f19a",
   "metadata": {},
   "outputs": [],
   "source": [
    "source_path = \"C:\\\\Users\\\\t_ziemer\\\\Desktop\\\\techno-csv\\\\Germany\\\\*.csv\"  # Replace with your source directory\n",
    "# Define the destination path where you want to copy the files\n",
    "destination_path = \"C:\\Users\\t_ziemer\\Desktop\\techno-csv-natyear\"  # Replace with your destination directory"
   ]
  }
 ],
 "metadata": {
  "kernelspec": {
   "display_name": "Python 3 (ipykernel)",
   "language": "python",
   "name": "python3"
  },
  "language_info": {
   "codemirror_mode": {
    "name": "ipython",
    "version": 3
   },
   "file_extension": ".py",
   "mimetype": "text/x-python",
   "name": "python",
   "nbconvert_exporter": "python",
   "pygments_lexer": "ipython3",
   "version": "3.10.7"
  }
 },
 "nbformat": 4,
 "nbformat_minor": 5
}
