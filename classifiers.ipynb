{
 "cells": [
  {
   "cell_type": "markdown",
   "id": "e4f26ffa",
   "metadata": {},
   "source": [
    "# Data Preparation for Classifiers\n",
    "## Step 1: Name location of classes\n",
    "Select one folder that contains one subfolder for each class. Each subbolder contains CSV files. Every CSV file represents one item. Items are named after what they are (\"artist - title (year).extension.csv\"). Items are chacterized by feature magnitudes. We have extracted 21 features from every time frame of each audio file."
   ]
  },
  {
   "cell_type": "code",
   "execution_count": 1,
   "id": "e2c34bd9",
   "metadata": {},
   "outputs": [],
   "source": [
    "import os\n",
    "import glob\n",
    "\n",
    "measCsv=r'C:\\python\\gits\\early-techno\\example-data'\n",
    "folds=glob.glob(str(measCsv+'\\\\*'))"
   ]
  },
  {
   "cell_type": "markdown",
   "id": "6d376943",
   "metadata": {},
   "source": [
    "## Step 2: List all features and select your preferred ones"
   ]
  },
  {
   "cell_type": "code",
   "execution_count": 3,
   "id": "255e14d7",
   "metadata": {},
   "outputs": [],
   "source": [
    "# dictionary of all features:\n",
    "features = {1: 'PhaseSpace',\n",
    "            2: 'ChannelCorrelation',\n",
    "            3: 'PeakMeter',\n",
    "            4: 'RMS',\n",
    "            5: 'CrestFactor',\n",
    "            6: 'PhaseSpaceLow',\n",
    "            7: 'ChannelCorrelationLow',\n",
    "            8: 'PeakMeterLow',\n",
    "            9: 'RMSLow',\n",
    "            10: 'CrestFactorLow',\n",
    "            11: 'PhaseSpaceMid',\n",
    "            12: 'ChannelCorrelationMid',\n",
    "            13: 'PeakMeterMid',\n",
    "            14: 'RMSMid',\n",
    "            15: 'CrestFactorMid',\n",
    "            16: 'PhaseSpaceHigh',\n",
    "            17: 'ChannelCorrelationHigh',\n",
    "            18: 'PeakMeterHigh',\n",
    "            19: 'RMSHigh',\n",
    "            20: 'CrestFactorHigh',\n",
    "            21: 'bpm'}\n",
    "\n",
    "# selection of preferred features\n",
    "nfeatures = {0: 1,\n",
    "             1: 1,\n",
    "             2: 3,\n",
    "             3: 4,\n",
    "             4: 5,\n",
    "             5: 21\n",
    "            }\n",
    "# shall we take each feratures' 'mean', 'median', standard deviation ('std'), skewness ('skew'), or kurtosis ('kurt')?\n",
    "what=['std',\n",
    "      'median',\n",
    "      'mean',\n",
    "      'std',\n",
    "      'skew',\n",
    "      'kurt']\n",
    "numfeatures = len(nfeatures)"
   ]
  },
  {
   "cell_type": "markdown",
   "id": "a0170f10",
   "metadata": {},
   "source": [
    "## Step 3: Prepare the training data matrix"
   ]
  },
  {
   "cell_type": "code",
   "execution_count": 4,
   "id": "ad7c686b",
   "metadata": {},
   "outputs": [],
   "source": [
    "import numpy as np # for arrays\n",
    "import pandas as pd # for importing csv files\n",
    "from pathlib import Path\n",
    "\n",
    "train_X = np.array([np.zeros(numfeatures)])\n",
    "target = []\n",
    "color_map = {}\n",
    "classname = []\n",
    "\n",
    "for cl, fold in enumerate(folds):\n",
    "    files = glob.glob(str(fold+'\\*.csv'))\n",
    "    numfiles = len(files)\n",
    "    lal1 = np.empty((numfiles, numfeatures))\n",
    "    for j, f in enumerate(files):\n",
    "        la = pd.read_csv(f, index_col=0)\n",
    "        # print(f)\n",
    "        classname.append(cl)\n",
    "        for dt, i in enumerate(nfeatures):\n",
    "            if what[dt]=='std':\n",
    "                lal1[j][i-1] = la[features[nfeatures[i]]].std()\n",
    "            elif what[dt]=='mean':\n",
    "                lal1[j][i-1] = la[features[nfeatures[i]]].mean()\n",
    "            elif what[dt]=='median':\n",
    "                lal1[j][i-1] = la[features[nfeatures[i]]].median()\n",
    "            elif what[dt]=='skew':\n",
    "                lal1[j][i-1] = la[features[nfeatures[i]]].skew()\n",
    "            elif what[dt]=='kurt':\n",
    "                lal1[j][i-1] = la[features[nfeatures[i]]].kurtosis()\n",
    "            #if STD[dt]:\n",
    "                # calculate standard deviation of feature over time\n",
    "            #    lal1[j][i-1] = la[features[nfeatures[i]]].std()\n",
    "            #else:\n",
    "                # calculate mean of features over time\n",
    "                #lal1[j][i-1] = la[features[nfeatures[i]]].mean()#!?!median()\n",
    "\n",
    "    train_X = np.concatenate((train_X, lal1))\n",
    "    target = target + [(str(Path(fold).relative_to(measCsv)), i+1)\n",
    "                       for i in range(0, len(lal1))]\n",
    "\n",
    "    color_map[str(Path(fold).relative_to(measCsv))] = cl\n",
    "\n",
    "train_X = train_X[1:]\n",
    "\n",
    "# give the classes their names\n",
    "labels=['Germany','USA']"
   ]
  },
  {
   "cell_type": "markdown",
   "id": "fc0d1ce2",
   "metadata": {},
   "source": [
    "## Step 4: Scale the data"
   ]
  },
  {
   "cell_type": "code",
   "execution_count": 6,
   "id": "1eb5691a",
   "metadata": {},
   "outputs": [],
   "source": [
    "from sklearn import preprocessing #für normierung\n",
    "\n",
    "scaler = preprocessing.StandardScaler().fit(train_X) #skalieren die einzelen features auf Mean=0 und Std=1\n",
    "lal = scaler.transform(train_X)"
   ]
  },
  {
   "cell_type": "markdown",
   "id": "b756451d",
   "metadata": {},
   "source": [
    "## Step 5: Train-Test-Split"
   ]
  },
  {
   "cell_type": "code",
   "execution_count": 11,
   "id": "29b5bf70",
   "metadata": {},
   "outputs": [],
   "source": [
    "from sklearn.model_selection import train_test_split# splits the feature matrix into training data of test_size a\n",
    "\n",
    "y=classname#each row includes the class number\n",
    "X=train_X# each row includes all attribute magnitudes of a single item\n",
    "X_train, X_test, y_train, y_test = train_test_split(X, y, test_size=0.50, random_state=1)"
   ]
  },
  {
   "cell_type": "markdown",
   "id": "b1b7623b",
   "metadata": {},
   "source": [
    "## Step 6: Train and validate a classifier"
   ]
  },
  {
   "cell_type": "markdown",
   "id": "c9ddf6bb",
   "metadata": {},
   "source": [
    "### Random Forest"
   ]
  },
  {
   "cell_type": "code",
   "execution_count": 13,
   "id": "3ef5190d",
   "metadata": {},
   "outputs": [
    {
     "name": "stdout",
     "output_type": "stream",
     "text": [
      "Train Accuracy: 1.000\n",
      "Test Accuracy: 0.353\n"
     ]
    }
   ],
   "source": [
    "from sklearn.ensemble import RandomForestClassifier\n",
    "\n",
    "rf = RandomForestClassifier()#load an instance of the RF classifier\n",
    "rf.fit(X_train, y_train)\n",
    "print(f'Train Accuracy: {rf.score(X_train, y_train):.3f}')\n",
    "print(f'Test Accuracy: {rf.score(X_test, y_test):.3f}')"
   ]
  },
  {
   "cell_type": "code",
   "execution_count": 14,
   "id": "ce579e8c",
   "metadata": {},
   "outputs": [
    {
     "name": "stdout",
     "output_type": "stream",
     "text": [
      "              precision    recall  f1-score   support\n",
      "\n",
      "           0       0.31      1.00      0.48         5\n",
      "           1       1.00      0.08      0.15        12\n",
      "\n",
      "    accuracy                           0.35        17\n",
      "   macro avg       0.66      0.54      0.32        17\n",
      "weighted avg       0.80      0.35      0.25        17\n",
      "\n",
      "Train Accuracy: 1.000\n",
      "Test Accuracy: 0.353\n"
     ]
    },
    {
     "data": {
      "image/png": "[encoded data removed]",
      "text/plain": [
       "<Figure size 640x480 with 2 Axes>"
      ]
     },
     "metadata": {},
     "output_type": "display_data"
    }
   ],
   "source": [
    "from sklearn.metrics import confusion_matrix, classification_report\n",
    "from sklearn.metrics import confusion_matrix, ConfusionMatrixDisplay\n",
    "\n",
    "rf_predict = rf.predict(X_test)\n",
    "cmrf = confusion_matrix(y_test, rf_predict)\n",
    "cmdrf = ConfusionMatrixDisplay(cmrf, display_labels=labels)\n",
    "cmdrf.plot()\n",
    "print(classification_report(y_test, rf_predict))\n",
    "print(f'Train Accuracy: {rf.score(X_train, y_train):.3f}')\n",
    "print(f'Test Accuracy: {rf.score(X_test, y_test):.3f}')"
   ]
  },
  {
   "cell_type": "markdown",
   "id": "14ea5e9a",
   "metadata": {},
   "source": [
    "### Support Vector Machine"
   ]
  },
  {
   "cell_type": "code",
   "execution_count": 15,
   "id": "eaf72df4",
   "metadata": {},
   "outputs": [
    {
     "name": "stdout",
     "output_type": "stream",
     "text": [
      "Train Accuracy: 0.706\n",
      "Test Accuracy: 0.294\n"
     ]
    }
   ],
   "source": [
    "from sklearn import svm\n",
    "\n",
    "clf=svm.SVC()\n",
    "clf.fit(X_train, y_train)\n",
    "pred_clf = clf.predict(X_test)\n",
    "print(f'Train Accuracy: {clf.score(X_train, y_train):.3f}')\n",
    "print(f'Test Accuracy: {clf.score(X_test, y_test):.3f}')"
   ]
  },
  {
   "cell_type": "code",
   "execution_count": 16,
   "id": "1b7dd93f",
   "metadata": {},
   "outputs": [
    {
     "name": "stdout",
     "output_type": "stream",
     "text": [
      "              precision    recall  f1-score   support\n",
      "\n",
      "           0       0.29      1.00      0.45         5\n",
      "           1       0.00      0.00      0.00        12\n",
      "\n",
      "    accuracy                           0.29        17\n",
      "   macro avg       0.15      0.50      0.23        17\n",
      "weighted avg       0.09      0.29      0.13        17\n",
      "\n",
      "Train Accuracy: 0.706\n",
      "Test Accuracy: 0.294\n"
     ]
    },
    {
     "name": "stderr",
     "output_type": "stream",
     "text": [
      "C:\\Users\\t_ziemer\\AppData\\Local\\Programs\\Python\\Python310\\lib\\site-packages\\sklearn\\metrics\\_classification.py:1334: UndefinedMetricWarning: Precision and F-score are ill-defined and being set to 0.0 in labels with no predicted samples. Use `zero_division` parameter to control this behavior.\n",
      "  _warn_prf(average, modifier, msg_start, len(result))\n",
      "C:\\Users\\t_ziemer\\AppData\\Local\\Programs\\Python\\Python310\\lib\\site-packages\\sklearn\\metrics\\_classification.py:1334: UndefinedMetricWarning: Precision and F-score are ill-defined and being set to 0.0 in labels with no predicted samples. Use `zero_division` parameter to control this behavior.\n",
      "  _warn_prf(average, modifier, msg_start, len(result))\n",
      "C:\\Users\\t_ziemer\\AppData\\Local\\Programs\\Python\\Python310\\lib\\site-packages\\sklearn\\metrics\\_classification.py:1334: UndefinedMetricWarning: Precision and F-score are ill-defined and being set to 0.0 in labels with no predicted samples. Use `zero_division` parameter to control this behavior.\n",
      "  _warn_prf(average, modifier, msg_start, len(result))\n"
     ]
    },
    {
     "data": {
      "image/png": "[encoded data removed]",
      "text/plain": [
       "<Figure size 640x480 with 2 Axes>"
      ]
     },
     "metadata": {},
     "output_type": "display_data"
    }
   ],
   "source": [
    "clf_predict = clf.predict(X_test)\n",
    "cmclf = confusion_matrix(y_test, clf_predict)\n",
    "cmdclf = ConfusionMatrixDisplay(cmclf, display_labels=labels)\n",
    "cmdclf.plot()\n",
    "print(classification_report(y_test, clf_predict))\n",
    "print(f'Train Accuracy: {clf.score(X_train, y_train):.3f}')\n",
    "print(f'Test Accuracy: {clf.score(X_test, y_test):.3f}')"
   ]
  },
  {
   "cell_type": "markdown",
   "id": "020e5803",
   "metadata": {},
   "source": [
    "### Multi Layer Perceptron Neural Network"
   ]
  },
  {
   "cell_type": "code",
   "execution_count": 17,
   "id": "917668b9",
   "metadata": {},
   "outputs": [
    {
     "name": "stdout",
     "output_type": "stream",
     "text": [
      "Train Accuracy: 0.824\n",
      "Test Accuracy: 0.412\n"
     ]
    },
    {
     "name": "stderr",
     "output_type": "stream",
     "text": [
      "C:\\Users\\t_ziemer\\AppData\\Local\\Programs\\Python\\Python310\\lib\\site-packages\\sklearn\\neural_network\\_multilayer_perceptron.py:702: ConvergenceWarning: Stochastic Optimizer: Maximum iterations (500) reached and the optimization hasn't converged yet.\n",
      "  warnings.warn(\n"
     ]
    }
   ],
   "source": [
    "from sklearn.neural_network import MLPClassifier\n",
    "\n",
    "mlpc = MLPClassifier(hidden_layer_sizes=(11,11,11), max_iter=500)\n",
    "mlpc.fit(X_train,y_train)\n",
    "pred_mlpc = mlpc.predict(X_test)\n",
    "print(f'Train Accuracy: {mlpc.score(X_train, y_train):.3f}')\n",
    "print(f'Test Accuracy: {mlpc.score(X_test, y_test):.3f}')"
   ]
  },
  {
   "cell_type": "code",
   "execution_count": 18,
   "id": "441221d6",
   "metadata": {},
   "outputs": [
    {
     "name": "stdout",
     "output_type": "stream",
     "text": [
      "              precision    recall  f1-score   support\n",
      "\n",
      "           0       0.33      1.00      0.50         5\n",
      "           1       1.00      0.17      0.29        12\n",
      "\n",
      "    accuracy                           0.41        17\n",
      "   macro avg       0.67      0.58      0.39        17\n",
      "weighted avg       0.80      0.41      0.35        17\n",
      "\n",
      "[[ 5  0]\n",
      " [10  2]]\n"
     ]
    },
    {
     "data": {
      "text/plain": [
       "<sklearn.metrics._plot.confusion_matrix.ConfusionMatrixDisplay at 0x1cb4cb73df0>"
      ]
     },
     "execution_count": 18,
     "metadata": {},
     "output_type": "execute_result"
    },
    {
     "data": {
      "image/png": "[encoded data removed]",
      "text/plain": [
       "<Figure size 640x480 with 2 Axes>"
      ]
     },
     "metadata": {},
     "output_type": "display_data"
    }
   ],
   "source": [
    "print(classification_report(y_test, pred_mlpc))\n",
    "print(confusion_matrix(y_test, pred_mlpc))\n",
    "cmmlp = confusion_matrix(y_test, pred_mlpc)\n",
    "cmdmlp = ConfusionMatrixDisplay(cmmlp, display_labels=labels)\n",
    "cmdmlp.plot()"
   ]
  },
  {
   "cell_type": "markdown",
   "id": "6ae18a19",
   "metadata": {},
   "source": [
    "### Convolutional Neural Network"
   ]
  },
  {
   "cell_type": "code",
   "execution_count": 19,
   "id": "51095248",
   "metadata": {},
   "outputs": [
    {
     "name": "stderr",
     "output_type": "stream",
     "text": [
      "C:\\Users\\t_ziemer\\AppData\\Local\\Programs\\Python\\Python310\\lib\\site-packages\\keras\\src\\layers\\convolutional\\base_conv.py:107: UserWarning: Do not pass an `input_shape`/`input_dim` argument to a layer. When using Sequential models, prefer using an `Input(shape)` object as the first layer in the model instead.\n",
      "  super().__init__(activity_regularizer=activity_regularizer, **kwargs)\n"
     ]
    }
   ],
   "source": [
    "import tensorflow as tf\n",
    "from tensorflow.keras.models import Sequential\n",
    "from tensorflow.keras.layers import Conv1D, MaxPooling1D, Flatten, Dense\n",
    "\n",
    "num_classes=len(folds)# model needs to know the number of classes\n",
    "\n",
    "num_features = len(nfeatures)# model needs to know the length of the input vectors. Here, the number of features.\n",
    "\n",
    "# you have to build the network architecture:\n",
    "model = Sequential([\n",
    "    Conv1D(32, 3, activation='relu', input_shape=(num_features, 1)),\n",
    "    MaxPooling1D(2),\n",
    "    Flatten(),\n",
    "    Dense(64, activation='relu'),\n",
    "    Dense(num_classes, activation='softmax')\n",
    "])"
   ]
  },
  {
   "cell_type": "code",
   "execution_count": 20,
   "id": "abb4d8df",
   "metadata": {},
   "outputs": [
    {
     "name": "stdout",
     "output_type": "stream",
     "text": [
      "Epoch 1/10\n",
      "\u001b[1m1/1\u001b[0m \u001b[32m━━━━━━━━━━━━━━━━━━━━\u001b[0m\u001b[37m\u001b[0m \u001b[1m1s\u001b[0m 1s/step - accuracy: 0.2941 - loss: 0.9694 - val_accuracy: 0.6471 - val_loss: 0.6793\n",
      "Epoch 2/10\n",
      "\u001b[1m1/1\u001b[0m \u001b[32m━━━━━━━━━━━━━━━━━━━━\u001b[0m\u001b[37m\u001b[0m \u001b[1m0s\u001b[0m 60ms/step - accuracy: 0.2941 - loss: 0.7296 - val_accuracy: 0.2941 - val_loss: 0.8608\n",
      "Epoch 3/10\n",
      "\u001b[1m1/1\u001b[0m \u001b[32m━━━━━━━━━━━━━━━━━━━━\u001b[0m\u001b[37m\u001b[0m \u001b[1m0s\u001b[0m 60ms/step - accuracy: 0.7059 - loss: 0.6132 - val_accuracy: 0.2941 - val_loss: 1.1009\n",
      "Epoch 4/10\n",
      "\u001b[1m1/1\u001b[0m \u001b[32m━━━━━━━━━━━━━━━━━━━━\u001b[0m\u001b[37m\u001b[0m \u001b[1m0s\u001b[0m 52ms/step - accuracy: 0.7059 - loss: 0.5950 - val_accuracy: 0.2941 - val_loss: 1.3295\n",
      "Epoch 5/10\n",
      "\u001b[1m1/1\u001b[0m \u001b[32m━━━━━━━━━━━━━━━━━━━━\u001b[0m\u001b[37m\u001b[0m \u001b[1m0s\u001b[0m 67ms/step - accuracy: 0.7059 - loss: 0.6251 - val_accuracy: 0.2941 - val_loss: 1.4959\n",
      "Epoch 6/10\n",
      "\u001b[1m1/1\u001b[0m \u001b[32m━━━━━━━━━━━━━━━━━━━━\u001b[0m\u001b[37m\u001b[0m \u001b[1m0s\u001b[0m 63ms/step - accuracy: 0.7059 - loss: 0.6596 - val_accuracy: 0.2941 - val_loss: 1.5876\n",
      "Epoch 7/10\n",
      "\u001b[1m1/1\u001b[0m \u001b[32m━━━━━━━━━━━━━━━━━━━━\u001b[0m\u001b[37m\u001b[0m \u001b[1m0s\u001b[0m 61ms/step - accuracy: 0.7059 - loss: 0.6810 - val_accuracy: 0.2941 - val_loss: 1.6106\n",
      "Epoch 8/10\n",
      "\u001b[1m1/1\u001b[0m \u001b[32m━━━━━━━━━━━━━━━━━━━━\u001b[0m\u001b[37m\u001b[0m \u001b[1m0s\u001b[0m 66ms/step - accuracy: 0.7059 - loss: 0.6859 - val_accuracy: 0.2941 - val_loss: 1.5778\n",
      "Epoch 9/10\n",
      "\u001b[1m1/1\u001b[0m \u001b[32m━━━━━━━━━━━━━━━━━━━━\u001b[0m\u001b[37m\u001b[0m \u001b[1m0s\u001b[0m 70ms/step - accuracy: 0.7059 - loss: 0.6764 - val_accuracy: 0.2941 - val_loss: 1.5036\n",
      "Epoch 10/10\n",
      "\u001b[1m1/1\u001b[0m \u001b[32m━━━━━━━━━━━━━━━━━━━━\u001b[0m\u001b[37m\u001b[0m \u001b[1m0s\u001b[0m 71ms/step - accuracy: 0.7059 - loss: 0.6569 - val_accuracy: 0.2941 - val_loss: 1.4022\n"
     ]
    },
    {
     "data": {
      "text/plain": [
       "<keras.src.callbacks.history.History at 0x1cb545aa260>"
      ]
     },
     "execution_count": 20,
     "metadata": {},
     "output_type": "execute_result"
    }
   ],
   "source": [
    "# you have to compile the model so that it runs faster\n",
    "model.compile(optimizer='adam', loss='categorical_crossentropy', metrics=['accuracy'])\n",
    "\n",
    "from tensorflow.keras.utils import to_categorical\n",
    "y_train_one_hot = to_categorical(y_train, num_classes)\n",
    "y_test_one_hot = to_categorical(y_test, num_classes)\n",
    "model.fit(X_train, y_train_one_hot, epochs=10, batch_size=32, validation_data=(X_test, y_test_one_hot))"
   ]
  },
  {
   "cell_type": "code",
   "execution_count": 21,
   "id": "be612496",
   "metadata": {},
   "outputs": [
    {
     "name": "stdout",
     "output_type": "stream",
     "text": [
      "\u001b[1m1/1\u001b[0m \u001b[32m━━━━━━━━━━━━━━━━━━━━\u001b[0m\u001b[37m\u001b[0m \u001b[1m0s\u001b[0m 63ms/step\n",
      "              precision    recall  f1-score   support\n",
      "\n",
      "           0       0.29      1.00      0.45         5\n",
      "           1       0.00      0.00      0.00        12\n",
      "\n",
      "    accuracy                           0.29        17\n",
      "   macro avg       0.15      0.50      0.23        17\n",
      "weighted avg       0.09      0.29      0.13        17\n",
      "\n"
     ]
    },
    {
     "name": "stderr",
     "output_type": "stream",
     "text": [
      "C:\\Users\\t_ziemer\\AppData\\Local\\Programs\\Python\\Python310\\lib\\site-packages\\sklearn\\metrics\\_classification.py:1334: UndefinedMetricWarning: Precision and F-score are ill-defined and being set to 0.0 in labels with no predicted samples. Use `zero_division` parameter to control this behavior.\n",
      "  _warn_prf(average, modifier, msg_start, len(result))\n",
      "C:\\Users\\t_ziemer\\AppData\\Local\\Programs\\Python\\Python310\\lib\\site-packages\\sklearn\\metrics\\_classification.py:1334: UndefinedMetricWarning: Precision and F-score are ill-defined and being set to 0.0 in labels with no predicted samples. Use `zero_division` parameter to control this behavior.\n",
      "  _warn_prf(average, modifier, msg_start, len(result))\n",
      "C:\\Users\\t_ziemer\\AppData\\Local\\Programs\\Python\\Python310\\lib\\site-packages\\sklearn\\metrics\\_classification.py:1334: UndefinedMetricWarning: Precision and F-score are ill-defined and being set to 0.0 in labels with no predicted samples. Use `zero_division` parameter to control this behavior.\n",
      "  _warn_prf(average, modifier, msg_start, len(result))\n"
     ]
    },
    {
     "data": {
      "image/png": "[encoded data removed]",
      "text/plain": [
       "<Figure size 800x600 with 2 Axes>"
      ]
     },
     "metadata": {},
     "output_type": "display_data"
    }
   ],
   "source": [
    "y_pred_test = model.predict(X_test)\n",
    "y_pred_test_classes = y_pred_test.argmax(axis=1)\n",
    "\n",
    "# Convert one-hot encoded y_true_test to class labels\n",
    "y_true_test_classes = y_test_one_hot.argmax(axis=1)\n",
    "\n",
    "# Display classification report\n",
    "print(classification_report(y_true_test_classes, y_pred_test_classes))\n",
    "\n",
    "conf_matrix = confusion_matrix(y_true_test_classes, y_pred_test_classes)\n",
    "\n",
    "import numpy as np\n",
    "import matplotlib.pyplot as plt\n",
    "import seaborn as sns\n",
    "from sklearn.metrics import confusion_matrix\n",
    "\n",
    "# Create a heatmap for visualization\n",
    "plt.figure(figsize=(8, 6))\n",
    "sns.heatmap(conf_matrix, annot=True, fmt='d', cmap='viridis', xticklabels=labels, yticklabels=labels)\n",
    "plt.xlabel('Predicted labels')\n",
    "plt.ylabel('True labels')\n",
    "plt.title('Confusion Matrix')\n",
    "plt.show()"
   ]
  }
 ],
 "metadata": {
  "kernelspec": {
   "display_name": "Python 3 (ipykernel)",
   "language": "python",
   "name": "python3"
  },
  "language_info": {
   "codemirror_mode": {
    "name": "ipython",
    "version": 3
   },
   "file_extension": ".py",
   "mimetype": "text/x-python",
   "name": "python",
   "nbconvert_exporter": "python",
   "pygments_lexer": "ipython3",
   "version": "3.10.7"
  }
 },
 "nbformat": 4,
 "nbformat_minor": 5
}
