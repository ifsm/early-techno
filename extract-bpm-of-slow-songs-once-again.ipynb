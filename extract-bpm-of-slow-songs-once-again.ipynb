{
 "cells": [
  {
   "cell_type": "code",
   "execution_count": 1,
   "id": "48fab325",
   "metadata": {},
   "outputs": [],
   "source": [
    "import os\n",
    "import glob\n",
    "import shutil\n",
    "from pathlib import Path"
   ]
  },
  {
   "cell_type": "markdown",
   "id": "276bf41c",
   "metadata": {},
   "source": [
    "BPM-Detector Function:"
   ]
  },
  {
   "cell_type": "code",
   "execution_count": 2,
   "id": "0ca0a0ac",
   "metadata": {},
   "outputs": [],
   "source": [
    "import scipy\n",
    "import numpy as np\n",
    "import statistics\n",
    "from scipy.signal import find_peaks\n",
    "def find_relative_peaks(autocorr,sr):\n",
    "    # Find peaks in the autocorrelation function\n",
    "    peaks, _ = find_peaks(autocorr, height=.6,distance=int(sr*60/240),width=[0,12])#!?! may I need to raise or reduce? Do I need another option, like distance=217\n",
    "    # Plot the autocorrelation function with detected peaks\n",
    "    #plt.plot(autocorr)\n",
    "    #plt.plot(peaks, autocorr[peaks], 'x', color='red')\n",
    "    #plt.title('Autocorrelation Function with Peaks')\n",
    "    #plt.xlabel('Lag')\n",
    "    #plt.ylabel('Autocorrelation')\n",
    "    #plt.show()\n",
    "    return peaks\n",
    "\n",
    "def estimate_bpm(leftds,sr):\n",
    "    histo=[]\n",
    "    n=18# number of tested frames\n",
    "    #plt.plot(leftds)# plot whole song time series\n",
    "    for est in range(n-1):#start a loop to extract bpm from n time frames\n",
    "        core = leftds[int(len(leftds)*est/n):int(len(leftds)*est/n+sr/2)]\n",
    "        # plt.plot(core)# plot core time series\n",
    "        signal = leftds[int(len(leftds)*est/n):int(len(leftds)*est/n)+2*sr]\n",
    "        #plt.plot(signal)# plot comparison signal time series\n",
    "        autocorr = scipy.signal.correlate(core, signal, mode='valid')\n",
    "        autocorr /= np.max(np.abs(autocorr))\n",
    "        #print(len(autocorr))\n",
    "        #lags = np.arange(len(autocorr))\n",
    "        #plt.plot(lags, autocorr, label='Autocorrelation', color='green')\n",
    "        relative_peaks = find_relative_peaks(autocorr,sr)\n",
    "        #print(relative_peaks)\n",
    "        bpm_hist=[]\n",
    "        #lags_in_seconds = relative_peaks / 1378.13\n",
    "        #print(lags_in_seconds)\n",
    "        if len(relative_peaks)>1:\n",
    "            for sub in range(len(relative_peaks)-1):\n",
    "                beats=int(60*sr/(relative_peaks[sub+1]-relative_peaks[sub]))\n",
    "                if beats < 90:\n",
    "                    beats=beats*2\n",
    "                if beats > 200:\n",
    "                    beats=int(beats/2)\n",
    "                #print(beats)\n",
    "                histo.append(beats)\n",
    "    mean_value = sum(histo) / len(histo)\n",
    "# Define 60% and 140% of the mean\n",
    "    low = 0.6 * mean_value\n",
    "    up = 1.4 * mean_value\n",
    "    modified_values = []\n",
    "    for value in histo:\n",
    "        if value < low:\n",
    "            modified_values.append(value * 2)  # Double the value\n",
    "        elif value < up:\n",
    "            modified_values.append(value)  # Keep the value unchanged   \n",
    "    #print(modified_values)\n",
    "    return modified_values"
   ]
  },
  {
   "cell_type": "markdown",
   "id": "ec739a2d",
   "metadata": {},
   "source": [
    "Find CSV files to import, modify and export, and audio files to analyze:"
   ]
  },
  {
   "cell_type": "code",
   "execution_count": 3,
   "id": "60f2d1de",
   "metadata": {},
   "outputs": [],
   "source": [
    "#csvlist = []\n",
    "csvpath = r'C:\\Users\\t_ziemer\\Desktop\\techno-csv\\germany'#file path that contains all csv files\n",
    "#for file in files:\n",
    "#    csvlist.append(os.path.join(csvroot,file))"
   ]
  },
  {
   "cell_type": "code",
   "execution_count": 4,
   "id": "59347315",
   "metadata": {},
   "outputs": [],
   "source": [
    "import librosa\n",
    "import warnings\n",
    "from matplotlib import pyplot as plt\n",
    "\n",
    "mp3list = []\n",
    "mp3names= []\n",
    "targetpath = r'C:\\Users\\t_ziemer\\Desktop\\techno-test\\germanycsv'\n",
    "path = r'C:\\Users\\t_ziemer\\Desktop\\techno-test\\Germany'#file path that contains all mp3 files to be analyzed\n",
    "for root, dirs, files in os.walk(path):#loop to list all file paths\n",
    "    for file in files:\n",
    "        mp3list.append(os.path.join(root,file))\n",
    "        mp3names.append(file)"
   ]
  },
  {
   "cell_type": "markdown",
   "id": "ce9e2908",
   "metadata": {},
   "source": [
    "check if you find the csv of the respective audio:"
   ]
  },
  {
   "cell_type": "code",
   "execution_count": 10,
   "id": "c9b1a137",
   "metadata": {
    "scrolled": true
   },
   "outputs": [
    {
     "name": "stderr",
     "output_type": "stream",
     "text": [
      "C:\\Users\\t_ziemer\\AppData\\Local\\Programs\\Python\\Python310\\lib\\site-packages\\librosa\\util\\decorators.py:88: UserWarning: PySoundFile failed. Trying audioread instead.\n",
      "  return f(*args, **kwargs)\n"
     ]
    },
    {
     "name": "stdout",
     "output_type": "stream",
     "text": [
      "128\n",
      "C:\\Users\\t_ziemer\\Desktop\\techno-test\\germanycsv\\1000 Micro Dats - The Centre (Tuned Mix) (1993).m4a.csv\n",
      "cool\n"
     ]
    },
    {
     "name": "stderr",
     "output_type": "stream",
     "text": [
      "C:\\Users\\t_ziemer\\AppData\\Local\\Programs\\Python\\Python310\\lib\\site-packages\\librosa\\util\\decorators.py:88: UserWarning: PySoundFile failed. Trying audioread instead.\n",
      "  return f(*args, **kwargs)\n"
     ]
    },
    {
     "name": "stdout",
     "output_type": "stream",
     "text": [
      "138\n",
      "C:\\Users\\t_ziemer\\Desktop\\techno-test\\germanycsv\\2Hard Out On Hi - One Good Nite On Hi (1988).m4a.csv\n",
      "cool\n"
     ]
    },
    {
     "name": "stderr",
     "output_type": "stream",
     "text": [
      "C:\\Users\\t_ziemer\\AppData\\Local\\Programs\\Python\\Python310\\lib\\site-packages\\librosa\\util\\decorators.py:88: UserWarning: PySoundFile failed. Trying audioread instead.\n",
      "  return f(*args, **kwargs)\n"
     ]
    },
    {
     "name": "stdout",
     "output_type": "stream",
     "text": [
      "119\n",
      "C:\\Users\\t_ziemer\\Desktop\\techno-test\\germanycsv\\3 Of The Living - Rhythm Of Life (Chill-out) (1993).m4a.csv\n",
      "cool\n"
     ]
    },
    {
     "name": "stderr",
     "output_type": "stream",
     "text": [
      "C:\\Users\\t_ziemer\\AppData\\Local\\Programs\\Python\\Python310\\lib\\site-packages\\librosa\\util\\decorators.py:88: UserWarning: PySoundFile failed. Trying audioread instead.\n",
      "  return f(*args, **kwargs)\n"
     ]
    },
    {
     "name": "stdout",
     "output_type": "stream",
     "text": [
      "148\n",
      "C:\\Users\\t_ziemer\\Desktop\\techno-test\\germanycsv\\4 Reeves - Jumpin' (1992).m4a.csv\n",
      "cool\n"
     ]
    },
    {
     "name": "stderr",
     "output_type": "stream",
     "text": [
      "C:\\Users\\t_ziemer\\AppData\\Local\\Programs\\Python\\Python310\\lib\\site-packages\\librosa\\util\\decorators.py:88: UserWarning: PySoundFile failed. Trying audioread instead.\n",
      "  return f(*args, **kwargs)\n"
     ]
    },
    {
     "name": "stdout",
     "output_type": "stream",
     "text": [
      "136\n",
      "C:\\Users\\t_ziemer\\Desktop\\techno-test\\germanycsv\\Acid Jesus - Disappear (1993).m4a.csv\n",
      "cool\n",
      "131\n",
      "C:\\Users\\t_ziemer\\Desktop\\techno-test\\germanycsv\\Acid Jesus - Fairchild (1993).mp3.csv\n",
      "cool\n"
     ]
    },
    {
     "name": "stderr",
     "output_type": "stream",
     "text": [
      "C:\\Users\\t_ziemer\\AppData\\Local\\Programs\\Python\\Python310\\lib\\site-packages\\librosa\\util\\decorators.py:88: UserWarning: PySoundFile failed. Trying audioread instead.\n",
      "  return f(*args, **kwargs)\n"
     ]
    },
    {
     "name": "stdout",
     "output_type": "stream",
     "text": [
      "127\n",
      "C:\\Users\\t_ziemer\\Desktop\\techno-test\\germanycsv\\Acid Jesus - Faith In Acid (1993).m4a.csv\n",
      "cool\n",
      "127\n",
      "C:\\Users\\t_ziemer\\Desktop\\techno-test\\germanycsv\\Acid Jesus - H. A. L. (1993).mp3.csv\n",
      "cool\n"
     ]
    },
    {
     "name": "stderr",
     "output_type": "stream",
     "text": [
      "C:\\Users\\t_ziemer\\AppData\\Local\\Programs\\Python\\Python310\\lib\\site-packages\\librosa\\util\\decorators.py:88: UserWarning: PySoundFile failed. Trying audioread instead.\n",
      "  return f(*args, **kwargs)\n"
     ]
    },
    {
     "name": "stdout",
     "output_type": "stream",
     "text": [
      "111\n",
      "C:\\Users\\t_ziemer\\Desktop\\techno-test\\germanycsv\\Acid Jesus - Jesus (1993).m4a.csv\n",
      "cool\n"
     ]
    },
    {
     "name": "stderr",
     "output_type": "stream",
     "text": [
      "C:\\Users\\t_ziemer\\AppData\\Local\\Programs\\Python\\Python310\\lib\\site-packages\\librosa\\util\\decorators.py:88: UserWarning: PySoundFile failed. Trying audioread instead.\n",
      "  return f(*args, **kwargs)\n"
     ]
    },
    {
     "name": "stdout",
     "output_type": "stream",
     "text": [
      "127\n",
      "C:\\Users\\t_ziemer\\Desktop\\techno-test\\germanycsv\\Acid Jesus - MF 2 (1993).m4a.csv\n",
      "cool\n"
     ]
    },
    {
     "name": "stderr",
     "output_type": "stream",
     "text": [
      "C:\\Users\\t_ziemer\\AppData\\Local\\Programs\\Python\\Python310\\lib\\site-packages\\librosa\\util\\decorators.py:88: UserWarning: PySoundFile failed. Trying audioread instead.\n",
      "  return f(*args, **kwargs)\n"
     ]
    },
    {
     "name": "stdout",
     "output_type": "stream",
     "text": [
      "127\n",
      "C:\\Users\\t_ziemer\\Desktop\\techno-test\\germanycsv\\Acid Jesus - Move My Body (1993).m4a.csv\n",
      "cool\n"
     ]
    },
    {
     "name": "stderr",
     "output_type": "stream",
     "text": [
      "C:\\Users\\t_ziemer\\AppData\\Local\\Programs\\Python\\Python310\\lib\\site-packages\\librosa\\util\\decorators.py:88: UserWarning: PySoundFile failed. Trying audioread instead.\n",
      "  return f(*args, **kwargs)\n"
     ]
    },
    {
     "name": "stdout",
     "output_type": "stream",
     "text": [
      "129\n",
      "C:\\Users\\t_ziemer\\Desktop\\techno-test\\germanycsv\\Acid Jesus - Mulunga (1993).m4a.csv\n",
      "cool\n"
     ]
    },
    {
     "name": "stderr",
     "output_type": "stream",
     "text": [
      "C:\\Users\\t_ziemer\\AppData\\Local\\Programs\\Python\\Python310\\lib\\site-packages\\librosa\\util\\decorators.py:88: UserWarning: PySoundFile failed. Trying audioread instead.\n",
      "  return f(*args, **kwargs)\n"
     ]
    },
    {
     "name": "stdout",
     "output_type": "stream",
     "text": [
      "106\n",
      "C:\\Users\\t_ziemer\\Desktop\\techno-test\\germanycsv\\Acid Jesus - On The Couch (1993).m4a.csv\n",
      "cool\n"
     ]
    },
    {
     "name": "stderr",
     "output_type": "stream",
     "text": [
      "C:\\Users\\t_ziemer\\AppData\\Local\\Programs\\Python\\Python310\\lib\\site-packages\\librosa\\util\\decorators.py:88: UserWarning: PySoundFile failed. Trying audioread instead.\n",
      "  return f(*args, **kwargs)\n"
     ]
    },
    {
     "name": "stdout",
     "output_type": "stream",
     "text": [
      "134\n",
      "C:\\Users\\t_ziemer\\Desktop\\techno-test\\germanycsv\\Acid Jesus - Razzblaster (1993).m4a.csv\n",
      "cool\n"
     ]
    },
    {
     "name": "stderr",
     "output_type": "stream",
     "text": [
      "C:\\Users\\t_ziemer\\AppData\\Local\\Programs\\Python\\Python310\\lib\\site-packages\\librosa\\util\\decorators.py:88: UserWarning: PySoundFile failed. Trying audioread instead.\n",
      "  return f(*args, **kwargs)\n"
     ]
    },
    {
     "name": "stdout",
     "output_type": "stream",
     "text": [
      "118\n",
      "C:\\Users\\t_ziemer\\Desktop\\techno-test\\germanycsv\\Acid Jesus - Starseed (1994).m4a.csv\n",
      "cool\n",
      "135\n",
      "C:\\Users\\t_ziemer\\Desktop\\techno-test\\germanycsv\\Acid Scout - Acid Marathon 4 (1994).mp3.csv\n",
      "cool\n"
     ]
    },
    {
     "name": "stderr",
     "output_type": "stream",
     "text": [
      "C:\\Users\\t_ziemer\\AppData\\Local\\Programs\\Python\\Python310\\lib\\site-packages\\librosa\\util\\decorators.py:88: UserWarning: PySoundFile failed. Trying audioread instead.\n",
      "  return f(*args, **kwargs)\n"
     ]
    },
    {
     "name": "stdout",
     "output_type": "stream",
     "text": [
      "153\n",
      "C:\\Users\\t_ziemer\\Desktop\\techno-test\\germanycsv\\Acid Scout - Balance (1994).m4a.csv\n",
      "cool\n",
      "120\n",
      "C:\\Users\\t_ziemer\\Desktop\\techno-test\\germanycsv\\Acid Scout - Clock Seven (1994).mp3.csv\n",
      "cool\n"
     ]
    },
    {
     "name": "stderr",
     "output_type": "stream",
     "text": [
      "C:\\Users\\t_ziemer\\AppData\\Local\\Programs\\Python\\Python310\\lib\\site-packages\\librosa\\util\\decorators.py:88: UserWarning: PySoundFile failed. Trying audioread instead.\n",
      "  return f(*args, **kwargs)\n"
     ]
    },
    {
     "name": "stdout",
     "output_type": "stream",
     "text": [
      "128\n",
      "C:\\Users\\t_ziemer\\Desktop\\techno-test\\germanycsv\\Acid-Pin-Ups - Betty 101 (1994).m4a.csv\n",
      "cool\n",
      "144\n",
      "C:\\Users\\t_ziemer\\Desktop\\techno-test\\germanycsv\\Acid-Pin-Ups - Cathleen 909 (1994).opus.csv\n",
      "cool\n",
      "129\n",
      "C:\\Users\\t_ziemer\\Desktop\\techno-test\\germanycsv\\Acid-Pin-Ups - Heather 202 (1994).opus.csv\n",
      "cool\n",
      "170\n",
      "C:\\Users\\t_ziemer\\Desktop\\techno-test\\germanycsv\\Acid-Pin-Ups - Ivonne 808 (1994).opus.csv\n",
      "cool\n"
     ]
    },
    {
     "name": "stderr",
     "output_type": "stream",
     "text": [
      "C:\\Users\\t_ziemer\\AppData\\Local\\Programs\\Python\\Python310\\lib\\site-packages\\librosa\\util\\decorators.py:88: UserWarning: PySoundFile failed. Trying audioread instead.\n",
      "  return f(*args, **kwargs)\n"
     ]
    },
    {
     "name": "stdout",
     "output_type": "stream",
     "text": [
      "125\n",
      "C:\\Users\\t_ziemer\\Desktop\\techno-test\\germanycsv\\Acrid Abeyance - Dynamique Twins (Remix) (1994).m4a.csv\n",
      "cool\n"
     ]
    },
    {
     "name": "stderr",
     "output_type": "stream",
     "text": [
      "C:\\Users\\t_ziemer\\AppData\\Local\\Programs\\Python\\Python310\\lib\\site-packages\\librosa\\util\\decorators.py:88: UserWarning: PySoundFile failed. Trying audioread instead.\n",
      "  return f(*args, **kwargs)\n"
     ]
    },
    {
     "name": "stdout",
     "output_type": "stream",
     "text": [
      "129\n",
      "C:\\Users\\t_ziemer\\Desktop\\techno-test\\germanycsv\\Acrid Abeyance - Pacific Pace (1994).m4a.csv\n",
      "cool\n",
      "134\n",
      "C:\\Users\\t_ziemer\\Desktop\\techno-test\\germanycsv\\Acrid Abeyance - Resograde (1994).opus.csv\n",
      "cool\n"
     ]
    },
    {
     "name": "stderr",
     "output_type": "stream",
     "text": [
      "C:\\Users\\t_ziemer\\AppData\\Local\\Programs\\Python\\Python310\\lib\\site-packages\\librosa\\util\\decorators.py:88: UserWarning: PySoundFile failed. Trying audioread instead.\n",
      "  return f(*args, **kwargs)\n"
     ]
    },
    {
     "name": "stdout",
     "output_type": "stream",
     "text": [
      "122\n",
      "C:\\Users\\t_ziemer\\Desktop\\techno-test\\germanycsv\\Acrid Abeyance - Tranquil (1993).m4a.csv\n",
      "cool\n",
      "130\n",
      "C:\\Users\\t_ziemer\\Desktop\\techno-test\\germanycsv\\Afrotrance - Deep Into The Dream (1993).opus.csv\n",
      "cool\n"
     ]
    },
    {
     "name": "stderr",
     "output_type": "stream",
     "text": [
      "C:\\Users\\t_ziemer\\AppData\\Local\\Programs\\Python\\Python310\\lib\\site-packages\\librosa\\util\\decorators.py:88: UserWarning: PySoundFile failed. Trying audioread instead.\n",
      "  return f(*args, **kwargs)\n"
     ]
    },
    {
     "name": "stdout",
     "output_type": "stream",
     "text": [
      "137\n",
      "C:\\Users\\t_ziemer\\Desktop\\techno-test\\germanycsv\\Afrotrance - Flying Dreams - (1993).m4a.csv\n",
      "cool\n",
      "139\n",
      "C:\\Users\\t_ziemer\\Desktop\\techno-test\\germanycsv\\Age - Brainwash (1994).opus.csv\n",
      "cool\n"
     ]
    },
    {
     "name": "stderr",
     "output_type": "stream",
     "text": [
      "C:\\Users\\t_ziemer\\AppData\\Local\\Programs\\Python\\Python310\\lib\\site-packages\\librosa\\util\\decorators.py:88: UserWarning: PySoundFile failed. Trying audioread instead.\n",
      "  return f(*args, **kwargs)\n"
     ]
    },
    {
     "name": "stdout",
     "output_type": "stream",
     "text": [
      "107\n",
      "C:\\Users\\t_ziemer\\Desktop\\techno-test\\germanycsv\\Age - Lagrange Point L 5 (1994).m4a.csv\n",
      "cool\n"
     ]
    },
    {
     "name": "stderr",
     "output_type": "stream",
     "text": [
      "C:\\Users\\t_ziemer\\AppData\\Local\\Programs\\Python\\Python310\\lib\\site-packages\\librosa\\util\\decorators.py:88: UserWarning: PySoundFile failed. Trying audioread instead.\n",
      "  return f(*args, **kwargs)\n"
     ]
    },
    {
     "name": "stdout",
     "output_type": "stream",
     "text": [
      "shit!\n",
      "128\n",
      "C:\\Users\\t_ziemer\\Desktop\\techno-test\\germanycsv\\Age - Skydiver (Demo Version) (1994).opus.csv\n",
      "cool\n"
     ]
    },
    {
     "name": "stderr",
     "output_type": "stream",
     "text": [
      "C:\\Users\\t_ziemer\\AppData\\Local\\Programs\\Python\\Python310\\lib\\site-packages\\librosa\\util\\decorators.py:88: UserWarning: PySoundFile failed. Trying audioread instead.\n",
      "  return f(*args, **kwargs)\n"
     ]
    },
    {
     "name": "stdout",
     "output_type": "stream",
     "text": [
      "shit!\n",
      "138\n",
      "C:\\Users\\t_ziemer\\Desktop\\techno-test\\germanycsv\\Air Liquide - Ek-Stasis (1994).m4a.csv\n",
      "cool\n"
     ]
    },
    {
     "name": "stderr",
     "output_type": "stream",
     "text": [
      "C:\\Users\\t_ziemer\\AppData\\Local\\Programs\\Python\\Python310\\lib\\site-packages\\librosa\\util\\decorators.py:88: UserWarning: PySoundFile failed. Trying audioread instead.\n",
      "  return f(*args, **kwargs)\n"
     ]
    },
    {
     "name": "stdout",
     "output_type": "stream",
     "text": [
      "126\n",
      "C:\\Users\\t_ziemer\\Desktop\\techno-test\\germanycsv\\Air Liquide - If There Was No Gravity (1994).m4a.csv\n",
      "cool\n"
     ]
    },
    {
     "name": "stderr",
     "output_type": "stream",
     "text": [
      "C:\\Users\\t_ziemer\\AppData\\Local\\Programs\\Python\\Python310\\lib\\site-packages\\librosa\\util\\decorators.py:88: UserWarning: PySoundFile failed. Trying audioread instead.\n",
      "  return f(*args, **kwargs)\n"
     ]
    },
    {
     "name": "stdout",
     "output_type": "stream",
     "text": [
      "98\n",
      "C:\\Users\\t_ziemer\\Desktop\\techno-test\\germanycsv\\Air Liquide - Robot Wars (Combat Zone Part I) (1994).m4a.csv\n",
      "cool\n"
     ]
    },
    {
     "name": "stderr",
     "output_type": "stream",
     "text": [
      "C:\\Users\\t_ziemer\\AppData\\Local\\Programs\\Python\\Python310\\lib\\site-packages\\librosa\\util\\decorators.py:88: UserWarning: PySoundFile failed. Trying audioread instead.\n",
      "  return f(*args, **kwargs)\n"
     ]
    },
    {
     "name": "stdout",
     "output_type": "stream",
     "text": [
      "108\n",
      "C:\\Users\\t_ziemer\\Desktop\\techno-test\\germanycsv\\Air Liquide - Robot Wars (Combat Zone Part II) (1994).m4a.csv\n",
      "cool\n"
     ]
    },
    {
     "name": "stderr",
     "output_type": "stream",
     "text": [
      "C:\\Users\\t_ziemer\\AppData\\Local\\Programs\\Python\\Python310\\lib\\site-packages\\librosa\\util\\decorators.py:88: UserWarning: PySoundFile failed. Trying audioread instead.\n",
      "  return f(*args, **kwargs)\n"
     ]
    },
    {
     "name": "stdout",
     "output_type": "stream",
     "text": [
      "131\n",
      "C:\\Users\\t_ziemer\\Desktop\\techno-test\\germanycsv\\Air Liquide - Sonority Canon (1994).m4a.csv\n",
      "cool\n"
     ]
    },
    {
     "name": "stderr",
     "output_type": "stream",
     "text": [
      "C:\\Users\\t_ziemer\\AppData\\Local\\Programs\\Python\\Python310\\lib\\site-packages\\librosa\\util\\decorators.py:88: UserWarning: PySoundFile failed. Trying audioread instead.\n",
      "  return f(*args, **kwargs)\n"
     ]
    },
    {
     "name": "stdout",
     "output_type": "stream",
     "text": [
      "120\n",
      "C:\\Users\\t_ziemer\\Desktop\\techno-test\\germanycsv\\Air Liquide - Space Brothers (1994).m4a.csv\n",
      "cool\n"
     ]
    },
    {
     "name": "stderr",
     "output_type": "stream",
     "text": [
      "C:\\Users\\t_ziemer\\AppData\\Local\\Programs\\Python\\Python310\\lib\\site-packages\\librosa\\util\\decorators.py:88: UserWarning: PySoundFile failed. Trying audioread instead.\n",
      "  return f(*args, **kwargs)\n"
     ]
    },
    {
     "name": "stdout",
     "output_type": "stream",
     "text": [
      "99\n",
      "C:\\Users\\t_ziemer\\Desktop\\techno-test\\germanycsv\\Air Liquide - The Increased Difficulty Of Concentration (1994).m4a.csv\n",
      "cool\n"
     ]
    },
    {
     "name": "stderr",
     "output_type": "stream",
     "text": [
      "C:\\Users\\t_ziemer\\AppData\\Local\\Programs\\Python\\Python310\\lib\\site-packages\\librosa\\util\\decorators.py:88: UserWarning: PySoundFile failed. Trying audioread instead.\n",
      "  return f(*args, **kwargs)\n"
     ]
    },
    {
     "name": "stdout",
     "output_type": "stream",
     "text": [
      "124\n",
      "C:\\Users\\t_ziemer\\Desktop\\techno-test\\germanycsv\\Air Liquide - THX Is On (1994).m4a.csv\n",
      "cool\n"
     ]
    },
    {
     "name": "stderr",
     "output_type": "stream",
     "text": [
      "C:\\Users\\t_ziemer\\AppData\\Local\\Programs\\Python\\Python310\\lib\\site-packages\\librosa\\util\\decorators.py:88: UserWarning: PySoundFile failed. Trying audioread instead.\n",
      "  return f(*args, **kwargs)\n"
     ]
    },
    {
     "name": "stdout",
     "output_type": "stream",
     "text": [
      "127\n",
      "C:\\Users\\t_ziemer\\Desktop\\techno-test\\germanycsv\\Alien Christ - Of Suns And Moons (Phase II) (1991).m4a.csv\n",
      "cool\n",
      "163\n",
      "C:\\Users\\t_ziemer\\Desktop\\techno-test\\germanycsv\\Alien Factory - Beta Music (Hanover Rmx) (1993).mp3.csv\n",
      "cool\n",
      "179\n",
      "C:\\Users\\t_ziemer\\Desktop\\techno-test\\germanycsv\\Alien Factory - Beta Music (Lo Budget Rmx) (1993).mp3.csv\n",
      "cool\n"
     ]
    },
    {
     "name": "stderr",
     "output_type": "stream",
     "text": [
      "C:\\Users\\t_ziemer\\AppData\\Local\\Programs\\Python\\Python310\\lib\\site-packages\\librosa\\util\\decorators.py:88: UserWarning: PySoundFile failed. Trying audioread instead.\n",
      "  return f(*args, **kwargs)\n"
     ]
    },
    {
     "name": "stdout",
     "output_type": "stream",
     "text": [
      "162\n",
      "C:\\Users\\t_ziemer\\Desktop\\techno-test\\germanycsv\\Alien Factory - Beta Music (UCT Rmx) (1993).m4a.csv\n",
      "cool\n",
      "165\n",
      "C:\\Users\\t_ziemer\\Desktop\\techno-test\\germanycsv\\Alien Factory - This Is Not A Daydream (1994).mp3.csv\n",
      "cool\n"
     ]
    },
    {
     "name": "stderr",
     "output_type": "stream",
     "text": [
      "C:\\Users\\t_ziemer\\AppData\\Local\\Programs\\Python\\Python310\\lib\\site-packages\\librosa\\util\\decorators.py:88: UserWarning: PySoundFile failed. Trying audioread instead.\n",
      "  return f(*args, **kwargs)\n"
     ]
    },
    {
     "name": "stdout",
     "output_type": "stream",
     "text": [
      "170\n",
      "C:\\Users\\t_ziemer\\Desktop\\techno-test\\germanycsv\\Alien Factory - Tomorrow (1994).m4a.csv\n",
      "cool\n"
     ]
    },
    {
     "name": "stderr",
     "output_type": "stream",
     "text": [
      "C:\\Users\\t_ziemer\\AppData\\Local\\Programs\\Python\\Python310\\lib\\site-packages\\librosa\\util\\decorators.py:88: UserWarning: PySoundFile failed. Trying audioread instead.\n",
      "  return f(*args, **kwargs)\n"
     ]
    },
    {
     "name": "stdout",
     "output_type": "stream",
     "text": [
      "164\n",
      "C:\\Users\\t_ziemer\\Desktop\\techno-test\\germanycsv\\Alien Factory - Tomorrow (Remix) (1994).m4a.csv\n",
      "cool\n"
     ]
    },
    {
     "name": "stderr",
     "output_type": "stream",
     "text": [
      "C:\\Users\\t_ziemer\\AppData\\Local\\Programs\\Python\\Python310\\lib\\site-packages\\librosa\\util\\decorators.py:88: UserWarning: PySoundFile failed. Trying audioread instead.\n",
      "  return f(*args, **kwargs)\n"
     ]
    },
    {
     "name": "stdout",
     "output_type": "stream",
     "text": [
      "150\n",
      "C:\\Users\\t_ziemer\\Desktop\\techno-test\\germanycsv\\Alien Factory - Tranquility (1993).m4a.csv\n",
      "cool\n"
     ]
    },
    {
     "name": "stderr",
     "output_type": "stream",
     "text": [
      "C:\\Users\\t_ziemer\\AppData\\Local\\Programs\\Python\\Python310\\lib\\site-packages\\librosa\\util\\decorators.py:88: UserWarning: PySoundFile failed. Trying audioread instead.\n",
      "  return f(*args, **kwargs)\n"
     ]
    },
    {
     "name": "stdout",
     "output_type": "stream",
     "text": [
      "109\n",
      "C:\\Users\\t_ziemer\\Desktop\\techno-test\\germanycsv\\Alter Ego - Soulfree (1994).m4a.csv\n",
      "cool\n",
      "164\n",
      "C:\\Users\\t_ziemer\\Desktop\\techno-test\\germanycsv\\Alter Ego - Tanks Ahead (1994).mp3.csv\n",
      "cool\n"
     ]
    },
    {
     "name": "stderr",
     "output_type": "stream",
     "text": [
      "C:\\Users\\t_ziemer\\AppData\\Local\\Programs\\Python\\Python310\\lib\\site-packages\\librosa\\util\\decorators.py:88: UserWarning: PySoundFile failed. Trying audioread instead.\n",
      "  return f(*args, **kwargs)\n"
     ]
    },
    {
     "name": "stdout",
     "output_type": "stream",
     "text": [
      "168\n",
      "C:\\Users\\t_ziemer\\Desktop\\techno-test\\germanycsv\\Alternate States - Nothing But Pain (1994).m4a.csv\n",
      "cool\n"
     ]
    },
    {
     "name": "stderr",
     "output_type": "stream",
     "text": [
      "C:\\Users\\t_ziemer\\AppData\\Local\\Programs\\Python\\Python310\\lib\\site-packages\\librosa\\util\\decorators.py:88: UserWarning: PySoundFile failed. Trying audioread instead.\n",
      "  return f(*args, **kwargs)\n"
     ]
    },
    {
     "name": "stdout",
     "output_type": "stream",
     "text": [
      "129\n",
      "C:\\Users\\t_ziemer\\Desktop\\techno-test\\germanycsv\\Amorph - Alien Voices (1994).m4a.csv\n",
      "cool\n",
      "179\n",
      "C:\\Users\\t_ziemer\\Desktop\\techno-test\\germanycsv\\Amorph - Lotos (1994).opus.csv\n",
      "cool\n"
     ]
    },
    {
     "name": "stderr",
     "output_type": "stream",
     "text": [
      "C:\\Users\\t_ziemer\\AppData\\Local\\Programs\\Python\\Python310\\lib\\site-packages\\librosa\\util\\decorators.py:88: UserWarning: PySoundFile failed. Trying audioread instead.\n",
      "  return f(*args, **kwargs)\n"
     ]
    },
    {
     "name": "stdout",
     "output_type": "stream",
     "text": [
      "125\n",
      "C:\\Users\\t_ziemer\\Desktop\\techno-test\\germanycsv\\Angel Heart - Far Far Away (Heart Core Mix) (1994).m4a.csv\n",
      "cool\n"
     ]
    },
    {
     "name": "stderr",
     "output_type": "stream",
     "text": [
      "C:\\Users\\t_ziemer\\AppData\\Local\\Programs\\Python\\Python310\\lib\\site-packages\\librosa\\util\\decorators.py:88: UserWarning: PySoundFile failed. Trying audioread instead.\n",
      "  return f(*args, **kwargs)\n"
     ]
    },
    {
     "name": "stdout",
     "output_type": "stream",
     "text": [
      "117\n",
      "C:\\Users\\t_ziemer\\Desktop\\techno-test\\germanycsv\\Anti Time - Free Recipe (Free Money Free Love) (1991).m4a.csv\n",
      "cool\n"
     ]
    },
    {
     "name": "stderr",
     "output_type": "stream",
     "text": [
      "C:\\Users\\t_ziemer\\AppData\\Local\\Programs\\Python\\Python310\\lib\\site-packages\\librosa\\util\\decorators.py:88: UserWarning: PySoundFile failed. Trying audioread instead.\n",
      "  return f(*args, **kwargs)\n"
     ]
    },
    {
     "name": "stdout",
     "output_type": "stream",
     "text": [
      "162\n",
      "C:\\Users\\t_ziemer\\Desktop\\techno-test\\germanycsv\\Arte Bionico - Bionico (1994).m4a.csv\n",
      "cool\n"
     ]
    },
    {
     "name": "stderr",
     "output_type": "stream",
     "text": [
      "C:\\Users\\t_ziemer\\AppData\\Local\\Programs\\Python\\Python310\\lib\\site-packages\\librosa\\util\\decorators.py:88: UserWarning: PySoundFile failed. Trying audioread instead.\n",
      "  return f(*args, **kwargs)\n"
     ]
    },
    {
     "name": "stdout",
     "output_type": "stream",
     "text": [
      "139\n",
      "C:\\Users\\t_ziemer\\Desktop\\techno-test\\germanycsv\\Arte Bionico - Neon Jungle (1994).m4a.csv\n",
      "cool\n"
     ]
    },
    {
     "name": "stderr",
     "output_type": "stream",
     "text": [
      "C:\\Users\\t_ziemer\\AppData\\Local\\Programs\\Python\\Python310\\lib\\site-packages\\librosa\\util\\decorators.py:88: UserWarning: PySoundFile failed. Trying audioread instead.\n",
      "  return f(*args, **kwargs)\n"
     ]
    },
    {
     "name": "stdout",
     "output_type": "stream",
     "text": [
      "179\n",
      "C:\\Users\\t_ziemer\\Desktop\\techno-test\\germanycsv\\Assi - Fred Gabberstein Loves Wilma (Slutty Nutty Mix) (1994).m4a.csv\n",
      "cool\n"
     ]
    },
    {
     "name": "stderr",
     "output_type": "stream",
     "text": [
      "C:\\Users\\t_ziemer\\AppData\\Local\\Programs\\Python\\Python310\\lib\\site-packages\\librosa\\util\\decorators.py:88: UserWarning: PySoundFile failed. Trying audioread instead.\n",
      "  return f(*args, **kwargs)\n"
     ]
    },
    {
     "name": "stdout",
     "output_type": "stream",
     "text": [
      "shit!\n",
      "124\n",
      "C:\\Users\\t_ziemer\\Desktop\\techno-test\\germanycsv\\Atom Heart - Milagro (1994).mp3.csv\n",
      "cool\n",
      "shit!\n",
      "154\n",
      "C:\\Users\\t_ziemer\\Desktop\\techno-test\\germanycsv\\Atom Heart - Rainecho (1994).mp3.csv\n",
      "cool\n"
     ]
    },
    {
     "name": "stderr",
     "output_type": "stream",
     "text": [
      "C:\\Users\\t_ziemer\\AppData\\Local\\Programs\\Python\\Python310\\lib\\site-packages\\librosa\\util\\decorators.py:88: UserWarning: PySoundFile failed. Trying audioread instead.\n",
      "  return f(*args, **kwargs)\n"
     ]
    },
    {
     "name": "stdout",
     "output_type": "stream",
     "text": [
      "131\n",
      "C:\\Users\\t_ziemer\\Desktop\\techno-test\\germanycsv\\Atom Heart - Spadix (1994).m4a.csv\n",
      "cool\n",
      "140\n",
      "C:\\Users\\t_ziemer\\Desktop\\techno-test\\germanycsv\\Aural Traxx - Brainworm (1994).opus.csv\n",
      "cool\n",
      "126\n",
      "C:\\Users\\t_ziemer\\Desktop\\techno-test\\germanycsv\\Aural Traxx - Phase 03a (1994).opus.csv\n",
      "cool\n",
      "134\n",
      "C:\\Users\\t_ziemer\\Desktop\\techno-test\\germanycsv\\B Movement - Godess Of Love (1992).mp3.csv\n",
      "cool\n",
      "126\n",
      "C:\\Users\\t_ziemer\\Desktop\\techno-test\\germanycsv\\B.G. The Prince of Rap - Can we get enough (1994).mp3.csv\n",
      "cool\n",
      "118\n",
      "C:\\Users\\t_ziemer\\Desktop\\techno-test\\germanycsv\\B.G. The Prince of Rap - Give me the music (1991).mp3.csv\n",
      "cool\n",
      "117\n",
      "C:\\Users\\t_ziemer\\Desktop\\techno-test\\germanycsv\\B.G. The Prince of Rap - Give me the music (Album version) (1991).mp3.csv\n",
      "cool\n",
      "118\n",
      "C:\\Users\\t_ziemer\\Desktop\\techno-test\\germanycsv\\B.G. The Prince of Rap - Give me the music (Dance devotion mix) (1991).mp3.csv\n",
      "cool\n",
      "118\n",
      "C:\\Users\\t_ziemer\\Desktop\\techno-test\\germanycsv\\B.G. The Prince of Rap - Giveme the music (Club devotion mix) (1991).mp3.csv\n",
      "cool\n",
      "129\n",
      "C:\\Users\\t_ziemer\\Desktop\\techno-test\\germanycsv\\B.G. The Prince of Rap - Miles away (1994).mp3.csv\n",
      "cool\n",
      "148\n",
      "C:\\Users\\t_ziemer\\Desktop\\techno-test\\germanycsv\\B.G. The Prince of Rap - Move to love (1991).mp3.csv\n",
      "cool\n",
      "106\n",
      "C:\\Users\\t_ziemer\\Desktop\\techno-test\\germanycsv\\B.G. The Prince of Rap - The power of rhythm (1991).mp3.csv\n",
      "cool\n",
      "90\n",
      "C:\\Users\\t_ziemer\\Desktop\\techno-test\\germanycsv\\B.G. The Prince of Rap - This beat is hot (1991).mp3.csv\n",
      "cool\n",
      "144\n",
      "C:\\Users\\t_ziemer\\Desktop\\techno-test\\germanycsv\\B.G. The Prince of Rap - This beat is hot (Hard'n'Heavy edit) (1991).mp3.csv\n",
      "cool\n"
     ]
    },
    {
     "name": "stderr",
     "output_type": "stream",
     "text": [
      "C:\\Users\\t_ziemer\\AppData\\Local\\Programs\\Python\\Python310\\lib\\site-packages\\librosa\\util\\decorators.py:88: UserWarning: PySoundFile failed. Trying audioread instead.\n",
      "  return f(*args, **kwargs)\n"
     ]
    },
    {
     "name": "stdout",
     "output_type": "stream",
     "text": [
      "150\n",
      "C:\\Users\\t_ziemer\\Desktop\\techno-test\\germanycsv\\B.G. The Prince Of Rap - This Beat Is Hot (Ultimix) (1992).m4a.csv\n",
      "cool\n",
      "180\n",
      "C:\\Users\\t_ziemer\\Desktop\\techno-test\\germanycsv\\Baphomet - Reconcile (1993).mp3.csv\n",
      "cool\n"
     ]
    },
    {
     "name": "stderr",
     "output_type": "stream",
     "text": [
      "C:\\Users\\t_ziemer\\AppData\\Local\\Programs\\Python\\Python310\\lib\\site-packages\\librosa\\util\\decorators.py:88: UserWarning: PySoundFile failed. Trying audioread instead.\n",
      "  return f(*args, **kwargs)\n"
     ]
    },
    {
     "name": "stdout",
     "output_type": "stream",
     "text": [
      "110\n",
      "C:\\Users\\t_ziemer\\Desktop\\techno-test\\germanycsv\\Bas Molendyk - Just Married (1994).m4a.csv\n",
      "cool\n"
     ]
    },
    {
     "name": "stderr",
     "output_type": "stream",
     "text": [
      "C:\\Users\\t_ziemer\\AppData\\Local\\Programs\\Python\\Python310\\lib\\site-packages\\librosa\\util\\decorators.py:88: UserWarning: PySoundFile failed. Trying audioread instead.\n",
      "  return f(*args, **kwargs)\n"
     ]
    },
    {
     "name": "stdout",
     "output_type": "stream",
     "text": [
      "129\n",
      "C:\\Users\\t_ziemer\\Desktop\\techno-test\\germanycsv\\Bass Bumpers - Move To The Rhythm (THK Remix) (1993).m4a.csv\n",
      "cool\n"
     ]
    },
    {
     "name": "stderr",
     "output_type": "stream",
     "text": [
      "C:\\Users\\t_ziemer\\AppData\\Local\\Programs\\Python\\Python310\\lib\\site-packages\\librosa\\util\\decorators.py:88: UserWarning: PySoundFile failed. Trying audioread instead.\n",
      "  return f(*args, **kwargs)\n"
     ]
    },
    {
     "name": "stdout",
     "output_type": "stream",
     "text": [
      "127\n",
      "C:\\Users\\t_ziemer\\Desktop\\techno-test\\germanycsv\\Be Zet - Blue Illusion (Flat Horizon Mix) (1994).m4a.csv\n",
      "cool\n"
     ]
    },
    {
     "name": "stderr",
     "output_type": "stream",
     "text": [
      "C:\\Users\\t_ziemer\\AppData\\Local\\Programs\\Python\\Python310\\lib\\site-packages\\librosa\\util\\decorators.py:88: UserWarning: PySoundFile failed. Trying audioread instead.\n",
      "  return f(*args, **kwargs)\n"
     ]
    },
    {
     "name": "stdout",
     "output_type": "stream",
     "text": [
      "117\n",
      "C:\\Users\\t_ziemer\\Desktop\\techno-test\\germanycsv\\Bi-Face - Slo-Fast (1992).m4a.csv\n",
      "cool\n"
     ]
    },
    {
     "name": "stderr",
     "output_type": "stream",
     "text": [
      "C:\\Users\\t_ziemer\\AppData\\Local\\Programs\\Python\\Python310\\lib\\site-packages\\librosa\\util\\decorators.py:88: UserWarning: PySoundFile failed. Trying audioread instead.\n",
      "  return f(*args, **kwargs)\n"
     ]
    },
    {
     "name": "stdout",
     "output_type": "stream",
     "text": [
      "shit!\n",
      "115\n",
      "C:\\Users\\t_ziemer\\Desktop\\techno-test\\germanycsv\\Blind Vision - Bestialic Beat (1989).m4a.csv\n",
      "cool\n"
     ]
    },
    {
     "name": "stderr",
     "output_type": "stream",
     "text": [
      "C:\\Users\\t_ziemer\\AppData\\Local\\Programs\\Python\\Python310\\lib\\site-packages\\librosa\\util\\decorators.py:88: UserWarning: PySoundFile failed. Trying audioread instead.\n",
      "  return f(*args, **kwargs)\n"
     ]
    },
    {
     "name": "stdout",
     "output_type": "stream",
     "text": [
      "116\n",
      "C:\\Users\\t_ziemer\\Desktop\\techno-test\\germanycsv\\Blind Vision - Get Out (Of Me) (1992).m4a.csv\n",
      "cool\n"
     ]
    },
    {
     "name": "stderr",
     "output_type": "stream",
     "text": [
      "C:\\Users\\t_ziemer\\AppData\\Local\\Programs\\Python\\Python310\\lib\\site-packages\\librosa\\util\\decorators.py:88: UserWarning: PySoundFile failed. Trying audioread instead.\n",
      "  return f(*args, **kwargs)\n"
     ]
    },
    {
     "name": "stdout",
     "output_type": "stream",
     "text": [
      "164\n",
      "C:\\Users\\t_ziemer\\Desktop\\techno-test\\germanycsv\\Blind Vision - Tanz Den Teufel (Dance The Devil) (1989).m4a.csv\n",
      "cool\n"
     ]
    },
    {
     "name": "stderr",
     "output_type": "stream",
     "text": [
      "C:\\Users\\t_ziemer\\AppData\\Local\\Programs\\Python\\Python310\\lib\\site-packages\\librosa\\util\\decorators.py:88: UserWarning: PySoundFile failed. Trying audioread instead.\n",
      "  return f(*args, **kwargs)\n"
     ]
    },
    {
     "name": "stdout",
     "output_type": "stream",
     "text": [
      "127\n",
      "C:\\Users\\t_ziemer\\Desktop\\techno-test\\germanycsv\\Boney M - Ma Baker (Borsalino Trance Mix) (1993).m4a.csv\n",
      "cool\n"
     ]
    },
    {
     "name": "stderr",
     "output_type": "stream",
     "text": [
      "C:\\Users\\t_ziemer\\AppData\\Local\\Programs\\Python\\Python310\\lib\\site-packages\\librosa\\util\\decorators.py:88: UserWarning: PySoundFile failed. Trying audioread instead.\n",
      "  return f(*args, **kwargs)\n"
     ]
    },
    {
     "name": "stdout",
     "output_type": "stream",
     "text": [
      "shit!\n",
      "shit!\n",
      "shit!\n",
      "119\n",
      "C:\\Users\\t_ziemer\\Desktop\\techno-test\\germanycsv\\Brothers in Love - A Special Kind Of Love (Brothers in Rhythm Remix) (1993).m4a.csv\n",
      "cool\n"
     ]
    },
    {
     "name": "stderr",
     "output_type": "stream",
     "text": [
      "C:\\Users\\t_ziemer\\AppData\\Local\\Programs\\Python\\Python310\\lib\\site-packages\\librosa\\util\\decorators.py:88: UserWarning: PySoundFile failed. Trying audioread instead.\n",
      "  return f(*args, **kwargs)\n"
     ]
    },
    {
     "name": "stdout",
     "output_type": "stream",
     "text": [
      "95\n",
      "C:\\Users\\t_ziemer\\Desktop\\techno-test\\germanycsv\\Bunker Youth - Love Those Who Fight Against Oppression (Free At All - Dub) (1990).m4a.csv\n",
      "cool\n",
      "129\n",
      "C:\\Users\\t_ziemer\\Desktop\\techno-test\\germanycsv\\Burger Industries - Jailhouse Rock (Part 2) (1994).mp3.csv\n",
      "cool\n"
     ]
    },
    {
     "name": "stderr",
     "output_type": "stream",
     "text": [
      "C:\\Users\\t_ziemer\\AppData\\Local\\Programs\\Python\\Python310\\lib\\site-packages\\librosa\\util\\decorators.py:88: UserWarning: PySoundFile failed. Trying audioread instead.\n",
      "  return f(*args, **kwargs)\n"
     ]
    },
    {
     "name": "stdout",
     "output_type": "stream",
     "text": [
      "150\n",
      "C:\\Users\\t_ziemer\\Desktop\\techno-test\\germanycsv\\Burger Industries - Kosher Delight (1993).m4a.csv\n",
      "cool\n",
      "102\n",
      "C:\\Users\\t_ziemer\\Desktop\\techno-test\\germanycsv\\Burger Industries - Priscilla (1994).mp3.csv\n",
      "cool\n"
     ]
    },
    {
     "name": "stderr",
     "output_type": "stream",
     "text": [
      "C:\\Users\\t_ziemer\\AppData\\Local\\Programs\\Python\\Python310\\lib\\site-packages\\librosa\\util\\decorators.py:88: UserWarning: PySoundFile failed. Trying audioread instead.\n",
      "  return f(*args, **kwargs)\n"
     ]
    },
    {
     "name": "stdout",
     "output_type": "stream",
     "text": [
      "129\n",
      "C:\\Users\\t_ziemer\\Desktop\\techno-test\\germanycsv\\Burger Industries - Sascha The Flower Thief (1993).m4a.csv\n",
      "cool\n",
      "129\n",
      "C:\\Users\\t_ziemer\\Desktop\\techno-test\\germanycsv\\Burger Industries - Son Of The King (1994).mp3.csv\n",
      "cool\n"
     ]
    },
    {
     "name": "stderr",
     "output_type": "stream",
     "text": [
      "C:\\Users\\t_ziemer\\AppData\\Local\\Programs\\Python\\Python310\\lib\\site-packages\\librosa\\util\\decorators.py:88: UserWarning: PySoundFile failed. Trying audioread instead.\n",
      "  return f(*args, **kwargs)\n"
     ]
    },
    {
     "name": "stdout",
     "output_type": "stream",
     "text": [
      "109\n",
      "C:\\Users\\t_ziemer\\Desktop\\techno-test\\germanycsv\\C. C. Catch - House Of Mystic Lights (Album Version) (1990).m4a.csv\n",
      "cool\n",
      "106\n",
      "C:\\Users\\t_ziemer\\Desktop\\techno-test\\germanycsv\\C. C. Catch - Midnight Hour (7' Dub Version) (1989).opus.csv\n",
      "cool\n",
      "shit!\n",
      "shit!\n",
      "126\n",
      "C:\\Users\\t_ziemer\\Desktop\\techno-test\\germanycsv\\Captain Hollywood Project - More And More (underground mix) (1993).mp3.csv\n",
      "cool\n",
      "129\n",
      "C:\\Users\\t_ziemer\\Desktop\\techno-test\\germanycsv\\Captain Hollywood Project - Nothing's Gonna Stop Me (1993).mp3.csv\n",
      "cool\n",
      "128\n",
      "C:\\Users\\t_ziemer\\Desktop\\techno-test\\germanycsv\\Captain Hollywood Project - Only with you (1993).mp3.csv\n",
      "cool\n",
      "127\n",
      "C:\\Users\\t_ziemer\\Desktop\\techno-test\\germanycsv\\Captain Hollywood Project - Only With You (Faze 2 edit) (1993).mp3.csv\n",
      "cool\n",
      "128\n",
      "C:\\Users\\t_ziemer\\Desktop\\techno-test\\germanycsv\\Captain Hollywood Project - Only With You (magic remix) (1993).mp3.csv\n",
      "cool\n",
      "153\n",
      "C:\\Users\\t_ziemer\\Desktop\\techno-test\\germanycsv\\Captain Hollywood Project - Rhythm of Life (1993).mp3.csv\n",
      "cool\n",
      "127\n",
      "C:\\Users\\t_ziemer\\Desktop\\techno-test\\germanycsv\\Captain Hollywood Project - Rhythm Takes Control (1993).mp3.csv\n",
      "cool\n",
      "127\n",
      "C:\\Users\\t_ziemer\\Desktop\\techno-test\\germanycsv\\Captain Hollywood Proyect - All I want (1993).mp3.csv\n",
      "cool\n",
      "126\n",
      "C:\\Users\\t_ziemer\\Desktop\\techno-test\\germanycsv\\Casseopaya - Aquatic Wave (1994).mp3.csv\n",
      "cool\n",
      "82\n",
      "C:\\Users\\t_ziemer\\Desktop\\techno-test\\germanycsv\\Casseopaya - Happy Beats (1993).mp3.csv\n",
      "cool\n",
      "102\n",
      "C:\\Users\\t_ziemer\\Desktop\\techno-test\\germanycsv\\Casseopaya - QXL (1993).mp3.csv\n",
      "cool\n",
      "140\n",
      "C:\\Users\\t_ziemer\\Desktop\\techno-test\\germanycsv\\Casseopaya - Strawberry Ice (1994).mp3.csv\n",
      "cool\n",
      "128\n",
      "C:\\Users\\t_ziemer\\Desktop\\techno-test\\germanycsv\\Casseopaya - The Milkman's Return (1994).mp3.csv\n",
      "cool\n"
     ]
    },
    {
     "name": "stderr",
     "output_type": "stream",
     "text": [
      "C:\\Users\\t_ziemer\\AppData\\Local\\Programs\\Python\\Python310\\lib\\site-packages\\librosa\\util\\decorators.py:88: UserWarning: PySoundFile failed. Trying audioread instead.\n",
      "  return f(*args, **kwargs)\n"
     ]
    },
    {
     "name": "stdout",
     "output_type": "stream",
     "text": [
      "164\n",
      "C:\\Users\\t_ziemer\\Desktop\\techno-test\\germanycsv\\Casseopaya - Xenophobia (1993).m4a.csv\n",
      "cool\n"
     ]
    },
    {
     "name": "stderr",
     "output_type": "stream",
     "text": [
      "C:\\Users\\t_ziemer\\AppData\\Local\\Programs\\Python\\Python310\\lib\\site-packages\\librosa\\util\\decorators.py:88: UserWarning: PySoundFile failed. Trying audioread instead.\n",
      "  return f(*args, **kwargs)\n"
     ]
    },
    {
     "name": "stdout",
     "output_type": "stream",
     "text": [
      "120\n",
      "C:\\Users\\t_ziemer\\Desktop\\techno-test\\germanycsv\\Centory - The Spirit (1994).m4a.csv\n",
      "cool\n",
      "128\n",
      "C:\\Users\\t_ziemer\\Desktop\\techno-test\\germanycsv\\Chocolate - Satin Sheets & Silver Guns (1993).opus.csv\n",
      "cool\n"
     ]
    },
    {
     "name": "stderr",
     "output_type": "stream",
     "text": [
      "C:\\Users\\t_ziemer\\AppData\\Local\\Programs\\Python\\Python310\\lib\\site-packages\\librosa\\util\\decorators.py:88: UserWarning: PySoundFile failed. Trying audioread instead.\n",
      "  return f(*args, **kwargs)\n"
     ]
    },
    {
     "name": "stdout",
     "output_type": "stream",
     "text": [
      "129\n",
      "C:\\Users\\t_ziemer\\Desktop\\techno-test\\germanycsv\\Chris Dis - Rotary Organ (1994).m4a.csv\n",
      "cool\n"
     ]
    },
    {
     "name": "stderr",
     "output_type": "stream",
     "text": [
      "C:\\Users\\t_ziemer\\AppData\\Local\\Programs\\Python\\Python310\\lib\\site-packages\\librosa\\util\\decorators.py:88: UserWarning: PySoundFile failed. Trying audioread instead.\n",
      "  return f(*args, **kwargs)\n"
     ]
    },
    {
     "name": "stdout",
     "output_type": "stream",
     "text": [
      "90\n",
      "C:\\Users\\t_ziemer\\Desktop\\techno-test\\germanycsv\\Christoph De Babalon - I Own Death (1994).m4a.csv\n",
      "cool\n",
      "109\n",
      "C:\\Users\\t_ziemer\\Desktop\\techno-test\\germanycsv\\Cirrus Minor - Zulu (1992).opus.csv\n",
      "cool\n"
     ]
    },
    {
     "name": "stderr",
     "output_type": "stream",
     "text": [
      "C:\\Users\\t_ziemer\\AppData\\Local\\Programs\\Python\\Python310\\lib\\site-packages\\librosa\\util\\decorators.py:88: UserWarning: PySoundFile failed. Trying audioread instead.\n",
      "  return f(*args, **kwargs)\n"
     ]
    },
    {
     "name": "stdout",
     "output_type": "stream",
     "text": [
      "129\n",
      "C:\\Users\\t_ziemer\\Desktop\\techno-test\\germanycsv\\Clubheroes - Dum Dum '94 (1994).m4a.csv\n",
      "cool\n",
      "144\n",
      "C:\\Users\\t_ziemer\\Desktop\\techno-test\\germanycsv\\Colone - Overview (1992).opus.csv\n",
      "cool\n",
      "113\n",
      "C:\\Users\\t_ziemer\\Desktop\\techno-test\\germanycsv\\Corporate I.D. - Soundtrack Of The Wolf (1991).opus.csv\n",
      "cool\n",
      "185\n",
      "C:\\Users\\t_ziemer\\Desktop\\techno-test\\germanycsv\\Cosmic Baby - Another Day In Another City (1994).mp3.csv\n",
      "cool\n",
      "118\n",
      "C:\\Users\\t_ziemer\\Desktop\\techno-test\\germanycsv\\Cosmic Baby - Brooklyn (1994).mp3.csv\n",
      "cool\n",
      "140\n",
      "C:\\Users\\t_ziemer\\Desktop\\techno-test\\germanycsv\\Cosmic Baby - Treptow (1994).mp3.csv\n",
      "cool\n"
     ]
    },
    {
     "name": "stderr",
     "output_type": "stream",
     "text": [
      "C:\\Users\\t_ziemer\\AppData\\Local\\Programs\\Python\\Python310\\lib\\site-packages\\librosa\\util\\decorators.py:88: UserWarning: PySoundFile failed. Trying audioread instead.\n",
      "  return f(*args, **kwargs)\n"
     ]
    },
    {
     "name": "stdout",
     "output_type": "stream",
     "text": [
      "164\n",
      "C:\\Users\\t_ziemer\\Desktop\\techno-test\\germanycsv\\Cryptic Diffusion - Truncated Cone (1993).m4a.csv\n",
      "cool\n",
      "115\n",
      "C:\\Users\\t_ziemer\\Desktop\\techno-test\\germanycsv\\Culture Beat - Black Flowers (1991).mp3.csv\n",
      "cool\n",
      "118\n",
      "C:\\Users\\t_ziemer\\Desktop\\techno-test\\germanycsv\\Culture Beat - Cherry Lips (1990).opus.csv\n",
      "cool\n",
      "118\n",
      "C:\\Users\\t_ziemer\\Desktop\\techno-test\\germanycsv\\Culture Beat - Der Erdbeermund (1991).mp3.csv\n",
      "cool\n",
      "107\n",
      "C:\\Users\\t_ziemer\\Desktop\\techno-test\\germanycsv\\Culture Beat - Horizon (1991).mp3.csv\n",
      "cool\n"
     ]
    },
    {
     "name": "stderr",
     "output_type": "stream",
     "text": [
      "C:\\Users\\t_ziemer\\AppData\\Local\\Programs\\Python\\Python310\\lib\\site-packages\\librosa\\util\\decorators.py:88: UserWarning: PySoundFile failed. Trying audioread instead.\n",
      "  return f(*args, **kwargs)\n"
     ]
    },
    {
     "name": "stdout",
     "output_type": "stream",
     "text": [
      "125\n",
      "C:\\Users\\t_ziemer\\Desktop\\techno-test\\germanycsv\\Culture Beat - I Like You (Zulu-Mix) (1994).m4a.csv\n",
      "cool\n"
     ]
    },
    {
     "name": "stderr",
     "output_type": "stream",
     "text": [
      "C:\\Users\\t_ziemer\\AppData\\Local\\Programs\\Python\\Python310\\lib\\site-packages\\librosa\\util\\decorators.py:88: UserWarning: PySoundFile failed. Trying audioread instead.\n",
      "  return f(*args, **kwargs)\n"
     ]
    },
    {
     "name": "stdout",
     "output_type": "stream",
     "text": [
      "129\n",
      "C:\\Users\\t_ziemer\\Desktop\\techno-test\\germanycsv\\Culture Beat - The Hurt (1993).m4a.csv\n",
      "cool\n"
     ]
    },
    {
     "name": "stderr",
     "output_type": "stream",
     "text": [
      "C:\\Users\\t_ziemer\\AppData\\Local\\Programs\\Python\\Python310\\lib\\site-packages\\librosa\\util\\decorators.py:88: UserWarning: PySoundFile failed. Trying audioread instead.\n",
      "  return f(*args, **kwargs)\n"
     ]
    },
    {
     "name": "stdout",
     "output_type": "stream",
     "text": [
      "129\n",
      "C:\\Users\\t_ziemer\\Desktop\\techno-test\\germanycsv\\Culture Beat - The Other Side Of Me (1993).m4a.csv\n",
      "cool\n"
     ]
    },
    {
     "name": "stderr",
     "output_type": "stream",
     "text": [
      "C:\\Users\\t_ziemer\\AppData\\Local\\Programs\\Python\\Python310\\lib\\site-packages\\librosa\\util\\decorators.py:88: UserWarning: PySoundFile failed. Trying audioread instead.\n",
      "  return f(*args, **kwargs)\n"
     ]
    },
    {
     "name": "stdout",
     "output_type": "stream",
     "text": [
      "140\n",
      "C:\\Users\\t_ziemer\\Desktop\\techno-test\\germanycsv\\Culture Beat - World In Your Hands (Extended Version) (1994).m4a.csv\n",
      "cool\n",
      "122\n",
      "C:\\Users\\t_ziemer\\Desktop\\techno-test\\germanycsv\\Culture Beat Feat. Jo Van Nelsen  - Der Erdbeermund (Get Into Magic Mix) (1989).mp3.csv\n",
      "cool\n",
      "118\n",
      "C:\\Users\\t_ziemer\\Desktop\\techno-test\\germanycsv\\Culture Beat Feat. Jo Van Nelsen  - Der Erdbeermund (Instrumental Magic) (1989).mp3.csv\n",
      "cool\n"
     ]
    },
    {
     "name": "stderr",
     "output_type": "stream",
     "text": [
      "C:\\Users\\t_ziemer\\AppData\\Local\\Programs\\Python\\Python310\\lib\\site-packages\\librosa\\util\\decorators.py:88: UserWarning: PySoundFile failed. Trying audioread instead.\n",
      "  return f(*args, **kwargs)\n"
     ]
    },
    {
     "name": "stdout",
     "output_type": "stream",
     "text": [
      "168\n",
      "C:\\Users\\t_ziemer\\Desktop\\techno-test\\germanycsv\\Cyberchrist - Metempsychosis (1993).m4a.csv\n",
      "cool\n",
      "126\n",
      "C:\\Users\\t_ziemer\\Desktop\\techno-test\\germanycsv\\Cypher - Frozen Boom Erection (1993).mp3.csv\n",
      "cool\n"
     ]
    },
    {
     "name": "stderr",
     "output_type": "stream",
     "text": [
      "C:\\Users\\t_ziemer\\AppData\\Local\\Programs\\Python\\Python310\\lib\\site-packages\\librosa\\util\\decorators.py:88: UserWarning: PySoundFile failed. Trying audioread instead.\n",
      "  return f(*args, **kwargs)\n"
     ]
    },
    {
     "name": "stdout",
     "output_type": "stream",
     "text": [
      "157\n",
      "C:\\Users\\t_ziemer\\Desktop\\techno-test\\germanycsv\\CZ 101 - CZ 102 (1994).m4a.csv\n",
      "cool\n",
      "164\n",
      "C:\\Users\\t_ziemer\\Desktop\\techno-test\\germanycsv\\D-Lay - Don't Stop The Motion (1994).mp3.csv\n",
      "cool\n"
     ]
    },
    {
     "name": "stderr",
     "output_type": "stream",
     "text": [
      "C:\\Users\\t_ziemer\\AppData\\Local\\Programs\\Python\\Python310\\lib\\site-packages\\librosa\\util\\decorators.py:88: UserWarning: PySoundFile failed. Trying audioread instead.\n",
      "  return f(*args, **kwargs)\n"
     ]
    },
    {
     "name": "stdout",
     "output_type": "stream",
     "text": [
      "140\n",
      "C:\\Users\\t_ziemer\\Desktop\\techno-test\\germanycsv\\Daffy Duck - Party Zone (Magic Mix) (1991).m4a.csv\n",
      "cool\n"
     ]
    },
    {
     "name": "stderr",
     "output_type": "stream",
     "text": [
      "C:\\Users\\t_ziemer\\AppData\\Local\\Programs\\Python\\Python310\\lib\\site-packages\\librosa\\util\\decorators.py:88: UserWarning: PySoundFile failed. Trying audioread instead.\n",
      "  return f(*args, **kwargs)\n"
     ]
    },
    {
     "name": "stdout",
     "output_type": "stream",
     "text": [
      "shit!\n",
      "157\n",
      "C:\\Users\\t_ziemer\\Desktop\\techno-test\\germanycsv\\Dance 2 Trance - Trance-O-Phobia (1991).m4a.csv\n",
      "cool\n",
      "129\n",
      "C:\\Users\\t_ziemer\\Desktop\\techno-test\\germanycsv\\Dance 2 Trance - We Came In Peace ('93 Mix) (1993).opus.csv\n",
      "cool\n"
     ]
    },
    {
     "name": "stderr",
     "output_type": "stream",
     "text": [
      "C:\\Users\\t_ziemer\\AppData\\Local\\Programs\\Python\\Python310\\lib\\site-packages\\librosa\\util\\decorators.py:88: UserWarning: PySoundFile failed. Trying audioread instead.\n",
      "  return f(*args, **kwargs)\n"
     ]
    },
    {
     "name": "stdout",
     "output_type": "stream",
     "text": [
      "129\n",
      "C:\\Users\\t_ziemer\\Desktop\\techno-test\\germanycsv\\Dee-Vah - Movin' Higher (Airplay Vibe Mix) (1993).m4a.csv\n",
      "cool\n",
      "134\n",
      "C:\\Users\\t_ziemer\\Desktop\\techno-test\\germanycsv\\Dee-Vah - Movin' Higher (State Of House Mix) (1993).opus.csv\n",
      "cool\n",
      "129\n",
      "C:\\Users\\t_ziemer\\Desktop\\techno-test\\germanycsv\\Dee-Vah - Movin' Higher (State Of Mind Mix) (1993).opus.csv\n",
      "cool\n"
     ]
    },
    {
     "name": "stderr",
     "output_type": "stream",
     "text": [
      "C:\\Users\\t_ziemer\\AppData\\Local\\Programs\\Python\\Python310\\lib\\site-packages\\librosa\\util\\decorators.py:88: UserWarning: PySoundFile failed. Trying audioread instead.\n",
      "  return f(*args, **kwargs)\n"
     ]
    },
    {
     "name": "stdout",
     "output_type": "stream",
     "text": [
      "129\n",
      "C:\\Users\\t_ziemer\\Desktop\\techno-test\\germanycsv\\Deejays United - Computer Dance 10 1-2 (1993).m4a.csv\n",
      "cool\n"
     ]
    },
    {
     "name": "stderr",
     "output_type": "stream",
     "text": [
      "C:\\Users\\t_ziemer\\AppData\\Local\\Programs\\Python\\Python310\\lib\\site-packages\\librosa\\util\\decorators.py:88: UserWarning: PySoundFile failed. Trying audioread instead.\n",
      "  return f(*args, **kwargs)\n"
     ]
    },
    {
     "name": "stdout",
     "output_type": "stream",
     "text": [
      "120\n",
      "C:\\Users\\t_ziemer\\Desktop\\techno-test\\germanycsv\\Degeneration - Una Musica Senza Ritmo (Nina In Trance Remix)  (1993).m4a.csv\n",
      "cool\n"
     ]
    },
    {
     "name": "stderr",
     "output_type": "stream",
     "text": [
      "C:\\Users\\t_ziemer\\AppData\\Local\\Programs\\Python\\Python310\\lib\\site-packages\\librosa\\util\\decorators.py:88: UserWarning: PySoundFile failed. Trying audioread instead.\n",
      "  return f(*args, **kwargs)\n"
     ]
    },
    {
     "name": "stdout",
     "output_type": "stream",
     "text": [
      "165\n",
      "C:\\Users\\t_ziemer\\Desktop\\techno-test\\germanycsv\\Delüxe - Happy (1994).m4a.csv\n",
      "cool\n"
     ]
    },
    {
     "name": "stderr",
     "output_type": "stream",
     "text": [
      "C:\\Users\\t_ziemer\\AppData\\Local\\Programs\\Python\\Python310\\lib\\site-packages\\librosa\\util\\decorators.py:88: UserWarning: PySoundFile failed. Trying audioread instead.\n",
      "  return f(*args, **kwargs)\n"
     ]
    },
    {
     "name": "stdout",
     "output_type": "stream",
     "text": [
      "129\n",
      "C:\\Users\\t_ziemer\\Desktop\\techno-test\\germanycsv\\Der Dritte Raum - Lyquit (DNA-Klone) (1994).m4a.csv\n",
      "cool\n"
     ]
    },
    {
     "name": "stderr",
     "output_type": "stream",
     "text": [
      "C:\\Users\\t_ziemer\\AppData\\Local\\Programs\\Python\\Python310\\lib\\site-packages\\librosa\\util\\decorators.py:88: UserWarning: PySoundFile failed. Trying audioread instead.\n",
      "  return f(*args, **kwargs)\n"
     ]
    },
    {
     "name": "stdout",
     "output_type": "stream",
     "text": [
      "shit!\n",
      "shit!\n",
      "shit!\n"
     ]
    },
    {
     "name": "stderr",
     "output_type": "stream",
     "text": [
      "C:\\Users\\t_ziemer\\AppData\\Local\\Programs\\Python\\Python310\\lib\\site-packages\\librosa\\util\\decorators.py:88: UserWarning: PySoundFile failed. Trying audioread instead.\n",
      "  return f(*args, **kwargs)\n"
     ]
    },
    {
     "name": "stdout",
     "output_type": "stream",
     "text": [
      "111\n",
      "C:\\Users\\t_ziemer\\Desktop\\techno-test\\germanycsv\\Deskee - Lost In Groove (1990).m4a.csv\n",
      "cool\n"
     ]
    },
    {
     "name": "stderr",
     "output_type": "stream",
     "text": [
      "C:\\Users\\t_ziemer\\AppData\\Local\\Programs\\Python\\Python310\\lib\\site-packages\\librosa\\util\\decorators.py:88: UserWarning: PySoundFile failed. Trying audioread instead.\n",
      "  return f(*args, **kwargs)\n"
     ]
    },
    {
     "name": "stdout",
     "output_type": "stream",
     "text": [
      "170\n",
      "C:\\Users\\t_ziemer\\Desktop\\techno-test\\germanycsv\\Deskee - Lost In The Groove (Extended Groove Mix) (1991).m4a.csv\n",
      "cool\n",
      "112\n",
      "C:\\Users\\t_ziemer\\Desktop\\techno-test\\germanycsv\\Deskee - Lost In The Groove (Groovy Dub) (1991).mp3.csv\n",
      "cool\n"
     ]
    },
    {
     "name": "stderr",
     "output_type": "stream",
     "text": [
      "C:\\Users\\t_ziemer\\AppData\\Local\\Programs\\Python\\Python310\\lib\\site-packages\\librosa\\util\\decorators.py:88: UserWarning: PySoundFile failed. Trying audioread instead.\n",
      "  return f(*args, **kwargs)\n"
     ]
    },
    {
     "name": "stdout",
     "output_type": "stream",
     "text": [
      "113\n",
      "C:\\Users\\t_ziemer\\Desktop\\techno-test\\germanycsv\\Deskee - Lost In The Groove (Lost Control Mix) (1991).m4a.csv\n",
      "cool\n"
     ]
    },
    {
     "name": "stderr",
     "output_type": "stream",
     "text": [
      "C:\\Users\\t_ziemer\\AppData\\Local\\Programs\\Python\\Python310\\lib\\site-packages\\librosa\\util\\decorators.py:88: UserWarning: PySoundFile failed. Trying audioread instead.\n",
      "  return f(*args, **kwargs)\n"
     ]
    },
    {
     "name": "stdout",
     "output_type": "stream",
     "text": [
      "118\n",
      "C:\\Users\\t_ziemer\\Desktop\\techno-test\\germanycsv\\Deskee - No.1 Is The Number (1990).m4a.csv\n",
      "cool\n"
     ]
    },
    {
     "name": "stderr",
     "output_type": "stream",
     "text": [
      "C:\\Users\\t_ziemer\\AppData\\Local\\Programs\\Python\\Python310\\lib\\site-packages\\librosa\\util\\decorators.py:88: UserWarning: PySoundFile failed. Trying audioread instead.\n",
      "  return f(*args, **kwargs)\n"
     ]
    },
    {
     "name": "stdout",
     "output_type": "stream",
     "text": [
      "166\n",
      "C:\\Users\\t_ziemer\\Desktop\\techno-test\\germanycsv\\Desperation - Dam Dam (Remix) (1994).m4a.csv\n",
      "cool\n",
      "164\n",
      "C:\\Users\\t_ziemer\\Desktop\\techno-test\\germanycsv\\Desperation - Desperation (Club Mix) (1994).opus.csv\n",
      "cool\n"
     ]
    },
    {
     "name": "stderr",
     "output_type": "stream",
     "text": [
      "C:\\Users\\t_ziemer\\AppData\\Local\\Programs\\Python\\Python310\\lib\\site-packages\\librosa\\util\\decorators.py:88: UserWarning: PySoundFile failed. Trying audioread instead.\n",
      "  return f(*args, **kwargs)\n"
     ]
    },
    {
     "name": "stdout",
     "output_type": "stream",
     "text": [
      "166\n",
      "C:\\Users\\t_ziemer\\Desktop\\techno-test\\germanycsv\\Desperation - Desperation (Sub Mix) (1994).m4a.csv\n",
      "cool\n"
     ]
    },
    {
     "name": "stderr",
     "output_type": "stream",
     "text": [
      "C:\\Users\\t_ziemer\\AppData\\Local\\Programs\\Python\\Python310\\lib\\site-packages\\librosa\\util\\decorators.py:88: UserWarning: PySoundFile failed. Trying audioread instead.\n",
      "  return f(*args, **kwargs)\n"
     ]
    },
    {
     "name": "stdout",
     "output_type": "stream",
     "text": [
      "123\n",
      "C:\\Users\\t_ziemer\\Desktop\\techno-test\\germanycsv\\Detune - China 12 A2 (1993).m4a.csv\n",
      "cool\n"
     ]
    },
    {
     "name": "stderr",
     "output_type": "stream",
     "text": [
      "C:\\Users\\t_ziemer\\AppData\\Local\\Programs\\Python\\Python310\\lib\\site-packages\\librosa\\util\\decorators.py:88: UserWarning: PySoundFile failed. Trying audioread instead.\n",
      "  return f(*args, **kwargs)\n"
     ]
    },
    {
     "name": "stdout",
     "output_type": "stream",
     "text": [
      "168\n",
      "C:\\Users\\t_ziemer\\Desktop\\techno-test\\germanycsv\\Detune - China 12 B2 (1993).m4a.csv\n",
      "cool\n"
     ]
    },
    {
     "name": "stderr",
     "output_type": "stream",
     "text": [
      "C:\\Users\\t_ziemer\\AppData\\Local\\Programs\\Python\\Python310\\lib\\site-packages\\librosa\\util\\decorators.py:88: UserWarning: PySoundFile failed. Trying audioread instead.\n",
      "  return f(*args, **kwargs)\n"
     ]
    },
    {
     "name": "stdout",
     "output_type": "stream",
     "text": [
      "117\n",
      "C:\\Users\\t_ziemer\\Desktop\\techno-test\\germanycsv\\Dick - Exzess (Excessive mix) (1988).m4a.csv\n",
      "cool\n"
     ]
    },
    {
     "name": "stderr",
     "output_type": "stream",
     "text": [
      "C:\\Users\\t_ziemer\\AppData\\Local\\Programs\\Python\\Python310\\lib\\site-packages\\librosa\\util\\decorators.py:88: UserWarning: PySoundFile failed. Trying audioread instead.\n",
      "  return f(*args, **kwargs)\n"
     ]
    },
    {
     "name": "stdout",
     "output_type": "stream",
     "text": [
      "112\n",
      "C:\\Users\\t_ziemer\\Desktop\\techno-test\\germanycsv\\Die Fantastischen Vier - Saft (Dub Version) (1992).m4a.csv\n",
      "cool\n"
     ]
    },
    {
     "name": "stderr",
     "output_type": "stream",
     "text": [
      "C:\\Users\\t_ziemer\\AppData\\Local\\Programs\\Python\\Python310\\lib\\site-packages\\librosa\\util\\decorators.py:88: UserWarning: PySoundFile failed. Trying audioread instead.\n",
      "  return f(*args, **kwargs)\n"
     ]
    },
    {
     "name": "stdout",
     "output_type": "stream",
     "text": [
      "128\n",
      "C:\\Users\\t_ziemer\\Desktop\\techno-test\\germanycsv\\DJ Company - Hey Everybody (House Version) (1994).m4a.csv\n",
      "cool\n"
     ]
    },
    {
     "name": "stderr",
     "output_type": "stream",
     "text": [
      "C:\\Users\\t_ziemer\\AppData\\Local\\Programs\\Python\\Python310\\lib\\site-packages\\librosa\\util\\decorators.py:88: UserWarning: PySoundFile failed. Trying audioread instead.\n",
      "  return f(*args, **kwargs)\n"
     ]
    },
    {
     "name": "stdout",
     "output_type": "stream",
     "text": [
      "104\n",
      "C:\\Users\\t_ziemer\\Desktop\\techno-test\\germanycsv\\Dj Errik - Collapse (Ambient Preview) (1994).m4a.csv\n",
      "cool\n",
      "148\n",
      "C:\\Users\\t_ziemer\\Desktop\\techno-test\\germanycsv\\Dj Hell - Allerseelen (1994).mp3.csv\n",
      "cool\n",
      "163\n",
      "C:\\Users\\t_ziemer\\Desktop\\techno-test\\germanycsv\\Dj Hell - Butter Såure (1993).mp3.csv\n",
      "cool\n"
     ]
    },
    {
     "name": "stderr",
     "output_type": "stream",
     "text": [
      "C:\\Users\\t_ziemer\\AppData\\Local\\Programs\\Python\\Python310\\lib\\site-packages\\librosa\\util\\decorators.py:88: UserWarning: PySoundFile failed. Trying audioread instead.\n",
      "  return f(*args, **kwargs)\n"
     ]
    },
    {
     "name": "stdout",
     "output_type": "stream",
     "text": [
      "135\n",
      "C:\\Users\\t_ziemer\\Desktop\\techno-test\\germanycsv\\Dj Hell - Herz (1994).m4a.csv\n",
      "cool\n"
     ]
    },
    {
     "name": "stderr",
     "output_type": "stream",
     "text": [
      "C:\\Users\\t_ziemer\\AppData\\Local\\Programs\\Python\\Python310\\lib\\site-packages\\librosa\\util\\decorators.py:88: UserWarning: PySoundFile failed. Trying audioread instead.\n",
      "  return f(*args, **kwargs)\n"
     ]
    },
    {
     "name": "stdout",
     "output_type": "stream",
     "text": [
      "136\n",
      "C:\\Users\\t_ziemer\\Desktop\\techno-test\\germanycsv\\Dj Hell - Like That! (The Old School Mix) (1994).m4a.csv\n",
      "cool\n"
     ]
    },
    {
     "name": "stderr",
     "output_type": "stream",
     "text": [
      "C:\\Users\\t_ziemer\\AppData\\Local\\Programs\\Python\\Python310\\lib\\site-packages\\librosa\\util\\decorators.py:88: UserWarning: PySoundFile failed. Trying audioread instead.\n",
      "  return f(*args, **kwargs)\n"
     ]
    },
    {
     "name": "stdout",
     "output_type": "stream",
     "text": [
      "127\n",
      "C:\\Users\\t_ziemer\\Desktop\\techno-test\\germanycsv\\Dj Hell - My Life Is Hell (1994).m4a.csv\n",
      "cool\n",
      "156\n",
      "C:\\Users\\t_ziemer\\Desktop\\techno-test\\germanycsv\\Dj Hell - Sprung Aus Den Wolken (1993).mp3.csv\n",
      "cool\n",
      "164\n",
      "C:\\Users\\t_ziemer\\Desktop\\techno-test\\germanycsv\\DJ Nick - Peace 2 Everybody (Airplay Rave) (1994).opus.csv\n",
      "cool\n",
      "108\n",
      "C:\\Users\\t_ziemer\\Desktop\\techno-test\\germanycsv\\DJ Nick - Peace 2 Everybody (Club Rave) (1994).opus.csv\n",
      "cool\n"
     ]
    },
    {
     "name": "stderr",
     "output_type": "stream",
     "text": [
      "C:\\Users\\t_ziemer\\AppData\\Local\\Programs\\Python\\Python310\\lib\\site-packages\\librosa\\util\\decorators.py:88: UserWarning: PySoundFile failed. Trying audioread instead.\n",
      "  return f(*args, **kwargs)\n"
     ]
    },
    {
     "name": "stdout",
     "output_type": "stream",
     "text": [
      "172\n",
      "C:\\Users\\t_ziemer\\Desktop\\techno-test\\germanycsv\\DJ Spice P - La Vie En Rose (1994).m4a.csv\n",
      "cool\n"
     ]
    },
    {
     "name": "stderr",
     "output_type": "stream",
     "text": [
      "C:\\Users\\t_ziemer\\AppData\\Local\\Programs\\Python\\Python310\\lib\\site-packages\\librosa\\util\\decorators.py:88: UserWarning: PySoundFile failed. Trying audioread instead.\n",
      "  return f(*args, **kwargs)\n"
     ]
    },
    {
     "name": "stdout",
     "output_type": "stream",
     "text": [
      "159\n",
      "C:\\Users\\t_ziemer\\Desktop\\techno-test\\germanycsv\\Dr. Pravda - Happy In Raveland (1994).m4a.csv\n",
      "cool\n"
     ]
    },
    {
     "name": "stderr",
     "output_type": "stream",
     "text": [
      "C:\\Users\\t_ziemer\\AppData\\Local\\Programs\\Python\\Python310\\lib\\site-packages\\librosa\\util\\decorators.py:88: UserWarning: PySoundFile failed. Trying audioread instead.\n",
      "  return f(*args, **kwargs)\n"
     ]
    },
    {
     "name": "stdout",
     "output_type": "stream",
     "text": [
      "185\n",
      "C:\\Users\\t_ziemer\\Desktop\\techno-test\\germanycsv\\Dr. Pravda - Herzschrittmacher (1994).m4a.csv\n",
      "cool\n"
     ]
    },
    {
     "name": "stderr",
     "output_type": "stream",
     "text": [
      "C:\\Users\\t_ziemer\\AppData\\Local\\Programs\\Python\\Python310\\lib\\site-packages\\librosa\\util\\decorators.py:88: UserWarning: PySoundFile failed. Trying audioread instead.\n",
      "  return f(*args, **kwargs)\n"
     ]
    },
    {
     "name": "stdout",
     "output_type": "stream",
     "text": [
      "169\n",
      "C:\\Users\\t_ziemer\\Desktop\\techno-test\\germanycsv\\Drax - Archetypes (1994).m4a.csv\n",
      "cool\n"
     ]
    },
    {
     "name": "stderr",
     "output_type": "stream",
     "text": [
      "C:\\Users\\t_ziemer\\AppData\\Local\\Programs\\Python\\Python310\\lib\\site-packages\\librosa\\util\\decorators.py:88: UserWarning: PySoundFile failed. Trying audioread instead.\n",
      "  return f(*args, **kwargs)\n"
     ]
    },
    {
     "name": "stdout",
     "output_type": "stream",
     "text": [
      "shit!\n",
      "shit!\n",
      "shit!\n",
      "123\n",
      "C:\\Users\\t_ziemer\\Desktop\\techno-test\\germanycsv\\Drax - The Silent Meadow (1994).m4a.csv\n",
      "cool\n",
      "105\n",
      "C:\\Users\\t_ziemer\\Desktop\\techno-test\\germanycsv\\Drome - Age Of Affordable Retina (1993).opus.csv\n",
      "cool\n",
      "182\n",
      "C:\\Users\\t_ziemer\\Desktop\\techno-test\\germanycsv\\Drome - Down At Heels (1993).opus.csv\n",
      "cool\n",
      "101\n",
      "C:\\Users\\t_ziemer\\Desktop\\techno-test\\germanycsv\\Drome - Marathon-Texas 4.33 (1993).opus.csv\n",
      "cool\n"
     ]
    },
    {
     "name": "stderr",
     "output_type": "stream",
     "text": [
      "C:\\Users\\t_ziemer\\AppData\\Local\\Programs\\Python\\Python310\\lib\\site-packages\\librosa\\util\\decorators.py:88: UserWarning: PySoundFile failed. Trying audioread instead.\n",
      "  return f(*args, **kwargs)\n"
     ]
    },
    {
     "name": "stdout",
     "output_type": "stream",
     "text": [
      "103\n",
      "C:\\Users\\t_ziemer\\Desktop\\techno-test\\germanycsv\\Drome - Party In The Woods 4 (1994).m4a.csv\n",
      "cool\n"
     ]
    },
    {
     "name": "stderr",
     "output_type": "stream",
     "text": [
      "C:\\Users\\t_ziemer\\AppData\\Local\\Programs\\Python\\Python310\\lib\\site-packages\\librosa\\util\\decorators.py:88: UserWarning: PySoundFile failed. Trying audioread instead.\n",
      "  return f(*args, **kwargs)\n"
     ]
    },
    {
     "name": "stdout",
     "output_type": "stream",
     "text": [
      "104\n",
      "C:\\Users\\t_ziemer\\Desktop\\techno-test\\germanycsv\\Drome - Steel Lung, Buy One (1993).m4a.csv\n",
      "cool\n",
      "106\n",
      "C:\\Users\\t_ziemer\\Desktop\\techno-test\\germanycsv\\Drome - Wonderland (1993).opus.csv\n",
      "cool\n"
     ]
    },
    {
     "name": "stderr",
     "output_type": "stream",
     "text": [
      "C:\\Users\\t_ziemer\\AppData\\Local\\Programs\\Python\\Python310\\lib\\site-packages\\librosa\\util\\decorators.py:88: UserWarning: PySoundFile failed. Trying audioread instead.\n",
      "  return f(*args, **kwargs)\n"
     ]
    },
    {
     "name": "stdout",
     "output_type": "stream",
     "text": [
      "174\n",
      "C:\\Users\\t_ziemer\\Desktop\\techno-test\\germanycsv\\E-Noize - Descraciado (1993).m4a.csv\n",
      "cool\n",
      "172\n",
      "C:\\Users\\t_ziemer\\Desktop\\techno-test\\germanycsv\\E-Train - Cocain ('E' Mix) (1994).mp3.csv\n",
      "cool\n",
      "169\n",
      "C:\\Users\\t_ziemer\\Desktop\\techno-test\\germanycsv\\E-Train - Cocain (Original Version) (1994).mp3.csv\n",
      "cool\n",
      "110\n",
      "C:\\Users\\t_ziemer\\Desktop\\techno-test\\germanycsv\\Earth Nation - In Your Mind (1994).mp3.csv\n",
      "cool\n",
      "147\n",
      "C:\\Users\\t_ziemer\\Desktop\\techno-test\\germanycsv\\EDGE V Structure - Lust (1993).mp3.csv\n",
      "cool\n"
     ]
    },
    {
     "name": "stderr",
     "output_type": "stream",
     "text": [
      "C:\\Users\\t_ziemer\\AppData\\Local\\Programs\\Python\\Python310\\lib\\site-packages\\librosa\\util\\decorators.py:88: UserWarning: PySoundFile failed. Trying audioread instead.\n",
      "  return f(*args, **kwargs)\n"
     ]
    },
    {
     "name": "stdout",
     "output_type": "stream",
     "text": [
      "115\n",
      "C:\\Users\\t_ziemer\\Desktop\\techno-test\\germanycsv\\Electribe - Electribal Memories (1990).m4a.csv\n",
      "cool\n"
     ]
    },
    {
     "name": "stderr",
     "output_type": "stream",
     "text": [
      "C:\\Users\\t_ziemer\\AppData\\Local\\Programs\\Python\\Python310\\lib\\site-packages\\librosa\\util\\decorators.py:88: UserWarning: PySoundFile failed. Trying audioread instead.\n",
      "  return f(*args, **kwargs)\n"
     ]
    },
    {
     "name": "stdout",
     "output_type": "stream",
     "text": [
      "shit!\n",
      "115\n",
      "C:\\Users\\t_ziemer\\Desktop\\techno-test\\germanycsv\\Electribe - Lipstick On My Lover (1989).m4a.csv\n",
      "cool\n"
     ]
    },
    {
     "name": "stderr",
     "output_type": "stream",
     "text": [
      "C:\\Users\\t_ziemer\\AppData\\Local\\Programs\\Python\\Python310\\lib\\site-packages\\librosa\\util\\decorators.py:88: UserWarning: PySoundFile failed. Trying audioread instead.\n",
      "  return f(*args, **kwargs)\n"
     ]
    },
    {
     "name": "stdout",
     "output_type": "stream",
     "text": [
      "113\n",
      "C:\\Users\\t_ziemer\\Desktop\\techno-test\\germanycsv\\Electribe - Talking With Myself (1988).m4a.csv\n",
      "cool\n"
     ]
    },
    {
     "name": "stderr",
     "output_type": "stream",
     "text": [
      "C:\\Users\\t_ziemer\\AppData\\Local\\Programs\\Python\\Python310\\lib\\site-packages\\librosa\\util\\decorators.py:88: UserWarning: PySoundFile failed. Trying audioread instead.\n",
      "  return f(*args, **kwargs)\n"
     ]
    },
    {
     "name": "stdout",
     "output_type": "stream",
     "text": [
      "shit!\n",
      "127\n",
      "C:\\Users\\t_ziemer\\Desktop\\techno-test\\germanycsv\\Ephedra - Eve (1993).m4a.csv\n",
      "cool\n",
      "127\n",
      "C:\\Users\\t_ziemer\\Desktop\\techno-test\\germanycsv\\Ephedra - Eve (Ceres Mix) (1993).opus.csv\n",
      "cool\n"
     ]
    },
    {
     "name": "stderr",
     "output_type": "stream",
     "text": [
      "C:\\Users\\t_ziemer\\AppData\\Local\\Programs\\Python\\Python310\\lib\\site-packages\\librosa\\util\\decorators.py:88: UserWarning: PySoundFile failed. Trying audioread instead.\n",
      "  return f(*args, **kwargs)\n"
     ]
    },
    {
     "name": "stdout",
     "output_type": "stream",
     "text": [
      "127\n",
      "C:\\Users\\t_ziemer\\Desktop\\techno-test\\germanycsv\\Ephedra - Eve (Isis Mix) (1993).m4a.csv\n",
      "cool\n",
      "126\n",
      "C:\\Users\\t_ziemer\\Desktop\\techno-test\\germanycsv\\Ephedra - Vamos! (1993).mp3.csv\n",
      "cool\n"
     ]
    },
    {
     "name": "stderr",
     "output_type": "stream",
     "text": [
      "C:\\Users\\t_ziemer\\AppData\\Local\\Programs\\Python\\Python310\\lib\\site-packages\\librosa\\util\\decorators.py:88: UserWarning: PySoundFile failed. Trying audioread instead.\n",
      "  return f(*args, **kwargs)\n"
     ]
    },
    {
     "name": "stdout",
     "output_type": "stream",
     "text": [
      "shit!\n",
      "123\n",
      "C:\\Users\\t_ziemer\\Desktop\\techno-test\\germanycsv\\Eradicator - Destroy It Yourself (1994).m4a.csv\n",
      "cool\n"
     ]
    },
    {
     "name": "stderr",
     "output_type": "stream",
     "text": [
      "C:\\Users\\t_ziemer\\AppData\\Local\\Programs\\Python\\Python310\\lib\\site-packages\\librosa\\util\\decorators.py:88: UserWarning: PySoundFile failed. Trying audioread instead.\n",
      "  return f(*args, **kwargs)\n"
     ]
    },
    {
     "name": "stdout",
     "output_type": "stream",
     "text": [
      "100\n",
      "C:\\Users\\t_ziemer\\Desktop\\techno-test\\germanycsv\\Eradicator - Destroy It Yourself (Remix) (1994).m4a.csv\n",
      "cool\n"
     ]
    },
    {
     "name": "stderr",
     "output_type": "stream",
     "text": [
      "C:\\Users\\t_ziemer\\AppData\\Local\\Programs\\Python\\Python310\\lib\\site-packages\\librosa\\util\\decorators.py:88: UserWarning: PySoundFile failed. Trying audioread instead.\n",
      "  return f(*args, **kwargs)\n"
     ]
    },
    {
     "name": "stdout",
     "output_type": "stream",
     "text": [
      "119\n",
      "C:\\Users\\t_ziemer\\Desktop\\techno-test\\germanycsv\\Eradicator - M.C.P. (1994).m4a.csv\n",
      "cool\n"
     ]
    },
    {
     "name": "stderr",
     "output_type": "stream",
     "text": [
      "C:\\Users\\t_ziemer\\AppData\\Local\\Programs\\Python\\Python310\\lib\\site-packages\\librosa\\util\\decorators.py:88: UserWarning: PySoundFile failed. Trying audioread instead.\n",
      "  return f(*args, **kwargs)\n"
     ]
    },
    {
     "name": "stdout",
     "output_type": "stream",
     "text": [
      "104\n",
      "C:\\Users\\t_ziemer\\Desktop\\techno-test\\germanycsv\\Eradicator - Starving (1994).m4a.csv\n",
      "cool\n"
     ]
    },
    {
     "name": "stderr",
     "output_type": "stream",
     "text": [
      "C:\\Users\\t_ziemer\\AppData\\Local\\Programs\\Python\\Python310\\lib\\site-packages\\librosa\\util\\decorators.py:88: UserWarning: PySoundFile failed. Trying audioread instead.\n",
      "  return f(*args, **kwargs)\n"
     ]
    },
    {
     "name": "stdout",
     "output_type": "stream",
     "text": [
      "109\n",
      "C:\\Users\\t_ziemer\\Desktop\\techno-test\\germanycsv\\Eradicator - Titan (1994).m4a.csv\n",
      "cool\n"
     ]
    },
    {
     "name": "stderr",
     "output_type": "stream",
     "text": [
      "C:\\Users\\t_ziemer\\AppData\\Local\\Programs\\Python\\Python310\\lib\\site-packages\\librosa\\util\\decorators.py:88: UserWarning: PySoundFile failed. Trying audioread instead.\n",
      "  return f(*args, **kwargs)\n"
     ]
    },
    {
     "name": "stdout",
     "output_type": "stream",
     "text": [
      "119\n",
      "C:\\Users\\t_ziemer\\Desktop\\techno-test\\germanycsv\\Ethik II - Twilight Zone (1994).m4a.csv\n",
      "cool\n"
     ]
    },
    {
     "name": "stderr",
     "output_type": "stream",
     "text": [
      "C:\\Users\\t_ziemer\\AppData\\Local\\Programs\\Python\\Python310\\lib\\site-packages\\librosa\\util\\decorators.py:88: UserWarning: PySoundFile failed. Trying audioread instead.\n",
      "  return f(*args, **kwargs)\n"
     ]
    },
    {
     "name": "stdout",
     "output_type": "stream",
     "text": [
      "129\n",
      "C:\\Users\\t_ziemer\\Desktop\\techno-test\\germanycsv\\Evolution - The Experience Of Taking A Step Into Someones Dream (1993).m4a.csv\n",
      "cool\n",
      "127\n",
      "C:\\Users\\t_ziemer\\Desktop\\techno-test\\germanycsv\\Exit 100 - Liquid (Bubble One) (1992).mp3.csv\n",
      "cool\n"
     ]
    },
    {
     "name": "stderr",
     "output_type": "stream",
     "text": [
      "C:\\Users\\t_ziemer\\AppData\\Local\\Programs\\Python\\Python310\\lib\\site-packages\\librosa\\util\\decorators.py:88: UserWarning: PySoundFile failed. Trying audioread instead.\n",
      "  return f(*args, **kwargs)\n"
     ]
    },
    {
     "name": "stdout",
     "output_type": "stream",
     "text": [
      "116\n",
      "C:\\Users\\t_ziemer\\Desktop\\techno-test\\germanycsv\\Exit 100 - Spirits Of Vengeance (1992).m4a.csv\n",
      "cool\n"
     ]
    },
    {
     "name": "stderr",
     "output_type": "stream",
     "text": [
      "C:\\Users\\t_ziemer\\AppData\\Local\\Programs\\Python\\Python310\\lib\\site-packages\\librosa\\util\\decorators.py:88: UserWarning: PySoundFile failed. Trying audioread instead.\n",
      "  return f(*args, **kwargs)\n"
     ]
    },
    {
     "name": "stdout",
     "output_type": "stream",
     "text": [
      "125\n",
      "C:\\Users\\t_ziemer\\Desktop\\techno-test\\germanycsv\\Exit 100 - Strange Brew (1993).m4a.csv\n",
      "cool\n"
     ]
    },
    {
     "name": "stderr",
     "output_type": "stream",
     "text": [
      "C:\\Users\\t_ziemer\\AppData\\Local\\Programs\\Python\\Python310\\lib\\site-packages\\librosa\\util\\decorators.py:88: UserWarning: PySoundFile failed. Trying audioread instead.\n",
      "  return f(*args, **kwargs)\n"
     ]
    },
    {
     "name": "stdout",
     "output_type": "stream",
     "text": [
      "103\n",
      "C:\\Users\\t_ziemer\\Desktop\\techno-test\\germanycsv\\Exit EEE - Dreaming Of A Better World (1993).m4a.csv\n",
      "cool\n"
     ]
    },
    {
     "name": "stderr",
     "output_type": "stream",
     "text": [
      "C:\\Users\\t_ziemer\\AppData\\Local\\Programs\\Python\\Python310\\lib\\site-packages\\librosa\\util\\decorators.py:88: UserWarning: PySoundFile failed. Trying audioread instead.\n",
      "  return f(*args, **kwargs)\n"
     ]
    },
    {
     "name": "stdout",
     "output_type": "stream",
     "text": [
      "170\n",
      "C:\\Users\\t_ziemer\\Desktop\\techno-test\\germanycsv\\Exlex - E-Energy (1994).m4a.csv\n",
      "cool\n",
      "111\n",
      "C:\\Users\\t_ziemer\\Desktop\\techno-test\\germanycsv\\Exlex - Energized Your Soul (1994).opus.csv\n",
      "cool\n"
     ]
    },
    {
     "name": "stderr",
     "output_type": "stream",
     "text": [
      "C:\\Users\\t_ziemer\\AppData\\Local\\Programs\\Python\\Python310\\lib\\site-packages\\librosa\\util\\decorators.py:88: UserWarning: PySoundFile failed. Trying audioread instead.\n",
      "  return f(*args, **kwargs)\n"
     ]
    },
    {
     "name": "stdout",
     "output_type": "stream",
     "text": [
      "165\n",
      "C:\\Users\\t_ziemer\\Desktop\\techno-test\\germanycsv\\Exlex - Trip To Interzone (1994).m4a.csv\n",
      "cool\n"
     ]
    },
    {
     "name": "stderr",
     "output_type": "stream",
     "text": [
      "C:\\Users\\t_ziemer\\AppData\\Local\\Programs\\Python\\Python310\\lib\\site-packages\\librosa\\util\\decorators.py:88: UserWarning: PySoundFile failed. Trying audioread instead.\n",
      "  return f(*args, **kwargs)\n"
     ]
    },
    {
     "name": "stdout",
     "output_type": "stream",
     "text": [
      "128\n",
      "C:\\Users\\t_ziemer\\Desktop\\techno-test\\germanycsv\\F.E.O.S. vs. M⁄S⁄O - Raw (1994).m4a.csv\n",
      "cool\n"
     ]
    },
    {
     "name": "stderr",
     "output_type": "stream",
     "text": [
      "C:\\Users\\t_ziemer\\AppData\\Local\\Programs\\Python\\Python310\\lib\\site-packages\\librosa\\util\\decorators.py:88: UserWarning: PySoundFile failed. Trying audioread instead.\n",
      "  return f(*args, **kwargs)\n"
     ]
    },
    {
     "name": "stdout",
     "output_type": "stream",
     "text": [
      "128\n",
      "C:\\Users\\t_ziemer\\Desktop\\techno-test\\germanycsv\\Farian & Mc Auley - Rikki Don't Lose That Number (Spanish Fly Mix) (1994).m4a.csv\n",
      "cool\n",
      "118\n",
      "C:\\Users\\t_ziemer\\Desktop\\techno-test\\germanycsv\\Fast 4 Motion - 100 Meter Final (1992).opus.csv\n",
      "cool\n"
     ]
    },
    {
     "name": "stderr",
     "output_type": "stream",
     "text": [
      "C:\\Users\\t_ziemer\\AppData\\Local\\Programs\\Python\\Python310\\lib\\site-packages\\librosa\\util\\decorators.py:88: UserWarning: PySoundFile failed. Trying audioread instead.\n",
      "  return f(*args, **kwargs)\n"
     ]
    },
    {
     "name": "stdout",
     "output_type": "stream",
     "text": [
      "153\n",
      "C:\\Users\\t_ziemer\\Desktop\\techno-test\\germanycsv\\Fast 4 Motion - Reggae Shades (1994).m4a.csv\n",
      "cool\n"
     ]
    },
    {
     "name": "stderr",
     "output_type": "stream",
     "text": [
      "C:\\Users\\t_ziemer\\AppData\\Local\\Programs\\Python\\Python310\\lib\\site-packages\\librosa\\util\\decorators.py:88: UserWarning: PySoundFile failed. Trying audioread instead.\n",
      "  return f(*args, **kwargs)\n"
     ]
    },
    {
     "name": "stdout",
     "output_type": "stream",
     "text": [
      "shit!\n",
      "112\n",
      "C:\\Users\\t_ziemer\\Desktop\\techno-test\\germanycsv\\Fischerman's Friend - Money $ (Orbital Club Mix) (1989).m4a.csv\n",
      "cool\n"
     ]
    },
    {
     "name": "stderr",
     "output_type": "stream",
     "text": [
      "C:\\Users\\t_ziemer\\AppData\\Local\\Programs\\Python\\Python310\\lib\\site-packages\\librosa\\util\\decorators.py:88: UserWarning: PySoundFile failed. Trying audioread instead.\n",
      "  return f(*args, **kwargs)\n"
     ]
    },
    {
     "name": "stdout",
     "output_type": "stream",
     "text": [
      "106\n",
      "C:\\Users\\t_ziemer\\Desktop\\techno-test\\germanycsv\\Fischerman's Friend - O'locco (1989).m4a.csv\n",
      "cool\n"
     ]
    },
    {
     "name": "stderr",
     "output_type": "stream",
     "text": [
      "C:\\Users\\t_ziemer\\AppData\\Local\\Programs\\Python\\Python310\\lib\\site-packages\\librosa\\util\\decorators.py:88: UserWarning: PySoundFile failed. Trying audioread instead.\n",
      "  return f(*args, **kwargs)\n"
     ]
    },
    {
     "name": "stdout",
     "output_type": "stream",
     "text": [
      "114\n",
      "C:\\Users\\t_ziemer\\Desktop\\techno-test\\germanycsv\\Friends of Mr. Cairo - The Caravan (12' Mix) (1988).m4a.csv\n",
      "cool\n",
      "91\n",
      "C:\\Users\\t_ziemer\\Desktop\\techno-test\\germanycsv\\Frisky Sisco - Go Forward (Emotion) (1991).mp3.csv\n",
      "cool\n"
     ]
    },
    {
     "name": "stderr",
     "output_type": "stream",
     "text": [
      "C:\\Users\\t_ziemer\\AppData\\Local\\Programs\\Python\\Python310\\lib\\site-packages\\librosa\\util\\decorators.py:88: UserWarning: PySoundFile failed. Trying audioread instead.\n",
      "  return f(*args, **kwargs)\n"
     ]
    },
    {
     "name": "stdout",
     "output_type": "stream",
     "text": [
      "164\n",
      "C:\\Users\\t_ziemer\\Desktop\\techno-test\\germanycsv\\Fuckmasters - Lick My Ass (Allemagne-Voicemix) (1992).m4a.csv\n",
      "cool\n"
     ]
    },
    {
     "name": "stderr",
     "output_type": "stream",
     "text": [
      "C:\\Users\\t_ziemer\\AppData\\Local\\Programs\\Python\\Python310\\lib\\site-packages\\librosa\\util\\decorators.py:88: UserWarning: PySoundFile failed. Trying audioread instead.\n",
      "  return f(*args, **kwargs)\n"
     ]
    },
    {
     "name": "stdout",
     "output_type": "stream",
     "text": [
      "118\n",
      "C:\\Users\\t_ziemer\\Desktop\\techno-test\\germanycsv\\Fun Factory - XTC (1991).m4a.csv\n",
      "cool\n",
      "130\n",
      "C:\\Users\\t_ziemer\\Desktop\\techno-test\\germanycsv\\Gamma Loop - Stagmato Seven (Cool Housy Mix) (1994).opus.csv\n",
      "cool\n"
     ]
    },
    {
     "name": "stderr",
     "output_type": "stream",
     "text": [
      "C:\\Users\\t_ziemer\\AppData\\Local\\Programs\\Python\\Python310\\lib\\site-packages\\librosa\\util\\decorators.py:88: UserWarning: PySoundFile failed. Trying audioread instead.\n",
      "  return f(*args, **kwargs)\n"
     ]
    },
    {
     "name": "stdout",
     "output_type": "stream",
     "text": [
      "140\n",
      "C:\\Users\\t_ziemer\\Desktop\\techno-test\\germanycsv\\General Motor feat. Miss Sunday - I'm Gonna Give You My Love (Original) (1991).m4a.csv\n",
      "cool\n"
     ]
    },
    {
     "name": "stderr",
     "output_type": "stream",
     "text": [
      "C:\\Users\\t_ziemer\\AppData\\Local\\Programs\\Python\\Python310\\lib\\site-packages\\librosa\\util\\decorators.py:88: UserWarning: PySoundFile failed. Trying audioread instead.\n",
      "  return f(*args, **kwargs)\n"
     ]
    },
    {
     "name": "stdout",
     "output_type": "stream",
     "text": [
      "137\n",
      "C:\\Users\\t_ziemer\\Desktop\\techno-test\\germanycsv\\Genetix - DNA v2.0 (1994).m4a.csv\n",
      "cool\n"
     ]
    },
    {
     "name": "stderr",
     "output_type": "stream",
     "text": [
      "C:\\Users\\t_ziemer\\AppData\\Local\\Programs\\Python\\Python310\\lib\\site-packages\\librosa\\util\\decorators.py:88: UserWarning: PySoundFile failed. Trying audioread instead.\n",
      "  return f(*args, **kwargs)\n"
     ]
    },
    {
     "name": "stdout",
     "output_type": "stream",
     "text": [
      "106\n",
      "C:\\Users\\t_ziemer\\Desktop\\techno-test\\germanycsv\\Gothic Dreams - Cybercore Dream (1993).m4a.csv\n",
      "cool\n"
     ]
    },
    {
     "name": "stderr",
     "output_type": "stream",
     "text": [
      "C:\\Users\\t_ziemer\\AppData\\Local\\Programs\\Python\\Python310\\lib\\site-packages\\librosa\\util\\decorators.py:88: UserWarning: PySoundFile failed. Trying audioread instead.\n",
      "  return f(*args, **kwargs)\n"
     ]
    },
    {
     "name": "stdout",
     "output_type": "stream",
     "text": [
      "112\n",
      "C:\\Users\\t_ziemer\\Desktop\\techno-test\\germanycsv\\Gothic Dreams - Descriptic Dream (1993).m4a.csv\n",
      "cool\n"
     ]
    },
    {
     "name": "stderr",
     "output_type": "stream",
     "text": [
      "C:\\Users\\t_ziemer\\AppData\\Local\\Programs\\Python\\Python310\\lib\\site-packages\\librosa\\util\\decorators.py:88: UserWarning: PySoundFile failed. Trying audioread instead.\n",
      "  return f(*args, **kwargs)\n"
     ]
    },
    {
     "name": "stdout",
     "output_type": "stream",
     "text": [
      "120\n",
      "C:\\Users\\t_ziemer\\Desktop\\techno-test\\germanycsv\\Gothic Dreams - Tibetan Jazz (1993).m4a.csv\n",
      "cool\n"
     ]
    },
    {
     "name": "stderr",
     "output_type": "stream",
     "text": [
      "C:\\Users\\t_ziemer\\AppData\\Local\\Programs\\Python\\Python310\\lib\\site-packages\\librosa\\util\\decorators.py:88: UserWarning: PySoundFile failed. Trying audioread instead.\n",
      "  return f(*args, **kwargs)\n"
     ]
    },
    {
     "name": "stdout",
     "output_type": "stream",
     "text": [
      "129\n",
      "C:\\Users\\t_ziemer\\Desktop\\techno-test\\germanycsv\\Groovemaster K & Nitro - Animotion (1993).m4a.csv\n",
      "cool\n",
      "129\n",
      "C:\\Users\\t_ziemer\\Desktop\\techno-test\\germanycsv\\Groovemaster K & Nitro - The Legend of House (1993).mp3.csv\n",
      "cool\n"
     ]
    },
    {
     "name": "stderr",
     "output_type": "stream",
     "text": [
      "C:\\Users\\t_ziemer\\AppData\\Local\\Programs\\Python\\Python310\\lib\\site-packages\\librosa\\util\\decorators.py:88: UserWarning: PySoundFile failed. Trying audioread instead.\n",
      "  return f(*args, **kwargs)\n"
     ]
    },
    {
     "name": "stdout",
     "output_type": "stream",
     "text": [
      "130\n",
      "C:\\Users\\t_ziemer\\Desktop\\techno-test\\germanycsv\\Haddaway - Life (12'' Mix) (1993).m4a.csv\n",
      "cool\n",
      "128\n",
      "C:\\Users\\t_ziemer\\Desktop\\techno-test\\germanycsv\\Haddaway - Life (1993).mp3.csv\n",
      "cool\n"
     ]
    },
    {
     "name": "stderr",
     "output_type": "stream",
     "text": [
      "C:\\Users\\t_ziemer\\AppData\\Local\\Programs\\Python\\Python310\\lib\\site-packages\\librosa\\util\\decorators.py:88: UserWarning: PySoundFile failed. Trying audioread instead.\n",
      "  return f(*args, **kwargs)\n"
     ]
    },
    {
     "name": "stdout",
     "output_type": "stream",
     "text": [
      "126\n",
      "C:\\Users\\t_ziemer\\Desktop\\techno-test\\germanycsv\\Haddaway - Rock My Heart (1993).m4a.csv\n",
      "cool\n",
      "129\n",
      "C:\\Users\\t_ziemer\\Desktop\\techno-test\\germanycsv\\Haddaway - Rock My Heart (1993).mp3.csv\n",
      "cool\n",
      "129\n",
      "C:\\Users\\t_ziemer\\Desktop\\techno-test\\germanycsv\\Haddaway - Rock my heart (Radio mix) (1993).mp3.csv\n",
      "cool\n"
     ]
    },
    {
     "name": "stderr",
     "output_type": "stream",
     "text": [
      "C:\\Users\\t_ziemer\\AppData\\Local\\Programs\\Python\\Python310\\lib\\site-packages\\librosa\\util\\decorators.py:88: UserWarning: PySoundFile failed. Trying audioread instead.\n",
      "  return f(*args, **kwargs)\n"
     ]
    },
    {
     "name": "stdout",
     "output_type": "stream",
     "text": [
      "120\n",
      "C:\\Users\\t_ziemer\\Desktop\\techno-test\\germanycsv\\Haddaway - Sing About Love (1993).m4a.csv\n",
      "cool\n"
     ]
    },
    {
     "name": "stderr",
     "output_type": "stream",
     "text": [
      "C:\\Users\\t_ziemer\\AppData\\Local\\Programs\\Python\\Python310\\lib\\site-packages\\librosa\\util\\decorators.py:88: UserWarning: PySoundFile failed. Trying audioread instead.\n",
      "  return f(*args, **kwargs)\n"
     ]
    },
    {
     "name": "stdout",
     "output_type": "stream",
     "text": [
      "123\n",
      "C:\\Users\\t_ziemer\\Desktop\\techno-test\\germanycsv\\Haddaway - What Is Love (Rapino-Brothers-Mix) (1993).m4a.csv\n",
      "cool\n"
     ]
    },
    {
     "name": "stderr",
     "output_type": "stream",
     "text": [
      "C:\\Users\\t_ziemer\\AppData\\Local\\Programs\\Python\\Python310\\lib\\site-packages\\librosa\\util\\decorators.py:88: UserWarning: PySoundFile failed. Trying audioread instead.\n",
      "  return f(*args, **kwargs)\n"
     ]
    },
    {
     "name": "stdout",
     "output_type": "stream",
     "text": [
      "113\n",
      "C:\\Users\\t_ziemer\\Desktop\\techno-test\\germanycsv\\Haddaway - Yeah (1993).m4a.csv\n",
      "cool\n"
     ]
    },
    {
     "name": "stderr",
     "output_type": "stream",
     "text": [
      "C:\\Users\\t_ziemer\\AppData\\Local\\Programs\\Python\\Python310\\lib\\site-packages\\librosa\\util\\decorators.py:88: UserWarning: PySoundFile failed. Trying audioread instead.\n",
      "  return f(*args, **kwargs)\n"
     ]
    },
    {
     "name": "stdout",
     "output_type": "stream",
     "text": [
      "130\n",
      "C:\\Users\\t_ziemer\\Desktop\\techno-test\\germanycsv\\Hardfloor - Acperience 5 (1994).m4a.csv\n",
      "cool\n"
     ]
    },
    {
     "name": "stderr",
     "output_type": "stream",
     "text": [
      "C:\\Users\\t_ziemer\\AppData\\Local\\Programs\\Python\\Python310\\lib\\site-packages\\librosa\\util\\decorators.py:88: UserWarning: PySoundFile failed. Trying audioread instead.\n",
      "  return f(*args, **kwargs)\n"
     ]
    },
    {
     "name": "stdout",
     "output_type": "stream",
     "text": [
      "125\n",
      "C:\\Users\\t_ziemer\\Desktop\\techno-test\\germanycsv\\Hardfloor - Acperience I (1993).m4a.csv\n",
      "cool\n"
     ]
    },
    {
     "name": "stderr",
     "output_type": "stream",
     "text": [
      "C:\\Users\\t_ziemer\\AppData\\Local\\Programs\\Python\\Python310\\lib\\site-packages\\librosa\\util\\decorators.py:88: UserWarning: PySoundFile failed. Trying audioread instead.\n",
      "  return f(*args, **kwargs)\n"
     ]
    },
    {
     "name": "stdout",
     "output_type": "stream",
     "text": [
      "107\n",
      "C:\\Users\\t_ziemer\\Desktop\\techno-test\\germanycsv\\Hardfloor - Alternative (1994).m4a.csv\n",
      "cool\n"
     ]
    },
    {
     "name": "stderr",
     "output_type": "stream",
     "text": [
      "C:\\Users\\t_ziemer\\AppData\\Local\\Programs\\Python\\Python310\\lib\\site-packages\\librosa\\util\\decorators.py:88: UserWarning: PySoundFile failed. Trying audioread instead.\n",
      "  return f(*args, **kwargs)\n"
     ]
    },
    {
     "name": "stdout",
     "output_type": "stream",
     "text": [
      "120\n",
      "C:\\Users\\t_ziemer\\Desktop\\techno-test\\germanycsv\\Hardfloor - AM-Trip (1993).m4a.csv\n",
      "cool\n"
     ]
    },
    {
     "name": "stderr",
     "output_type": "stream",
     "text": [
      "C:\\Users\\t_ziemer\\AppData\\Local\\Programs\\Python\\Python310\\lib\\site-packages\\librosa\\util\\decorators.py:88: UserWarning: PySoundFile failed. Trying audioread instead.\n",
      "  return f(*args, **kwargs)\n"
     ]
    },
    {
     "name": "stdout",
     "output_type": "stream",
     "text": [
      "129\n",
      "C:\\Users\\t_ziemer\\Desktop\\techno-test\\germanycsv\\Hardfloor - Asbestos In Obstetrics (1993).m4a.csv\n",
      "cool\n"
     ]
    },
    {
     "name": "stderr",
     "output_type": "stream",
     "text": [
      "C:\\Users\\t_ziemer\\AppData\\Local\\Programs\\Python\\Python310\\lib\\site-packages\\librosa\\util\\decorators.py:88: UserWarning: PySoundFile failed. Trying audioread instead.\n",
      "  return f(*args, **kwargs)\n"
     ]
    },
    {
     "name": "stdout",
     "output_type": "stream",
     "text": [
      "125\n",
      "C:\\Users\\t_ziemer\\Desktop\\techno-test\\germanycsv\\Hardfloor - Funalogue (1994).m4a.csv\n",
      "cool\n"
     ]
    },
    {
     "name": "stderr",
     "output_type": "stream",
     "text": [
      "C:\\Users\\t_ziemer\\AppData\\Local\\Programs\\Python\\Python310\\lib\\site-packages\\librosa\\util\\decorators.py:88: UserWarning: PySoundFile failed. Trying audioread instead.\n",
      "  return f(*args, **kwargs)\n"
     ]
    },
    {
     "name": "stdout",
     "output_type": "stream",
     "text": [
      "128\n",
      "C:\\Users\\t_ziemer\\Desktop\\techno-test\\germanycsv\\Hardfloor - Into The Nature (Hardfloor Remix) (1994).m4a.csv\n",
      "cool\n",
      "129\n",
      "C:\\Users\\t_ziemer\\Desktop\\techno-test\\germanycsv\\Hardfloor - Strawberry Maze (1994).mp3.csv\n",
      "cool\n"
     ]
    },
    {
     "name": "stderr",
     "output_type": "stream",
     "text": [
      "C:\\Users\\t_ziemer\\AppData\\Local\\Programs\\Python\\Python310\\lib\\site-packages\\librosa\\util\\decorators.py:88: UserWarning: PySoundFile failed. Trying audioread instead.\n",
      "  return f(*args, **kwargs)\n"
     ]
    },
    {
     "name": "stdout",
     "output_type": "stream",
     "text": [
      "127\n",
      "C:\\Users\\t_ziemer\\Desktop\\techno-test\\germanycsv\\Hardfloor - Trancescript (1993).m4a.csv\n",
      "cool\n"
     ]
    },
    {
     "name": "stderr",
     "output_type": "stream",
     "text": [
      "C:\\Users\\t_ziemer\\AppData\\Local\\Programs\\Python\\Python310\\lib\\site-packages\\librosa\\util\\decorators.py:88: UserWarning: PySoundFile failed. Trying audioread instead.\n",
      "  return f(*args, **kwargs)\n"
     ]
    },
    {
     "name": "stdout",
     "output_type": "stream",
     "text": [
      "162\n",
      "C:\\Users\\t_ziemer\\Desktop\\techno-test\\germanycsv\\Hardsequencer - For The Party People (1994).m4a.csv\n",
      "cool\n"
     ]
    },
    {
     "name": "stderr",
     "output_type": "stream",
     "text": [
      "C:\\Users\\t_ziemer\\AppData\\Local\\Programs\\Python\\Python310\\lib\\site-packages\\librosa\\util\\decorators.py:88: UserWarning: PySoundFile failed. Trying audioread instead.\n",
      "  return f(*args, **kwargs)\n"
     ]
    },
    {
     "name": "stdout",
     "output_type": "stream",
     "text": [
      "167\n",
      "C:\\Users\\t_ziemer\\Desktop\\techno-test\\germanycsv\\Hardsequencer - Power Of Sound (1994).m4a.csv\n",
      "cool\n"
     ]
    },
    {
     "name": "stderr",
     "output_type": "stream",
     "text": [
      "C:\\Users\\t_ziemer\\AppData\\Local\\Programs\\Python\\Python310\\lib\\site-packages\\librosa\\util\\decorators.py:88: UserWarning: PySoundFile failed. Trying audioread instead.\n",
      "  return f(*args, **kwargs)\n"
     ]
    },
    {
     "name": "stdout",
     "output_type": "stream",
     "text": [
      "shit!\n"
     ]
    },
    {
     "name": "stderr",
     "output_type": "stream",
     "text": [
      "C:\\Users\\t_ziemer\\AppData\\Local\\Programs\\Python\\Python310\\lib\\site-packages\\librosa\\util\\decorators.py:88: UserWarning: PySoundFile failed. Trying audioread instead.\n",
      "  return f(*args, **kwargs)\n"
     ]
    },
    {
     "name": "stdout",
     "output_type": "stream",
     "text": [
      "82\n",
      "C:\\Users\\t_ziemer\\Desktop\\techno-test\\germanycsv\\Headware - Bite The Dust (1994).m4a.csv\n",
      "cool\n"
     ]
    },
    {
     "name": "stderr",
     "output_type": "stream",
     "text": [
      "C:\\Users\\t_ziemer\\AppData\\Local\\Programs\\Python\\Python310\\lib\\site-packages\\librosa\\util\\decorators.py:88: UserWarning: PySoundFile failed. Trying audioread instead.\n",
      "  return f(*args, **kwargs)\n"
     ]
    },
    {
     "name": "stdout",
     "output_type": "stream",
     "text": [
      "102\n",
      "C:\\Users\\t_ziemer\\Desktop\\techno-test\\germanycsv\\Headware - Go Berserk! (1993).m4a.csv\n",
      "cool\n"
     ]
    },
    {
     "name": "stderr",
     "output_type": "stream",
     "text": [
      "C:\\Users\\t_ziemer\\AppData\\Local\\Programs\\Python\\Python310\\lib\\site-packages\\librosa\\util\\decorators.py:88: UserWarning: PySoundFile failed. Trying audioread instead.\n",
      "  return f(*args, **kwargs)\n"
     ]
    },
    {
     "name": "stdout",
     "output_type": "stream",
     "text": [
      "100\n",
      "C:\\Users\\t_ziemer\\Desktop\\techno-test\\germanycsv\\Headware - People Of Tomorrow (1993).m4a.csv\n",
      "cool\n"
     ]
    },
    {
     "name": "stderr",
     "output_type": "stream",
     "text": [
      "C:\\Users\\t_ziemer\\AppData\\Local\\Programs\\Python\\Python310\\lib\\site-packages\\librosa\\util\\decorators.py:88: UserWarning: PySoundFile failed. Trying audioread instead.\n",
      "  return f(*args, **kwargs)\n"
     ]
    },
    {
     "name": "stdout",
     "output_type": "stream",
     "text": [
      "86\n",
      "C:\\Users\\t_ziemer\\Desktop\\techno-test\\germanycsv\\Headware - What Kind of World (1994).m4a.csv\n",
      "cool\n"
     ]
    },
    {
     "name": "stderr",
     "output_type": "stream",
     "text": [
      "C:\\Users\\t_ziemer\\AppData\\Local\\Programs\\Python\\Python310\\lib\\site-packages\\librosa\\util\\decorators.py:88: UserWarning: PySoundFile failed. Trying audioread instead.\n",
      "  return f(*args, **kwargs)\n"
     ]
    },
    {
     "name": "stdout",
     "output_type": "stream",
     "text": [
      "shit!\n",
      "shit!\n",
      "130\n",
      "C:\\Users\\t_ziemer\\Desktop\\techno-test\\germanycsv\\High Spirit - Start The Burning Move (Piano Mix) (1994).m4a.csv\n",
      "cool\n",
      "129\n",
      "C:\\Users\\t_ziemer\\Desktop\\techno-test\\germanycsv\\Holy House Feat. Jens Lissat - Powerfloat (1993).mp3.csv\n",
      "cool\n"
     ]
    },
    {
     "name": "stderr",
     "output_type": "stream",
     "text": [
      "C:\\Users\\t_ziemer\\AppData\\Local\\Programs\\Python\\Python310\\lib\\site-packages\\librosa\\util\\decorators.py:88: UserWarning: PySoundFile failed. Trying audioread instead.\n",
      "  return f(*args, **kwargs)\n"
     ]
    },
    {
     "name": "stdout",
     "output_type": "stream",
     "text": [
      "129\n",
      "C:\\Users\\t_ziemer\\Desktop\\techno-test\\germanycsv\\Holy House Feat. Jens Lissat - The Power Of Love (1993).m4a.csv\n",
      "cool\n"
     ]
    },
    {
     "name": "stderr",
     "output_type": "stream",
     "text": [
      "C:\\Users\\t_ziemer\\AppData\\Local\\Programs\\Python\\Python310\\lib\\site-packages\\librosa\\util\\decorators.py:88: UserWarning: PySoundFile failed. Trying audioread instead.\n",
      "  return f(*args, **kwargs)\n"
     ]
    },
    {
     "name": "stdout",
     "output_type": "stream",
     "text": [
      "118\n",
      "C:\\Users\\t_ziemer\\Desktop\\techno-test\\germanycsv\\Humate & Rabbit in the Moon - South (1994).m4a.csv\n",
      "cool\n"
     ]
    },
    {
     "name": "stderr",
     "output_type": "stream",
     "text": [
      "C:\\Users\\t_ziemer\\AppData\\Local\\Programs\\Python\\Python310\\lib\\site-packages\\librosa\\util\\decorators.py:88: UserWarning: PySoundFile failed. Trying audioread instead.\n",
      "  return f(*args, **kwargs)\n",
      "C:\\Users\\t_ziemer\\AppData\\Local\\Temp\\ipykernel_23008\\215507790.py:27: RuntimeWarning: invalid value encountered in divide\n",
      "  autocorr /= np.max(np.abs(autocorr))\n"
     ]
    },
    {
     "name": "stdout",
     "output_type": "stream",
     "text": [
      "130\n",
      "C:\\Users\\t_ziemer\\Desktop\\techno-test\\germanycsv\\Humate & Rabbit in the Moon - West (1994).m4a.csv\n",
      "cool\n"
     ]
    },
    {
     "name": "stderr",
     "output_type": "stream",
     "text": [
      "C:\\Users\\t_ziemer\\AppData\\Local\\Programs\\Python\\Python310\\lib\\site-packages\\librosa\\util\\decorators.py:88: UserWarning: PySoundFile failed. Trying audioread instead.\n",
      "  return f(*args, **kwargs)\n"
     ]
    },
    {
     "name": "stdout",
     "output_type": "stream",
     "text": [
      "shit!\n",
      "129\n",
      "C:\\Users\\t_ziemer\\Desktop\\techno-test\\germanycsv\\Hysterie - Call Me (Radio Edit) (1993).m4a.csv\n",
      "cool\n"
     ]
    },
    {
     "name": "stderr",
     "output_type": "stream",
     "text": [
      "C:\\Users\\t_ziemer\\AppData\\Local\\Programs\\Python\\Python310\\lib\\site-packages\\librosa\\util\\decorators.py:88: UserWarning: PySoundFile failed. Trying audioread instead.\n",
      "  return f(*args, **kwargs)\n"
     ]
    },
    {
     "name": "stdout",
     "output_type": "stream",
     "text": [
      "129\n",
      "C:\\Users\\t_ziemer\\Desktop\\techno-test\\germanycsv\\Hysterie - Midnight Hour (Dance Mix) (1993).m4a.csv\n",
      "cool\n",
      "128\n",
      "C:\\Users\\t_ziemer\\Desktop\\techno-test\\germanycsv\\Ian Pooley - Never give up (1994).mp3.csv\n",
      "cool\n",
      "129\n",
      "C:\\Users\\t_ziemer\\Desktop\\techno-test\\germanycsv\\Ian Pooley - Rollerskate Disco (1994).mp3.csv\n",
      "cool\n"
     ]
    },
    {
     "name": "stderr",
     "output_type": "stream",
     "text": [
      "C:\\Users\\t_ziemer\\AppData\\Local\\Programs\\Python\\Python310\\lib\\site-packages\\librosa\\util\\decorators.py:88: UserWarning: PySoundFile failed. Trying audioread instead.\n",
      "  return f(*args, **kwargs)\n"
     ]
    },
    {
     "name": "stdout",
     "output_type": "stream",
     "text": [
      "129\n",
      "C:\\Users\\t_ziemer\\Desktop\\techno-test\\germanycsv\\Ian Pooley - Sure! (1994).m4a.csv\n",
      "cool\n",
      "126\n",
      "C:\\Users\\t_ziemer\\Desktop\\techno-test\\germanycsv\\Ian Pooley - The BrickenKopf at 7AM (1994).mp3.csv\n",
      "cool\n"
     ]
    },
    {
     "name": "stderr",
     "output_type": "stream",
     "text": [
      "C:\\Users\\t_ziemer\\AppData\\Local\\Programs\\Python\\Python310\\lib\\site-packages\\librosa\\util\\decorators.py:88: UserWarning: PySoundFile failed. Trying audioread instead.\n",
      "  return f(*args, **kwargs)\n"
     ]
    },
    {
     "name": "stdout",
     "output_type": "stream",
     "text": [
      "130\n",
      "C:\\Users\\t_ziemer\\Desktop\\techno-test\\germanycsv\\Ian Pooley - Untitled B [Twin Gods E.P.] (1993).m4a.csv\n",
      "cool\n"
     ]
    },
    {
     "name": "stderr",
     "output_type": "stream",
     "text": [
      "C:\\Users\\t_ziemer\\AppData\\Local\\Programs\\Python\\Python310\\lib\\site-packages\\librosa\\util\\decorators.py:88: UserWarning: PySoundFile failed. Trying audioread instead.\n",
      "  return f(*args, **kwargs)\n"
     ]
    },
    {
     "name": "stdout",
     "output_type": "stream",
     "text": [
      "shit!\n",
      "shit!\n",
      "153\n",
      "C:\\Users\\t_ziemer\\Desktop\\techno-test\\germanycsv\\Infinite Aura - C-Trance (1993).opus.csv\n",
      "cool\n"
     ]
    },
    {
     "name": "stderr",
     "output_type": "stream",
     "text": [
      "C:\\Users\\t_ziemer\\AppData\\Local\\Programs\\Python\\Python310\\lib\\site-packages\\librosa\\util\\decorators.py:88: UserWarning: PySoundFile failed. Trying audioread instead.\n",
      "  return f(*args, **kwargs)\n"
     ]
    },
    {
     "name": "stdout",
     "output_type": "stream",
     "text": [
      "137\n",
      "C:\\Users\\t_ziemer\\Desktop\\techno-test\\germanycsv\\Infinite Aura - Fractal (1993).m4a.csv\n",
      "cool\n",
      "164\n",
      "C:\\Users\\t_ziemer\\Desktop\\techno-test\\germanycsv\\Infusion Impulse - Bells Of Doom (1994).mp3.csv\n",
      "cool\n"
     ]
    },
    {
     "name": "stderr",
     "output_type": "stream",
     "text": [
      "C:\\Users\\t_ziemer\\AppData\\Local\\Programs\\Python\\Python310\\lib\\site-packages\\librosa\\util\\decorators.py:88: UserWarning: PySoundFile failed. Trying audioread instead.\n",
      "  return f(*args, **kwargs)\n"
     ]
    },
    {
     "name": "stdout",
     "output_type": "stream",
     "text": [
      "116\n",
      "C:\\Users\\t_ziemer\\Desktop\\techno-test\\germanycsv\\Inga Humpe - I Get Along (1990).m4a.csv\n",
      "cool\n"
     ]
    },
    {
     "name": "stderr",
     "output_type": "stream",
     "text": [
      "C:\\Users\\t_ziemer\\AppData\\Local\\Programs\\Python\\Python310\\lib\\site-packages\\librosa\\util\\decorators.py:88: UserWarning: PySoundFile failed. Trying audioread instead.\n",
      "  return f(*args, **kwargs)\n"
     ]
    },
    {
     "name": "stdout",
     "output_type": "stream",
     "text": [
      "118\n",
      "C:\\Users\\t_ziemer\\Desktop\\techno-test\\germanycsv\\Interactive - T.D.S. (Techno Drome Sound) (1990).m4a.csv\n",
      "cool\n"
     ]
    },
    {
     "name": "stderr",
     "output_type": "stream",
     "text": [
      "C:\\Users\\t_ziemer\\AppData\\Local\\Programs\\Python\\Python310\\lib\\site-packages\\librosa\\util\\decorators.py:88: UserWarning: PySoundFile failed. Trying audioread instead.\n",
      "  return f(*args, **kwargs)\n"
     ]
    },
    {
     "name": "stdout",
     "output_type": "stream",
     "text": [
      "shit!\n",
      "158\n",
      "C:\\Users\\t_ziemer\\Desktop\\techno-test\\germanycsv\\Intrance Feat. D-Sign - Visions Of Love (Sky-Trip-Edit) (1994).m4a.csv\n",
      "cool\n"
     ]
    },
    {
     "name": "stderr",
     "output_type": "stream",
     "text": [
      "C:\\Users\\t_ziemer\\AppData\\Local\\Programs\\Python\\Python310\\lib\\site-packages\\librosa\\util\\decorators.py:88: UserWarning: PySoundFile failed. Trying audioread instead.\n",
      "  return f(*args, **kwargs)\n"
     ]
    },
    {
     "name": "stdout",
     "output_type": "stream",
     "text": [
      "178\n",
      "C:\\Users\\t_ziemer\\Desktop\\techno-test\\germanycsv\\Jack U Rebels - Lost In Space (1991).m4a.csv\n",
      "cool\n"
     ]
    },
    {
     "name": "stderr",
     "output_type": "stream",
     "text": [
      "C:\\Users\\t_ziemer\\AppData\\Local\\Programs\\Python\\Python310\\lib\\site-packages\\librosa\\util\\decorators.py:88: UserWarning: PySoundFile failed. Trying audioread instead.\n",
      "  return f(*args, **kwargs)\n"
     ]
    },
    {
     "name": "stdout",
     "output_type": "stream",
     "text": [
      "shit!\n",
      "shit!\n",
      "shit!\n",
      "170\n",
      "C:\\Users\\t_ziemer\\Desktop\\techno-test\\germanycsv\\Jan Pravda - Natural Beat (1994).m4a.csv\n",
      "cool\n",
      "164\n",
      "C:\\Users\\t_ziemer\\Desktop\\techno-test\\germanycsv\\Jan Pravda - Pravda Interrupt (1993).mp3.csv\n",
      "cool\n"
     ]
    },
    {
     "name": "stderr",
     "output_type": "stream",
     "text": [
      "C:\\Users\\t_ziemer\\AppData\\Local\\Programs\\Python\\Python310\\lib\\site-packages\\librosa\\util\\decorators.py:88: UserWarning: PySoundFile failed. Trying audioread instead.\n",
      "  return f(*args, **kwargs)\n"
     ]
    },
    {
     "name": "stdout",
     "output_type": "stream",
     "text": [
      "93\n",
      "C:\\Users\\t_ziemer\\Desktop\\techno-test\\germanycsv\\Jaye - Move To The Groove (New Groove Mix) (1991).m4a.csv\n",
      "cool\n",
      "shit!\n"
     ]
    },
    {
     "name": "stderr",
     "output_type": "stream",
     "text": [
      "C:\\Users\\t_ziemer\\AppData\\Local\\Programs\\Python\\Python310\\lib\\site-packages\\librosa\\util\\decorators.py:88: UserWarning: PySoundFile failed. Trying audioread instead.\n",
      "  return f(*args, **kwargs)\n"
     ]
    },
    {
     "name": "stdout",
     "output_type": "stream",
     "text": [
      "107\n",
      "C:\\Users\\t_ziemer\\Desktop\\techno-test\\germanycsv\\Jeyênne - Valvula (1994).m4a.csv\n",
      "cool\n"
     ]
    },
    {
     "name": "stderr",
     "output_type": "stream",
     "text": [
      "C:\\Users\\t_ziemer\\AppData\\Local\\Programs\\Python\\Python310\\lib\\site-packages\\librosa\\util\\decorators.py:88: UserWarning: PySoundFile failed. Trying audioread instead.\n",
      "  return f(*args, **kwargs)\n"
     ]
    },
    {
     "name": "stdout",
     "output_type": "stream",
     "text": [
      "118\n",
      "C:\\Users\\t_ziemer\\Desktop\\techno-test\\germanycsv\\Jeyênne Feat. Lilly - Big Confusion (Full Force Version) (1992).m4a.csv\n",
      "cool\n"
     ]
    },
    {
     "name": "stderr",
     "output_type": "stream",
     "text": [
      "C:\\Users\\t_ziemer\\AppData\\Local\\Programs\\Python\\Python310\\lib\\site-packages\\librosa\\util\\decorators.py:88: UserWarning: PySoundFile failed. Trying audioread instead.\n",
      "  return f(*args, **kwargs)\n"
     ]
    },
    {
     "name": "stdout",
     "output_type": "stream",
     "text": [
      "168\n",
      "C:\\Users\\t_ziemer\\Desktop\\techno-test\\germanycsv\\Josh - Der Säbeltanz (Single Edit) (1994).m4a.csv\n",
      "cool\n"
     ]
    },
    {
     "name": "stderr",
     "output_type": "stream",
     "text": [
      "C:\\Users\\t_ziemer\\AppData\\Local\\Programs\\Python\\Python310\\lib\\site-packages\\librosa\\util\\decorators.py:88: UserWarning: PySoundFile failed. Trying audioread instead.\n",
      "  return f(*args, **kwargs)\n"
     ]
    },
    {
     "name": "stdout",
     "output_type": "stream",
     "text": [
      "115\n",
      "C:\\Users\\t_ziemer\\Desktop\\techno-test\\germanycsv\\Julius - As Time Goes By (1994).m4a.csv\n",
      "cool\n",
      "125\n",
      "C:\\Users\\t_ziemer\\Desktop\\techno-test\\germanycsv\\Julius - Basic Paradise (1994).opus.csv\n",
      "cool\n",
      "125\n",
      "C:\\Users\\t_ziemer\\Desktop\\techno-test\\germanycsv\\Julius - You Make Me Feel So Good (1993).opus.csv\n",
      "cool\n",
      "109\n",
      "C:\\Users\\t_ziemer\\Desktop\\techno-test\\germanycsv\\K.O. - Banane (1988).opus.csv\n",
      "cool\n",
      "109\n",
      "C:\\Users\\t_ziemer\\Desktop\\techno-test\\germanycsv\\K2 - Dann Schau I Zum Himmel (1994).opus.csv\n",
      "cool\n"
     ]
    },
    {
     "name": "stderr",
     "output_type": "stream",
     "text": [
      "C:\\Users\\t_ziemer\\AppData\\Local\\Programs\\Python\\Python310\\lib\\site-packages\\librosa\\util\\decorators.py:88: UserWarning: PySoundFile failed. Trying audioread instead.\n",
      "  return f(*args, **kwargs)\n"
     ]
    },
    {
     "name": "stdout",
     "output_type": "stream",
     "text": [
      "118\n",
      "C:\\Users\\t_ziemer\\Desktop\\techno-test\\germanycsv\\K2 - Hold Me Close (In Der Steilwand) (1994).m4a.csv\n",
      "cool\n"
     ]
    },
    {
     "name": "stderr",
     "output_type": "stream",
     "text": [
      "C:\\Users\\t_ziemer\\AppData\\Local\\Programs\\Python\\Python310\\lib\\site-packages\\librosa\\util\\decorators.py:88: UserWarning: PySoundFile failed. Trying audioread instead.\n",
      "  return f(*args, **kwargs)\n"
     ]
    },
    {
     "name": "stdout",
     "output_type": "stream",
     "text": [
      "122\n",
      "C:\\Users\\t_ziemer\\Desktop\\techno-test\\germanycsv\\K2 - I Mog Jetzt Tanzen (1994).m4a.csv\n",
      "cool\n"
     ]
    },
    {
     "name": "stderr",
     "output_type": "stream",
     "text": [
      "C:\\Users\\t_ziemer\\AppData\\Local\\Programs\\Python\\Python310\\lib\\site-packages\\librosa\\util\\decorators.py:88: UserWarning: PySoundFile failed. Trying audioread instead.\n",
      "  return f(*args, **kwargs)\n"
     ]
    },
    {
     "name": "stdout",
     "output_type": "stream",
     "text": [
      "131\n",
      "C:\\Users\\t_ziemer\\Desktop\\techno-test\\germanycsv\\Key Motion - Automatic Love (Disco Dance Mix 1) (1994).m4a.csv\n",
      "cool\n"
     ]
    },
    {
     "name": "stderr",
     "output_type": "stream",
     "text": [
      "C:\\Users\\t_ziemer\\AppData\\Local\\Programs\\Python\\Python310\\lib\\site-packages\\librosa\\util\\decorators.py:88: UserWarning: PySoundFile failed. Trying audioread instead.\n",
      "  return f(*args, **kwargs)\n"
     ]
    },
    {
     "name": "stdout",
     "output_type": "stream",
     "text": [
      "130\n",
      "C:\\Users\\t_ziemer\\Desktop\\techno-test\\germanycsv\\Key Motion - Automatic Love (Disco Dance Mix 2) (1994).m4a.csv\n",
      "cool\n"
     ]
    },
    {
     "name": "stderr",
     "output_type": "stream",
     "text": [
      "C:\\Users\\t_ziemer\\AppData\\Local\\Programs\\Python\\Python310\\lib\\site-packages\\librosa\\util\\decorators.py:88: UserWarning: PySoundFile failed. Trying audioread instead.\n",
      "  return f(*args, **kwargs)\n"
     ]
    },
    {
     "name": "stdout",
     "output_type": "stream",
     "text": [
      "117\n",
      "C:\\Users\\t_ziemer\\Desktop\\techno-test\\germanycsv\\Kikkit - Love Fixation (Club Mix) (1990).m4a.csv\n",
      "cool\n"
     ]
    },
    {
     "name": "stderr",
     "output_type": "stream",
     "text": [
      "C:\\Users\\t_ziemer\\AppData\\Local\\Programs\\Python\\Python310\\lib\\site-packages\\librosa\\util\\decorators.py:88: UserWarning: PySoundFile failed. Trying audioread instead.\n",
      "  return f(*args, **kwargs)\n"
     ]
    },
    {
     "name": "stdout",
     "output_type": "stream",
     "text": [
      "167\n",
      "C:\\Users\\t_ziemer\\Desktop\\techno-test\\germanycsv\\KillerLoops - Murder One (1992).m4a.csv\n",
      "cool\n"
     ]
    },
    {
     "name": "stderr",
     "output_type": "stream",
     "text": [
      "C:\\Users\\t_ziemer\\AppData\\Local\\Programs\\Python\\Python310\\lib\\site-packages\\librosa\\util\\decorators.py:88: UserWarning: PySoundFile failed. Trying audioread instead.\n",
      "  return f(*args, **kwargs)\n"
     ]
    },
    {
     "name": "stdout",
     "output_type": "stream",
     "text": [
      "125\n",
      "C:\\Users\\t_ziemer\\Desktop\\techno-test\\germanycsv\\Killing Joke - Exorcism (Gora Remix) (1994).m4a.csv\n",
      "cool\n"
     ]
    },
    {
     "name": "stderr",
     "output_type": "stream",
     "text": [
      "C:\\Users\\t_ziemer\\AppData\\Local\\Programs\\Python\\Python310\\lib\\site-packages\\librosa\\util\\decorators.py:88: UserWarning: PySoundFile failed. Trying audioread instead.\n",
      "  return f(*args, **kwargs)\n"
     ]
    },
    {
     "name": "stdout",
     "output_type": "stream",
     "text": [
      "118\n",
      "C:\\Users\\t_ziemer\\Desktop\\techno-test\\germanycsv\\Kochkunst - Das Omelett (Pol Boküs Mix) (1989).m4a.csv\n",
      "cool\n",
      "135\n",
      "C:\\Users\\t_ziemer\\Desktop\\techno-test\\germanycsv\\L.S.G. - Blueprint (Version 1) (1994).mp3.csv\n",
      "cool\n",
      "129\n",
      "C:\\Users\\t_ziemer\\Desktop\\techno-test\\germanycsv\\L.S.G. - Blueprint (Version 2) (1994).mp3.csv\n",
      "cool\n"
     ]
    },
    {
     "name": "stderr",
     "output_type": "stream",
     "text": [
      "C:\\Users\\t_ziemer\\AppData\\Local\\Programs\\Python\\Python310\\lib\\site-packages\\librosa\\util\\decorators.py:88: UserWarning: PySoundFile failed. Trying audioread instead.\n",
      "  return f(*args, **kwargs)\n"
     ]
    },
    {
     "name": "stdout",
     "output_type": "stream",
     "text": [
      "114\n",
      "C:\\Users\\t_ziemer\\Desktop\\techno-test\\germanycsv\\L.U.P.O. - Keep it up (Guitar mix) (1990).m4a.csv\n",
      "cool\n"
     ]
    },
    {
     "name": "stderr",
     "output_type": "stream",
     "text": [
      "C:\\Users\\t_ziemer\\AppData\\Local\\Programs\\Python\\Python310\\lib\\site-packages\\librosa\\util\\decorators.py:88: UserWarning: PySoundFile failed. Trying audioread instead.\n",
      "  return f(*args, **kwargs)\n"
     ]
    },
    {
     "name": "stdout",
     "output_type": "stream",
     "text": [
      "shit!\n"
     ]
    },
    {
     "name": "stderr",
     "output_type": "stream",
     "text": [
      "C:\\Users\\t_ziemer\\AppData\\Local\\Programs\\Python\\Python310\\lib\\site-packages\\librosa\\util\\decorators.py:88: UserWarning: PySoundFile failed. Trying audioread instead.\n",
      "  return f(*args, **kwargs)\n"
     ]
    },
    {
     "name": "stdout",
     "output_type": "stream",
     "text": [
      "129\n",
      "C:\\Users\\t_ziemer\\Desktop\\techno-test\\germanycsv\\LDC - Daydream (3-Nuts Remix) (1993).m4a.csv\n",
      "cool\n",
      "124\n",
      "C:\\Users\\t_ziemer\\Desktop\\techno-test\\germanycsv\\Legato - Inside Story (1993).opus.csv\n",
      "cool\n"
     ]
    },
    {
     "name": "stderr",
     "output_type": "stream",
     "text": [
      "C:\\Users\\t_ziemer\\AppData\\Local\\Programs\\Python\\Python310\\lib\\site-packages\\librosa\\util\\decorators.py:88: UserWarning: PySoundFile failed. Trying audioread instead.\n",
      "  return f(*args, **kwargs)\n"
     ]
    },
    {
     "name": "stdout",
     "output_type": "stream",
     "text": [
      "140\n",
      "C:\\Users\\t_ziemer\\Desktop\\techno-test\\germanycsv\\Legend B - Love Seeds Passion (Gallery-Edit) (1994).m4a.csv\n",
      "cool\n",
      "142\n",
      "C:\\Users\\t_ziemer\\Desktop\\techno-test\\germanycsv\\Lionheart - Forever In A Day (1994).opus.csv\n",
      "cool\n"
     ]
    },
    {
     "name": "stderr",
     "output_type": "stream",
     "text": [
      "C:\\Users\\t_ziemer\\AppData\\Local\\Programs\\Python\\Python310\\lib\\site-packages\\librosa\\util\\decorators.py:88: UserWarning: PySoundFile failed. Trying audioread instead.\n",
      "  return f(*args, **kwargs)\n"
     ]
    },
    {
     "name": "stdout",
     "output_type": "stream",
     "text": [
      "95\n",
      "C:\\Users\\t_ziemer\\Desktop\\techno-test\\germanycsv\\Loft - King Of The World (1994).m4a.csv\n",
      "cool\n"
     ]
    },
    {
     "name": "stderr",
     "output_type": "stream",
     "text": [
      "C:\\Users\\t_ziemer\\AppData\\Local\\Programs\\Python\\Python310\\lib\\site-packages\\librosa\\util\\decorators.py:88: UserWarning: PySoundFile failed. Trying audioread instead.\n",
      "  return f(*args, **kwargs)\n"
     ]
    },
    {
     "name": "stdout",
     "output_type": "stream",
     "text": [
      "130\n",
      "C:\\Users\\t_ziemer\\Desktop\\techno-test\\germanycsv\\Loft - Missing You (1994).m4a.csv\n",
      "cool\n"
     ]
    },
    {
     "name": "stderr",
     "output_type": "stream",
     "text": [
      "C:\\Users\\t_ziemer\\AppData\\Local\\Programs\\Python\\Python310\\lib\\site-packages\\librosa\\util\\decorators.py:88: UserWarning: PySoundFile failed. Trying audioread instead.\n",
      "  return f(*args, **kwargs)\n"
     ]
    },
    {
     "name": "stdout",
     "output_type": "stream",
     "text": [
      "109\n",
      "C:\\Users\\t_ziemer\\Desktop\\techno-test\\germanycsv\\Loft - Reggae Roots (Loft-Mix) (1993).m4a.csv\n",
      "cool\n",
      "109\n",
      "C:\\Users\\t_ziemer\\Desktop\\techno-test\\germanycsv\\Loft - Summer Summer (1993).mp3.csv\n",
      "cool\n"
     ]
    },
    {
     "name": "stderr",
     "output_type": "stream",
     "text": [
      "C:\\Users\\t_ziemer\\AppData\\Local\\Programs\\Python\\Python310\\lib\\site-packages\\librosa\\util\\decorators.py:88: UserWarning: PySoundFile failed. Trying audioread instead.\n",
      "  return f(*args, **kwargs)\n"
     ]
    },
    {
     "name": "stdout",
     "output_type": "stream",
     "text": [
      "163\n",
      "C:\\Users\\t_ziemer\\Desktop\\techno-test\\germanycsv\\Loopzone - No Reason To Resign (1992).m4a.csv\n",
      "cool\n"
     ]
    },
    {
     "name": "stderr",
     "output_type": "stream",
     "text": [
      "C:\\Users\\t_ziemer\\AppData\\Local\\Programs\\Python\\Python310\\lib\\site-packages\\librosa\\util\\decorators.py:88: UserWarning: PySoundFile failed. Trying audioread instead.\n",
      "  return f(*args, **kwargs)\n"
     ]
    },
    {
     "name": "stdout",
     "output_type": "stream",
     "text": [
      "157\n",
      "C:\\Users\\t_ziemer\\Desktop\\techno-test\\germanycsv\\Loopzone - Sex Machine Man (1993).m4a.csv\n",
      "cool\n"
     ]
    },
    {
     "name": "stderr",
     "output_type": "stream",
     "text": [
      "C:\\Users\\t_ziemer\\AppData\\Local\\Programs\\Python\\Python310\\lib\\site-packages\\librosa\\util\\decorators.py:88: UserWarning: PySoundFile failed. Trying audioread instead.\n",
      "  return f(*args, **kwargs)\n"
     ]
    },
    {
     "name": "stdout",
     "output_type": "stream",
     "text": [
      "shit!\n",
      "154\n",
      "C:\\Users\\t_ziemer\\Desktop\\techno-test\\germanycsv\\Lunar Module - Sine By Drops (1994).m4a.csv\n",
      "cool\n"
     ]
    },
    {
     "name": "stderr",
     "output_type": "stream",
     "text": [
      "C:\\Users\\t_ziemer\\AppData\\Local\\Programs\\Python\\Python310\\lib\\site-packages\\librosa\\util\\decorators.py:88: UserWarning: PySoundFile failed. Trying audioread instead.\n",
      "  return f(*args, **kwargs)\n"
     ]
    },
    {
     "name": "stdout",
     "output_type": "stream",
     "text": [
      "153\n",
      "C:\\Users\\t_ziemer\\Desktop\\techno-test\\germanycsv\\M.C. Sar & Real McCoy - ... Make A Move (Sweat-Mix) (1991).m4a.csv\n",
      "cool\n"
     ]
    },
    {
     "name": "stderr",
     "output_type": "stream",
     "text": [
      "C:\\Users\\t_ziemer\\AppData\\Local\\Programs\\Python\\Python310\\lib\\site-packages\\librosa\\util\\decorators.py:88: UserWarning: PySoundFile failed. Trying audioread instead.\n",
      "  return f(*args, **kwargs)\n"
     ]
    },
    {
     "name": "stdout",
     "output_type": "stream",
     "text": [
      "127\n",
      "C:\\Users\\t_ziemer\\Desktop\\techno-test\\germanycsv\\M.C. Sar & Real McCoy - Another Night (1994).m4a.csv\n",
      "cool\n"
     ]
    },
    {
     "name": "stderr",
     "output_type": "stream",
     "text": [
      "C:\\Users\\t_ziemer\\AppData\\Local\\Programs\\Python\\Python310\\lib\\site-packages\\librosa\\util\\decorators.py:88: UserWarning: PySoundFile failed. Trying audioread instead.\n",
      "  return f(*args, **kwargs)\n"
     ]
    },
    {
     "name": "stdout",
     "output_type": "stream",
     "text": [
      "126\n",
      "C:\\Users\\t_ziemer\\Desktop\\techno-test\\germanycsv\\M.C. Sar & Real McCoy - Another Night (Club Mix) (1993).m4a.csv\n",
      "cool\n"
     ]
    },
    {
     "name": "stderr",
     "output_type": "stream",
     "text": [
      "C:\\Users\\t_ziemer\\AppData\\Local\\Programs\\Python\\Python310\\lib\\site-packages\\librosa\\util\\decorators.py:88: UserWarning: PySoundFile failed. Trying audioread instead.\n",
      "  return f(*args, **kwargs)\n"
     ]
    },
    {
     "name": "stdout",
     "output_type": "stream",
     "text": [
      "126\n",
      "C:\\Users\\t_ziemer\\Desktop\\techno-test\\germanycsv\\M.C. Sar & Real McCoy - Another Night (Dance Mix) (1993).m4a.csv\n",
      "cool\n"
     ]
    },
    {
     "name": "stderr",
     "output_type": "stream",
     "text": [
      "C:\\Users\\t_ziemer\\AppData\\Local\\Programs\\Python\\Python310\\lib\\site-packages\\librosa\\util\\decorators.py:88: UserWarning: PySoundFile failed. Trying audioread instead.\n",
      "  return f(*args, **kwargs)\n"
     ]
    },
    {
     "name": "stdout",
     "output_type": "stream",
     "text": [
      "119\n",
      "C:\\Users\\t_ziemer\\Desktop\\techno-test\\germanycsv\\M.C. Sar & Real McCoy - I Owe You Nothin' (1990).m4a.csv\n",
      "cool\n"
     ]
    },
    {
     "name": "stderr",
     "output_type": "stream",
     "text": [
      "C:\\Users\\t_ziemer\\AppData\\Local\\Programs\\Python\\Python310\\lib\\site-packages\\librosa\\util\\decorators.py:88: UserWarning: PySoundFile failed. Trying audioread instead.\n",
      "  return f(*args, **kwargs)\n"
     ]
    },
    {
     "name": "stdout",
     "output_type": "stream",
     "text": [
      "101\n",
      "C:\\Users\\t_ziemer\\Desktop\\techno-test\\germanycsv\\M.C. Sar & Real McCoy - Love & Devotion (1994).m4a.csv\n",
      "cool\n"
     ]
    },
    {
     "name": "stderr",
     "output_type": "stream",
     "text": [
      "C:\\Users\\t_ziemer\\AppData\\Local\\Programs\\Python\\Python310\\lib\\site-packages\\librosa\\util\\decorators.py:88: UserWarning: PySoundFile failed. Trying audioread instead.\n",
      "  return f(*args, **kwargs)\n"
     ]
    },
    {
     "name": "stdout",
     "output_type": "stream",
     "text": [
      "116\n",
      "C:\\Users\\t_ziemer\\Desktop\\techno-test\\germanycsv\\M.C. Sar & Real McCoy - McCoy's House (1990).m4a.csv\n",
      "cool\n"
     ]
    },
    {
     "name": "stderr",
     "output_type": "stream",
     "text": [
      "C:\\Users\\t_ziemer\\AppData\\Local\\Programs\\Python\\Python310\\lib\\site-packages\\librosa\\util\\decorators.py:88: UserWarning: PySoundFile failed. Trying audioread instead.\n",
      "  return f(*args, **kwargs)\n"
     ]
    },
    {
     "name": "stdout",
     "output_type": "stream",
     "text": [
      "174\n",
      "C:\\Users\\t_ziemer\\Desktop\\techno-test\\germanycsv\\M.C. Sar & Real McCoy - Operator (1994).m4a.csv\n",
      "cool\n"
     ]
    },
    {
     "name": "stderr",
     "output_type": "stream",
     "text": [
      "C:\\Users\\t_ziemer\\AppData\\Local\\Programs\\Python\\Python310\\lib\\site-packages\\librosa\\util\\decorators.py:88: UserWarning: PySoundFile failed. Trying audioread instead.\n",
      "  return f(*args, **kwargs)\n"
     ]
    },
    {
     "name": "stdout",
     "output_type": "stream",
     "text": [
      "106\n",
      "C:\\Users\\t_ziemer\\Desktop\\techno-test\\germanycsv\\M.C. Sar & Real McCoy - Que Pasa (Remix) (1990).m4a.csv\n",
      "cool\n"
     ]
    },
    {
     "name": "stderr",
     "output_type": "stream",
     "text": [
      "C:\\Users\\t_ziemer\\AppData\\Local\\Programs\\Python\\Python310\\lib\\site-packages\\librosa\\util\\decorators.py:88: UserWarning: PySoundFile failed. Trying audioread instead.\n",
      "  return f(*args, **kwargs)\n"
     ]
    },
    {
     "name": "stdout",
     "output_type": "stream",
     "text": [
      "shit!\n",
      "107\n",
      "C:\\Users\\t_ziemer\\Desktop\\techno-test\\germanycsv\\Magic Affair - Homicidal (1994).m4a.csv\n",
      "cool\n"
     ]
    },
    {
     "name": "stderr",
     "output_type": "stream",
     "text": [
      "C:\\Users\\t_ziemer\\AppData\\Local\\Programs\\Python\\Python310\\lib\\site-packages\\librosa\\util\\decorators.py:88: UserWarning: PySoundFile failed. Trying audioread instead.\n",
      "  return f(*args, **kwargs)\n"
     ]
    },
    {
     "name": "stdout",
     "output_type": "stream",
     "text": [
      "106\n",
      "C:\\Users\\t_ziemer\\Desktop\\techno-test\\germanycsv\\Magic Affair - Tears Of Joy (1994).m4a.csv\n",
      "cool\n",
      "128\n",
      "C:\\Users\\t_ziemer\\Desktop\\techno-test\\germanycsv\\Magic Affair - Thin line (1994).mp3.csv\n",
      "cool\n",
      "135\n",
      "C:\\Users\\t_ziemer\\Desktop\\techno-test\\germanycsv\\Magic Affair - Water of sin (1994).mp3.csv\n",
      "cool\n"
     ]
    },
    {
     "name": "stderr",
     "output_type": "stream",
     "text": [
      "C:\\Users\\t_ziemer\\AppData\\Local\\Programs\\Python\\Python310\\lib\\site-packages\\librosa\\util\\decorators.py:88: UserWarning: PySoundFile failed. Trying audioread instead.\n",
      "  return f(*args, **kwargs)\n"
     ]
    },
    {
     "name": "stdout",
     "output_type": "stream",
     "text": [
      "133\n",
      "C:\\Users\\t_ziemer\\Desktop\\techno-test\\germanycsv\\Main Source - Program 41 (1991).m4a.csv\n",
      "cool\n"
     ]
    },
    {
     "name": "stderr",
     "output_type": "stream",
     "text": [
      "C:\\Users\\t_ziemer\\AppData\\Local\\Programs\\Python\\Python310\\lib\\site-packages\\librosa\\util\\decorators.py:88: UserWarning: PySoundFile failed. Trying audioread instead.\n",
      "  return f(*args, **kwargs)\n"
     ]
    },
    {
     "name": "stdout",
     "output_type": "stream",
     "text": [
      "129\n",
      "C:\\Users\\t_ziemer\\Desktop\\techno-test\\germanycsv\\Malaria! - Cheerio (Milchbadmix) (1993).m4a.csv\n",
      "cool\n"
     ]
    },
    {
     "name": "stderr",
     "output_type": "stream",
     "text": [
      "C:\\Users\\t_ziemer\\AppData\\Local\\Programs\\Python\\Python310\\lib\\site-packages\\librosa\\util\\decorators.py:88: UserWarning: PySoundFile failed. Trying audioread instead.\n",
      "  return f(*args, **kwargs)\n",
      "C:\\Users\\t_ziemer\\AppData\\Local\\Temp\\ipykernel_23008\\215507790.py:27: RuntimeWarning: invalid value encountered in divide\n",
      "  autocorr /= np.max(np.abs(autocorr))\n"
     ]
    },
    {
     "name": "stdout",
     "output_type": "stream",
     "text": [
      "129\n",
      "C:\\Users\\t_ziemer\\Desktop\\techno-test\\germanycsv\\Malaria! - Kaltes Klares Wasser (Crystalmix) (1993).m4a.csv\n",
      "cool\n",
      "176\n",
      "C:\\Users\\t_ziemer\\Desktop\\techno-test\\germanycsv\\Malaria! - Warmes Wasser (Johnny Klimek & Dr. Motte Remix) (1993).mp3.csv\n",
      "cool\n",
      "128\n",
      "C:\\Users\\t_ziemer\\Desktop\\techno-test\\germanycsv\\Malaria! - You You (JuJu Remix) (1993).mp3.csv\n",
      "cool\n"
     ]
    },
    {
     "name": "stderr",
     "output_type": "stream",
     "text": [
      "C:\\Users\\t_ziemer\\AppData\\Local\\Programs\\Python\\Python310\\lib\\site-packages\\librosa\\util\\decorators.py:88: UserWarning: PySoundFile failed. Trying audioread instead.\n",
      "  return f(*args, **kwargs)\n"
     ]
    },
    {
     "name": "stdout",
     "output_type": "stream",
     "text": [
      "104\n",
      "C:\\Users\\t_ziemer\\Desktop\\techno-test\\germanycsv\\Manchild - Hypnotized (Deep-House-Mix) (1990).m4a.csv\n",
      "cool\n"
     ]
    },
    {
     "name": "stderr",
     "output_type": "stream",
     "text": [
      "C:\\Users\\t_ziemer\\AppData\\Local\\Programs\\Python\\Python310\\lib\\site-packages\\librosa\\util\\decorators.py:88: UserWarning: PySoundFile failed. Trying audioread instead.\n",
      "  return f(*args, **kwargs)\n"
     ]
    },
    {
     "name": "stdout",
     "output_type": "stream",
     "text": [
      "126\n",
      "C:\\Users\\t_ziemer\\Desktop\\techno-test\\germanycsv\\Mandra Gora - Gypsy Trance (1993).m4a.csv\n",
      "cool\n"
     ]
    },
    {
     "name": "stderr",
     "output_type": "stream",
     "text": [
      "C:\\Users\\t_ziemer\\AppData\\Local\\Programs\\Python\\Python310\\lib\\site-packages\\librosa\\util\\decorators.py:88: UserWarning: PySoundFile failed. Trying audioread instead.\n",
      "  return f(*args, **kwargs)\n"
     ]
    },
    {
     "name": "stdout",
     "output_type": "stream",
     "text": [
      "128\n",
      "C:\\Users\\t_ziemer\\Desktop\\techno-test\\germanycsv\\Mandra Gora - Nemrod The Mysterious (1994).m4a.csv\n",
      "cool\n"
     ]
    },
    {
     "name": "stderr",
     "output_type": "stream",
     "text": [
      "C:\\Users\\t_ziemer\\AppData\\Local\\Programs\\Python\\Python310\\lib\\site-packages\\librosa\\util\\decorators.py:88: UserWarning: PySoundFile failed. Trying audioread instead.\n",
      "  return f(*args, **kwargs)\n"
     ]
    },
    {
     "name": "stdout",
     "output_type": "stream",
     "text": [
      "108\n",
      "C:\\Users\\t_ziemer\\Desktop\\techno-test\\germanycsv\\Marco Zaffarano - MZ 9 (Earthquake) (1993).m4a.csv\n",
      "cool\n",
      "164\n",
      "C:\\Users\\t_ziemer\\Desktop\\techno-test\\germanycsv\\Marco Zaffarano - Supernova (1993).mp3.csv\n",
      "cool\n",
      "157\n",
      "C:\\Users\\t_ziemer\\Desktop\\techno-test\\germanycsv\\Mark 'Oh - Randy (Never Stop That Feeling) (Hardsequencer Remix) (1993).mp3.csv\n",
      "cool\n",
      "167\n",
      "C:\\Users\\t_ziemer\\Desktop\\techno-test\\germanycsv\\Mark 'Oh - Ultimate (1994).mp3.csv\n",
      "cool\n"
     ]
    },
    {
     "name": "stderr",
     "output_type": "stream",
     "text": [
      "C:\\Users\\t_ziemer\\AppData\\Local\\Programs\\Python\\Python310\\lib\\site-packages\\librosa\\util\\decorators.py:88: UserWarning: PySoundFile failed. Trying audioread instead.\n",
      "  return f(*args, **kwargs)\n"
     ]
    },
    {
     "name": "stdout",
     "output_type": "stream",
     "text": [
      "shit!\n",
      "shit!\n",
      "shit!\n",
      "128\n",
      "C:\\Users\\t_ziemer\\Desktop\\techno-test\\germanycsv\\Maurizio - Domina (Maurizio Mix) (1993).opus.csv\n",
      "cool\n",
      "125\n",
      "C:\\Users\\t_ziemer\\Desktop\\techno-test\\germanycsv\\Maxx - Fight (1994).mp3.csv\n",
      "cool\n"
     ]
    },
    {
     "name": "stderr",
     "output_type": "stream",
     "text": [
      "C:\\Users\\t_ziemer\\AppData\\Local\\Programs\\Python\\Python310\\lib\\site-packages\\librosa\\util\\decorators.py:88: UserWarning: PySoundFile failed. Trying audioread instead.\n",
      "  return f(*args, **kwargs)\n"
     ]
    },
    {
     "name": "stdout",
     "output_type": "stream",
     "text": [
      "164\n",
      "C:\\Users\\t_ziemer\\Desktop\\techno-test\\germanycsv\\Mega 'Lo Mania - Moonsign (1994).m4a.csv\n",
      "cool\n"
     ]
    },
    {
     "name": "stderr",
     "output_type": "stream",
     "text": [
      "C:\\Users\\t_ziemer\\AppData\\Local\\Programs\\Python\\Python310\\lib\\site-packages\\librosa\\util\\decorators.py:88: UserWarning: PySoundFile failed. Trying audioread instead.\n",
      "  return f(*args, **kwargs)\n"
     ]
    },
    {
     "name": "stdout",
     "output_type": "stream",
     "text": [
      "170\n",
      "C:\\Users\\t_ziemer\\Desktop\\techno-test\\germanycsv\\Men Behind - Feel The Life (Extended Mix) (1993).m4a.csv\n",
      "cool\n"
     ]
    },
    {
     "name": "stderr",
     "output_type": "stream",
     "text": [
      "C:\\Users\\t_ziemer\\AppData\\Local\\Programs\\Python\\Python310\\lib\\site-packages\\librosa\\util\\decorators.py:88: UserWarning: PySoundFile failed. Trying audioread instead.\n",
      "  return f(*args, **kwargs)\n"
     ]
    },
    {
     "name": "stdout",
     "output_type": "stream",
     "text": [
      "162\n",
      "C:\\Users\\t_ziemer\\Desktop\\techno-test\\germanycsv\\Mescal X - Magnetic Field (1994).m4a.csv\n",
      "cool\n"
     ]
    },
    {
     "name": "stderr",
     "output_type": "stream",
     "text": [
      "C:\\Users\\t_ziemer\\AppData\\Local\\Programs\\Python\\Python310\\lib\\site-packages\\librosa\\util\\decorators.py:88: UserWarning: PySoundFile failed. Trying audioread instead.\n",
      "  return f(*args, **kwargs)\n"
     ]
    },
    {
     "name": "stdout",
     "output_type": "stream",
     "text": [
      "167\n",
      "C:\\Users\\t_ziemer\\Desktop\\techno-test\\germanycsv\\Mescalinum United - Vs. Evil (A New Level) (1993).m4a.csv\n",
      "cool\n"
     ]
    },
    {
     "name": "stderr",
     "output_type": "stream",
     "text": [
      "C:\\Users\\t_ziemer\\AppData\\Local\\Programs\\Python\\Python310\\lib\\site-packages\\librosa\\util\\decorators.py:88: UserWarning: PySoundFile failed. Trying audioread instead.\n",
      "  return f(*args, **kwargs)\n"
     ]
    },
    {
     "name": "stdout",
     "output_type": "stream",
     "text": [
      "126\n",
      "C:\\Users\\t_ziemer\\Desktop\\techno-test\\germanycsv\\Metaforth - Rhythm Beats My Heart (Radio Mix) (1993).m4a.csv\n",
      "cool\n",
      "116\n",
      "C:\\Users\\t_ziemer\\Desktop\\techno-test\\germanycsv\\Metazone - More 4 This (Space Dub) (1991).mp3.csv\n",
      "cool\n"
     ]
    },
    {
     "name": "stderr",
     "output_type": "stream",
     "text": [
      "C:\\Users\\t_ziemer\\AppData\\Local\\Programs\\Python\\Python310\\lib\\site-packages\\librosa\\util\\decorators.py:88: UserWarning: PySoundFile failed. Trying audioread instead.\n",
      "  return f(*args, **kwargs)\n"
     ]
    },
    {
     "name": "stdout",
     "output_type": "stream",
     "text": [
      "110\n",
      "C:\\Users\\t_ziemer\\Desktop\\techno-test\\germanycsv\\Microbots - Acid Heartcore (1993).m4a.csv\n",
      "cool\n"
     ]
    },
    {
     "name": "stderr",
     "output_type": "stream",
     "text": [
      "C:\\Users\\t_ziemer\\AppData\\Local\\Programs\\Python\\Python310\\lib\\site-packages\\librosa\\util\\decorators.py:88: UserWarning: PySoundFile failed. Trying audioread instead.\n",
      "  return f(*args, **kwargs)\n"
     ]
    },
    {
     "name": "stdout",
     "output_type": "stream",
     "text": [
      "125\n",
      "C:\\Users\\t_ziemer\\Desktop\\techno-test\\germanycsv\\Microwave Prince - Cyclic Evolution (1994).m4a.csv\n",
      "cool\n"
     ]
    },
    {
     "name": "stderr",
     "output_type": "stream",
     "text": [
      "C:\\Users\\t_ziemer\\AppData\\Local\\Programs\\Python\\Python310\\lib\\site-packages\\librosa\\util\\decorators.py:88: UserWarning: PySoundFile failed. Trying audioread instead.\n",
      "  return f(*args, **kwargs)\n"
     ]
    },
    {
     "name": "stdout",
     "output_type": "stream",
     "text": [
      "126\n",
      "C:\\Users\\t_ziemer\\Desktop\\techno-test\\germanycsv\\Mijk van Dijk - Change Within (1994).m4a.csv\n",
      "cool\n"
     ]
    },
    {
     "name": "stderr",
     "output_type": "stream",
     "text": [
      "C:\\Users\\t_ziemer\\AppData\\Local\\Programs\\Python\\Python310\\lib\\site-packages\\librosa\\util\\decorators.py:88: UserWarning: PySoundFile failed. Trying audioread instead.\n",
      "  return f(*args, **kwargs)\n"
     ]
    },
    {
     "name": "stdout",
     "output_type": "stream",
     "text": [
      "145\n",
      "C:\\Users\\t_ziemer\\Desktop\\techno-test\\germanycsv\\Mijk van Dijk - Home (1994).m4a.csv\n",
      "cool\n"
     ]
    },
    {
     "name": "stderr",
     "output_type": "stream",
     "text": [
      "C:\\Users\\t_ziemer\\AppData\\Local\\Programs\\Python\\Python310\\lib\\site-packages\\librosa\\util\\decorators.py:88: UserWarning: PySoundFile failed. Trying audioread instead.\n",
      "  return f(*args, **kwargs)\n"
     ]
    },
    {
     "name": "stdout",
     "output_type": "stream",
     "text": [
      "136\n",
      "C:\\Users\\t_ziemer\\Desktop\\techno-test\\germanycsv\\Mike Ink - Musikkk (1991).m4a.csv\n",
      "cool\n"
     ]
    },
    {
     "name": "stderr",
     "output_type": "stream",
     "text": [
      "C:\\Users\\t_ziemer\\AppData\\Local\\Programs\\Python\\Python310\\lib\\site-packages\\librosa\\util\\decorators.py:88: UserWarning: PySoundFile failed. Trying audioread instead.\n",
      "  return f(*args, **kwargs)\n"
     ]
    },
    {
     "name": "stdout",
     "output_type": "stream",
     "text": [
      "130\n",
      "C:\\Users\\t_ziemer\\Desktop\\techno-test\\germanycsv\\MikeroBenics - Adventures Of Mike And Elvis II (1994).m4a.csv\n",
      "cool\n"
     ]
    },
    {
     "name": "stderr",
     "output_type": "stream",
     "text": [
      "C:\\Users\\t_ziemer\\AppData\\Local\\Programs\\Python\\Python310\\lib\\site-packages\\librosa\\util\\decorators.py:88: UserWarning: PySoundFile failed. Trying audioread instead.\n",
      "  return f(*args, **kwargs)\n"
     ]
    },
    {
     "name": "stdout",
     "output_type": "stream",
     "text": [
      "shit!\n"
     ]
    },
    {
     "name": "stderr",
     "output_type": "stream",
     "text": [
      "C:\\Users\\t_ziemer\\AppData\\Local\\Programs\\Python\\Python310\\lib\\site-packages\\librosa\\util\\decorators.py:88: UserWarning: PySoundFile failed. Trying audioread instead.\n",
      "  return f(*args, **kwargs)\n"
     ]
    },
    {
     "name": "stdout",
     "output_type": "stream",
     "text": [
      "133\n",
      "C:\\Users\\t_ziemer\\Desktop\\techno-test\\germanycsv\\Milli Vanili - Baby Don't Forget My Number (12' Subway Mix Edit) (1989).m4a.csv\n",
      "cool\n"
     ]
    },
    {
     "name": "stderr",
     "output_type": "stream",
     "text": [
      "C:\\Users\\t_ziemer\\AppData\\Local\\Programs\\Python\\Python310\\lib\\site-packages\\librosa\\util\\decorators.py:88: UserWarning: PySoundFile failed. Trying audioread instead.\n",
      "  return f(*args, **kwargs)\n"
     ]
    },
    {
     "name": "stdout",
     "output_type": "stream",
     "text": [
      "122\n",
      "C:\\Users\\t_ziemer\\Desktop\\techno-test\\germanycsv\\Milli Vanili - The End Of Good Times (1990).m4a.csv\n",
      "cool\n",
      "142\n",
      "C:\\Users\\t_ziemer\\Desktop\\techno-test\\germanycsv\\Mirage - Airborn (O-Mix) (1993).mp3.csv\n",
      "cool\n"
     ]
    },
    {
     "name": "stderr",
     "output_type": "stream",
     "text": [
      "C:\\Users\\t_ziemer\\AppData\\Local\\Programs\\Python\\Python310\\lib\\site-packages\\librosa\\util\\decorators.py:88: UserWarning: PySoundFile failed. Trying audioread instead.\n",
      "  return f(*args, **kwargs)\n"
     ]
    },
    {
     "name": "stdout",
     "output_type": "stream",
     "text": [
      "180\n",
      "C:\\Users\\t_ziemer\\Desktop\\techno-test\\germanycsv\\Miyako - Otaku (1994).m4a.csv\n",
      "cool\n"
     ]
    },
    {
     "name": "stderr",
     "output_type": "stream",
     "text": [
      "C:\\Users\\t_ziemer\\AppData\\Local\\Programs\\Python\\Python310\\lib\\site-packages\\librosa\\util\\decorators.py:88: UserWarning: PySoundFile failed. Trying audioread instead.\n",
      "  return f(*args, **kwargs)\n"
     ]
    },
    {
     "name": "stdout",
     "output_type": "stream",
     "text": [
      "125\n",
      "C:\\Users\\t_ziemer\\Desktop\\techno-test\\germanycsv\\Mo-Tune - Psychowaves (1994).m4a.csv\n",
      "cool\n",
      "128\n",
      "C:\\Users\\t_ziemer\\Desktop\\techno-test\\germanycsv\\Moondust - Are We Alone (Cosmix) (1994).mp3.csv\n",
      "cool\n"
     ]
    },
    {
     "name": "stderr",
     "output_type": "stream",
     "text": [
      "C:\\Users\\t_ziemer\\AppData\\Local\\Programs\\Python\\Python310\\lib\\site-packages\\librosa\\util\\decorators.py:88: UserWarning: PySoundFile failed. Trying audioread instead.\n",
      "  return f(*args, **kwargs)\n"
     ]
    },
    {
     "name": "stdout",
     "output_type": "stream",
     "text": [
      "133\n",
      "C:\\Users\\t_ziemer\\Desktop\\techno-test\\germanycsv\\Motion Unit - Heavenly 303 (1992).m4a.csv\n",
      "cool\n"
     ]
    },
    {
     "name": "stderr",
     "output_type": "stream",
     "text": [
      "C:\\Users\\t_ziemer\\AppData\\Local\\Programs\\Python\\Python310\\lib\\site-packages\\librosa\\util\\decorators.py:88: UserWarning: PySoundFile failed. Trying audioread instead.\n",
      "  return f(*args, **kwargs)\n"
     ]
    },
    {
     "name": "stdout",
     "output_type": "stream",
     "text": [
      "118\n",
      "C:\\Users\\t_ziemer\\Desktop\\techno-test\\germanycsv\\Mr. Matey - X.T.C. (Sulphuric Mix) (1989).m4a.csv\n",
      "cool\n"
     ]
    },
    {
     "name": "stderr",
     "output_type": "stream",
     "text": [
      "C:\\Users\\t_ziemer\\AppData\\Local\\Programs\\Python\\Python310\\lib\\site-packages\\librosa\\util\\decorators.py:88: UserWarning: PySoundFile failed. Trying audioread instead.\n",
      "  return f(*args, **kwargs)\n"
     ]
    },
    {
     "name": "stdout",
     "output_type": "stream",
     "text": [
      "128\n",
      "C:\\Users\\t_ziemer\\Desktop\\techno-test\\germanycsv\\Mr. President - M M (12'' Dancehall Style) (1993).m4a.csv\n",
      "cool\n",
      "129\n",
      "C:\\Users\\t_ziemer\\Desktop\\techno-test\\germanycsv\\Mr. President - M M (Put It On Another Version) (1993).mp3.csv\n",
      "cool\n"
     ]
    },
    {
     "name": "stderr",
     "output_type": "stream",
     "text": [
      "C:\\Users\\t_ziemer\\AppData\\Local\\Programs\\Python\\Python310\\lib\\site-packages\\librosa\\util\\decorators.py:88: UserWarning: PySoundFile failed. Trying audioread instead.\n",
      "  return f(*args, **kwargs)\n"
     ]
    },
    {
     "name": "stdout",
     "output_type": "stream",
     "text": [
      "116\n",
      "C:\\Users\\t_ziemer\\Desktop\\techno-test\\germanycsv\\Mysterious Art - Requiem (Instrumental Club Mix) (1990).m4a.csv\n",
      "cool\n",
      "117\n",
      "C:\\Users\\t_ziemer\\Desktop\\techno-test\\germanycsv\\Mysterious Art - Requiem (Vocal Clubmix) (1990).mp3.csv\n",
      "cool\n",
      "144\n",
      "C:\\Users\\t_ziemer\\Desktop\\techno-test\\germanycsv\\Mysterious Art - Spirits (1991).mp3.csv\n",
      "cool\n"
     ]
    },
    {
     "name": "stderr",
     "output_type": "stream",
     "text": [
      "C:\\Users\\t_ziemer\\AppData\\Local\\Programs\\Python\\Python310\\lib\\site-packages\\librosa\\util\\decorators.py:88: UserWarning: PySoundFile failed. Trying audioread instead.\n",
      "  return f(*args, **kwargs)\n"
     ]
    },
    {
     "name": "stdout",
     "output_type": "stream",
     "text": [
      "168\n",
      "C:\\Users\\t_ziemer\\Desktop\\techno-test\\germanycsv\\N.U.K.E. & Genlog - Hunting The Fly (1994).m4a.csv\n",
      "cool\n"
     ]
    },
    {
     "name": "stderr",
     "output_type": "stream",
     "text": [
      "C:\\Users\\t_ziemer\\AppData\\Local\\Programs\\Python\\Python310\\lib\\site-packages\\librosa\\util\\decorators.py:88: UserWarning: PySoundFile failed. Trying audioread instead.\n",
      "  return f(*args, **kwargs)\n"
     ]
    },
    {
     "name": "stdout",
     "output_type": "stream",
     "text": [
      "174\n",
      "C:\\Users\\t_ziemer\\Desktop\\techno-test\\germanycsv\\Naked Steal - 911'er Lover (1994).m4a.csv\n",
      "cool\n"
     ]
    },
    {
     "name": "stderr",
     "output_type": "stream",
     "text": [
      "C:\\Users\\t_ziemer\\AppData\\Local\\Programs\\Python\\Python310\\lib\\site-packages\\librosa\\util\\decorators.py:88: UserWarning: PySoundFile failed. Trying audioread instead.\n",
      "  return f(*args, **kwargs)\n"
     ]
    },
    {
     "name": "stdout",
     "output_type": "stream",
     "text": [
      "133\n",
      "C:\\Users\\t_ziemer\\Desktop\\techno-test\\germanycsv\\Near Dark - Heute Ist Ein Guter Tag Zu Sterben (Jenseits) (1993).m4a.csv\n",
      "cool\n"
     ]
    },
    {
     "name": "stderr",
     "output_type": "stream",
     "text": [
      "C:\\Users\\t_ziemer\\AppData\\Local\\Programs\\Python\\Python310\\lib\\site-packages\\librosa\\util\\decorators.py:88: UserWarning: PySoundFile failed. Trying audioread instead.\n",
      "  return f(*args, **kwargs)\n"
     ]
    },
    {
     "name": "stdout",
     "output_type": "stream",
     "text": [
      "118\n",
      "C:\\Users\\t_ziemer\\Desktop\\techno-test\\germanycsv\\New Century - Break Down The Wall (Free Elections Mix) (1989).m4a.csv\n",
      "cool\n",
      "112\n",
      "C:\\Users\\t_ziemer\\Desktop\\techno-test\\germanycsv\\New Scene - F 16 Margorpidim (1990).mp3.csv\n",
      "cool\n"
     ]
    },
    {
     "name": "stderr",
     "output_type": "stream",
     "text": [
      "C:\\Users\\t_ziemer\\AppData\\Local\\Programs\\Python\\Python310\\lib\\site-packages\\librosa\\util\\decorators.py:88: UserWarning: PySoundFile failed. Trying audioread instead.\n",
      "  return f(*args, **kwargs)\n"
     ]
    },
    {
     "name": "stdout",
     "output_type": "stream",
     "text": [
      "171\n",
      "C:\\Users\\t_ziemer\\Desktop\\techno-test\\germanycsv\\Next Fashion - Error (Bosca Gabb'ard Remix) (1993).m4a.csv\n",
      "cool\n"
     ]
    },
    {
     "name": "stderr",
     "output_type": "stream",
     "text": [
      "C:\\Users\\t_ziemer\\AppData\\Local\\Programs\\Python\\Python310\\lib\\site-packages\\librosa\\util\\decorators.py:88: UserWarning: PySoundFile failed. Trying audioread instead.\n",
      "  return f(*args, **kwargs)\n"
     ]
    },
    {
     "name": "stdout",
     "output_type": "stream",
     "text": [
      "shit!\n",
      "174\n",
      "C:\\Users\\t_ziemer\\Desktop\\techno-test\\germanycsv\\NIP Collective - Weekend Track (Original Mix) (1994).m4a.csv\n",
      "cool\n",
      "129\n",
      "C:\\Users\\t_ziemer\\Desktop\\techno-test\\germanycsv\\Nitro - Crescendo (1994).mp3.csv\n",
      "cool\n",
      "106\n",
      "C:\\Users\\t_ziemer\\Desktop\\techno-test\\germanycsv\\Noise Control - Crust And Peace (1992).opus.csv\n",
      "cool\n",
      "129\n",
      "C:\\Users\\t_ziemer\\Desktop\\techno-test\\germanycsv\\Nonplace Urban Field - Mouth Shut (1993).opus.csv\n",
      "cool\n",
      "161\n",
      "C:\\Users\\t_ziemer\\Desktop\\techno-test\\germanycsv\\Norman - Dynamic Visions (1993).mp3.csv\n",
      "cool\n"
     ]
    },
    {
     "name": "stderr",
     "output_type": "stream",
     "text": [
      "C:\\Users\\t_ziemer\\AppData\\Local\\Programs\\Python\\Python310\\lib\\site-packages\\librosa\\util\\decorators.py:88: UserWarning: PySoundFile failed. Trying audioread instead.\n",
      "  return f(*args, **kwargs)\n"
     ]
    },
    {
     "name": "stdout",
     "output_type": "stream",
     "text": [
      "164\n",
      "C:\\Users\\t_ziemer\\Desktop\\techno-test\\germanycsv\\Norman - The Big Deal (Energy Trance Mix) (1993).m4a.csv\n",
      "cool\n"
     ]
    },
    {
     "name": "stderr",
     "output_type": "stream",
     "text": [
      "C:\\Users\\t_ziemer\\AppData\\Local\\Programs\\Python\\Python310\\lib\\site-packages\\librosa\\util\\decorators.py:88: UserWarning: PySoundFile failed. Trying audioread instead.\n",
      "  return f(*args, **kwargs)\n"
     ]
    },
    {
     "name": "stdout",
     "output_type": "stream",
     "text": [
      "164\n",
      "C:\\Users\\t_ziemer\\Desktop\\techno-test\\germanycsv\\Nostrum - Brainchild (1994).m4a.csv\n",
      "cool\n"
     ]
    },
    {
     "name": "stderr",
     "output_type": "stream",
     "text": [
      "C:\\Users\\t_ziemer\\AppData\\Local\\Programs\\Python\\Python310\\lib\\site-packages\\librosa\\util\\decorators.py:88: UserWarning: PySoundFile failed. Trying audioread instead.\n",
      "  return f(*args, **kwargs)\n"
     ]
    },
    {
     "name": "stdout",
     "output_type": "stream",
     "text": [
      "164\n",
      "C:\\Users\\t_ziemer\\Desktop\\techno-test\\germanycsv\\Nostrum - Dating Rob (1994).m4a.csv\n",
      "cool\n",
      "164\n",
      "C:\\Users\\t_ziemer\\Desktop\\techno-test\\germanycsv\\Nostrum - Ejaculation (Live Mix) (1994).mp3.csv\n",
      "cool\n",
      "164\n",
      "C:\\Users\\t_ziemer\\Desktop\\techno-test\\germanycsv\\Nostrum - Get On It (1994).mp3.csv\n",
      "cool\n"
     ]
    },
    {
     "name": "stderr",
     "output_type": "stream",
     "text": [
      "C:\\Users\\t_ziemer\\AppData\\Local\\Programs\\Python\\Python310\\lib\\site-packages\\librosa\\util\\decorators.py:88: UserWarning: PySoundFile failed. Trying audioread instead.\n",
      "  return f(*args, **kwargs)\n"
     ]
    },
    {
     "name": "stdout",
     "output_type": "stream",
     "text": [
      "shit!\n",
      "shit!\n",
      "170\n",
      "C:\\Users\\t_ziemer\\Desktop\\techno-test\\germanycsv\\Odysee Of Noises - Firedance (The After Hour) (1994).m4a.csv\n",
      "cool\n",
      "128\n",
      "C:\\Users\\t_ziemer\\Desktop\\techno-test\\germanycsv\\Odysee Of Noises - Running Man (1993).mp3.csv\n",
      "cool\n"
     ]
    },
    {
     "name": "stderr",
     "output_type": "stream",
     "text": [
      "C:\\Users\\t_ziemer\\AppData\\Local\\Programs\\Python\\Python310\\lib\\site-packages\\librosa\\util\\decorators.py:88: UserWarning: PySoundFile failed. Trying audioread instead.\n",
      "  return f(*args, **kwargs)\n"
     ]
    },
    {
     "name": "stdout",
     "output_type": "stream",
     "text": [
      "126\n",
      "C:\\Users\\t_ziemer\\Desktop\\techno-test\\germanycsv\\Odyssey - Believe Me Now (1994).m4a.csv\n",
      "cool\n"
     ]
    },
    {
     "name": "stderr",
     "output_type": "stream",
     "text": [
      "C:\\Users\\t_ziemer\\AppData\\Local\\Programs\\Python\\Python310\\lib\\site-packages\\librosa\\util\\decorators.py:88: UserWarning: PySoundFile failed. Trying audioread instead.\n",
      "  return f(*args, **kwargs)\n"
     ]
    },
    {
     "name": "stdout",
     "output_type": "stream",
     "text": [
      "125\n",
      "C:\\Users\\t_ziemer\\Desktop\\techno-test\\germanycsv\\OFF - Das Licht (1990).m4a.csv\n",
      "cool\n",
      "118\n",
      "C:\\Users\\t_ziemer\\Desktop\\techno-test\\germanycsv\\OFF - Electrica Salsa (PWL-Remix) (1988).mp3.csv\n",
      "cool\n"
     ]
    },
    {
     "name": "stderr",
     "output_type": "stream",
     "text": [
      "C:\\Users\\t_ziemer\\AppData\\Local\\Programs\\Python\\Python310\\lib\\site-packages\\librosa\\util\\decorators.py:88: UserWarning: PySoundFile failed. Trying audioread instead.\n",
      "  return f(*args, **kwargs)\n"
     ]
    },
    {
     "name": "stdout",
     "output_type": "stream",
     "text": [
      "153\n",
      "C:\\Users\\t_ziemer\\Desktop\\techno-test\\germanycsv\\OFF - Move Your Body (Power Mix) (1990).m4a.csv\n",
      "cool\n",
      "118\n",
      "C:\\Users\\t_ziemer\\Desktop\\techno-test\\germanycsv\\OFF - New Style (Not Yet Mixed Mix) (1989).mp3.csv\n",
      "cool\n"
     ]
    },
    {
     "name": "stderr",
     "output_type": "stream",
     "text": [
      "C:\\Users\\t_ziemer\\AppData\\Local\\Programs\\Python\\Python310\\lib\\site-packages\\librosa\\util\\decorators.py:88: UserWarning: PySoundFile failed. Trying audioread instead.\n",
      "  return f(*args, **kwargs)\n"
     ]
    },
    {
     "name": "stdout",
     "output_type": "stream",
     "text": [
      "shit!\n",
      "169\n",
      "C:\\Users\\t_ziemer\\Desktop\\techno-test\\germanycsv\\One From The Posse - No Place Like Milk (1992).m4a.csv\n",
      "cool\n"
     ]
    },
    {
     "name": "stderr",
     "output_type": "stream",
     "text": [
      "C:\\Users\\t_ziemer\\AppData\\Local\\Programs\\Python\\Python310\\lib\\site-packages\\librosa\\util\\decorators.py:88: UserWarning: PySoundFile failed. Trying audioread instead.\n",
      "  return f(*args, **kwargs)\n"
     ]
    },
    {
     "name": "stdout",
     "output_type": "stream",
     "text": [
      "109\n",
      "C:\\Users\\t_ziemer\\Desktop\\techno-test\\germanycsv\\One From The Posse - Scandis In My House (1992).m4a.csv\n",
      "cool\n",
      "127\n",
      "C:\\Users\\t_ziemer\\Desktop\\techno-test\\germanycsv\\P.A.L.M. - Voyant (1993).opus.csv\n",
      "cool\n"
     ]
    },
    {
     "name": "stderr",
     "output_type": "stream",
     "text": [
      "C:\\Users\\t_ziemer\\AppData\\Local\\Programs\\Python\\Python310\\lib\\site-packages\\librosa\\util\\decorators.py:88: UserWarning: PySoundFile failed. Trying audioread instead.\n",
      "  return f(*args, **kwargs)\n"
     ]
    },
    {
     "name": "stdout",
     "output_type": "stream",
     "text": [
      "128\n",
      "C:\\Users\\t_ziemer\\Desktop\\techno-test\\germanycsv\\P.I.T. Feat. Ramin - 1000 Of Miles (Tribal Mix) (1993).m4a.csv\n",
      "cool\n",
      "117\n",
      "C:\\Users\\t_ziemer\\Desktop\\techno-test\\germanycsv\\P.I.T. Feat. Ramin - Chilling Waves (1992).opus.csv\n",
      "cool\n"
     ]
    },
    {
     "name": "stderr",
     "output_type": "stream",
     "text": [
      "C:\\Users\\t_ziemer\\AppData\\Local\\Programs\\Python\\Python310\\lib\\site-packages\\librosa\\util\\decorators.py:88: UserWarning: PySoundFile failed. Trying audioread instead.\n",
      "  return f(*args, **kwargs)\n"
     ]
    },
    {
     "name": "stdout",
     "output_type": "stream",
     "text": [
      "126\n",
      "C:\\Users\\t_ziemer\\Desktop\\techno-test\\germanycsv\\P.I.T. Feat. Ramin - The Triplet (1993).m4a.csv\n",
      "cool\n"
     ]
    },
    {
     "name": "stderr",
     "output_type": "stream",
     "text": [
      "C:\\Users\\t_ziemer\\AppData\\Local\\Programs\\Python\\Python310\\lib\\site-packages\\librosa\\util\\decorators.py:88: UserWarning: PySoundFile failed. Trying audioread instead.\n",
      "  return f(*args, **kwargs)\n"
     ]
    },
    {
     "name": "stdout",
     "output_type": "stream",
     "text": [
      "shit!\n",
      "170\n",
      "C:\\Users\\t_ziemer\\Desktop\\techno-test\\germanycsv\\Paragon - Paragon (1993).m4a.csv\n",
      "cool\n"
     ]
    },
    {
     "name": "stderr",
     "output_type": "stream",
     "text": [
      "C:\\Users\\t_ziemer\\AppData\\Local\\Programs\\Python\\Python310\\lib\\site-packages\\librosa\\util\\decorators.py:88: UserWarning: PySoundFile failed. Trying audioread instead.\n",
      "  return f(*args, **kwargs)\n"
     ]
    },
    {
     "name": "stdout",
     "output_type": "stream",
     "text": [
      "170\n",
      "C:\\Users\\t_ziemer\\Desktop\\techno-test\\germanycsv\\Paragon - The Poets (1993).m4a.csv\n",
      "cool\n"
     ]
    },
    {
     "name": "stderr",
     "output_type": "stream",
     "text": [
      "C:\\Users\\t_ziemer\\AppData\\Local\\Programs\\Python\\Python310\\lib\\site-packages\\librosa\\util\\decorators.py:88: UserWarning: PySoundFile failed. Trying audioread instead.\n",
      "  return f(*args, **kwargs)\n"
     ]
    },
    {
     "name": "stdout",
     "output_type": "stream",
     "text": [
      "102\n",
      "C:\\Users\\t_ziemer\\Desktop\\techno-test\\germanycsv\\Paris Red - Sexy (1992).m4a.csv\n",
      "cool\n"
     ]
    },
    {
     "name": "stderr",
     "output_type": "stream",
     "text": [
      "C:\\Users\\t_ziemer\\AppData\\Local\\Programs\\Python\\Python310\\lib\\site-packages\\librosa\\util\\decorators.py:88: UserWarning: PySoundFile failed. Trying audioread instead.\n",
      "  return f(*args, **kwargs)\n"
     ]
    },
    {
     "name": "stdout",
     "output_type": "stream",
     "text": [
      "164\n",
      "C:\\Users\\t_ziemer\\Desktop\\techno-test\\germanycsv\\Pearl - The Neverending Story (Neverending Rave Mix) (1994).m4a.csv\n",
      "cool\n"
     ]
    },
    {
     "name": "stderr",
     "output_type": "stream",
     "text": [
      "C:\\Users\\t_ziemer\\AppData\\Local\\Programs\\Python\\Python310\\lib\\site-packages\\librosa\\util\\decorators.py:88: UserWarning: PySoundFile failed. Trying audioread instead.\n",
      "  return f(*args, **kwargs)\n"
     ]
    },
    {
     "name": "stdout",
     "output_type": "stream",
     "text": [
      "117\n",
      "C:\\Users\\t_ziemer\\Desktop\\techno-test\\germanycsv\\Peyote - I Will Fight No More Forever (1991).m4a.csv\n",
      "cool\n"
     ]
    },
    {
     "name": "stderr",
     "output_type": "stream",
     "text": [
      "C:\\Users\\t_ziemer\\AppData\\Local\\Programs\\Python\\Python310\\lib\\site-packages\\librosa\\util\\decorators.py:88: UserWarning: PySoundFile failed. Trying audioread instead.\n",
      "  return f(*args, **kwargs)\n"
     ]
    },
    {
     "name": "stdout",
     "output_type": "stream",
     "text": [
      "104\n",
      "C:\\Users\\t_ziemer\\Desktop\\techno-test\\germanycsv\\Peyote - I Will Fight No More Forever (Wolf-Dance-Mix) (1991).m4a.csv\n",
      "cool\n"
     ]
    },
    {
     "name": "stderr",
     "output_type": "stream",
     "text": [
      "C:\\Users\\t_ziemer\\AppData\\Local\\Programs\\Python\\Python310\\lib\\site-packages\\librosa\\util\\decorators.py:88: UserWarning: PySoundFile failed. Trying audioread instead.\n",
      "  return f(*args, **kwargs)\n"
     ]
    },
    {
     "name": "stdout",
     "output_type": "stream",
     "text": [
      "90\n",
      "C:\\Users\\t_ziemer\\Desktop\\techno-test\\germanycsv\\Phase IV - Torturhythm (1993).m4a.csv\n",
      "cool\n",
      "106\n",
      "C:\\Users\\t_ziemer\\Desktop\\techno-test\\germanycsv\\Phaze IV - Shape the Future (A1) (1993).opus.csv\n",
      "cool\n"
     ]
    },
    {
     "name": "stderr",
     "output_type": "stream",
     "text": [
      "C:\\Users\\t_ziemer\\AppData\\Local\\Programs\\Python\\Python310\\lib\\site-packages\\librosa\\util\\decorators.py:88: UserWarning: PySoundFile failed. Trying audioread instead.\n",
      "  return f(*args, **kwargs)\n"
     ]
    },
    {
     "name": "stdout",
     "output_type": "stream",
     "text": [
      "shit!\n",
      "124\n",
      "C:\\Users\\t_ziemer\\Desktop\\techno-test\\germanycsv\\Physical Motion - Last Christmas (Club Mix) (1994).m4a.csv\n",
      "cool\n"
     ]
    },
    {
     "name": "stderr",
     "output_type": "stream",
     "text": [
      "C:\\Users\\t_ziemer\\AppData\\Local\\Programs\\Python\\Python310\\lib\\site-packages\\librosa\\util\\decorators.py:88: UserWarning: PySoundFile failed. Trying audioread instead.\n",
      "  return f(*args, **kwargs)\n"
     ]
    },
    {
     "name": "stdout",
     "output_type": "stream",
     "text": [
      "169\n",
      "C:\\Users\\t_ziemer\\Desktop\\techno-test\\germanycsv\\Planet Earth - Vibration (Cocain Remix) (1994).m4a.csv\n",
      "cool\n"
     ]
    },
    {
     "name": "stderr",
     "output_type": "stream",
     "text": [
      "C:\\Users\\t_ziemer\\AppData\\Local\\Programs\\Python\\Python310\\lib\\site-packages\\librosa\\util\\decorators.py:88: UserWarning: PySoundFile failed. Trying audioread instead.\n",
      "  return f(*args, **kwargs)\n"
     ]
    },
    {
     "name": "stdout",
     "output_type": "stream",
     "text": [
      "164\n",
      "C:\\Users\\t_ziemer\\Desktop\\techno-test\\germanycsv\\Planet Earth - Vibration (Original Mix) (1994).m4a.csv\n",
      "cool\n",
      "126\n",
      "C:\\Users\\t_ziemer\\Desktop\\techno-test\\germanycsv\\Plank - Cosmic Reflections (1993).mp3.csv\n",
      "cool\n"
     ]
    },
    {
     "name": "stderr",
     "output_type": "stream",
     "text": [
      "C:\\Users\\t_ziemer\\AppData\\Local\\Programs\\Python\\Python310\\lib\\site-packages\\librosa\\util\\decorators.py:88: UserWarning: PySoundFile failed. Trying audioread instead.\n",
      "  return f(*args, **kwargs)\n"
     ]
    },
    {
     "name": "stdout",
     "output_type": "stream",
     "text": [
      "193\n",
      "C:\\Users\\t_ziemer\\Desktop\\techno-test\\germanycsv\\Play Dead - Get Hard (1994).m4a.csv\n",
      "cool\n"
     ]
    },
    {
     "name": "stderr",
     "output_type": "stream",
     "text": [
      "C:\\Users\\t_ziemer\\AppData\\Local\\Programs\\Python\\Python310\\lib\\site-packages\\librosa\\util\\decorators.py:88: UserWarning: PySoundFile failed. Trying audioread instead.\n",
      "  return f(*args, **kwargs)\n"
     ]
    },
    {
     "name": "stdout",
     "output_type": "stream",
     "text": [
      "shit!\n",
      "129\n",
      "C:\\Users\\t_ziemer\\Desktop\\techno-test\\germanycsv\\Prince Ital Joe feat. Marky Mark - Happy people (1994).mp3.csv\n",
      "cool\n",
      "129\n",
      "C:\\Users\\t_ziemer\\Desktop\\techno-test\\germanycsv\\Psycho Drums - Acid Page (No 2) (1993).mp3.csv\n",
      "cool\n"
     ]
    },
    {
     "name": "stderr",
     "output_type": "stream",
     "text": [
      "C:\\Users\\t_ziemer\\AppData\\Local\\Programs\\Python\\Python310\\lib\\site-packages\\librosa\\util\\decorators.py:88: UserWarning: PySoundFile failed. Trying audioread instead.\n",
      "  return f(*args, **kwargs)\n"
     ]
    },
    {
     "name": "stdout",
     "output_type": "stream",
     "text": [
      "129\n",
      "C:\\Users\\t_ziemer\\Desktop\\techno-test\\germanycsv\\Psycho Drums - Acid Page (No 3) (1993).m4a.csv\n",
      "cool\n",
      "138\n",
      "C:\\Users\\t_ziemer\\Desktop\\techno-test\\germanycsv\\Pulse - Move (Oliver Lieb Remix) (1994).mp3.csv\n",
      "cool\n",
      "163\n",
      "C:\\Users\\t_ziemer\\Desktop\\techno-test\\germanycsv\\Pura - Ist An! (Trancesylvania Mix) (1994).mp3.csv\n",
      "cool\n"
     ]
    },
    {
     "name": "stderr",
     "output_type": "stream",
     "text": [
      "C:\\Users\\t_ziemer\\AppData\\Local\\Programs\\Python\\Python310\\lib\\site-packages\\librosa\\util\\decorators.py:88: UserWarning: PySoundFile failed. Trying audioread instead.\n",
      "  return f(*args, **kwargs)\n"
     ]
    },
    {
     "name": "stdout",
     "output_type": "stream",
     "text": [
      "129\n",
      "C:\\Users\\t_ziemer\\Desktop\\techno-test\\germanycsv\\Pure Tribal - Can You Feel It! (1993).m4a.csv\n",
      "cool\n"
     ]
    },
    {
     "name": "stderr",
     "output_type": "stream",
     "text": [
      "C:\\Users\\t_ziemer\\AppData\\Local\\Programs\\Python\\Python310\\lib\\site-packages\\librosa\\util\\decorators.py:88: UserWarning: PySoundFile failed. Trying audioread instead.\n",
      "  return f(*args, **kwargs)\n"
     ]
    },
    {
     "name": "stdout",
     "output_type": "stream",
     "text": [
      "127\n",
      "C:\\Users\\t_ziemer\\Desktop\\techno-test\\germanycsv\\Q-Boy - Que Pasa (1993).m4a.csv\n",
      "cool\n"
     ]
    },
    {
     "name": "stderr",
     "output_type": "stream",
     "text": [
      "C:\\Users\\t_ziemer\\AppData\\Local\\Programs\\Python\\Python310\\lib\\site-packages\\librosa\\util\\decorators.py:88: UserWarning: PySoundFile failed. Trying audioread instead.\n",
      "  return f(*args, **kwargs)\n"
     ]
    },
    {
     "name": "stdout",
     "output_type": "stream",
     "text": [
      "153\n",
      "C:\\Users\\t_ziemer\\Desktop\\techno-test\\germanycsv\\Quadripart - Joy (Exit-EEE Remix) (1994).m4a.csv\n",
      "cool\n"
     ]
    },
    {
     "name": "stderr",
     "output_type": "stream",
     "text": [
      "C:\\Users\\t_ziemer\\AppData\\Local\\Programs\\Python\\Python310\\lib\\site-packages\\librosa\\util\\decorators.py:88: UserWarning: PySoundFile failed. Trying audioread instead.\n",
      "  return f(*args, **kwargs)\n"
     ]
    },
    {
     "name": "stdout",
     "output_type": "stream",
     "text": [
      "128\n",
      "C:\\Users\\t_ziemer\\Desktop\\techno-test\\germanycsv\\Quartermain - Just Good Friends (1993).m4a.csv\n",
      "cool\n"
     ]
    },
    {
     "name": "stderr",
     "output_type": "stream",
     "text": [
      "C:\\Users\\t_ziemer\\AppData\\Local\\Programs\\Python\\Python310\\lib\\site-packages\\librosa\\util\\decorators.py:88: UserWarning: PySoundFile failed. Trying audioread instead.\n",
      "  return f(*args, **kwargs)\n"
     ]
    },
    {
     "name": "stdout",
     "output_type": "stream",
     "text": [
      "129\n",
      "C:\\Users\\t_ziemer\\Desktop\\techno-test\\germanycsv\\R-Damski - Sabine (1994).m4a.csv\n",
      "cool\n"
     ]
    },
    {
     "name": "stderr",
     "output_type": "stream",
     "text": [
      "C:\\Users\\t_ziemer\\AppData\\Local\\Programs\\Python\\Python310\\lib\\site-packages\\librosa\\util\\decorators.py:88: UserWarning: PySoundFile failed. Trying audioread instead.\n",
      "  return f(*args, **kwargs)\n"
     ]
    },
    {
     "name": "stdout",
     "output_type": "stream",
     "text": [
      "shit!\n",
      "156\n",
      "C:\\Users\\t_ziemer\\Desktop\\techno-test\\germanycsv\\Rainald Goetz - Abschied (1994).m4a.csv\n",
      "cool\n"
     ]
    },
    {
     "name": "stderr",
     "output_type": "stream",
     "text": [
      "C:\\Users\\t_ziemer\\AppData\\Local\\Programs\\Python\\Python310\\lib\\site-packages\\librosa\\util\\decorators.py:88: UserWarning: PySoundFile failed. Trying audioread instead.\n",
      "  return f(*args, **kwargs)\n"
     ]
    },
    {
     "name": "stdout",
     "output_type": "stream",
     "text": [
      "109\n",
      "C:\\Users\\t_ziemer\\Desktop\\techno-test\\germanycsv\\Rainald Goetz - Der Morgen (1994).m4a.csv\n",
      "cool\n"
     ]
    },
    {
     "name": "stderr",
     "output_type": "stream",
     "text": [
      "C:\\Users\\t_ziemer\\AppData\\Local\\Programs\\Python\\Python310\\lib\\site-packages\\librosa\\util\\decorators.py:88: UserWarning: PySoundFile failed. Trying audioread instead.\n",
      "  return f(*args, **kwargs)\n"
     ]
    },
    {
     "name": "stdout",
     "output_type": "stream",
     "text": [
      "108\n",
      "C:\\Users\\t_ziemer\\Desktop\\techno-test\\germanycsv\\Rainald Goetz - Junge Realisten (1994).m4a.csv\n",
      "cool\n"
     ]
    },
    {
     "name": "stderr",
     "output_type": "stream",
     "text": [
      "C:\\Users\\t_ziemer\\AppData\\Local\\Programs\\Python\\Python310\\lib\\site-packages\\librosa\\util\\decorators.py:88: UserWarning: PySoundFile failed. Trying audioread instead.\n",
      "  return f(*args, **kwargs)\n"
     ]
    },
    {
     "name": "stdout",
     "output_type": "stream",
     "text": [
      "167\n",
      "C:\\Users\\t_ziemer\\Desktop\\techno-test\\germanycsv\\Rainald Goetz - Mai (1994).m4a.csv\n",
      "cool\n"
     ]
    },
    {
     "name": "stderr",
     "output_type": "stream",
     "text": [
      "C:\\Users\\t_ziemer\\AppData\\Local\\Programs\\Python\\Python310\\lib\\site-packages\\librosa\\util\\decorators.py:88: UserWarning: PySoundFile failed. Trying audioread instead.\n",
      "  return f(*args, **kwargs)\n"
     ]
    },
    {
     "name": "stdout",
     "output_type": "stream",
     "text": [
      "shit!\n",
      "shit!\n",
      "130\n",
      "C:\\Users\\t_ziemer\\Desktop\\techno-test\\germanycsv\\RaveBase feat. Dj Frankie - Hear Me Say (1993).m4a.csv\n",
      "cool\n",
      "189\n",
      "C:\\Users\\t_ziemer\\Desktop\\techno-test\\germanycsv\\Raver's Nature - Hands Up Ravers! (1994).mp3.csv\n",
      "cool\n"
     ]
    },
    {
     "name": "stderr",
     "output_type": "stream",
     "text": [
      "C:\\Users\\t_ziemer\\AppData\\Local\\Programs\\Python\\Python310\\lib\\site-packages\\librosa\\util\\decorators.py:88: UserWarning: PySoundFile failed. Trying audioread instead.\n",
      "  return f(*args, **kwargs)\n"
     ]
    },
    {
     "name": "stdout",
     "output_type": "stream",
     "text": [
      "92\n",
      "C:\\Users\\t_ziemer\\Desktop\\techno-test\\germanycsv\\Raver's Nature - Signal Of Moving (1993).m4a.csv\n",
      "cool\n"
     ]
    },
    {
     "name": "stderr",
     "output_type": "stream",
     "text": [
      "C:\\Users\\t_ziemer\\AppData\\Local\\Programs\\Python\\Python310\\lib\\site-packages\\librosa\\util\\decorators.py:88: UserWarning: PySoundFile failed. Trying audioread instead.\n",
      "  return f(*args, **kwargs)\n"
     ]
    },
    {
     "name": "stdout",
     "output_type": "stream",
     "text": [
      "119\n",
      "C:\\Users\\t_ziemer\\Desktop\\techno-test\\germanycsv\\Raw Power Organisation - 1991 (And I Just Begun) (First Priority Mix) (1991).m4a.csv\n",
      "cool\n"
     ]
    },
    {
     "name": "stderr",
     "output_type": "stream",
     "text": [
      "C:\\Users\\t_ziemer\\AppData\\Local\\Programs\\Python\\Python310\\lib\\site-packages\\librosa\\util\\decorators.py:88: UserWarning: PySoundFile failed. Trying audioread instead.\n",
      "  return f(*args, **kwargs)\n"
     ]
    },
    {
     "name": "stdout",
     "output_type": "stream",
     "text": [
      "116\n",
      "C:\\Users\\t_ziemer\\Desktop\\techno-test\\germanycsv\\Razzamatazz - Two Time Boy (Caracho Mix) (1989).m4a.csv\n",
      "cool\n",
      "118\n",
      "C:\\Users\\t_ziemer\\Desktop\\techno-test\\germanycsv\\Razzamatazz - Two Time Boy (Radio Time) (1989).mp3.csv\n",
      "cool\n",
      "120\n",
      "C:\\Users\\t_ziemer\\Desktop\\techno-test\\germanycsv\\Redeye - A Source (1993).mp3.csv\n",
      "cool\n",
      "127\n",
      "C:\\Users\\t_ziemer\\Desktop\\techno-test\\germanycsv\\Redeye - Acid Etch (1994).mp3.csv\n",
      "cool\n"
     ]
    },
    {
     "name": "stderr",
     "output_type": "stream",
     "text": [
      "C:\\Users\\t_ziemer\\AppData\\Local\\Programs\\Python\\Python310\\lib\\site-packages\\librosa\\util\\decorators.py:88: UserWarning: PySoundFile failed. Trying audioread instead.\n",
      "  return f(*args, **kwargs)\n"
     ]
    },
    {
     "name": "stdout",
     "output_type": "stream",
     "text": [
      "122\n",
      "C:\\Users\\t_ziemer\\Desktop\\techno-test\\germanycsv\\Redeye - Bec-De-Corbin (1994).m4a.csv\n",
      "cool\n"
     ]
    },
    {
     "name": "stderr",
     "output_type": "stream",
     "text": [
      "C:\\Users\\t_ziemer\\AppData\\Local\\Programs\\Python\\Python310\\lib\\site-packages\\librosa\\util\\decorators.py:88: UserWarning: PySoundFile failed. Trying audioread instead.\n",
      "  return f(*args, **kwargs)\n"
     ]
    },
    {
     "name": "stdout",
     "output_type": "stream",
     "text": [
      "127\n",
      "C:\\Users\\t_ziemer\\Desktop\\techno-test\\germanycsv\\Redeye - Guinea Pigs Agree (1993).m4a.csv\n",
      "cool\n",
      "135\n",
      "C:\\Users\\t_ziemer\\Desktop\\techno-test\\germanycsv\\Redeye - Rhubarb Dib (1994).mp3.csv\n",
      "cool\n",
      "126\n",
      "C:\\Users\\t_ziemer\\Desktop\\techno-test\\germanycsv\\Redeye - Ride With Aracknid (1994).mp3.csv\n",
      "cool\n"
     ]
    },
    {
     "name": "stderr",
     "output_type": "stream",
     "text": [
      "C:\\Users\\t_ziemer\\AppData\\Local\\Programs\\Python\\Python310\\lib\\site-packages\\librosa\\util\\decorators.py:88: UserWarning: PySoundFile failed. Trying audioread instead.\n",
      "  return f(*args, **kwargs)\n"
     ]
    },
    {
     "name": "stdout",
     "output_type": "stream",
     "text": [
      "shit!\n",
      "135\n",
      "C:\\Users\\t_ziemer\\Desktop\\techno-test\\germanycsv\\Resist 101 - Impulse 202 (1992).m4a.csv\n",
      "cool\n"
     ]
    },
    {
     "name": "stderr",
     "output_type": "stream",
     "text": [
      "C:\\Users\\t_ziemer\\AppData\\Local\\Programs\\Python\\Python310\\lib\\site-packages\\librosa\\util\\decorators.py:88: UserWarning: PySoundFile failed. Trying audioread instead.\n",
      "  return f(*args, **kwargs)\n"
     ]
    },
    {
     "name": "stdout",
     "output_type": "stream",
     "text": [
      "130\n",
      "C:\\Users\\t_ziemer\\Desktop\\techno-test\\germanycsv\\Resistance D - Cosmic (Pascal F.E.O.S. Remix) (1994).m4a.csv\n",
      "cool\n"
     ]
    },
    {
     "name": "stderr",
     "output_type": "stream",
     "text": [
      "C:\\Users\\t_ziemer\\AppData\\Local\\Programs\\Python\\Python310\\lib\\site-packages\\librosa\\util\\decorators.py:88: UserWarning: PySoundFile failed. Trying audioread instead.\n",
      "  return f(*args, **kwargs)\n"
     ]
    },
    {
     "name": "stdout",
     "output_type": "stream",
     "text": [
      "128\n",
      "C:\\Users\\t_ziemer\\Desktop\\techno-test\\germanycsv\\Resistance D - Pain Of Sensibility (1994).m4a.csv\n",
      "cool\n",
      "126\n",
      "C:\\Users\\t_ziemer\\Desktop\\techno-test\\germanycsv\\Resistance D - Paranoid (1994).mp3.csv\n",
      "cool\n",
      "118\n",
      "C:\\Users\\t_ziemer\\Desktop\\techno-test\\germanycsv\\Rififi - Acid Gaga (1988).mp3.csv\n",
      "cool\n"
     ]
    },
    {
     "name": "stderr",
     "output_type": "stream",
     "text": [
      "C:\\Users\\t_ziemer\\AppData\\Local\\Programs\\Python\\Python310\\lib\\site-packages\\librosa\\util\\decorators.py:88: UserWarning: PySoundFile failed. Trying audioread instead.\n",
      "  return f(*args, **kwargs)\n"
     ]
    },
    {
     "name": "stdout",
     "output_type": "stream",
     "text": [
      "148\n",
      "C:\\Users\\t_ziemer\\Desktop\\techno-test\\germanycsv\\Rififi - Big Money Noise (1990).m4a.csv\n",
      "cool\n"
     ]
    },
    {
     "name": "stderr",
     "output_type": "stream",
     "text": [
      "C:\\Users\\t_ziemer\\AppData\\Local\\Programs\\Python\\Python310\\lib\\site-packages\\librosa\\util\\decorators.py:88: UserWarning: PySoundFile failed. Trying audioread instead.\n",
      "  return f(*args, **kwargs)\n"
     ]
    },
    {
     "name": "stdout",
     "output_type": "stream",
     "text": [
      "148\n",
      "C:\\Users\\t_ziemer\\Desktop\\techno-test\\germanycsv\\Rififi introducing Taverbier - Big Money Noi$e (Subwoofer mix) (1990).m4a.csv\n",
      "cool\n"
     ]
    },
    {
     "name": "stderr",
     "output_type": "stream",
     "text": [
      "C:\\Users\\t_ziemer\\AppData\\Local\\Programs\\Python\\Python310\\lib\\site-packages\\librosa\\util\\decorators.py:88: UserWarning: PySoundFile failed. Trying audioread instead.\n",
      "  return f(*args, **kwargs)\n"
     ]
    },
    {
     "name": "stdout",
     "output_type": "stream",
     "text": [
      "162\n",
      "C:\\Users\\t_ziemer\\Desktop\\techno-test\\germanycsv\\Rififi Introducing Tavernier - B-Side (1990).m4a.csv\n",
      "cool\n"
     ]
    },
    {
     "name": "stderr",
     "output_type": "stream",
     "text": [
      "C:\\Users\\t_ziemer\\AppData\\Local\\Programs\\Python\\Python310\\lib\\site-packages\\librosa\\util\\decorators.py:88: UserWarning: PySoundFile failed. Trying audioread instead.\n",
      "  return f(*args, **kwargs)\n"
     ]
    },
    {
     "name": "stdout",
     "output_type": "stream",
     "text": [
      "129\n",
      "C:\\Users\\t_ziemer\\Desktop\\techno-test\\germanycsv\\Roland Casper - Get Fine (1994).m4a.csv\n",
      "cool\n"
     ]
    },
    {
     "name": "stderr",
     "output_type": "stream",
     "text": [
      "C:\\Users\\t_ziemer\\AppData\\Local\\Programs\\Python\\Python310\\lib\\site-packages\\librosa\\util\\decorators.py:88: UserWarning: PySoundFile failed. Trying audioread instead.\n",
      "  return f(*args, **kwargs)\n"
     ]
    },
    {
     "name": "stdout",
     "output_type": "stream",
     "text": [
      "129\n",
      "C:\\Users\\t_ziemer\\Desktop\\techno-test\\germanycsv\\Roland Casper - Iozzt (1994).m4a.csv\n",
      "cool\n",
      "122\n",
      "C:\\Users\\t_ziemer\\Desktop\\techno-test\\germanycsv\\Roughage - Fall Symphony (1993).opus.csv\n",
      "cool\n"
     ]
    },
    {
     "name": "stderr",
     "output_type": "stream",
     "text": [
      "C:\\Users\\t_ziemer\\AppData\\Local\\Programs\\Python\\Python310\\lib\\site-packages\\librosa\\util\\decorators.py:88: UserWarning: PySoundFile failed. Trying audioread instead.\n",
      "  return f(*args, **kwargs)\n"
     ]
    },
    {
     "name": "stdout",
     "output_type": "stream",
     "text": [
      "shit!\n",
      "120\n",
      "C:\\Users\\t_ziemer\\Desktop\\techno-test\\germanycsv\\Sally Davis Junior - I Really Wanna Go Now (1993).m4a.csv\n",
      "cool\n"
     ]
    },
    {
     "name": "stderr",
     "output_type": "stream",
     "text": [
      "C:\\Users\\t_ziemer\\AppData\\Local\\Programs\\Python\\Python310\\lib\\site-packages\\librosa\\util\\decorators.py:88: UserWarning: PySoundFile failed. Trying audioread instead.\n",
      "  return f(*args, **kwargs)\n"
     ]
    },
    {
     "name": "stdout",
     "output_type": "stream",
     "text": [
      "115\n",
      "C:\\Users\\t_ziemer\\Desktop\\techno-test\\germanycsv\\Sally Davis Junior - More (1993).m4a.csv\n",
      "cool\n"
     ]
    },
    {
     "name": "stderr",
     "output_type": "stream",
     "text": [
      "C:\\Users\\t_ziemer\\AppData\\Local\\Programs\\Python\\Python310\\lib\\site-packages\\librosa\\util\\decorators.py:88: UserWarning: PySoundFile failed. Trying audioread instead.\n",
      "  return f(*args, **kwargs)\n"
     ]
    },
    {
     "name": "stdout",
     "output_type": "stream",
     "text": [
      "128\n",
      "C:\\Users\\t_ziemer\\Desktop\\techno-test\\germanycsv\\Sally Davis Junior - Vanity (1993).m4a.csv\n",
      "cool\n"
     ]
    },
    {
     "name": "stderr",
     "output_type": "stream",
     "text": [
      "C:\\Users\\t_ziemer\\AppData\\Local\\Programs\\Python\\Python310\\lib\\site-packages\\librosa\\util\\decorators.py:88: UserWarning: PySoundFile failed. Trying audioread instead.\n",
      "  return f(*args, **kwargs)\n"
     ]
    },
    {
     "name": "stdout",
     "output_type": "stream",
     "text": [
      "119\n",
      "C:\\Users\\t_ziemer\\Desktop\\techno-test\\germanycsv\\Sandra - We'll Be Together ('89 Remix) (1989).m4a.csv\n",
      "cool\n"
     ]
    },
    {
     "name": "stderr",
     "output_type": "stream",
     "text": [
      "C:\\Users\\t_ziemer\\AppData\\Local\\Programs\\Python\\Python310\\lib\\site-packages\\librosa\\util\\decorators.py:88: UserWarning: PySoundFile failed. Trying audioread instead.\n",
      "  return f(*args, **kwargs)\n"
     ]
    },
    {
     "name": "stdout",
     "output_type": "stream",
     "text": [
      "161\n",
      "C:\\Users\\t_ziemer\\Desktop\\techno-test\\germanycsv\\Scooter - Hyper Hyper (On A Spanish Fly Tip) (1994).m4a.csv\n",
      "cool\n"
     ]
    },
    {
     "name": "stderr",
     "output_type": "stream",
     "text": [
      "C:\\Users\\t_ziemer\\AppData\\Local\\Programs\\Python\\Python310\\lib\\site-packages\\librosa\\util\\decorators.py:88: UserWarning: PySoundFile failed. Trying audioread instead.\n",
      "  return f(*args, **kwargs)\n"
     ]
    },
    {
     "name": "stdout",
     "output_type": "stream",
     "text": [
      "128\n",
      "C:\\Users\\t_ziemer\\Desktop\\techno-test\\germanycsv\\Scooter - Vallée De Larmes (1993).m4a.csv\n",
      "cool\n"
     ]
    },
    {
     "name": "stderr",
     "output_type": "stream",
     "text": [
      "C:\\Users\\t_ziemer\\AppData\\Local\\Programs\\Python\\Python310\\lib\\site-packages\\librosa\\util\\decorators.py:88: UserWarning: PySoundFile failed. Trying audioread instead.\n",
      "  return f(*args, **kwargs)\n"
     ]
    },
    {
     "name": "stdout",
     "output_type": "stream",
     "text": [
      "187\n",
      "C:\\Users\\t_ziemer\\Desktop\\techno-test\\germanycsv\\Search & Destroy - 7 Ways (1994).m4a.csv\n",
      "cool\n"
     ]
    },
    {
     "name": "stderr",
     "output_type": "stream",
     "text": [
      "C:\\Users\\t_ziemer\\AppData\\Local\\Programs\\Python\\Python310\\lib\\site-packages\\librosa\\util\\decorators.py:88: UserWarning: PySoundFile failed. Trying audioread instead.\n",
      "  return f(*args, **kwargs)\n"
     ]
    },
    {
     "name": "stdout",
     "output_type": "stream",
     "text": [
      "180\n",
      "C:\\Users\\t_ziemer\\Desktop\\techno-test\\germanycsv\\Search & Destroy - Happ-E-People (Original Mix) (1994).m4a.csv\n",
      "cool\n"
     ]
    },
    {
     "name": "stderr",
     "output_type": "stream",
     "text": [
      "C:\\Users\\t_ziemer\\AppData\\Local\\Programs\\Python\\Python310\\lib\\site-packages\\librosa\\util\\decorators.py:88: UserWarning: PySoundFile failed. Trying audioread instead.\n",
      "  return f(*args, **kwargs)\n"
     ]
    },
    {
     "name": "stdout",
     "output_type": "stream",
     "text": [
      "180\n",
      "C:\\Users\\t_ziemer\\Desktop\\techno-test\\germanycsv\\Search & Destroy - Happ-E-People (Speed Mix) (1994).m4a.csv\n",
      "cool\n"
     ]
    },
    {
     "name": "stderr",
     "output_type": "stream",
     "text": [
      "C:\\Users\\t_ziemer\\AppData\\Local\\Programs\\Python\\Python310\\lib\\site-packages\\librosa\\util\\decorators.py:88: UserWarning: PySoundFile failed. Trying audioread instead.\n",
      "  return f(*args, **kwargs)\n"
     ]
    },
    {
     "name": "stdout",
     "output_type": "stream",
     "text": [
      "185\n",
      "C:\\Users\\t_ziemer\\Desktop\\techno-test\\germanycsv\\Search & Destroy - What Kind Of Madness (1993).m4a.csv\n",
      "cool\n"
     ]
    },
    {
     "name": "stderr",
     "output_type": "stream",
     "text": [
      "C:\\Users\\t_ziemer\\AppData\\Local\\Programs\\Python\\Python310\\lib\\site-packages\\librosa\\util\\decorators.py:88: UserWarning: PySoundFile failed. Trying audioread instead.\n",
      "  return f(*args, **kwargs)\n"
     ]
    },
    {
     "name": "stdout",
     "output_type": "stream",
     "text": [
      "164\n",
      "C:\\Users\\t_ziemer\\Desktop\\techno-test\\germanycsv\\Sequential One - Back To Unity (Break Beat Theme) (1994).m4a.csv\n",
      "cool\n"
     ]
    },
    {
     "name": "stderr",
     "output_type": "stream",
     "text": [
      "C:\\Users\\t_ziemer\\AppData\\Local\\Programs\\Python\\Python310\\lib\\site-packages\\librosa\\util\\decorators.py:88: UserWarning: PySoundFile failed. Trying audioread instead.\n",
      "  return f(*args, **kwargs)\n"
     ]
    },
    {
     "name": "stdout",
     "output_type": "stream",
     "text": [
      "164\n",
      "C:\\Users\\t_ziemer\\Desktop\\techno-test\\germanycsv\\Sequential One - Back To Unity (Part One) (1994).m4a.csv\n",
      "cool\n"
     ]
    },
    {
     "name": "stderr",
     "output_type": "stream",
     "text": [
      "C:\\Users\\t_ziemer\\AppData\\Local\\Programs\\Python\\Python310\\lib\\site-packages\\librosa\\util\\decorators.py:88: UserWarning: PySoundFile failed. Trying audioread instead.\n",
      "  return f(*args, **kwargs)\n"
     ]
    },
    {
     "name": "stdout",
     "output_type": "stream",
     "text": [
      "159\n",
      "C:\\Users\\t_ziemer\\Desktop\\techno-test\\germanycsv\\Sequential One - Breakdown (1994).m4a.csv\n",
      "cool\n",
      "176\n",
      "C:\\Users\\t_ziemer\\Desktop\\techno-test\\germanycsv\\Shahin & Simon - Do the right thing (Shahin & Simon hardtrance remix) (1994).mp3.csv\n",
      "cool\n"
     ]
    },
    {
     "name": "stderr",
     "output_type": "stream",
     "text": [
      "C:\\Users\\t_ziemer\\AppData\\Local\\Programs\\Python\\Python310\\lib\\site-packages\\librosa\\util\\decorators.py:88: UserWarning: PySoundFile failed. Trying audioread instead.\n",
      "  return f(*args, **kwargs)\n"
     ]
    },
    {
     "name": "stdout",
     "output_type": "stream",
     "text": [
      "124\n",
      "C:\\Users\\t_ziemer\\Desktop\\techno-test\\germanycsv\\Side-FX - I'll Check It (1994).m4a.csv\n",
      "cool\n"
     ]
    },
    {
     "name": "stderr",
     "output_type": "stream",
     "text": [
      "C:\\Users\\t_ziemer\\AppData\\Local\\Programs\\Python\\Python310\\lib\\site-packages\\librosa\\util\\decorators.py:88: UserWarning: PySoundFile failed. Trying audioread instead.\n",
      "  return f(*args, **kwargs)\n"
     ]
    },
    {
     "name": "stdout",
     "output_type": "stream",
     "text": [
      "186\n",
      "C:\\Users\\t_ziemer\\Desktop\\techno-test\\germanycsv\\Signal Response II - The Signal (Raver's Nature Remix) (1994).m4a.csv\n",
      "cool\n"
     ]
    },
    {
     "name": "stderr",
     "output_type": "stream",
     "text": [
      "C:\\Users\\t_ziemer\\AppData\\Local\\Programs\\Python\\Python310\\lib\\site-packages\\librosa\\util\\decorators.py:88: UserWarning: PySoundFile failed. Trying audioread instead.\n",
      "  return f(*args, **kwargs)\n"
     ]
    },
    {
     "name": "stdout",
     "output_type": "stream",
     "text": [
      "128\n",
      "C:\\Users\\t_ziemer\\Desktop\\techno-test\\germanycsv\\Silent Circle - Every Move, Every Touch (Club Dance Version) (1994).m4a.csv\n",
      "cool\n"
     ]
    },
    {
     "name": "stderr",
     "output_type": "stream",
     "text": [
      "C:\\Users\\t_ziemer\\AppData\\Local\\Programs\\Python\\Python310\\lib\\site-packages\\librosa\\util\\decorators.py:88: UserWarning: PySoundFile failed. Trying audioread instead.\n",
      "  return f(*args, **kwargs)\n"
     ]
    },
    {
     "name": "stdout",
     "output_type": "stream",
     "text": [
      "109\n",
      "C:\\Users\\t_ziemer\\Desktop\\techno-test\\germanycsv\\Skydiver - Sunblast (1991).m4a.csv\n",
      "cool\n"
     ]
    },
    {
     "name": "stderr",
     "output_type": "stream",
     "text": [
      "C:\\Users\\t_ziemer\\AppData\\Local\\Programs\\Python\\Python310\\lib\\site-packages\\librosa\\util\\decorators.py:88: UserWarning: PySoundFile failed. Trying audioread instead.\n",
      "  return f(*args, **kwargs)\n"
     ]
    },
    {
     "name": "stdout",
     "output_type": "stream",
     "text": [
      "129\n",
      "C:\\Users\\t_ziemer\\Desktop\\techno-test\\germanycsv\\Sly! - One Day (Club Mix) (1993).m4a.csv\n",
      "cool\n",
      "110\n",
      "C:\\Users\\t_ziemer\\Desktop\\techno-test\\germanycsv\\Snap! - Cult Of Snap (1990).mp3.csv\n",
      "cool\n"
     ]
    },
    {
     "name": "stderr",
     "output_type": "stream",
     "text": [
      "C:\\Users\\t_ziemer\\AppData\\Local\\Programs\\Python\\Python310\\lib\\site-packages\\librosa\\util\\decorators.py:88: UserWarning: PySoundFile failed. Trying audioread instead.\n",
      "  return f(*args, **kwargs)\n"
     ]
    },
    {
     "name": "stdout",
     "output_type": "stream",
     "text": [
      "113\n",
      "C:\\Users\\t_ziemer\\Desktop\\techno-test\\germanycsv\\Snap! - Madman's Return (1992).m4a.csv\n",
      "cool\n"
     ]
    },
    {
     "name": "stderr",
     "output_type": "stream",
     "text": [
      "C:\\Users\\t_ziemer\\AppData\\Local\\Programs\\Python\\Python310\\lib\\site-packages\\librosa\\util\\decorators.py:88: UserWarning: PySoundFile failed. Trying audioread instead.\n",
      "  return f(*args, **kwargs)\n"
     ]
    },
    {
     "name": "stdout",
     "output_type": "stream",
     "text": [
      "92\n",
      "C:\\Users\\t_ziemer\\Desktop\\techno-test\\germanycsv\\Snap! - Money (1992).m4a.csv\n",
      "cool\n",
      "115\n",
      "C:\\Users\\t_ziemer\\Desktop\\techno-test\\germanycsv\\Snap! - Ooops Up (Other Mix) (1989).mp3.csv\n",
      "cool\n"
     ]
    },
    {
     "name": "stderr",
     "output_type": "stream",
     "text": [
      "C:\\Users\\t_ziemer\\AppData\\Local\\Programs\\Python\\Python310\\lib\\site-packages\\librosa\\util\\decorators.py:88: UserWarning: PySoundFile failed. Trying audioread instead.\n",
      "  return f(*args, **kwargs)\n"
     ]
    },
    {
     "name": "stdout",
     "output_type": "stream",
     "text": [
      "148\n",
      "C:\\Users\\t_ziemer\\Desktop\\techno-test\\germanycsv\\Snap! - Ooops Up (Vocal Version) (1989).m4a.csv\n",
      "cool\n",
      "127\n",
      "C:\\Users\\t_ziemer\\Desktop\\techno-test\\germanycsv\\Snap! - See The Light (1994).mp3.csv\n",
      "cool\n"
     ]
    },
    {
     "name": "stderr",
     "output_type": "stream",
     "text": [
      "C:\\Users\\t_ziemer\\AppData\\Local\\Programs\\Python\\Python310\\lib\\site-packages\\librosa\\util\\decorators.py:88: UserWarning: PySoundFile failed. Trying audioread instead.\n",
      "  return f(*args, **kwargs)\n"
     ]
    },
    {
     "name": "stdout",
     "output_type": "stream",
     "text": [
      "110\n",
      "C:\\Users\\t_ziemer\\Desktop\\techno-test\\germanycsv\\Snap! - The Power (1989).m4a.csv\n",
      "cool\n",
      "shit!\n",
      "144\n",
      "C:\\Users\\t_ziemer\\Desktop\\techno-test\\germanycsv\\Snap! - The Power (Dub) (1989).mp3.csv\n",
      "cool\n"
     ]
    },
    {
     "name": "stderr",
     "output_type": "stream",
     "text": [
      "C:\\Users\\t_ziemer\\AppData\\Local\\Programs\\Python\\Python310\\lib\\site-packages\\librosa\\util\\decorators.py:88: UserWarning: PySoundFile failed. Trying audioread instead.\n",
      "  return f(*args, **kwargs)\n"
     ]
    },
    {
     "name": "stdout",
     "output_type": "stream",
     "text": [
      "122\n",
      "C:\\Users\\t_ziemer\\Desktop\\techno-test\\germanycsv\\Snap! - The World In My Hands (We Are One) (1994).m4a.csv\n",
      "cool\n"
     ]
    },
    {
     "name": "stderr",
     "output_type": "stream",
     "text": [
      "C:\\Users\\t_ziemer\\AppData\\Local\\Programs\\Python\\Python310\\lib\\site-packages\\librosa\\util\\decorators.py:88: UserWarning: PySoundFile failed. Trying audioread instead.\n",
      "  return f(*args, **kwargs)\n"
     ]
    },
    {
     "name": "stdout",
     "output_type": "stream",
     "text": [
      "115\n",
      "C:\\Users\\t_ziemer\\Desktop\\techno-test\\germanycsv\\Snap! - Uf Ah! (Ooop Up) (1989).m4a.csv\n",
      "cool\n"
     ]
    },
    {
     "name": "stderr",
     "output_type": "stream",
     "text": [
      "C:\\Users\\t_ziemer\\AppData\\Local\\Programs\\Python\\Python310\\lib\\site-packages\\librosa\\util\\decorators.py:88: UserWarning: PySoundFile failed. Trying audioread instead.\n",
      "  return f(*args, **kwargs)\n"
     ]
    },
    {
     "name": "stdout",
     "output_type": "stream",
     "text": [
      "shit!\n"
     ]
    },
    {
     "name": "stderr",
     "output_type": "stream",
     "text": [
      "C:\\Users\\t_ziemer\\AppData\\Local\\Programs\\Python\\Python310\\lib\\site-packages\\librosa\\util\\decorators.py:88: UserWarning: PySoundFile failed. Trying audioread instead.\n",
      "  return f(*args, **kwargs)\n"
     ]
    },
    {
     "name": "stdout",
     "output_type": "stream",
     "text": [
      "163\n",
      "C:\\Users\\t_ziemer\\Desktop\\techno-test\\germanycsv\\Some More Crime - Das Brubaker-Syndrom (1991).m4a.csv\n",
      "cool\n"
     ]
    },
    {
     "name": "stderr",
     "output_type": "stream",
     "text": [
      "C:\\Users\\t_ziemer\\AppData\\Local\\Programs\\Python\\Python310\\lib\\site-packages\\librosa\\util\\decorators.py:88: UserWarning: PySoundFile failed. Trying audioread instead.\n",
      "  return f(*args, **kwargs)\n",
      "C:\\Users\\t_ziemer\\AppData\\Local\\Temp\\ipykernel_23008\\215507790.py:27: RuntimeWarning: invalid value encountered in divide\n",
      "  autocorr /= np.max(np.abs(autocorr))\n",
      "C:\\Users\\t_ziemer\\AppData\\Local\\Programs\\Python\\Python310\\lib\\site-packages\\librosa\\util\\decorators.py:88: UserWarning: PySoundFile failed. Trying audioread instead.\n",
      "  return f(*args, **kwargs)\n"
     ]
    },
    {
     "name": "stdout",
     "output_type": "stream",
     "text": [
      "111\n",
      "C:\\Users\\t_ziemer\\Desktop\\techno-test\\germanycsv\\Some More Crime - Der Tod Ist Ein Meister Aus Deutschland (1993).m4a.csv\n",
      "cool\n",
      "110\n",
      "C:\\Users\\t_ziemer\\Desktop\\techno-test\\germanycsv\\Some More Crime - Europe Lies Dormant (1991).m4a.csv\n",
      "cool\n"
     ]
    },
    {
     "name": "stderr",
     "output_type": "stream",
     "text": [
      "C:\\Users\\t_ziemer\\AppData\\Local\\Programs\\Python\\Python310\\lib\\site-packages\\librosa\\util\\decorators.py:88: UserWarning: PySoundFile failed. Trying audioread instead.\n",
      "  return f(*args, **kwargs)\n"
     ]
    },
    {
     "name": "stdout",
     "output_type": "stream",
     "text": [
      "111\n",
      "C:\\Users\\t_ziemer\\Desktop\\techno-test\\germanycsv\\Some More Crime - Learn To Be Cruel (1990).m4a.csv\n",
      "cool\n"
     ]
    },
    {
     "name": "stderr",
     "output_type": "stream",
     "text": [
      "C:\\Users\\t_ziemer\\AppData\\Local\\Programs\\Python\\Python310\\lib\\site-packages\\librosa\\util\\decorators.py:88: UserWarning: PySoundFile failed. Trying audioread instead.\n",
      "  return f(*args, **kwargs)\n"
     ]
    },
    {
     "name": "stdout",
     "output_type": "stream",
     "text": [
      "shit!\n",
      "102\n",
      "C:\\Users\\t_ziemer\\Desktop\\techno-test\\germanycsv\\Some More Crime - Motives (1991).m4a.csv\n",
      "cool\n"
     ]
    },
    {
     "name": "stderr",
     "output_type": "stream",
     "text": [
      "C:\\Users\\t_ziemer\\AppData\\Local\\Programs\\Python\\Python310\\lib\\site-packages\\librosa\\util\\decorators.py:88: UserWarning: PySoundFile failed. Trying audioread instead.\n",
      "  return f(*args, **kwargs)\n"
     ]
    },
    {
     "name": "stdout",
     "output_type": "stream",
     "text": [
      "115\n",
      "C:\\Users\\t_ziemer\\Desktop\\techno-test\\germanycsv\\Some More Crime - Nothing Can't Go Wrong (1991).m4a.csv\n",
      "cool\n"
     ]
    },
    {
     "name": "stderr",
     "output_type": "stream",
     "text": [
      "C:\\Users\\t_ziemer\\AppData\\Local\\Programs\\Python\\Python310\\lib\\site-packages\\librosa\\util\\decorators.py:88: UserWarning: PySoundFile failed. Trying audioread instead.\n",
      "  return f(*args, **kwargs)\n"
     ]
    },
    {
     "name": "stdout",
     "output_type": "stream",
     "text": [
      "150\n",
      "C:\\Users\\t_ziemer\\Desktop\\techno-test\\germanycsv\\Some More Crime - Panavision (1993).m4a.csv\n",
      "cool\n"
     ]
    },
    {
     "name": "stderr",
     "output_type": "stream",
     "text": [
      "C:\\Users\\t_ziemer\\AppData\\Local\\Programs\\Python\\Python310\\lib\\site-packages\\librosa\\util\\decorators.py:88: UserWarning: PySoundFile failed. Trying audioread instead.\n",
      "  return f(*args, **kwargs)\n"
     ]
    },
    {
     "name": "stdout",
     "output_type": "stream",
     "text": [
      "126\n",
      "C:\\Users\\t_ziemer\\Desktop\\techno-test\\germanycsv\\Some More Crime - Personal Projector (1993).m4a.csv\n",
      "cool\n"
     ]
    },
    {
     "name": "stderr",
     "output_type": "stream",
     "text": [
      "C:\\Users\\t_ziemer\\AppData\\Local\\Programs\\Python\\Python310\\lib\\site-packages\\librosa\\util\\decorators.py:88: UserWarning: PySoundFile failed. Trying audioread instead.\n",
      "  return f(*args, **kwargs)\n"
     ]
    },
    {
     "name": "stdout",
     "output_type": "stream",
     "text": [
      "102\n",
      "C:\\Users\\t_ziemer\\Desktop\\techno-test\\germanycsv\\Some More Crime - Scared (1991).m4a.csv\n",
      "cool\n"
     ]
    },
    {
     "name": "stderr",
     "output_type": "stream",
     "text": [
      "C:\\Users\\t_ziemer\\AppData\\Local\\Programs\\Python\\Python310\\lib\\site-packages\\librosa\\util\\decorators.py:88: UserWarning: PySoundFile failed. Trying audioread instead.\n",
      "  return f(*args, **kwargs)\n"
     ]
    },
    {
     "name": "stdout",
     "output_type": "stream",
     "text": [
      "114\n",
      "C:\\Users\\t_ziemer\\Desktop\\techno-test\\germanycsv\\Some More Crime - Scared (Remix) (1991).m4a.csv\n",
      "cool\n"
     ]
    },
    {
     "name": "stderr",
     "output_type": "stream",
     "text": [
      "C:\\Users\\t_ziemer\\AppData\\Local\\Programs\\Python\\Python310\\lib\\site-packages\\librosa\\util\\decorators.py:88: UserWarning: PySoundFile failed. Trying audioread instead.\n",
      "  return f(*args, **kwargs)\n"
     ]
    },
    {
     "name": "stdout",
     "output_type": "stream",
     "text": [
      "120\n",
      "C:\\Users\\t_ziemer\\Desktop\\techno-test\\germanycsv\\Some More Crime - Sex Is Not Right (1993).m4a.csv\n",
      "cool\n"
     ]
    },
    {
     "name": "stderr",
     "output_type": "stream",
     "text": [
      "C:\\Users\\t_ziemer\\AppData\\Local\\Programs\\Python\\Python310\\lib\\site-packages\\librosa\\util\\decorators.py:88: UserWarning: PySoundFile failed. Trying audioread instead.\n",
      "  return f(*args, **kwargs)\n"
     ]
    },
    {
     "name": "stdout",
     "output_type": "stream",
     "text": [
      "148\n",
      "C:\\Users\\t_ziemer\\Desktop\\techno-test\\germanycsv\\Some More Crime - Society Is A Difficult Film (1993).m4a.csv\n",
      "cool\n",
      "84\n",
      "C:\\Users\\t_ziemer\\Desktop\\techno-test\\germanycsv\\Some More Crime - Wasted Time (1991).opus.csv\n",
      "cool\n",
      "119\n",
      "C:\\Users\\t_ziemer\\Desktop\\techno-test\\germanycsv\\Space Cube - Dolphins (A Visit To Great Barrier Reef Mix) (1994).mp3.csv\n",
      "cool\n"
     ]
    },
    {
     "name": "stderr",
     "output_type": "stream",
     "text": [
      "C:\\Users\\t_ziemer\\AppData\\Local\\Programs\\Python\\Python310\\lib\\site-packages\\librosa\\util\\decorators.py:88: UserWarning: PySoundFile failed. Trying audioread instead.\n",
      "  return f(*args, **kwargs)\n"
     ]
    },
    {
     "name": "stdout",
     "output_type": "stream",
     "text": [
      "164\n",
      "C:\\Users\\t_ziemer\\Desktop\\techno-test\\germanycsv\\Space Cube - Dschungel Fieber (1993).m4a.csv\n",
      "cool\n",
      "136\n",
      "C:\\Users\\t_ziemer\\Desktop\\techno-test\\germanycsv\\Space Cube - Forbidden Planet (1992).mp3.csv\n",
      "cool\n",
      "157\n",
      "C:\\Users\\t_ziemer\\Desktop\\techno-test\\germanycsv\\Spectral Emotions - Kaleidosphere (1993).opus.csv\n",
      "cool\n",
      "118\n",
      "C:\\Users\\t_ziemer\\Desktop\\techno-test\\germanycsv\\Spicelab - A Day On Our Planet (1993).mp3.csv\n",
      "cool\n"
     ]
    },
    {
     "name": "stderr",
     "output_type": "stream",
     "text": [
      "C:\\Users\\t_ziemer\\AppData\\Local\\Programs\\Python\\Python310\\lib\\site-packages\\librosa\\util\\decorators.py:88: UserWarning: PySoundFile failed. Trying audioread instead.\n",
      "  return f(*args, **kwargs)\n"
     ]
    },
    {
     "name": "stdout",
     "output_type": "stream",
     "text": [
      "164\n",
      "C:\\Users\\t_ziemer\\Desktop\\techno-test\\germanycsv\\Spicelab - Hyperspice (1993).m4a.csv\n",
      "cool\n",
      "127\n",
      "C:\\Users\\t_ziemer\\Desktop\\techno-test\\germanycsv\\Spicelab - Lost In Spice (1993).mp3.csv\n",
      "cool\n",
      "152\n",
      "C:\\Users\\t_ziemer\\Desktop\\techno-test\\germanycsv\\Spicelab - S.Y.N.C (1993).mp3.csv\n",
      "cool\n"
     ]
    },
    {
     "name": "stderr",
     "output_type": "stream",
     "text": [
      "C:\\Users\\t_ziemer\\AppData\\Local\\Programs\\Python\\Python310\\lib\\site-packages\\librosa\\util\\decorators.py:88: UserWarning: PySoundFile failed. Trying audioread instead.\n",
      "  return f(*args, **kwargs)\n"
     ]
    },
    {
     "name": "stdout",
     "output_type": "stream",
     "text": [
      "shit!\n",
      "110\n",
      "C:\\Users\\t_ziemer\\Desktop\\techno-test\\germanycsv\\Splash - Joy And Pain (Dance Radio Mix) (1991).m4a.csv\n",
      "cool\n"
     ]
    },
    {
     "name": "stderr",
     "output_type": "stream",
     "text": [
      "C:\\Users\\t_ziemer\\AppData\\Local\\Programs\\Python\\Python310\\lib\\site-packages\\librosa\\util\\decorators.py:88: UserWarning: PySoundFile failed. Trying audioread instead.\n",
      "  return f(*args, **kwargs)\n"
     ]
    },
    {
     "name": "stdout",
     "output_type": "stream",
     "text": [
      "108\n",
      "C:\\Users\\t_ziemer\\Desktop\\techno-test\\germanycsv\\Splash - Set The Groove On Fire (100% Explosive Mix) (1991).m4a.csv\n",
      "cool\n"
     ]
    },
    {
     "name": "stderr",
     "output_type": "stream",
     "text": [
      "C:\\Users\\t_ziemer\\AppData\\Local\\Programs\\Python\\Python310\\lib\\site-packages\\librosa\\util\\decorators.py:88: UserWarning: PySoundFile failed. Trying audioread instead.\n",
      "  return f(*args, **kwargs)\n"
     ]
    },
    {
     "name": "stdout",
     "output_type": "stream",
     "text": [
      "140\n",
      "C:\\Users\\t_ziemer\\Desktop\\techno-test\\germanycsv\\Structure - Psycho Tribe (1993).m4a.csv\n",
      "cool\n",
      "149\n",
      "C:\\Users\\t_ziemer\\Desktop\\techno-test\\germanycsv\\Structure - We Are Structure (De-Structure) (1994).mp3.csv\n",
      "cool\n",
      "162\n",
      "C:\\Users\\t_ziemer\\Desktop\\techno-test\\germanycsv\\Sub-Machine - Amigos (1994).mp3.csv\n",
      "cool\n"
     ]
    },
    {
     "name": "stderr",
     "output_type": "stream",
     "text": [
      "C:\\Users\\t_ziemer\\AppData\\Local\\Programs\\Python\\Python310\\lib\\site-packages\\librosa\\util\\decorators.py:88: UserWarning: PySoundFile failed. Trying audioread instead.\n",
      "  return f(*args, **kwargs)\n"
     ]
    },
    {
     "name": "stdout",
     "output_type": "stream",
     "text": [
      "164\n",
      "C:\\Users\\t_ziemer\\Desktop\\techno-test\\germanycsv\\Sub-Stance - Gravity (1994).m4a.csv\n",
      "cool\n"
     ]
    },
    {
     "name": "stderr",
     "output_type": "stream",
     "text": [
      "C:\\Users\\t_ziemer\\AppData\\Local\\Programs\\Python\\Python310\\lib\\site-packages\\librosa\\util\\decorators.py:88: UserWarning: PySoundFile failed. Trying audioread instead.\n",
      "  return f(*args, **kwargs)\n"
     ]
    },
    {
     "name": "stdout",
     "output_type": "stream",
     "text": [
      "164\n",
      "C:\\Users\\t_ziemer\\Desktop\\techno-test\\germanycsv\\Sub-Stance - Look To The Future (1994).m4a.csv\n",
      "cool\n"
     ]
    },
    {
     "name": "stderr",
     "output_type": "stream",
     "text": [
      "C:\\Users\\t_ziemer\\AppData\\Local\\Programs\\Python\\Python310\\lib\\site-packages\\librosa\\util\\decorators.py:88: UserWarning: PySoundFile failed. Trying audioread instead.\n",
      "  return f(*args, **kwargs)\n"
     ]
    },
    {
     "name": "stdout",
     "output_type": "stream",
     "text": [
      "shit!\n",
      "128\n",
      "C:\\Users\\t_ziemer\\Desktop\\techno-test\\germanycsv\\Subwave - Teach Me (Club Mix) (1994).mp3.csv\n",
      "cool\n",
      "129\n",
      "C:\\Users\\t_ziemer\\Desktop\\techno-test\\germanycsv\\Subwave - Teach Me (Espuma Mix) (1994).mp3.csv\n",
      "cool\n"
     ]
    },
    {
     "name": "stderr",
     "output_type": "stream",
     "text": [
      "C:\\Users\\t_ziemer\\AppData\\Local\\Programs\\Python\\Python310\\lib\\site-packages\\librosa\\util\\decorators.py:88: UserWarning: PySoundFile failed. Trying audioread instead.\n",
      "  return f(*args, **kwargs)\n"
     ]
    },
    {
     "name": "stdout",
     "output_type": "stream",
     "text": [
      "115\n",
      "C:\\Users\\t_ziemer\\Desktop\\techno-test\\germanycsv\\Sun Electric - Beauty O'Locco (1993).m4a.csv\n",
      "cool\n",
      "116\n",
      "C:\\Users\\t_ziemer\\Desktop\\techno-test\\germanycsv\\Sun Electric - I Feel Free (Delerium) (1990).mp3.csv\n",
      "cool\n"
     ]
    },
    {
     "name": "stderr",
     "output_type": "stream",
     "text": [
      "C:\\Users\\t_ziemer\\AppData\\Local\\Programs\\Python\\Python310\\lib\\site-packages\\librosa\\util\\decorators.py:88: UserWarning: PySoundFile failed. Trying audioread instead.\n",
      "  return f(*args, **kwargs)\n"
     ]
    },
    {
     "name": "stdout",
     "output_type": "stream",
     "text": [
      "116\n",
      "C:\\Users\\t_ziemer\\Desktop\\techno-test\\germanycsv\\Sun Electric - Lichterfelde (1993).m4a.csv\n",
      "cool\n",
      "178\n",
      "C:\\Users\\t_ziemer\\Desktop\\techno-test\\germanycsv\\Sun Electric - O'locco (Kama Sutra) (1990).mp3.csv\n",
      "cool\n",
      "108\n",
      "C:\\Users\\t_ziemer\\Desktop\\techno-test\\germanycsv\\Sun Electric - O'locco (Space Therapy) (1990).mp3.csv\n",
      "cool\n"
     ]
    },
    {
     "name": "stderr",
     "output_type": "stream",
     "text": [
      "C:\\Users\\t_ziemer\\AppData\\Local\\Programs\\Python\\Python310\\lib\\site-packages\\librosa\\util\\decorators.py:88: UserWarning: PySoundFile failed. Trying audioread instead.\n",
      "  return f(*args, **kwargs)\n"
     ]
    },
    {
     "name": "stdout",
     "output_type": "stream",
     "text": [
      "129\n",
      "C:\\Users\\t_ziemer\\Desktop\\techno-test\\germanycsv\\Sun Electric - Osram 509 (1993).m4a.csv\n",
      "cool\n",
      "185\n",
      "C:\\Users\\t_ziemer\\Desktop\\techno-test\\germanycsv\\Sun Electric - Point X (Ed. 2) (1994).mp3.csv\n",
      "cool\n"
     ]
    },
    {
     "name": "stderr",
     "output_type": "stream",
     "text": [
      "C:\\Users\\t_ziemer\\AppData\\Local\\Programs\\Python\\Python310\\lib\\site-packages\\librosa\\util\\decorators.py:88: UserWarning: PySoundFile failed. Trying audioread instead.\n",
      "  return f(*args, **kwargs)\n"
     ]
    },
    {
     "name": "stdout",
     "output_type": "stream",
     "text": [
      "129\n",
      "C:\\Users\\t_ziemer\\Desktop\\techno-test\\germanycsv\\Sun Electric - Qwertz (1993).m4a.csv\n",
      "cool\n",
      "115\n",
      "C:\\Users\\t_ziemer\\Desktop\\techno-test\\germanycsv\\Sun Electric - Sarotti (1993).mp3.csv\n",
      "cool\n",
      "129\n",
      "C:\\Users\\t_ziemer\\Desktop\\techno-test\\germanycsv\\Sun Electric - Up The Drain (1993).mp3.csv\n",
      "cool\n"
     ]
    },
    {
     "name": "stderr",
     "output_type": "stream",
     "text": [
      "C:\\Users\\t_ziemer\\AppData\\Local\\Programs\\Python\\Python310\\lib\\site-packages\\librosa\\util\\decorators.py:88: UserWarning: PySoundFile failed. Trying audioread instead.\n",
      "  return f(*args, **kwargs)\n"
     ]
    },
    {
     "name": "stdout",
     "output_type": "stream",
     "text": [
      "170\n",
      "C:\\Users\\t_ziemer\\Desktop\\techno-test\\germanycsv\\Suspicious - Lovewaves (Marusha Remix) (1994).m4a.csv\n",
      "cool\n"
     ]
    },
    {
     "name": "stderr",
     "output_type": "stream",
     "text": [
      "C:\\Users\\t_ziemer\\AppData\\Local\\Programs\\Python\\Python310\\lib\\site-packages\\librosa\\util\\decorators.py:88: UserWarning: PySoundFile failed. Trying audioread instead.\n",
      "  return f(*args, **kwargs)\n"
     ]
    },
    {
     "name": "stdout",
     "output_type": "stream",
     "text": [
      "116\n",
      "C:\\Users\\t_ziemer\\Desktop\\techno-test\\germanycsv\\Sven Väth - Drifting Like Whales In the Darkness (1992).m4a.csv\n",
      "cool\n"
     ]
    },
    {
     "name": "stderr",
     "output_type": "stream",
     "text": [
      "C:\\Users\\t_ziemer\\AppData\\Local\\Programs\\Python\\Python310\\lib\\site-packages\\librosa\\util\\decorators.py:88: UserWarning: PySoundFile failed. Trying audioread instead.\n",
      "  return f(*args, **kwargs)\n"
     ]
    },
    {
     "name": "stdout",
     "output_type": "stream",
     "text": [
      "128\n",
      "C:\\Users\\t_ziemer\\Desktop\\techno-test\\germanycsv\\Sven Väth - Harlequin - the Beauty and the Beast (1994).m4a.csv\n",
      "cool\n"
     ]
    },
    {
     "name": "stderr",
     "output_type": "stream",
     "text": [
      "C:\\Users\\t_ziemer\\AppData\\Local\\Programs\\Python\\Python310\\lib\\site-packages\\librosa\\util\\decorators.py:88: UserWarning: PySoundFile failed. Trying audioread instead.\n",
      "  return f(*args, **kwargs)\n"
     ]
    },
    {
     "name": "stdout",
     "output_type": "stream",
     "text": [
      "150\n",
      "C:\\Users\\t_ziemer\\Desktop\\techno-test\\germanycsv\\Sven Väth - Harlequin Plays Bells (1994).m4a.csv\n",
      "cool\n"
     ]
    },
    {
     "name": "stderr",
     "output_type": "stream",
     "text": [
      "C:\\Users\\t_ziemer\\AppData\\Local\\Programs\\Python\\Python310\\lib\\site-packages\\librosa\\util\\decorators.py:88: UserWarning: PySoundFile failed. Trying audioread instead.\n",
      "  return f(*args, **kwargs)\n"
     ]
    },
    {
     "name": "stdout",
     "output_type": "stream",
     "text": [
      "171\n",
      "C:\\Users\\t_ziemer\\Desktop\\techno-test\\germanycsv\\Sven Väth - L'Esperanza (1992).m4a.csv\n",
      "cool\n"
     ]
    },
    {
     "name": "stderr",
     "output_type": "stream",
     "text": [
      "C:\\Users\\t_ziemer\\AppData\\Local\\Programs\\Python\\Python310\\lib\\site-packages\\librosa\\util\\decorators.py:88: UserWarning: PySoundFile failed. Trying audioread instead.\n",
      "  return f(*args, **kwargs)\n"
     ]
    },
    {
     "name": "stdout",
     "output_type": "stream",
     "text": [
      "142\n",
      "C:\\Users\\t_ziemer\\Desktop\\techno-test\\germanycsv\\Sydney Fresh - Do You Want Love (1991).m4a.csv\n",
      "cool\n"
     ]
    },
    {
     "name": "stderr",
     "output_type": "stream",
     "text": [
      "C:\\Users\\t_ziemer\\AppData\\Local\\Programs\\Python\\Python310\\lib\\site-packages\\librosa\\util\\decorators.py:88: UserWarning: PySoundFile failed. Trying audioread instead.\n",
      "  return f(*args, **kwargs)\n"
     ]
    },
    {
     "name": "stdout",
     "output_type": "stream",
     "text": [
      "126\n",
      "C:\\Users\\t_ziemer\\Desktop\\techno-test\\germanycsv\\Sydney Fresh - Drive Me Crazy (1991).m4a.csv\n",
      "cool\n"
     ]
    },
    {
     "name": "stderr",
     "output_type": "stream",
     "text": [
      "C:\\Users\\t_ziemer\\AppData\\Local\\Programs\\Python\\Python310\\lib\\site-packages\\librosa\\util\\decorators.py:88: UserWarning: PySoundFile failed. Trying audioread instead.\n",
      "  return f(*args, **kwargs)\n"
     ]
    },
    {
     "name": "stdout",
     "output_type": "stream",
     "text": [
      "118\n",
      "C:\\Users\\t_ziemer\\Desktop\\techno-test\\germanycsv\\Sydney Fresh - Feel The Bass (Come Down On Me) (1990).m4a.csv\n",
      "cool\n"
     ]
    },
    {
     "name": "stderr",
     "output_type": "stream",
     "text": [
      "C:\\Users\\t_ziemer\\AppData\\Local\\Programs\\Python\\Python310\\lib\\site-packages\\librosa\\util\\decorators.py:88: UserWarning: PySoundFile failed. Trying audioread instead.\n",
      "  return f(*args, **kwargs)\n"
     ]
    },
    {
     "name": "stdout",
     "output_type": "stream",
     "text": [
      "179\n",
      "C:\\Users\\t_ziemer\\Desktop\\techno-test\\germanycsv\\Sydney Fresh - If It's Love (1991).m4a.csv\n",
      "cool\n"
     ]
    },
    {
     "name": "stderr",
     "output_type": "stream",
     "text": [
      "C:\\Users\\t_ziemer\\AppData\\Local\\Programs\\Python\\Python310\\lib\\site-packages\\librosa\\util\\decorators.py:88: UserWarning: PySoundFile failed. Trying audioread instead.\n",
      "  return f(*args, **kwargs)\n"
     ]
    },
    {
     "name": "stdout",
     "output_type": "stream",
     "text": [
      "shit!\n",
      "114\n",
      "C:\\Users\\t_ziemer\\Desktop\\techno-test\\germanycsv\\Sydney Fresh - Party-Rap (1988).opus.csv\n",
      "cool\n"
     ]
    },
    {
     "name": "stderr",
     "output_type": "stream",
     "text": [
      "C:\\Users\\t_ziemer\\AppData\\Local\\Programs\\Python\\Python310\\lib\\site-packages\\librosa\\util\\decorators.py:88: UserWarning: PySoundFile failed. Trying audioread instead.\n",
      "  return f(*args, **kwargs)\n"
     ]
    },
    {
     "name": "stdout",
     "output_type": "stream",
     "text": [
      "shit!\n",
      "129\n",
      "C:\\Users\\t_ziemer\\Desktop\\techno-test\\germanycsv\\Synful Dyme - Pin Pac (1994).mp3.csv\n",
      "cool\n"
     ]
    },
    {
     "name": "stderr",
     "output_type": "stream",
     "text": [
      "C:\\Users\\t_ziemer\\AppData\\Local\\Programs\\Python\\Python310\\lib\\site-packages\\librosa\\util\\decorators.py:88: UserWarning: PySoundFile failed. Trying audioread instead.\n",
      "  return f(*args, **kwargs)\n"
     ]
    },
    {
     "name": "stdout",
     "output_type": "stream",
     "text": [
      "126\n",
      "C:\\Users\\t_ziemer\\Desktop\\techno-test\\germanycsv\\Tanochinjaii - Fallen Angel (1993).m4a.csv\n",
      "cool\n"
     ]
    },
    {
     "name": "stderr",
     "output_type": "stream",
     "text": [
      "C:\\Users\\t_ziemer\\AppData\\Local\\Programs\\Python\\Python310\\lib\\site-packages\\librosa\\util\\decorators.py:88: UserWarning: PySoundFile failed. Trying audioread instead.\n",
      "  return f(*args, **kwargs)\n"
     ]
    },
    {
     "name": "stdout",
     "output_type": "stream",
     "text": [
      "shit!\n",
      "165\n",
      "C:\\Users\\t_ziemer\\Desktop\\techno-test\\germanycsv\\TFF - Curver Track 1 (1994).opus.csv\n",
      "cool\n"
     ]
    },
    {
     "name": "stderr",
     "output_type": "stream",
     "text": [
      "C:\\Users\\t_ziemer\\AppData\\Local\\Programs\\Python\\Python310\\lib\\site-packages\\librosa\\util\\decorators.py:88: UserWarning: PySoundFile failed. Trying audioread instead.\n",
      "  return f(*args, **kwargs)\n"
     ]
    },
    {
     "name": "stdout",
     "output_type": "stream",
     "text": [
      "165\n",
      "C:\\Users\\t_ziemer\\Desktop\\techno-test\\germanycsv\\TFF - Hyperspace (1994).m4a.csv\n",
      "cool\n",
      "111\n",
      "C:\\Users\\t_ziemer\\Desktop\\techno-test\\germanycsv\\The Ambush - Casablanca (1994).opus.csv\n",
      "cool\n",
      "137\n",
      "C:\\Users\\t_ziemer\\Desktop\\techno-test\\germanycsv\\The Ambush - Rain (1994).opus.csv\n",
      "cool\n"
     ]
    },
    {
     "name": "stderr",
     "output_type": "stream",
     "text": [
      "C:\\Users\\t_ziemer\\AppData\\Local\\Programs\\Python\\Python310\\lib\\site-packages\\librosa\\util\\decorators.py:88: UserWarning: PySoundFile failed. Trying audioread instead.\n",
      "  return f(*args, **kwargs)\n"
     ]
    },
    {
     "name": "stdout",
     "output_type": "stream",
     "text": [
      "114\n",
      "C:\\Users\\t_ziemer\\Desktop\\techno-test\\germanycsv\\The B.h.H With Ardath Bey - Bulgarian Hip Hop (Bulgarian Trance Mix) (1988).m4a.csv\n",
      "cool\n"
     ]
    },
    {
     "name": "stderr",
     "output_type": "stream",
     "text": [
      "C:\\Users\\t_ziemer\\AppData\\Local\\Programs\\Python\\Python310\\lib\\site-packages\\librosa\\util\\decorators.py:88: UserWarning: PySoundFile failed. Trying audioread instead.\n",
      "  return f(*args, **kwargs)\n"
     ]
    },
    {
     "name": "stdout",
     "output_type": "stream",
     "text": [
      "129\n",
      "C:\\Users\\t_ziemer\\Desktop\\techno-test\\germanycsv\\The Beatexperience - I Wanna Feel The Music (Indian Extended Mix) (1994).m4a.csv\n",
      "cool\n"
     ]
    },
    {
     "name": "stderr",
     "output_type": "stream",
     "text": [
      "C:\\Users\\t_ziemer\\AppData\\Local\\Programs\\Python\\Python310\\lib\\site-packages\\librosa\\util\\decorators.py:88: UserWarning: PySoundFile failed. Trying audioread instead.\n",
      "  return f(*args, **kwargs)\n"
     ]
    },
    {
     "name": "stdout",
     "output_type": "stream",
     "text": [
      "128\n",
      "C:\\Users\\t_ziemer\\Desktop\\techno-test\\germanycsv\\The Beatexperience - I Wanna Feel The Music (Radio Mix) (1994).m4a.csv\n",
      "cool\n"
     ]
    },
    {
     "name": "stderr",
     "output_type": "stream",
     "text": [
      "C:\\Users\\t_ziemer\\AppData\\Local\\Programs\\Python\\Python310\\lib\\site-packages\\librosa\\util\\decorators.py:88: UserWarning: PySoundFile failed. Trying audioread instead.\n",
      "  return f(*args, **kwargs)\n"
     ]
    },
    {
     "name": "stdout",
     "output_type": "stream",
     "text": [
      "shit!\n",
      "shit!\n",
      "102\n",
      "C:\\Users\\t_ziemer\\Desktop\\techno-test\\germanycsv\\The Bionaut - Plum (1993).mp3.csv\n",
      "cool\n"
     ]
    },
    {
     "name": "stderr",
     "output_type": "stream",
     "text": [
      "C:\\Users\\t_ziemer\\AppData\\Local\\Programs\\Python\\Python310\\lib\\site-packages\\librosa\\util\\decorators.py:88: UserWarning: PySoundFile failed. Trying audioread instead.\n",
      "  return f(*args, **kwargs)\n"
     ]
    },
    {
     "name": "stdout",
     "output_type": "stream",
     "text": [
      "128\n",
      "C:\\Users\\t_ziemer\\Desktop\\techno-test\\germanycsv\\The Bleep - Work Your Body (Jay Be's Media Mix) (1993).m4a.csv\n",
      "cool\n"
     ]
    },
    {
     "name": "stderr",
     "output_type": "stream",
     "text": [
      "C:\\Users\\t_ziemer\\AppData\\Local\\Programs\\Python\\Python310\\lib\\site-packages\\librosa\\util\\decorators.py:88: UserWarning: PySoundFile failed. Trying audioread instead.\n",
      "  return f(*args, **kwargs)\n"
     ]
    },
    {
     "name": "stdout",
     "output_type": "stream",
     "text": [
      "shit!\n",
      "168\n",
      "C:\\Users\\t_ziemer\\Desktop\\techno-test\\germanycsv\\The Headhunter - The Iron-Man (1994).m4a.csv\n",
      "cool\n"
     ]
    },
    {
     "name": "stderr",
     "output_type": "stream",
     "text": [
      "C:\\Users\\t_ziemer\\AppData\\Local\\Programs\\Python\\Python310\\lib\\site-packages\\librosa\\util\\decorators.py:88: UserWarning: PySoundFile failed. Trying audioread instead.\n",
      "  return f(*args, **kwargs)\n"
     ]
    },
    {
     "name": "stdout",
     "output_type": "stream",
     "text": [
      "163\n",
      "C:\\Users\\t_ziemer\\Desktop\\techno-test\\germanycsv\\The Headhunter - To The Sky (1994).m4a.csv\n",
      "cool\n"
     ]
    },
    {
     "name": "stderr",
     "output_type": "stream",
     "text": [
      "C:\\Users\\t_ziemer\\AppData\\Local\\Programs\\Python\\Python310\\lib\\site-packages\\librosa\\util\\decorators.py:88: UserWarning: PySoundFile failed. Trying audioread instead.\n",
      "  return f(*args, **kwargs)\n"
     ]
    },
    {
     "name": "stdout",
     "output_type": "stream",
     "text": [
      "117\n",
      "C:\\Users\\t_ziemer\\Desktop\\techno-test\\germanycsv\\The Mover - Body Snatchers (Impaler - First Mix) (1992).m4a.csv\n",
      "cool\n"
     ]
    },
    {
     "name": "stderr",
     "output_type": "stream",
     "text": [
      "C:\\Users\\t_ziemer\\AppData\\Local\\Programs\\Python\\Python310\\lib\\site-packages\\librosa\\util\\decorators.py:88: UserWarning: PySoundFile failed. Trying audioread instead.\n",
      "  return f(*args, **kwargs)\n"
     ]
    },
    {
     "name": "stdout",
     "output_type": "stream",
     "text": [
      "129\n",
      "C:\\Users\\t_ziemer\\Desktop\\techno-test\\germanycsv\\The Mover - Changing Platforms (1993).m4a.csv\n",
      "cool\n",
      "153\n",
      "C:\\Users\\t_ziemer\\Desktop\\techno-test\\germanycsv\\The Mover - Invite The Fear (1992).mp3.csv\n",
      "cool\n"
     ]
    },
    {
     "name": "stderr",
     "output_type": "stream",
     "text": [
      "C:\\Users\\t_ziemer\\AppData\\Local\\Programs\\Python\\Python310\\lib\\site-packages\\librosa\\util\\decorators.py:88: UserWarning: PySoundFile failed. Trying audioread instead.\n",
      "  return f(*args, **kwargs)\n"
     ]
    },
    {
     "name": "stdout",
     "output_type": "stream",
     "text": [
      "122\n",
      "C:\\Users\\t_ziemer\\Desktop\\techno-test\\germanycsv\\The Mover - The Emperor Takes Place (1993).m4a.csv\n",
      "cool\n"
     ]
    },
    {
     "name": "stderr",
     "output_type": "stream",
     "text": [
      "C:\\Users\\t_ziemer\\AppData\\Local\\Programs\\Python\\Python310\\lib\\site-packages\\librosa\\util\\decorators.py:88: UserWarning: PySoundFile failed. Trying audioread instead.\n",
      "  return f(*args, **kwargs)\n"
     ]
    },
    {
     "name": "stdout",
     "output_type": "stream",
     "text": [
      "126\n",
      "C:\\Users\\t_ziemer\\Desktop\\techno-test\\germanycsv\\The Mover - Waves Of Life (1993).m4a.csv\n",
      "cool\n"
     ]
    },
    {
     "name": "stderr",
     "output_type": "stream",
     "text": [
      "C:\\Users\\t_ziemer\\AppData\\Local\\Programs\\Python\\Python310\\lib\\site-packages\\librosa\\util\\decorators.py:88: UserWarning: PySoundFile failed. Trying audioread instead.\n",
      "  return f(*args, **kwargs)\n"
     ]
    },
    {
     "name": "stdout",
     "output_type": "stream",
     "text": [
      "154\n",
      "C:\\Users\\t_ziemer\\Desktop\\techno-test\\germanycsv\\The Possessed - Manipulator (1992).m4a.csv\n",
      "cool\n"
     ]
    },
    {
     "name": "stderr",
     "output_type": "stream",
     "text": [
      "C:\\Users\\t_ziemer\\AppData\\Local\\Programs\\Python\\Python310\\lib\\site-packages\\librosa\\util\\decorators.py:88: UserWarning: PySoundFile failed. Trying audioread instead.\n",
      "  return f(*args, **kwargs)\n"
     ]
    },
    {
     "name": "stdout",
     "output_type": "stream",
     "text": [
      "188\n",
      "C:\\Users\\t_ziemer\\Desktop\\techno-test\\germanycsv\\The Shapeshifter - Bass! (1994).m4a.csv\n",
      "cool\n"
     ]
    },
    {
     "name": "stderr",
     "output_type": "stream",
     "text": [
      "C:\\Users\\t_ziemer\\AppData\\Local\\Programs\\Python\\Python310\\lib\\site-packages\\librosa\\util\\decorators.py:88: UserWarning: PySoundFile failed. Trying audioread instead.\n",
      "  return f(*args, **kwargs)\n"
     ]
    },
    {
     "name": "stdout",
     "output_type": "stream",
     "text": [
      "136\n",
      "C:\\Users\\t_ziemer\\Desktop\\techno-test\\germanycsv\\The Visions of Shiva - Perfect night (1992).m4a.csv\n",
      "cool\n"
     ]
    },
    {
     "name": "stderr",
     "output_type": "stream",
     "text": [
      "C:\\Users\\t_ziemer\\AppData\\Local\\Programs\\Python\\Python310\\lib\\site-packages\\librosa\\util\\decorators.py:88: UserWarning: PySoundFile failed. Trying audioread instead.\n",
      "  return f(*args, **kwargs)\n"
     ]
    },
    {
     "name": "stdout",
     "output_type": "stream",
     "text": [
      "142\n",
      "C:\\Users\\t_ziemer\\Desktop\\techno-test\\germanycsv\\The World's Address - Fly (1992).m4a.csv\n",
      "cool\n",
      "112\n",
      "C:\\Users\\t_ziemer\\Desktop\\techno-test\\germanycsv\\The X-Ample - Never Let The Music Stop (Chuck The House Mix) (1988).opus.csv\n",
      "cool\n"
     ]
    },
    {
     "name": "stderr",
     "output_type": "stream",
     "text": [
      "C:\\Users\\t_ziemer\\AppData\\Local\\Programs\\Python\\Python310\\lib\\site-packages\\librosa\\util\\decorators.py:88: UserWarning: PySoundFile failed. Trying audioread instead.\n",
      "  return f(*args, **kwargs)\n"
     ]
    },
    {
     "name": "stdout",
     "output_type": "stream",
     "text": [
      "112\n",
      "C:\\Users\\t_ziemer\\Desktop\\techno-test\\germanycsv\\The X-Ample - Never Let The Music Stop (The Boum Boum Chuck Adventure Mix 88) (1988).m4a.csv\n",
      "cool\n"
     ]
    },
    {
     "name": "stderr",
     "output_type": "stream",
     "text": [
      "C:\\Users\\t_ziemer\\AppData\\Local\\Programs\\Python\\Python310\\lib\\site-packages\\librosa\\util\\decorators.py:88: UserWarning: PySoundFile failed. Trying audioread instead.\n",
      "  return f(*args, **kwargs)\n"
     ]
    },
    {
     "name": "stdout",
     "output_type": "stream",
     "text": [
      "136\n",
      "C:\\Users\\t_ziemer\\Desktop\\techno-test\\germanycsv\\Think! Big - No Jealousy (Hold On) (1994).m4a.csv\n",
      "cool\n"
     ]
    },
    {
     "name": "stderr",
     "output_type": "stream",
     "text": [
      "C:\\Users\\t_ziemer\\AppData\\Local\\Programs\\Python\\Python310\\lib\\site-packages\\librosa\\util\\decorators.py:88: UserWarning: PySoundFile failed. Trying audioread instead.\n",
      "  return f(*args, **kwargs)\n"
     ]
    },
    {
     "name": "stdout",
     "output_type": "stream",
     "text": [
      "107\n",
      "C:\\Users\\t_ziemer\\Desktop\\techno-test\\germanycsv\\Time Modem - Hommage An El (1993).m4a.csv\n",
      "cool\n",
      "114\n",
      "C:\\Users\\t_ziemer\\Desktop\\techno-test\\germanycsv\\Time Modem - Klangdynamische Bewegung (1993).opus.csv\n",
      "cool\n",
      "111\n",
      "C:\\Users\\t_ziemer\\Desktop\\techno-test\\germanycsv\\Time Modem - Space And Time (1992).opus.csv\n",
      "cool\n"
     ]
    },
    {
     "name": "stderr",
     "output_type": "stream",
     "text": [
      "C:\\Users\\t_ziemer\\AppData\\Local\\Programs\\Python\\Python310\\lib\\site-packages\\librosa\\util\\decorators.py:88: UserWarning: PySoundFile failed. Trying audioread instead.\n",
      "  return f(*args, **kwargs)\n"
     ]
    },
    {
     "name": "stdout",
     "output_type": "stream",
     "text": [
      "115\n",
      "C:\\Users\\t_ziemer\\Desktop\\techno-test\\germanycsv\\Time Modem - Zvyozdny (1993).m4a.csv\n",
      "cool\n",
      "138\n",
      "C:\\Users\\t_ziemer\\Desktop\\techno-test\\germanycsv\\Time to Time - Dreaming (1991).mp3.csv\n",
      "cool\n",
      "126\n",
      "C:\\Users\\t_ziemer\\Desktop\\techno-test\\germanycsv\\Time to Time - Listen Carefully (1993).mp3.csv\n",
      "cool\n",
      "126\n",
      "C:\\Users\\t_ziemer\\Desktop\\techno-test\\germanycsv\\Time to Time - Listen Carefully (Dub Mix) (1993).mp3.csv\n",
      "cool\n"
     ]
    },
    {
     "name": "stderr",
     "output_type": "stream",
     "text": [
      "C:\\Users\\t_ziemer\\AppData\\Local\\Programs\\Python\\Python310\\lib\\site-packages\\librosa\\util\\decorators.py:88: UserWarning: PySoundFile failed. Trying audioread instead.\n",
      "  return f(*args, **kwargs)\n"
     ]
    },
    {
     "name": "stdout",
     "output_type": "stream",
     "text": [
      "129\n",
      "C:\\Users\\t_ziemer\\Desktop\\techno-test\\germanycsv\\Time to Time - Suizid (1993).m4a.csv\n",
      "cool\n"
     ]
    },
    {
     "name": "stderr",
     "output_type": "stream",
     "text": [
      "C:\\Users\\t_ziemer\\AppData\\Local\\Programs\\Python\\Python310\\lib\\site-packages\\librosa\\util\\decorators.py:88: UserWarning: PySoundFile failed. Trying audioread instead.\n",
      "  return f(*args, **kwargs)\n"
     ]
    },
    {
     "name": "stdout",
     "output_type": "stream",
     "text": [
      "129\n",
      "C:\\Users\\t_ziemer\\Desktop\\techno-test\\germanycsv\\Time to Time - The Day After (1993).m4a.csv\n",
      "cool\n"
     ]
    },
    {
     "name": "stderr",
     "output_type": "stream",
     "text": [
      "C:\\Users\\t_ziemer\\AppData\\Local\\Programs\\Python\\Python310\\lib\\site-packages\\librosa\\util\\decorators.py:88: UserWarning: PySoundFile failed. Trying audioread instead.\n",
      "  return f(*args, **kwargs)\n"
     ]
    },
    {
     "name": "stdout",
     "output_type": "stream",
     "text": [
      "114\n",
      "C:\\Users\\t_ziemer\\Desktop\\techno-test\\germanycsv\\Time to Time - Time To Trance (1992).m4a.csv\n",
      "cool\n",
      "121\n",
      "C:\\Users\\t_ziemer\\Desktop\\techno-test\\germanycsv\\Time to Time - Weltträume II (1993).mp3.csv\n",
      "cool\n",
      "170\n",
      "C:\\Users\\t_ziemer\\Desktop\\techno-test\\germanycsv\\Tranceliner - Merrygoround Fx (1994).opus.csv\n",
      "cool\n",
      "128\n",
      "C:\\Users\\t_ziemer\\Desktop\\techno-test\\germanycsv\\Traumatic - Tribal Symphony (1994).mp3.csv\n",
      "cool\n"
     ]
    },
    {
     "name": "stderr",
     "output_type": "stream",
     "text": [
      "C:\\Users\\t_ziemer\\AppData\\Local\\Programs\\Python\\Python310\\lib\\site-packages\\librosa\\util\\decorators.py:88: UserWarning: PySoundFile failed. Trying audioread instead.\n",
      "  return f(*args, **kwargs)\n"
     ]
    },
    {
     "name": "stdout",
     "output_type": "stream",
     "text": [
      "113\n",
      "C:\\Users\\t_ziemer\\Desktop\\techno-test\\germanycsv\\Trust Unlimited - Moldau (1989).m4a.csv\n",
      "cool\n"
     ]
    },
    {
     "name": "stderr",
     "output_type": "stream",
     "text": [
      "C:\\Users\\t_ziemer\\AppData\\Local\\Programs\\Python\\Python310\\lib\\site-packages\\librosa\\util\\decorators.py:88: UserWarning: PySoundFile failed. Trying audioread instead.\n",
      "  return f(*args, **kwargs)\n"
     ]
    },
    {
     "name": "stdout",
     "output_type": "stream",
     "text": [
      "shit!\n",
      "115\n",
      "C:\\Users\\t_ziemer\\Desktop\\techno-test\\germanycsv\\U-Tek - Suction (Shotgun Mix) (1991).m4a.csv\n",
      "cool\n"
     ]
    },
    {
     "name": "stderr",
     "output_type": "stream",
     "text": [
      "C:\\Users\\t_ziemer\\AppData\\Local\\Programs\\Python\\Python310\\lib\\site-packages\\librosa\\util\\decorators.py:88: UserWarning: PySoundFile failed. Trying audioread instead.\n",
      "  return f(*args, **kwargs)\n"
     ]
    },
    {
     "name": "stdout",
     "output_type": "stream",
     "text": [
      "110\n",
      "C:\\Users\\t_ziemer\\Desktop\\techno-test\\germanycsv\\U96 - 220 bpm (1992).m4a.csv\n",
      "cool\n",
      "126\n",
      "C:\\Users\\t_ziemer\\Desktop\\techno-test\\germanycsv\\U96 - Eve of the war (1993).mp3.csv\n",
      "cool\n",
      "119\n",
      "C:\\Users\\t_ziemer\\Desktop\\techno-test\\germanycsv\\U96 - Je suis selected (1993).mp3.csv\n",
      "cool\n"
     ]
    },
    {
     "name": "stderr",
     "output_type": "stream",
     "text": [
      "C:\\Users\\t_ziemer\\AppData\\Local\\Programs\\Python\\Python310\\lib\\site-packages\\librosa\\util\\decorators.py:88: UserWarning: PySoundFile failed. Trying audioread instead.\n",
      "  return f(*args, **kwargs)\n"
     ]
    },
    {
     "name": "stdout",
     "output_type": "stream",
     "text": [
      "123\n",
      "C:\\Users\\t_ziemer\\Desktop\\techno-test\\germanycsv\\U96 - Night In Motion (12'' mix) (1993).m4a.csv\n",
      "cool\n",
      "123\n",
      "C:\\Users\\t_ziemer\\Desktop\\techno-test\\germanycsv\\U96 - Night in motion (1993).mp3.csv\n",
      "cool\n"
     ]
    },
    {
     "name": "stderr",
     "output_type": "stream",
     "text": [
      "C:\\Users\\t_ziemer\\AppData\\Local\\Programs\\Python\\Python310\\lib\\site-packages\\librosa\\util\\decorators.py:88: UserWarning: PySoundFile failed. Trying audioread instead.\n",
      "  return f(*args, **kwargs)\n"
     ]
    },
    {
     "name": "stdout",
     "output_type": "stream",
     "text": [
      "123\n",
      "C:\\Users\\t_ziemer\\Desktop\\techno-test\\germanycsv\\U96 - Night In Motion (Video Version) (1993).m4a.csv\n",
      "cool\n"
     ]
    },
    {
     "name": "stderr",
     "output_type": "stream",
     "text": [
      "C:\\Users\\t_ziemer\\AppData\\Local\\Programs\\Python\\Python310\\lib\\site-packages\\librosa\\util\\decorators.py:88: UserWarning: PySoundFile failed. Trying audioread instead.\n",
      "  return f(*args, **kwargs)\n"
     ]
    },
    {
     "name": "stdout",
     "output_type": "stream",
     "text": [
      "117\n",
      "C:\\Users\\t_ziemer\\Desktop\\techno-test\\germanycsv\\U96 - No Control (1992).m4a.csv\n",
      "cool\n"
     ]
    },
    {
     "name": "stderr",
     "output_type": "stream",
     "text": [
      "C:\\Users\\t_ziemer\\AppData\\Local\\Programs\\Python\\Python310\\lib\\site-packages\\librosa\\util\\decorators.py:88: UserWarning: PySoundFile failed. Trying audioread instead.\n",
      "  return f(*args, **kwargs)\n"
     ]
    },
    {
     "name": "stdout",
     "output_type": "stream",
     "text": [
      "113\n",
      "C:\\Users\\t_ziemer\\Desktop\\techno-test\\germanycsv\\U96 - The pop crisis (1993).m4a.csv\n",
      "cool\n",
      "126\n",
      "C:\\Users\\t_ziemer\\Desktop\\techno-test\\germanycsv\\U96 - The rainbow factor (1993).mp3.csv\n",
      "cool\n",
      "123\n",
      "C:\\Users\\t_ziemer\\Desktop\\techno-test\\germanycsv\\U96 -Night in motion (1993).mp3.csv\n",
      "cool\n",
      "172\n",
      "C:\\Users\\t_ziemer\\Desktop\\techno-test\\germanycsv\\Ulysses - Dream 'N' Trance (1993).opus.csv\n",
      "cool\n"
     ]
    },
    {
     "name": "stderr",
     "output_type": "stream",
     "text": [
      "C:\\Users\\t_ziemer\\AppData\\Local\\Programs\\Python\\Python310\\lib\\site-packages\\librosa\\util\\decorators.py:88: UserWarning: PySoundFile failed. Trying audioread instead.\n",
      "  return f(*args, **kwargs)\n"
     ]
    },
    {
     "name": "stdout",
     "output_type": "stream",
     "text": [
      "shit!\n",
      "shit!\n",
      "129\n",
      "C:\\Users\\t_ziemer\\Desktop\\techno-test\\germanycsv\\Unlimited Pleasure - The Hustle (Single Edit) (1993).m4a.csv\n",
      "cool\n"
     ]
    },
    {
     "name": "stderr",
     "output_type": "stream",
     "text": [
      "C:\\Users\\t_ziemer\\AppData\\Local\\Programs\\Python\\Python310\\lib\\site-packages\\librosa\\util\\decorators.py:88: UserWarning: PySoundFile failed. Trying audioread instead.\n",
      "  return f(*args, **kwargs)\n"
     ]
    },
    {
     "name": "stdout",
     "output_type": "stream",
     "text": [
      "shit!\n",
      "128\n",
      "C:\\Users\\t_ziemer\\Desktop\\techno-test\\germanycsv\\VDT - Muvin' On Down (1993).opus.csv\n",
      "cool\n"
     ]
    },
    {
     "name": "stderr",
     "output_type": "stream",
     "text": [
      "C:\\Users\\t_ziemer\\AppData\\Local\\Programs\\Python\\Python310\\lib\\site-packages\\librosa\\util\\decorators.py:88: UserWarning: PySoundFile failed. Trying audioread instead.\n",
      "  return f(*args, **kwargs)\n"
     ]
    },
    {
     "name": "stdout",
     "output_type": "stream",
     "text": [
      "120\n",
      "C:\\Users\\t_ziemer\\Desktop\\techno-test\\germanycsv\\Vernon - What Will We Do Now (The Wriggle Mix) (1993).m4a.csv\n",
      "cool\n"
     ]
    },
    {
     "name": "stderr",
     "output_type": "stream",
     "text": [
      "C:\\Users\\t_ziemer\\AppData\\Local\\Programs\\Python\\Python310\\lib\\site-packages\\librosa\\util\\decorators.py:88: UserWarning: PySoundFile failed. Trying audioread instead.\n",
      "  return f(*args, **kwargs)\n"
     ]
    },
    {
     "name": "stdout",
     "output_type": "stream",
     "text": [
      "120\n",
      "C:\\Users\\t_ziemer\\Desktop\\techno-test\\germanycsv\\Vernon - What Will We Do Now (Wave Mix) (1993).m4a.csv\n",
      "cool\n"
     ]
    },
    {
     "name": "stderr",
     "output_type": "stream",
     "text": [
      "C:\\Users\\t_ziemer\\AppData\\Local\\Programs\\Python\\Python310\\lib\\site-packages\\librosa\\util\\decorators.py:88: UserWarning: PySoundFile failed. Trying audioread instead.\n",
      "  return f(*args, **kwargs)\n"
     ]
    },
    {
     "name": "stdout",
     "output_type": "stream",
     "text": [
      "109\n",
      "C:\\Users\\t_ziemer\\Desktop\\techno-test\\germanycsv\\Vernon - Wonderer (Acid Mix) (1993).m4a.csv\n",
      "cool\n"
     ]
    },
    {
     "name": "stderr",
     "output_type": "stream",
     "text": [
      "C:\\Users\\t_ziemer\\AppData\\Local\\Programs\\Python\\Python310\\lib\\site-packages\\librosa\\util\\decorators.py:88: UserWarning: PySoundFile failed. Trying audioread instead.\n",
      "  return f(*args, **kwargs)\n"
     ]
    },
    {
     "name": "stdout",
     "output_type": "stream",
     "text": [
      "128\n",
      "C:\\Users\\t_ziemer\\Desktop\\techno-test\\germanycsv\\Vernon - Wonderer (Vocal Mix) (1993).m4a.csv\n",
      "cool\n"
     ]
    },
    {
     "name": "stderr",
     "output_type": "stream",
     "text": [
      "C:\\Users\\t_ziemer\\AppData\\Local\\Programs\\Python\\Python310\\lib\\site-packages\\librosa\\util\\decorators.py:88: UserWarning: PySoundFile failed. Trying audioread instead.\n",
      "  return f(*args, **kwargs)\n"
     ]
    },
    {
     "name": "stdout",
     "output_type": "stream",
     "text": [
      "128\n",
      "C:\\Users\\t_ziemer\\Desktop\\techno-test\\germanycsv\\Vertical Blank - Imagination (1993).m4a.csv\n",
      "cool\n",
      "125\n",
      "C:\\Users\\t_ziemer\\Desktop\\techno-test\\germanycsv\\Vertical Blank - No Reason (1993).mp3.csv\n",
      "cool\n"
     ]
    },
    {
     "name": "stderr",
     "output_type": "stream",
     "text": [
      "C:\\Users\\t_ziemer\\AppData\\Local\\Programs\\Python\\Python310\\lib\\site-packages\\librosa\\util\\decorators.py:88: UserWarning: PySoundFile failed. Trying audioread instead.\n",
      "  return f(*args, **kwargs)\n"
     ]
    },
    {
     "name": "stdout",
     "output_type": "stream",
     "text": [
      "120\n",
      "C:\\Users\\t_ziemer\\Desktop\\techno-test\\germanycsv\\Vinyl Countdown - Soul Desert (1993).m4a.csv\n",
      "cool\n"
     ]
    },
    {
     "name": "stderr",
     "output_type": "stream",
     "text": [
      "C:\\Users\\t_ziemer\\AppData\\Local\\Programs\\Python\\Python310\\lib\\site-packages\\librosa\\util\\decorators.py:88: UserWarning: PySoundFile failed. Trying audioread instead.\n",
      "  return f(*args, **kwargs)\n"
     ]
    },
    {
     "name": "stdout",
     "output_type": "stream",
     "text": [
      "127\n",
      "C:\\Users\\t_ziemer\\Desktop\\techno-test\\germanycsv\\Virtual Symmetry - Mammal (Mix I) (1994).m4a.csv\n",
      "cool\n",
      "126\n",
      "C:\\Users\\t_ziemer\\Desktop\\techno-test\\germanycsv\\Virtual Symmetry - See You (1993).mp3.csv\n",
      "cool\n"
     ]
    },
    {
     "name": "stderr",
     "output_type": "stream",
     "text": [
      "C:\\Users\\t_ziemer\\AppData\\Local\\Programs\\Python\\Python310\\lib\\site-packages\\librosa\\util\\decorators.py:88: UserWarning: PySoundFile failed. Trying audioread instead.\n",
      "  return f(*args, **kwargs)\n"
     ]
    },
    {
     "name": "stdout",
     "output_type": "stream",
     "text": [
      "181\n",
      "C:\\Users\\t_ziemer\\Desktop\\techno-test\\germanycsv\\Virtual Symmetry - Virtual House (1993).m4a.csv\n",
      "cool\n"
     ]
    },
    {
     "name": "stderr",
     "output_type": "stream",
     "text": [
      "C:\\Users\\t_ziemer\\AppData\\Local\\Programs\\Python\\Python310\\lib\\site-packages\\librosa\\util\\decorators.py:88: UserWarning: PySoundFile failed. Trying audioread instead.\n",
      "  return f(*args, **kwargs)\n"
     ]
    },
    {
     "name": "stdout",
     "output_type": "stream",
     "text": [
      "shit!\n",
      "118\n",
      "C:\\Users\\t_ziemer\\Desktop\\techno-test\\germanycsv\\Vox Mystica - Callas (Mystica mix) (1990).m4a.csv\n",
      "cool\n"
     ]
    },
    {
     "name": "stderr",
     "output_type": "stream",
     "text": [
      "C:\\Users\\t_ziemer\\AppData\\Local\\Programs\\Python\\Python310\\lib\\site-packages\\librosa\\util\\decorators.py:88: UserWarning: PySoundFile failed. Trying audioread instead.\n",
      "  return f(*args, **kwargs)\n"
     ]
    },
    {
     "name": "stdout",
     "output_type": "stream",
     "text": [
      "119\n",
      "C:\\Users\\t_ziemer\\Desktop\\techno-test\\germanycsv\\Vox Mystica - Callas (Vox mix) (1990).m4a.csv\n",
      "cool\n"
     ]
    },
    {
     "name": "stderr",
     "output_type": "stream",
     "text": [
      "C:\\Users\\t_ziemer\\AppData\\Local\\Programs\\Python\\Python310\\lib\\site-packages\\librosa\\util\\decorators.py:88: UserWarning: PySoundFile failed. Trying audioread instead.\n",
      "  return f(*args, **kwargs)\n"
     ]
    },
    {
     "name": "stdout",
     "output_type": "stream",
     "text": [
      "118\n",
      "C:\\Users\\t_ziemer\\Desktop\\techno-test\\germanycsv\\Voyou - Radio Bostich (Dance Hall Mix) (1988).m4a.csv\n",
      "cool\n"
     ]
    },
    {
     "name": "stderr",
     "output_type": "stream",
     "text": [
      "C:\\Users\\t_ziemer\\AppData\\Local\\Programs\\Python\\Python310\\lib\\site-packages\\librosa\\util\\decorators.py:88: UserWarning: PySoundFile failed. Trying audioread instead.\n",
      "  return f(*args, **kwargs)\n"
     ]
    },
    {
     "name": "stdout",
     "output_type": "stream",
     "text": [
      "118\n",
      "C:\\Users\\t_ziemer\\Desktop\\techno-test\\germanycsv\\Voyou - Radio Bostich (Tune In Mix) (1988).m4a.csv\n",
      "cool\n",
      "120\n",
      "C:\\Users\\t_ziemer\\Desktop\\techno-test\\germanycsv\\Wahnfried feat. Klaus Schulze - Crazy About (1994).mp3.csv\n",
      "cool\n"
     ]
    },
    {
     "name": "stderr",
     "output_type": "stream",
     "text": [
      "C:\\Users\\t_ziemer\\AppData\\Local\\Programs\\Python\\Python310\\lib\\site-packages\\librosa\\util\\decorators.py:88: UserWarning: PySoundFile failed. Trying audioread instead.\n",
      "  return f(*args, **kwargs)\n"
     ]
    },
    {
     "name": "stdout",
     "output_type": "stream",
     "text": [
      "118\n",
      "C:\\Users\\t_ziemer\\Desktop\\techno-test\\germanycsv\\Warp 69 - Suburbia (1993).m4a.csv\n",
      "cool\n"
     ]
    },
    {
     "name": "stderr",
     "output_type": "stream",
     "text": [
      "C:\\Users\\t_ziemer\\AppData\\Local\\Programs\\Python\\Python310\\lib\\site-packages\\librosa\\util\\decorators.py:88: UserWarning: PySoundFile failed. Trying audioread instead.\n",
      "  return f(*args, **kwargs)\n"
     ]
    },
    {
     "name": "stdout",
     "output_type": "stream",
     "text": [
      "135\n",
      "C:\\Users\\t_ziemer\\Desktop\\techno-test\\germanycsv\\Weird Shit - Goddamn Drummachine (1992).m4a.csv\n",
      "cool\n",
      "129\n",
      "C:\\Users\\t_ziemer\\Desktop\\techno-test\\germanycsv\\WestBam - After hours (1994).mp3.csv\n",
      "cool\n"
     ]
    },
    {
     "name": "stderr",
     "output_type": "stream",
     "text": [
      "C:\\Users\\t_ziemer\\AppData\\Local\\Programs\\Python\\Python310\\lib\\site-packages\\librosa\\util\\decorators.py:88: UserWarning: PySoundFile failed. Trying audioread instead.\n",
      "  return f(*args, **kwargs)\n"
     ]
    },
    {
     "name": "stdout",
     "output_type": "stream",
     "text": [
      "110\n",
      "C:\\Users\\t_ziemer\\Desktop\\techno-test\\germanycsv\\WestBam - Alarm clock (1991).m4a.csv\n",
      "cool\n"
     ]
    },
    {
     "name": "stderr",
     "output_type": "stream",
     "text": [
      "C:\\Users\\t_ziemer\\AppData\\Local\\Programs\\Python\\Python310\\lib\\site-packages\\librosa\\util\\decorators.py:88: UserWarning: PySoundFile failed. Trying audioread instead.\n",
      "  return f(*args, **kwargs)\n"
     ]
    },
    {
     "name": "stdout",
     "output_type": "stream",
     "text": [
      "111\n",
      "C:\\Users\\t_ziemer\\Desktop\\techno-test\\germanycsv\\WestBam - Der Bundespräsidenten-Mix (1990).m4a.csv\n",
      "cool\n"
     ]
    },
    {
     "name": "stderr",
     "output_type": "stream",
     "text": [
      "C:\\Users\\t_ziemer\\AppData\\Local\\Programs\\Python\\Python310\\lib\\site-packages\\librosa\\util\\decorators.py:88: UserWarning: PySoundFile failed. Trying audioread instead.\n",
      "  return f(*args, **kwargs)\n"
     ]
    },
    {
     "name": "stdout",
     "output_type": "stream",
     "text": [
      "140\n",
      "C:\\Users\\t_ziemer\\Desktop\\techno-test\\germanycsv\\WestBam - Live At Leningrad (Starring Pop Mekanik) (1988).m4a.csv\n",
      "cool\n",
      "115\n",
      "C:\\Users\\t_ziemer\\Desktop\\techno-test\\germanycsv\\WestBam - Make It Happen (1988).mp3.csv\n",
      "cool\n",
      "116\n",
      "C:\\Users\\t_ziemer\\Desktop\\techno-test\\germanycsv\\WestBam - More (Instrumental) (1988).mp3.csv\n",
      "cool\n",
      "118\n",
      "C:\\Users\\t_ziemer\\Desktop\\techno-test\\germanycsv\\WestBam - One Friday Morning (Instrumental) (1988).mp3.csv\n",
      "cool\n",
      "118\n",
      "C:\\Users\\t_ziemer\\Desktop\\techno-test\\germanycsv\\WestBam - Painted World (1988).mp3.csv\n",
      "cool\n"
     ]
    },
    {
     "name": "stderr",
     "output_type": "stream",
     "text": [
      "C:\\Users\\t_ziemer\\AppData\\Local\\Programs\\Python\\Python310\\lib\\site-packages\\librosa\\util\\decorators.py:88: UserWarning: PySoundFile failed. Trying audioread instead.\n",
      "  return f(*args, **kwargs)\n"
     ]
    },
    {
     "name": "stdout",
     "output_type": "stream",
     "text": [
      "193\n",
      "C:\\Users\\t_ziemer\\Desktop\\techno-test\\germanycsv\\WestBam - Sentimental Scratching (1989).m4a.csv\n",
      "cool\n",
      "108\n",
      "C:\\Users\\t_ziemer\\Desktop\\techno-test\\germanycsv\\WestBam - Theme Of Mr. Hong (Instrumental) (1988).mp3.csv\n",
      "cool\n",
      "116\n",
      "C:\\Users\\t_ziemer\\Desktop\\techno-test\\germanycsv\\WestBam - Why She Left Me ... (1988).mp3.csv\n",
      "cool\n"
     ]
    },
    {
     "name": "stderr",
     "output_type": "stream",
     "text": [
      "C:\\Users\\t_ziemer\\AppData\\Local\\Programs\\Python\\Python310\\lib\\site-packages\\librosa\\util\\decorators.py:88: UserWarning: PySoundFile failed. Trying audioread instead.\n",
      "  return f(*args, **kwargs)\n"
     ]
    },
    {
     "name": "stdout",
     "output_type": "stream",
     "text": [
      "84\n",
      "C:\\Users\\t_ziemer\\Desktop\\techno-test\\germanycsv\\White Breaks - White Line (1993).m4a.csv\n",
      "cool\n",
      "123\n",
      "C:\\Users\\t_ziemer\\Desktop\\techno-test\\germanycsv\\Wire Walker - Body-X-Periment (1993).mp3.csv\n",
      "cool\n"
     ]
    },
    {
     "name": "stderr",
     "output_type": "stream",
     "text": [
      "C:\\Users\\t_ziemer\\AppData\\Local\\Programs\\Python\\Python310\\lib\\site-packages\\librosa\\util\\decorators.py:88: UserWarning: PySoundFile failed. Trying audioread instead.\n",
      "  return f(*args, **kwargs)\n"
     ]
    },
    {
     "name": "stdout",
     "output_type": "stream",
     "text": [
      "200\n",
      "C:\\Users\\t_ziemer\\Desktop\\techno-test\\germanycsv\\X-Cite - It Takes You (Renegade Mix) (1994).m4a.csv\n",
      "cool\n"
     ]
    },
    {
     "name": "stderr",
     "output_type": "stream",
     "text": [
      "C:\\Users\\t_ziemer\\AppData\\Local\\Programs\\Python\\Python310\\lib\\site-packages\\librosa\\util\\decorators.py:88: UserWarning: PySoundFile failed. Trying audioread instead.\n",
      "  return f(*args, **kwargs)\n"
     ]
    },
    {
     "name": "stdout",
     "output_type": "stream",
     "text": [
      "shit!\n",
      "126\n",
      "C:\\Users\\t_ziemer\\Desktop\\techno-test\\germanycsv\\XME - Automatic Lover (1993).m4a.csv\n",
      "cool\n"
     ]
    },
    {
     "name": "stderr",
     "output_type": "stream",
     "text": [
      "C:\\Users\\t_ziemer\\AppData\\Local\\Programs\\Python\\Python310\\lib\\site-packages\\librosa\\util\\decorators.py:88: UserWarning: PySoundFile failed. Trying audioread instead.\n",
      "  return f(*args, **kwargs)\n"
     ]
    },
    {
     "name": "stdout",
     "output_type": "stream",
     "text": [
      "109\n",
      "C:\\Users\\t_ziemer\\Desktop\\techno-test\\germanycsv\\Ziggy P. - Work My Body Over (Part I) (1991).m4a.csv\n",
      "cool\n"
     ]
    }
   ],
   "source": [
    "import pandas as pd\n",
    "import csv\n",
    "# Suppress DeprecationWarning\n",
    "warnings.simplefilter(\"ignore\", category=DeprecationWarning)\n",
    "for n in range(len(mp3list)):#len(mp3list)\n",
    "    while True:\n",
    "        try:\n",
    "            array, sr=librosa.load(mp3list[n],sr=500,mono=True)\n",
    "            #print(f'round {n}')\n",
    "            csvfile = pd.read_csv(os.path.join(csvpath,mp3names[n]+'.csv'),index_col=0)\n",
    "            #print(list(csvfile['PhaseSpace']))\n",
    "            #normalization:\n",
    "            if np.max(array)>np.min(array)*-1:\n",
    "                array = array/np.max(array)\n",
    "            else:\n",
    "                array = array/np.min(array)*-1\n",
    "            #print('normalized')\n",
    "            #print(sr)\n",
    "            cut = array[(sr*4):len(array)-(sr*4)]# we crop the first and last 4 seconds\n",
    "            #print('cut')\n",
    "            estimated_bpm = estimate_bpm(cut,sr)\n",
    "            #print('estimated')\n",
    "            tempo = []\n",
    "            tempo.append(statistics.mode(estimated_bpm))\n",
    "            #print(tempo)\n",
    "            if len(tempo) > 1:\n",
    "                tempo = statistics.median(tempo)\n",
    "            #print(tempo[0])\n",
    "            beats=[]\n",
    "            line=list(csvfile.index)\n",
    "            #print(len(line))\n",
    "            for i in range(len(line)):\n",
    "                beats.append(int(tempo[0]))#bpm,median\n",
    "            #print('lines added')\n",
    "            print(tempo[0])\n",
    "            #features=[np.transpose(line), np.transpose(bc), np.transpose(corr), np.transpose(peak), np.transpose(rms), np.transpose(crest), np.transpose(bclow), np.transpose(corrlow), np.transpose(peaklow), np.transpose(rmslow), np.transpose(crestlow), np.transpose(bcmid), np.transpose(corrmid), np.transpose(peakmid), np.transpose(rmsmid), np.transpose(crestmid), np.transpose(bchigh), np.transpose(corrhigh), np.transpose(peakhigh), np.transpose(rmshigh), np.transpose(cresthigh),np.transpose(beats)] \n",
    "            #features = [list(csvfile.index), list(csvfile['PhaseSpace']), list(csvfile['ChannelCorrelation']), list(csvfile['PeakMeter']), list(csvfile['RMS']), list(csvfile['CrestFactor']), list(csvfile['PhaseSpaceLow']), list(csvfile['ChannelCorrelationLow']), list(csvfile['PeakMeterLow']), list(csvfile['RMSLow']), list(csvfile['CrestFactorLow']), list(csvfile['PhaseSpaceMid']), list(csvfile['ChannelCorrelationMid']), list(csvfile['PeakMeterMid']), list(csvfile['RMSMid']), list(csvfile['CrestFactorMid']), list(csvfile['PhaseSpaceHigh']), list(csvfile['ChannelCorrelationHigh']), list(csvfile['PeakMeterHigh']), list(csvfile['RMSHigh']), list(csvfile['CrestFactorHigh']), np.transpose(beats)]\n",
    "            #features = [list(csvfile.index), list(csvfile['PhaseSpace']), list(csvfile['ChannelCorrelation']), list(csvfile['PeakMeter']), list(csvfile['RMS']), list(csvfile['CrestFactor']), list(csvfile['PhaseSpaceLow']), list(csvfile['ChannelCorrelationLow']), list(csvfile['PeakMeterLow']), list(csvfile['RMSLow']), list(csvfile['CrestFactorLow']), list(csvfile['PhaseSpaceMid']), list(csvfile['ChannelCorrelationMid']), list(csvfile['PeakMeterMid']), list(csvfile['RMSMid']), list(csvfile['CrestFactorMid']), list(csvfile['PhaseSpaceHigh']), list(csvfile['ChannelCorrelationHigh']), list(csvfile['PeakMeterHigh']), list(csvfile['RMSHigh']), list(csvfile['CrestFactorHigh']), np.transpose(beats)]\n",
    "            features=np.array([list(csvfile.index), list(csvfile['PhaseSpace']), list(csvfile['ChannelCorrelation']), list(csvfile['PeakMeter']), list(csvfile['RMS']), list(csvfile['CrestFactor']), list(csvfile['PhaseSpaceLow']), list(csvfile['ChannelCorrelationLow']), list(csvfile['PeakMeterLow']), list(csvfile['RMSLow']), list(csvfile['CrestFactorLow']), list(csvfile['PhaseSpaceMid']), list(csvfile['ChannelCorrelationMid']), list(csvfile['PeakMeterMid']), list(csvfile['RMSMid']), list(csvfile['CrestFactorMid']), list(csvfile['PhaseSpaceHigh']), list(csvfile['ChannelCorrelationHigh']), list(csvfile['PeakMeterHigh']), list(csvfile['RMSHigh']), list(csvfile['CrestFactorHigh']), beats])\n",
    "            #print('asasas1')\n",
    "            Details = [\"\", 'PhaseSpace', 'ChannelCorrelation','PeakMeter','RMS', 'CrestFactor', 'PhaseSpaceLow', 'ChannelCorrelationLow', 'PeakMeterLow', 'RMSLow', 'CrestFactorLow', 'PhaseSpaceMid', 'ChannelCorrelationMid', 'PeakMeterMid','RMSMid','CrestFactorMid', 'PhaseSpaceHigh', 'ChannelCorrelationHigh', 'PeakMeterHigh','RMSHigh','CrestFactorHigh','bpm']\n",
    "            #Details = [\"\", 'PhaseSpace','bpm']\n",
    "            print(os.path.join(targetpath,mp3names[n]+'.csv'))\n",
    "            with open(os.path.join(targetpath,mp3names[n]+'.csv'), 'w', newline='') as f:\n",
    "                #print('cool')\n",
    "                write = csv.writer(f) \n",
    "                write.writerow(Details)\n",
    "                print('cool')\n",
    "                write.writerows(np.transpose(features)) \n",
    "            break      \n",
    "        except:\n",
    "            print('shit!')\n",
    "            break"
   ]
  },
  {
   "cell_type": "code",
   "execution_count": null,
   "id": "591f0a67",
   "metadata": {
    "scrolled": false
   },
   "outputs": [],
   "source": [
    "# Example usage:\n",
    "file_path = r'C:\\Users\\t_ziemer\\Desktop\\techno-test\\germanytest\\E-Noize - Descraciado (1993).m4a'\n",
    "array, sr=librosa.load(file_path,sr=500,mono=True)\n",
    "cut = array[(sr*4):len(array)-(sr*4)]\n",
    "estimated_bpm = estimate_bpm(cut,sr)\n",
    "\n",
    "median=np.median(estimated_bpm)\n",
    "mode=statistics.mode(estimated_bpm)\n",
    "\n",
    "if estimated_bpm is not None:\n",
    "    print(f'Estimated BPM: {median} and {mode}')\n",
    "else:\n",
    "    print('BPM estimation failed.')"
   ]
  },
  {
   "cell_type": "code",
   "execution_count": null,
   "id": "bc244362",
   "metadata": {},
   "outputs": [],
   "source": []
  }
 ],
 "metadata": {
  "kernelspec": {
   "display_name": "Python 3 (ipykernel)",
   "language": "python",
   "name": "python3"
  },
  "language_info": {
   "codemirror_mode": {
    "name": "ipython",
    "version": 3
   },
   "file_extension": ".py",
   "mimetype": "text/x-python",
   "name": "python",
   "nbconvert_exporter": "python",
   "pygments_lexer": "ipython3",
   "version": "3.10.7"
  }
 },
 "nbformat": 4,
 "nbformat_minor": 5
}
