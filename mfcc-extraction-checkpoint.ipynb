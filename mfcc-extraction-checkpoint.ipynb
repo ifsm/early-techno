{
 "cells": [
  {
   "cell_type": "markdown",
   "id": "cfb0e6eb",
   "metadata": {},
   "source": [
    "# Extract MFCCs"
   ]
  },
  {
   "cell_type": "code",
   "execution_count": 2,
   "id": "c5e42f6e",
   "metadata": {},
   "outputs": [],
   "source": [
    "import os\n",
    "import numpy as np\n",
    "from matplotlib import pyplot as plt\n",
    "import IPython.display as ipd\n",
    "import librosa, librosa.display\n",
    "import pandas as pd\n",
    "import math\n",
    "import ffmpeg\n",
    "import pydub\n",
    "import csv\n",
    "import sklearn\n",
    "#%matplotlib inline\n",
    "import sounddevice as sd#to play back sounds\n",
    "from pydub import AudioSegment\n",
    "from scipy import signal#for fast correlation (using fast convolution)"
   ]
  },
  {
   "cell_type": "code",
   "execution_count": null,
   "id": "54eb988f",
   "metadata": {},
   "outputs": [],
   "source": [
    "#array, sr = librosa.load(mp3list[1],sr=22050,mono=False)#will resample to 22050 Hz and convert NOT to mono\n",
    "#sc = librosa.feature.spectral_centroid(y = cut[0], sr = sr, n_fft = fs, hop_length = ss)[0]\n",
    "#sb = librosa.feature.spectral_bandwidth(y = cut[0], sr = sr, n_fft = fs, hop_length = ss)[0]\n",
    "#sroll = librosa.feature.spectral_rolloff(y = cut[0], sr = sr, n_fft = fs, hop_length = ss)[0]\n",
    "#sf = librosa.feature.spectral_flatness(y = cut[0], n_fft = fs, hop_length = ss)[0]\n",
    "#rms = librosa.feature.rms(y = cut[0], frame_length = fs, hop_length = ss)[0]\n",
    "#zcr = librosa.feature.zero_crossing_rate(y = cut[0], frame_length = fs, hop_length = ss)[0]"
   ]
  },
  {
   "cell_type": "code",
   "execution_count": 3,
   "id": "273a9069",
   "metadata": {},
   "outputs": [],
   "source": [
    "def mfccs(cut, fs):\n",
    "    mfcclist=librosa.feature.mfcc(y=cut, sr=22050, n_fft=fs, hop_length=fs, S=None, n_mfcc=13, dct_type=2, norm='ortho', lifter=0)\n",
    "    centroid=librosa.feature.spectral_centroid(y=cut, sr=22050, n_fft=fs, hop_length=fs)[0]\n",
    "    rolloff=librosa.feature.spectral_rolloff(y=cut, sr=22050, n_fft=fs, hop_length=fs)[0]\n",
    "    flatness=librosa.feature.spectral_flatness(y=cut, n_fft=fs, hop_length=fs)[0]\n",
    "    bandwidth=librosa.feature.spectral_bandwidth(y=cut, sr=22050, n_fft=fs, hop_length=fs)[0]\n",
    "    zcr=librosa.feature.zero_crossing_rate(y=cut, frame_length=fs, hop_length=fs)[0]\n",
    "    return mfcclist, centroid, rolloff, flatness, bandwidth, zcr\n",
    "#print(type(line))"
   ]
  },
  {
   "cell_type": "code",
   "execution_count": 4,
   "id": "a203bd02",
   "metadata": {},
   "outputs": [],
   "source": [
    "#path = r'e:\\2'#file path that contains all mp3 files\n",
    "mp3list = []\n",
    "#for root, dirs, files in os.walk(path):#loop to list all file paths\n",
    "#    for file in files:\n",
    "#        mp3list.append(os.path.join(root,file))\n",
    "path = r'C:\\Users\\t_ziemer\\Desktop\\techno-94\\denmark'#file path that contains all mp3 files\n",
    "for root, dirs, files in os.walk(path):#loop to list all file paths\n",
    "    for file in files:\n",
    "        mp3list.append(os.path.join(root,file))\n",
    "#path = r'e:\\22050'#file path that contains all mp3 files\n",
    "#for root, dirs, files in os.walk(path):#loop to list all file paths\n",
    "#    for file in files:\n",
    "#        mp3list.append(os.path.join(root,file))\n",
    "#path = r'e:\\5'#file path that contains all mp3 files\n",
    "#for root, dirs, files in os.walk(path):#loop to list all file paths\n",
    "#    for file in files:\n",
    "#        mp3list.append(os.path.join(root,file))\n",
    "fs = 2048\n",
    "ss = fs"
   ]
  },
  {
   "cell_type": "code",
   "execution_count": null,
   "id": "d2eb69d1",
   "metadata": {},
   "outputs": [],
   "source": [
    "array, sr=librosa.load(mp3list[0],mono=True,duration = math.floor(float(dur)))"
   ]
  },
  {
   "cell_type": "code",
   "execution_count": 8,
   "id": "57e5259c",
   "metadata": {
    "scrolled": true
   },
   "outputs": [
    {
     "name": "stdout",
     "output_type": "stream",
     "text": [
      "C:\\Users\\t_ziemer\\Desktop\\techno-94\\denmark\\Cut 'n' Move - Give It Up (Mindmix Limited).mp3\n",
      "cut\n",
      "here\n",
      "C:\\Users\\t_ziemer\\Desktop\\techno-94\\denmark\\Cut'n'move - Give It Up.mp3\n",
      "cut\n",
      "here\n"
     ]
    }
   ],
   "source": [
    "for n in range(len(mp3list)):\n",
    "    while True:\n",
    "        try:\n",
    "            dur = pydub.utils.mediainfo(mp3list[n])[\"duration\"]\n",
    "            array, sr=librosa.load(mp3list[n],mono=True,duration = math.floor(float(dur)))\n",
    "            print(mp3list[n])\n",
    "            cut = array[176400:len(array)-176400]# we crop the first and last 4 seconds\n",
    "            mfcc, centroid, rolloff, flatness, bandwidth, zcr = mfccs(cut, fs)\n",
    "            line=[i for i in range(len(mfcc[0]))]\n",
    "            features=[np.transpose(line),np.transpose(mfcc[0]),np.transpose(mfcc[1]),np.transpose(mfcc[2]),np.transpose(mfcc[3]),np.transpose(mfcc[4]),np.transpose(mfcc[5]),np.transpose(mfcc[6]),np.transpose(mfcc[7]),np.transpose(mfcc[8]),np.transpose(mfcc[9]),np.transpose(mfcc[10]),np.transpose(mfcc[11]),np.transpose(mfcc[12]),np.transpose(centroid),np.transpose(rolloff),np.transpose(flatness),np.transpose(bandwidth),np.transpose(zcr)] \n",
    "            Details = [\"\", 'MFCC1', 'MFCC2', 'MFCC3', 'MFCC4', 'MFCC5','MFCC6','MFCC7','MFCC8','MFCC9','MFCC10','MFCC11','MFCC12','MFCC13','SpectralCentroid','SpectralRolloff','SpectralFlatness','SpectralBandwidth','ZeroCrossingRate']  \n",
    "            with open(mp3list[n]+'.csv', 'w', newline='') as f:\n",
    "                write = csv.writer(f)\n",
    "                write.writerow(Details) \n",
    "                write.writerows(np.transpose(features)) \n",
    "            break\n",
    "        except:\n",
    "            print('shit')\n",
    "            break      "
   ]
  }
 ],
 "metadata": {
  "kernelspec": {
   "display_name": "Python 3 (ipykernel)",
   "language": "python",
   "name": "python3"
  },
  "language_info": {
   "codemirror_mode": {
    "name": "ipython",
    "version": 3
   },
   "file_extension": ".py",
   "mimetype": "text/x-python",
   "name": "python",
   "nbconvert_exporter": "python",
   "pygments_lexer": "ipython3",
   "version": "3.10.7"
  }
 },
 "nbformat": 4,
 "nbformat_minor": 5
}
