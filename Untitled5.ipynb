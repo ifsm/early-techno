{
 "cells": [
  {
   "cell_type": "code",
   "execution_count": 5,
   "id": "4e7839ce",
   "metadata": {},
   "outputs": [],
   "source": [
    "import os\n",
    "import glob\n",
    "from pathlib import Path\n",
    "path=r'C:\\Users\\t_ziemer\\Desktop\\techno-csv\\Germany'\n",
    "fold=glob.glob(str(path+'\\\\*'))"
   ]
  },
  {
   "cell_type": "code",
   "execution_count": 7,
   "id": "0520d08f",
   "metadata": {},
   "outputs": [],
   "source": [
    "for fold in enumerate(folds):\n",
    "    files = glob.glob(str(path+'\\*.csv'))\n",
    "    numfiles = len(fold)"
   ]
  },
  {
   "cell_type": "code",
   "execution_count": null,
   "id": "52d0c60e",
   "metadata": {},
   "outputs": [],
   "source": [
    "p = Path(path)\n",
    "files = [file.name for file in p.glob('*')]  # This extracts only the filenames"
   ]
  },
  {
   "cell_type": "code",
   "execution_count": null,
   "id": "b87ec3e0",
   "metadata": {},
   "outputs": [],
   "source": [
    "# dictionary of all features:\n",
    "features = {1: 'PhaseSpace',\n",
    "            2: 'ChannelCorrelation',\n",
    "            3: 'PeakMeter',\n",
    "            4: 'RMS',\n",
    "            5: 'CrestFactor',\n",
    "            6: 'PhaseSpaceLow',\n",
    "            7: 'ChannelCorrelationLow',\n",
    "            8: 'PeakMeterLow',\n",
    "            9: 'RMSLow',\n",
    "            10: 'CrestFactorLow',\n",
    "            11: 'PhaseSpaceMid',\n",
    "            12: 'ChannelCorrelationMid',\n",
    "            13: 'PeakMeterMid',\n",
    "            14: 'RMSMid',\n",
    "            15: 'CrestFactorMid',\n",
    "            16: 'PhaseSpaceHigh',\n",
    "            17: 'ChannelCorrelationHigh',\n",
    "            18: 'PeakMeterHigh',\n",
    "            19: 'RMSHigh',\n",
    "            20: 'CrestFactorHigh',\n",
    "            21: 'bpm'}\n",
    "\n",
    "# selection of preferred features\n",
    "nfeatures = {0: 21\n",
    "            }\n",
    "# shall we take each feratures' 'mean', 'median', standard deviation ('std'), skewness ('skew'), or kurtosis ('kurt')?\n",
    "what=['mean']\n",
    "numfeatures = len(nfeatures)"
   ]
  },
  {
   "cell_type": "code",
   "execution_count": null,
   "id": "c4287436",
   "metadata": {},
   "outputs": [],
   "source": [
    "import numpy as np # for arrays\n",
    "import pandas as pd # for importing csv files\n",
    "from pathlib import Path\n",
    "\n",
    "train_X = []\n",
    "target = []\n",
    "color_map = {}\n",
    "nation = []\n",
    "year = []\n",
    "filename = []\n",
    "\n",
    "# give the classes their names\n",
    "labels=['Germany','USA']\n",
    "\n",
    "for cl, fold in enumerate(folds):\n",
    "    files = glob.glob(str(fold+'\\*.csv'))\n",
    "    numfiles = len(fold)\n",
    "    lal1 = np.empty((numfiles, numfeatures))\n",
    "    #print(lal1)\n",
    "    for j, f in enumerate(files):\n",
    "        la = pd.read_csv(f, index_col=0)\n",
    "        train_X.append(la[features[nfeatures[0]]].mean())\n",
    "        #print(f)\n",
    "        if f[-5]=='s':\n",
    "            #int(f[-13:-9])\n",
    "            #print(int(f[-13:-9]))\n",
    "            year.append(int(f[-14:-10]))\n",
    "            opus = -16\n",
    "        else:\n",
    "            year.append(int(f[-13:-9]))\n",
    "            opus = -15\n",
    "        if fold[-1]=='y':\n",
    "            filename.append(f[45:opus])# depends on absolute file path\n",
    "        else:\n",
    "            filename.append(f[41:opus])# depends on absolute file path\n",
    "            #print(f[45:-16])\n",
    "        nation.append(labels[cl])"
   ]
  }
 ],
 "metadata": {
  "kernelspec": {
   "display_name": "Python 3 (ipykernel)",
   "language": "python",
   "name": "python3"
  },
  "language_info": {
   "codemirror_mode": {
    "name": "ipython",
    "version": 3
   },
   "file_extension": ".py",
   "mimetype": "text/x-python",
   "name": "python",
   "nbconvert_exporter": "python",
   "pygments_lexer": "ipython3",
   "version": "3.10.7"
  }
 },
 "nbformat": 4,
 "nbformat_minor": 5
}
