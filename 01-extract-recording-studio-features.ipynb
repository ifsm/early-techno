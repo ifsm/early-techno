{
 "cells": [
  {
   "cell_type": "markdown",
   "id": "cfb0e6eb",
   "metadata": {},
   "source": [
    "# Import, and analyze audio files"
   ]
  },
  {
   "cell_type": "code",
   "execution_count": 1,
   "id": "c5e42f6e",
   "metadata": {},
   "outputs": [],
   "source": [
    "import os\n",
    "import statistics\n",
    "import numpy as np\n",
    "from matplotlib import pyplot as plt\n",
    "import IPython.display as ipd\n",
    "import librosa, librosa.display\n",
    "import pandas as pd\n",
    "import math\n",
    "import ffmpeg\n",
    "import pydub\n",
    "import csv\n",
    "import sklearn\n",
    "import sounddevice as sd#to play back sounds\n",
    "from pydub import AudioSegment\n",
    "from scipy import signal#for fast correlation (using fast convolution)\n",
    "from scipy.signal import butter, lfilter, freqz, sosfreqz, sosfilt\n",
    "from scipy.signal import find_peaks\n",
    "import scipy"
   ]
  },
  {
   "cell_type": "code",
   "execution_count": 2,
   "id": "d20b066d",
   "metadata": {},
   "outputs": [],
   "source": [
    "# This is a band pass filter:\n",
    "def butter_bandpass(lowcut, highcut, fs, order=5):\n",
    "    nyq = 0.5 * fs\n",
    "    low = lowcut / nyq\n",
    "    high = highcut / nyq\n",
    "    sos = butter(order, [low, high], btype='band',output='sos')\n",
    "    return sos\n",
    "\n",
    "def butter_bandpass_filter(data, lowcut, highcut, sr, order=5):\n",
    "    sos = butter_bandpass(lowcut, highcut, sr, order=order)\n",
    "    y = sosfilt(sos, data)\n",
    "    return y"
   ]
  },
  {
   "cell_type": "code",
   "execution_count": 3,
   "id": "4058f3a7",
   "metadata": {},
   "outputs": [],
   "source": [
    "# Extraction  of all recording studio features per frame\n",
    "def recordingstudio(cut, fs):\n",
    "    bc = []\n",
    "    peaks = []\n",
    "    rmss = []\n",
    "    crests = []\n",
    "    corr=[]\n",
    "    line=[]\n",
    "    #klasse=[]\n",
    "    for frame in range(int(len(cut[0])/fs)):\n",
    "        box = [[0,0] for i in range(fs)]\n",
    "        left = [0 for i in range(fs)]\n",
    "        right = left\n",
    "        for i in range(fs):\n",
    "            left[i]=cut[0][frame*fs+i]\n",
    "            right[i]=cut[1][frame*fs+i]\n",
    "            box[i]=[int(math.floor(left[i]*20)),int(math.floor(right[i]*20))]\n",
    "            sq = left[i]**2\n",
    "        peak=np.max(np.abs(left))\n",
    "        if peak < 0.000001:\n",
    "            peak = 0.000001\n",
    "        #print(peak)\n",
    "        corr.append(np.min(np.corrcoef(cut[0][frame*fs:frame*fs+fs],cut[1][frame*fs:frame*fs+fs])))\n",
    "        rms=np.sqrt(np.mean(sq))#0 to 1\n",
    "        if rms < 0.0000002:\n",
    "            rms = 0.0000002\n",
    "        peakdB=20*math.log(peak,10)#-infty to 0\n",
    "        rmsdB=20*math.log(rms,10)#0 to -infty\n",
    "        crest=peakdB-rmsdB\n",
    "        bc.append(len(np.unique(box))/400)#0.0025 to 1\n",
    "        peaks.append(peakdB)\n",
    "        rmss.append(rmsdB)\n",
    "        crests.append(crest)#0 to 80.9\n",
    "        line.append(frame)\n",
    "        #klasse.append(1)\n",
    "    #print('all frames done')\n",
    "    return line, bc, corr, peaks, rmss, crests#,class \n",
    "#print(type(line))"
   ]
  },
  {
   "cell_type": "code",
   "execution_count": 4,
   "id": "a203bd02",
   "metadata": {},
   "outputs": [],
   "source": [
    "# define source folder:\n",
    "mp3list = []\n",
    "path = r'C:\\Users\\t_ziemer\\Desktop\\techno-94\\usa2025'#file path that contains all mp3 files to be analyzed\n",
    "for root, dirs, files in os.walk(path):#loop to list all file paths\n",
    "    for file in files:\n",
    "        mp3list.append(os.path.join(root,file))\n",
    "fs = 2048#frame size about 50 ms\n",
    "ss = fs#step size equals frame size (i.e., no overlap between frames)"
   ]
  },
  {
   "cell_type": "code",
   "execution_count": 5,
   "id": "d9c1742d",
   "metadata": {
    "scrolled": true
   },
   "outputs": [
    {
     "name": "stderr",
     "output_type": "stream",
     "text": [
      "C:\\Users\\t_ziemer\\AppData\\Local\\Programs\\Python\\Python310\\lib\\site-packages\\librosa\\util\\decorators.py:88: UserWarning: PySoundFile failed. Trying audioread instead.\n",
      "  return f(*args, **kwargs)\n"
     ]
    },
    {
     "name": "stdout",
     "output_type": "stream",
     "text": [
      "C:\\Users\\t_ziemer\\Desktop\\techno-94\\usa2025\\A Nite Life Production Presents Smooth Stan Smith - On My Own (1994).m4a\n"
     ]
    },
    {
     "name": "stderr",
     "output_type": "stream",
     "text": [
      "C:\\Users\\t_ziemer\\AppData\\Local\\Programs\\Python\\Python310\\lib\\site-packages\\numpy\\lib\\function_base.py:2853: RuntimeWarning: invalid value encountered in divide\n",
      "  c /= stddev[:, None]\n"
     ]
    },
    {
     "name": "stdout",
     "output_type": "stream",
     "text": [
      "C:\\Users\\t_ziemer\\Desktop\\techno-94\\usa2025\\A Nite Life Production Presents Smooth Stan Smith - Swing Side (1994).opus\n",
      "C:\\Users\\t_ziemer\\Desktop\\techno-94\\usa2025\\A Nite Life Production Presents Smooth Stan Smith - U Flat (1994).opus\n"
     ]
    },
    {
     "name": "stderr",
     "output_type": "stream",
     "text": [
      "C:\\Users\\t_ziemer\\AppData\\Local\\Programs\\Python\\Python310\\lib\\site-packages\\librosa\\util\\decorators.py:88: UserWarning: PySoundFile failed. Trying audioread instead.\n",
      "  return f(*args, **kwargs)\n"
     ]
    },
    {
     "name": "stdout",
     "output_type": "stream",
     "text": [
      "C:\\Users\\t_ziemer\\Desktop\\techno-94\\usa2025\\Alpha Team - Speed (Club Mix) (1992.m4a\n",
      "C:\\Users\\t_ziemer\\Desktop\\techno-94\\usa2025\\Alpha Team - Speed (Hardcore) (1992).m4a\n",
      "C:\\Users\\t_ziemer\\Desktop\\techno-94\\usa2025\\Andre Wade & Company - Bend Over (PJ's Underground Mix) (1993).m4a\n",
      "C:\\Users\\t_ziemer\\Desktop\\techno-94\\usa2025\\Bobby D - Edit Crazy #0 (1988).m4a\n"
     ]
    },
    {
     "name": "stderr",
     "output_type": "stream",
     "text": [
      "C:\\Users\\t_ziemer\\AppData\\Local\\Programs\\Python\\Python310\\lib\\site-packages\\numpy\\lib\\function_base.py:2853: RuntimeWarning: invalid value encountered in divide\n",
      "  c /= stddev[:, None]\n",
      "C:\\Users\\t_ziemer\\AppData\\Local\\Programs\\Python\\Python310\\lib\\site-packages\\numpy\\lib\\function_base.py:2854: RuntimeWarning: invalid value encountered in divide\n",
      "  c /= stddev[None, :]\n"
     ]
    },
    {
     "name": "stdout",
     "output_type": "stream",
     "text": [
      "C:\\Users\\t_ziemer\\Desktop\\techno-94\\usa2025\\La Drid Austin - Don't Make Me Wait (1992).m4a\n",
      "C:\\Users\\t_ziemer\\Desktop\\techno-94\\usa2025\\La Drid Austin - Flashback (1992).m4a\n",
      "C:\\Users\\t_ziemer\\Desktop\\techno-94\\usa2025\\La Drid Austin - Outrage (1992).m4a\n",
      "C:\\Users\\t_ziemer\\Desktop\\techno-94\\usa2025\\La Drid Austin - Strange Invader (1992).m4a\n",
      "C:\\Users\\t_ziemer\\Desktop\\techno-94\\usa2025\\La Drid Austin - You Got To Move (1992).m4a\n",
      "C:\\Users\\t_ziemer\\Desktop\\techno-94\\usa2025\\Lydia Lee - I Do Love You (Club Mix) (1991).m4a\n",
      "C:\\Users\\t_ziemer\\Desktop\\techno-94\\usa2025\\M.T.S. - Time To Overload (Rx 1990) (1990).opus\n",
      "C:\\Users\\t_ziemer\\Desktop\\techno-94\\usa2025\\Methodology - Rockin To The Bass (1992).m4a\n",
      "C:\\Users\\t_ziemer\\Desktop\\techno-94\\usa2025\\Methodology - Take A Ride (1992).m4a\n",
      "shit!\n",
      "shit!\n",
      "C:\\Users\\t_ziemer\\Desktop\\techno-94\\usa2025\\Paul Johnson - Drum Boogie (1992).m4a\n",
      "C:\\Users\\t_ziemer\\Desktop\\techno-94\\usa2025\\Paul Johnson - Fascination (1992).m4a\n"
     ]
    },
    {
     "name": "stderr",
     "output_type": "stream",
     "text": [
      "C:\\Users\\t_ziemer\\AppData\\Local\\Programs\\Python\\Python310\\lib\\site-packages\\numpy\\lib\\function_base.py:2853: RuntimeWarning: divide by zero encountered in divide\n",
      "  c /= stddev[:, None]\n",
      "C:\\Users\\t_ziemer\\AppData\\Local\\Programs\\Python\\Python310\\lib\\site-packages\\numpy\\lib\\function_base.py:2854: RuntimeWarning: divide by zero encountered in divide\n",
      "  c /= stddev[None, :]\n"
     ]
    },
    {
     "name": "stdout",
     "output_type": "stream",
     "text": [
      "C:\\Users\\t_ziemer\\Desktop\\techno-94\\usa2025\\Paul Johnson - Kaotil Samples (1992).m4a\n",
      "shit!\n",
      "C:\\Users\\t_ziemer\\Desktop\\techno-94\\usa2025\\Paul Johnson - Love Feeling (1992).m4a\n",
      "C:\\Users\\t_ziemer\\Desktop\\techno-94\\usa2025\\Paul Johnson - Men at Work (1992).m4a\n",
      "C:\\Users\\t_ziemer\\Desktop\\techno-94\\usa2025\\Paul Johnson - Over Load #12 (1992).m4a\n",
      "C:\\Users\\t_ziemer\\Desktop\\techno-94\\usa2025\\Paul Johnson - Plus Times Minus (1992).m4a\n",
      "C:\\Users\\t_ziemer\\Desktop\\techno-94\\usa2025\\Paul Johnson - S.O.S. (1992).m4a\n",
      "C:\\Users\\t_ziemer\\Desktop\\techno-94\\usa2025\\Paul Johnson - Time Warp (1993).m4a\n",
      "shit!\n",
      "C:\\Users\\t_ziemer\\Desktop\\techno-94\\usa2025\\Ron Carroll - A New Day (P.J. Dub) (1993).m4a\n",
      "C:\\Users\\t_ziemer\\Desktop\\techno-94\\usa2025\\Smooth Stan Smith - 2 Smooth (1994).m4a\n",
      "C:\\Users\\t_ziemer\\Desktop\\techno-94\\usa2025\\Two City Tribe - Move Something (Radio Mix) (1992).m4a\n",
      "C:\\Users\\t_ziemer\\Desktop\\techno-94\\usa2025\\Unisyn - Take The Time (Get Downs Dope Mix) (1992).m4a\n",
      "C:\\Users\\t_ziemer\\Desktop\\techno-94\\usa2025\\Unisyn - Take The Time (Scratch-A-Track) (1992).m4a\n",
      "C:\\Users\\t_ziemer\\Desktop\\techno-94\\usa2025\\X-Crash - Possesed (1993).m4a\n",
      "C:\\Users\\t_ziemer\\Desktop\\techno-94\\usa2025\\X-Crash - Reguritation (1993).m4a\n",
      "C:\\Users\\t_ziemer\\Desktop\\techno-94\\usa2025\\X-Crash - Urban Bass (10 Min. Madness) (1993).m4a\n",
      "C:\\Users\\t_ziemer\\Desktop\\techno-94\\usa2025\\X-Force - Dead Pool (D.J. Attack's Digital Mess Mix) (1992).m4a\n",
      "C:\\Users\\t_ziemer\\Desktop\\techno-94\\usa2025\\X-Force - Dead Pool (Trip To Mojo World Mix) (1992).m4a\n"
     ]
    }
   ],
   "source": [
    "# loop through, export files and skip corrupted files\n",
    "import warnings\n",
    "# Suppress DeprecationWarning\n",
    "warnings.simplefilter(\"ignore\", category=DeprecationWarning)\n",
    "for n in range(len(mp3list)):#len(mp3list)\n",
    "    while True:\n",
    "        try:\n",
    "            #dur = pydub.utils.mediainfo(mp3list[n])[\"duration\"]\n",
    "            array, sr=librosa.load(mp3list[n],sr=44100,mono=False)#,duration = math.floor(float(dur))\n",
    "            print(mp3list[n])\n",
    "            #normalization:\n",
    "            if np.max(array)>np.min(array)*-1:\n",
    "                array = array/np.max(array)\n",
    "            else:\n",
    "                array = array/np.min(array)*-1\n",
    "            cut = [array[0][176400:len(array[0])-176400],array[1][176400:len(array[1])-176400]]# we crop the first and last 4 seconds\n",
    "            line, bc, corr, peak, rms, crest = recordingstudio(cut, fs)\n",
    "            cutlow = [butter_bandpass_filter(cut[0],20, 150 ,sr, order=5),butter_bandpass_filter(cut[1],20, 150 ,sr, order=5)]\n",
    "            line, bclow, corrlow, peaklow, rmslow, crestlow = recordingstudio(cutlow, fs)\n",
    "            cutmid = [butter_bandpass_filter(cut[0],150, 2000 ,sr, order=5),butter_bandpass_filter(cut[1],150, 2000 ,sr, order=5)]\n",
    "            line, bcmid, corrmid, peakmid, rmsmid, crestmid = recordingstudio(cutmid, fs)\n",
    "            cuthigh = [butter_bandpass_filter(cut[0],2000, 10000 ,sr, order=5),butter_bandpass_filter(cut[1],2000, 10000 ,sr, order=5)]\n",
    "            line, bchigh, corrhigh, peakhigh, rmshigh, cresthigh = recordingstudio(cuthigh, fs)\n",
    "            tempo, beat_frames = librosa.beat.beat_track(y=cut[0], sr=sr)\n",
    "            beats=[]            \n",
    "            if tempo < 100:\n",
    "                tempo = tempo * 2\n",
    "            if tempo > 220:\n",
    "                tempo = tempo / 2\n",
    "            for i in range(len(line)):\n",
    "                beats.append(tempo)#bpm,median\n",
    "            #cutleft= cut[0][0::32]\n",
    "            #estimated_bpm = estimate_bpm(cutleft)\n",
    "            #median=np.median(estimated_bpm)\n",
    "            features=[np.transpose(line), np.transpose(bc), np.transpose(corr), np.transpose(peak), np.transpose(rms), np.transpose(crest), np.transpose(bclow), np.transpose(corrlow), np.transpose(peaklow), np.transpose(rmslow), np.transpose(crestlow), np.transpose(bcmid), np.transpose(corrmid), np.transpose(peakmid), np.transpose(rmsmid), np.transpose(crestmid), np.transpose(bchigh), np.transpose(corrhigh), np.transpose(peakhigh), np.transpose(rmshigh), np.transpose(cresthigh),np.transpose(beats)] \n",
    "            Details = [\"\", 'PhaseSpace', 'ChannelCorrelation', 'PeakMeter', 'RMS', 'CrestFactor','PhaseSpaceLow', 'ChannelCorrelationLow', 'PeakMeterLow','RMSLow','CrestFactorLow', 'PhaseSpaceMid', 'ChannelCorrelationMid', 'PeakMeterMid','RMSMid','CrestFactorMid', 'PhaseSpaceHigh', 'ChannelCorrelationHigh', 'PeakMeterHigh','RMSHigh','CrestFactorHigh','bpm']\n",
    "            with open(mp3list[n]+'.csv', 'w', newline='') as f:\n",
    "                write = csv.writer(f) \n",
    "                write.writerow(Details) \n",
    "                write.writerows(np.transpose(features)) \n",
    "            break      \n",
    "        except:\n",
    "            print('shit!')\n",
    "            break"
   ]
  },
  {
   "cell_type": "code",
   "execution_count": null,
   "id": "cce5fea9",
   "metadata": {},
   "outputs": [],
   "source": []
  }
 ],
 "metadata": {
  "kernelspec": {
   "display_name": "Python 3 (ipykernel)",
   "language": "python",
   "name": "python3"
  },
  "language_info": {
   "codemirror_mode": {
    "name": "ipython",
    "version": 3
   },
   "file_extension": ".py",
   "mimetype": "text/x-python",
   "name": "python",
   "nbconvert_exporter": "python",
   "pygments_lexer": "ipython3",
   "version": "3.10.7"
  }
 },
 "nbformat": 4,
 "nbformat_minor": 5
}
