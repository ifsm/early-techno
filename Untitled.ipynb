{
 "cells": [
  {
   "cell_type": "code",
   "execution_count": 1,
   "id": "343e7adf",
   "metadata": {},
   "outputs": [],
   "source": [
    "from comsar import TimbreTrack\n",
    "from apollon.audio import AudioFile\n",
    "import os\n",
    "import numpy as np\n",
    "import pandas as pd \n",
    "import glob\n",
    "import os\n",
    "from pathlib import Path"
   ]
  },
  {
   "cell_type": "code",
   "execution_count": 11,
   "id": "305c11db",
   "metadata": {},
   "outputs": [
    {
     "name": "stdout",
     "output_type": "stream",
     "text": [
      "Spectral Centroid ... 0.006317 s.\n",
      "Spectral Spread ... 0.01301 s.\n",
      "Spectral Flux ... 0.000609 s.\n",
      "Roughness ... 2.884 s.\n",
      "Sharpness ... 0.003881 s.\n",
      "SPL ... 0.001221 s.\n"
     ]
    }
   ],
   "source": [
    "tt = TimbreTrack()\n",
    "files = glob.glob('C:\\python\\gits\\early-techno\\*.mp3')\n",
    "for file in files:\n",
    "    a = tt.extract(file)\n",
    "    p = Path(file)\n",
    "    filecsv = Path(p.parent.as_posix() + '/' + p.stem + '.csv')\n",
    "    a.features.to_csv(filecsv)"
   ]
  },
  {
   "cell_type": "code",
   "execution_count": 7,
   "id": "ef0d1f00",
   "metadata": {},
   "outputs": [
    {
     "data": {
      "text/html": [
       "<div>\n",
       "<style scoped>\n",
       "    .dataframe tbody tr th:only-of-type {\n",
       "        vertical-align: middle;\n",
       "    }\n",
       "\n",
       "    .dataframe tbody tr th {\n",
       "        vertical-align: top;\n",
       "    }\n",
       "\n",
       "    .dataframe thead th {\n",
       "        text-align: right;\n",
       "    }\n",
       "</style>\n",
       "<table border=\"1\" class=\"dataframe\">\n",
       "  <thead>\n",
       "    <tr style=\"text-align: right;\">\n",
       "      <th></th>\n",
       "      <th>Spectral Centroid</th>\n",
       "      <th>Spectral Spread</th>\n",
       "      <th>Spectral Flux</th>\n",
       "      <th>Roughness</th>\n",
       "      <th>Sharpness</th>\n",
       "      <th>SPL</th>\n",
       "    </tr>\n",
       "  </thead>\n",
       "  <tbody>\n",
       "    <tr>\n",
       "      <th>0</th>\n",
       "      <td>7583.876378</td>\n",
       "      <td>4238.293958</td>\n",
       "      <td>0.783003</td>\n",
       "      <td>1935.349262</td>\n",
       "      <td>1.463327</td>\n",
       "      <td>73.955114</td>\n",
       "    </tr>\n",
       "    <tr>\n",
       "      <th>1</th>\n",
       "      <td>7608.890635</td>\n",
       "      <td>4246.446906</td>\n",
       "      <td>0.000920</td>\n",
       "      <td>1701.555605</td>\n",
       "      <td>1.298112</td>\n",
       "      <td>73.955114</td>\n",
       "    </tr>\n",
       "    <tr>\n",
       "      <th>2</th>\n",
       "      <td>10668.478272</td>\n",
       "      <td>3253.417265</td>\n",
       "      <td>0.002068</td>\n",
       "      <td>119.048180</td>\n",
       "      <td>0.110647</td>\n",
       "      <td>51.914362</td>\n",
       "    </tr>\n",
       "    <tr>\n",
       "      <th>3</th>\n",
       "      <td>9307.754327</td>\n",
       "      <td>4029.007937</td>\n",
       "      <td>0.343676</td>\n",
       "      <td>159.933699</td>\n",
       "      <td>0.134475</td>\n",
       "      <td>51.914293</td>\n",
       "    </tr>\n",
       "  </tbody>\n",
       "</table>\n",
       "</div>"
      ],
      "text/plain": [
       "   Spectral Centroid  Spectral Spread  Spectral Flux    Roughness  Sharpness  \\\n",
       "0        7583.876378      4238.293958       0.783003  1935.349262   1.463327   \n",
       "1        7608.890635      4246.446906       0.000920  1701.555605   1.298112   \n",
       "2       10668.478272      3253.417265       0.002068   119.048180   0.110647   \n",
       "3        9307.754327      4029.007937       0.343676   159.933699   0.134475   \n",
       "\n",
       "         SPL  \n",
       "0  73.955114  \n",
       "1  73.955114  \n",
       "2  51.914362  \n",
       "3  51.914293  "
      ]
     },
     "execution_count": 7,
     "metadata": {},
     "output_type": "execute_result"
    }
   ],
   "source": [
    "a.features"
   ]
  },
  {
   "cell_type": "code",
   "execution_count": 9,
   "id": "141f1ff9",
   "metadata": {},
   "outputs": [
    {
     "data": {
      "text/html": [
       "<div>\n",
       "<style scoped>\n",
       "    .dataframe tbody tr th:only-of-type {\n",
       "        vertical-align: middle;\n",
       "    }\n",
       "\n",
       "    .dataframe tbody tr th {\n",
       "        vertical-align: top;\n",
       "    }\n",
       "\n",
       "    .dataframe thead th {\n",
       "        text-align: right;\n",
       "    }\n",
       "</style>\n",
       "<table border=\"1\" class=\"dataframe\">\n",
       "  <thead>\n",
       "    <tr style=\"text-align: right;\">\n",
       "      <th></th>\n",
       "      <th>Spectral Centroid</th>\n",
       "      <th>Spectral Spread</th>\n",
       "      <th>Spectral Flux</th>\n",
       "      <th>Roughness</th>\n",
       "      <th>Sharpness</th>\n",
       "      <th>SPL</th>\n",
       "    </tr>\n",
       "  </thead>\n",
       "  <tbody>\n",
       "    <tr>\n",
       "      <th>0</th>\n",
       "      <td>7577.473080</td>\n",
       "      <td>4228.910711</td>\n",
       "      <td>0.227065</td>\n",
       "      <td>2224.625545</td>\n",
       "      <td>1.714671</td>\n",
       "      <td>74.083635</td>\n",
       "    </tr>\n",
       "    <tr>\n",
       "      <th>1</th>\n",
       "      <td>7597.838725</td>\n",
       "      <td>4239.666361</td>\n",
       "      <td>0.001498</td>\n",
       "      <td>1399.049959</td>\n",
       "      <td>1.087911</td>\n",
       "      <td>74.083635</td>\n",
       "    </tr>\n",
       "    <tr>\n",
       "      <th>2</th>\n",
       "      <td>10599.645588</td>\n",
       "      <td>3309.235960</td>\n",
       "      <td>0.003426</td>\n",
       "      <td>142.098461</td>\n",
       "      <td>0.131585</td>\n",
       "      <td>51.913713</td>\n",
       "    </tr>\n",
       "    <tr>\n",
       "      <th>3</th>\n",
       "      <td>9139.605161</td>\n",
       "      <td>4083.686870</td>\n",
       "      <td>0.150871</td>\n",
       "      <td>136.954374</td>\n",
       "      <td>0.113762</td>\n",
       "      <td>51.913710</td>\n",
       "    </tr>\n",
       "  </tbody>\n",
       "</table>\n",
       "</div>"
      ],
      "text/plain": [
       "   Spectral Centroid  Spectral Spread  Spectral Flux    Roughness  Sharpness  \\\n",
       "0        7577.473080      4228.910711       0.227065  2224.625545   1.714671   \n",
       "1        7597.838725      4239.666361       0.001498  1399.049959   1.087911   \n",
       "2       10599.645588      3309.235960       0.003426   142.098461   0.131585   \n",
       "3        9139.605161      4083.686870       0.150871   136.954374   0.113762   \n",
       "\n",
       "         SPL  \n",
       "0  74.083635  \n",
       "1  74.083635  \n",
       "2  51.913713  \n",
       "3  51.913710  "
      ]
     },
     "execution_count": 9,
     "metadata": {},
     "output_type": "execute_result"
    }
   ],
   "source": [
    "a.features"
   ]
  },
  {
   "cell_type": "code",
   "execution_count": 3,
   "id": "c62fbc09",
   "metadata": {},
   "outputs": [
    {
     "name": "stdout",
     "output_type": "stream",
     "text": [
      "117.45383522727273\n",
      "120.18531976744185\n",
      "132.51201923076923\n",
      "139.6748310810811\n",
      "143.5546875\n",
      "151.99908088235293\n",
      "161.4990234375\n",
      "112.34714673913044\n",
      "175.1853813559322\n",
      "191.40625\n"
     ]
    }
   ],
   "source": [
    "import librosa\n",
    "mp3list = []\n",
    "path = r'C:\\Users\\t_ziemer\\Desktop\\techno-94\\testset'\n",
    "for root, dirs, files in os.walk(path):#loop to list all file paths\n",
    "    for file in files:\n",
    "        mp3list.append(os.path.join(root,file))\n",
    "for n in range(len(mp3list)):#len(mp3list)\n",
    "    while True:\n",
    "        try:\n",
    "            array, sr=librosa.load(mp3list[n],sr=44100,mono=False)\n",
    "            tempo, beat_frames = librosa.beat.beat_track(y=array[0], sr=sr)\n",
    "            if tempo < 100:\n",
    "                tempo = tempo * 2\n",
    "            if tempo > 220:\n",
    "                tempo = tempo / 2\n",
    "            print(tempo)\n",
    "            break      \n",
    "        except:\n",
    "            print('shit!')\n",
    "            break"
   ]
  },
  {
   "cell_type": "code",
   "execution_count": 15,
   "id": "c629bef5",
   "metadata": {},
   "outputs": [
    {
     "name": "stdout",
     "output_type": "stream",
     "text": [
      "Collecting pywavelets\n",
      "  Downloading pywavelets-1.7.0-cp310-cp310-win_amd64.whl.metadata (9.0 kB)\n",
      "Requirement already satisfied: numpy<3,>=1.23 in c:\\users\\t_ziemer\\appdata\\local\\programs\\python\\python310\\lib\\site-packages (from pywavelets) (1.23.5)\n",
      "Downloading pywavelets-1.7.0-cp310-cp310-win_amd64.whl (4.3 MB)\n",
      "   ---------------------------------------- 4.3/4.3 MB 6.2 MB/s eta 0:00:00\n",
      "Installing collected packages: pywavelets\n",
      "Successfully installed pywavelets-1.7.0\n",
      "Note: you may need to restart the kernel to use updated packages.\n"
     ]
    },
    {
     "name": "stderr",
     "output_type": "stream",
     "text": [
      "DEPRECATION: apollon 0.0.0 has a non-standard dependency specifier jsonschema>=\"3.2.0\". pip 24.1 will enforce this behaviour change. A possible replacement is to upgrade to a newer version of apollon or contact the author to suggest that they release a version with a conforming dependency specifiers. Discussion can be found at https://github.com/pypa/pip/issues/12063\n",
      "DEPRECATION: apollon 0.0.0 has a non-standard dependency specifier scipy>=\"0.19.0\". pip 24.1 will enforce this behaviour change. A possible replacement is to upgrade to a newer version of apollon or contact the author to suggest that they release a version with a conforming dependency specifiers. Discussion can be found at https://github.com/pypa/pip/issues/12063\n",
      "DEPRECATION: apollon 0.0.0 has a non-standard dependency specifier matplotlib>=\"2\". pip 24.1 will enforce this behaviour change. A possible replacement is to upgrade to a newer version of apollon or contact the author to suggest that they release a version with a conforming dependency specifiers. Discussion can be found at https://github.com/pypa/pip/issues/12063\n",
      "DEPRECATION: apollon 0.0.0 has a non-standard dependency specifier pandas>=\"0.20\". pip 24.1 will enforce this behaviour change. A possible replacement is to upgrade to a newer version of apollon or contact the author to suggest that they release a version with a conforming dependency specifiers. Discussion can be found at https://github.com/pypa/pip/issues/12063\n",
      "DEPRECATION: apollon 0.0.0 has a non-standard dependency specifier soundfile>=\"0.10.2\". pip 24.1 will enforce this behaviour change. A possible replacement is to upgrade to a newer version of apollon or contact the author to suggest that they release a version with a conforming dependency specifiers. Discussion can be found at https://github.com/pypa/pip/issues/12063\n",
      "DEPRECATION: chainsaddiction 0.1.2 has a non-standard dependency specifier numpy>='1.20'. pip 24.1 will enforce this behaviour change. A possible replacement is to upgrade to a newer version of chainsaddiction or contact the author to suggest that they release a version with a conforming dependency specifiers. Discussion can be found at https://github.com/pypa/pip/issues/12063\n",
      "\n",
      "[notice] A new release of pip is available: 24.0 -> 24.2\n",
      "[notice] To update, run: python.exe -m pip install --upgrade pip\n"
     ]
    }
   ],
   "source": [
    "pip install pywavelets"
   ]
  },
  {
   "cell_type": "code",
   "execution_count": 17,
   "id": "a61ced79",
   "metadata": {},
   "outputs": [],
   "source": [
    "import argparse\n",
    "import array\n",
    "import math\n",
    "import wave\n",
    "\n",
    "import matplotlib.pyplot as plt\n",
    "import numpy\n",
    "import pywt\n",
    "from scipy import signal"
   ]
  },
  {
   "cell_type": "code",
   "execution_count": 18,
   "id": "f7dba71e",
   "metadata": {},
   "outputs": [],
   "source": [
    "# print an error when no data can be found\n",
    "def no_audio_data():\n",
    "    print(\"No audio data for sample, skipping...\")\n",
    "    return None, None\n",
    "\n",
    "\n",
    "# simple peak detection\n",
    "def peak_detect(data):\n",
    "    max_val = numpy.amax(abs(data))\n",
    "    peak_ndx = numpy.where(data == max_val)\n",
    "    if len(peak_ndx[0]) == 0:  # if nothing found then the max must be negative\n",
    "        peak_ndx = numpy.where(data == -max_val)\n",
    "    return peak_ndx\n",
    "\n",
    "\n",
    "def bpm_detector(data, fs):\n",
    "    cA = []\n",
    "    cD = []\n",
    "    correl = []\n",
    "    cD_sum = []\n",
    "    levels = 4\n",
    "    max_decimation = 2 ** (levels - 1)\n",
    "    min_ndx = math.floor(60.0 / 220 * (fs / max_decimation))\n",
    "    max_ndx = math.floor(60.0 / 90 * (fs / max_decimation))\n",
    "\n",
    "    for loop in range(0, levels):\n",
    "        cD = []\n",
    "        # 1) DWT\n",
    "        if loop == 0:\n",
    "            [cA, cD] = pywt.dwt(data, \"db4\")\n",
    "            cD_minlen = len(cD) / max_decimation + 1\n",
    "            cD_sum = numpy.zeros(math.floor(cD_minlen))\n",
    "        else:\n",
    "            [cA, cD] = pywt.dwt(cA, \"db4\")\n",
    "\n",
    "        # 2) Filter\n",
    "        cD = signal.lfilter([0.01], [1 - 0.99], cD)\n",
    "\n",
    "        # 4) Subtract out the mean.\n",
    "\n",
    "        # 5) Decimate for reconstruction later.\n",
    "        cD = abs(cD[:: (2 ** (levels - loop - 1))])\n",
    "        cD = cD - numpy.mean(cD)\n",
    "\n",
    "        # 6) Recombine the signal before ACF\n",
    "        #    Essentially, each level the detail coefs (i.e. the HPF values) are concatenated to the beginning of the array\n",
    "        cD_sum = cD[0 : math.floor(cD_minlen)] + cD_sum\n",
    "\n",
    "    if [b for b in cA if b != 0.0] == []:\n",
    "        return no_audio_data()\n",
    "\n",
    "    # Adding in the approximate data as well...\n",
    "    cA = signal.lfilter([0.01], [1 - 0.99], cA)\n",
    "    cA = abs(cA)\n",
    "    cA = cA - numpy.mean(cA)\n",
    "    cD_sum = cA[0 : math.floor(cD_minlen)] + cD_sum\n",
    "\n",
    "    # ACF\n",
    "    correl = numpy.correlate(cD_sum, cD_sum, \"full\")\n",
    "\n",
    "    midpoint = math.floor(len(correl) / 2)\n",
    "    correl_midpoint_tmp = correl[midpoint:]\n",
    "    peak_ndx = peak_detect(correl_midpoint_tmp[min_ndx:max_ndx])\n",
    "    if len(peak_ndx) > 1:\n",
    "        return no_audio_data()\n",
    "\n",
    "    peak_ndx_adjusted = peak_ndx[0] + min_ndx\n",
    "    bpm = 60.0 / peak_ndx_adjusted * (fs / max_decimation)\n",
    "    print(bpm)\n",
    "    return bpm, correl"
   ]
  },
  {
   "cell_type": "code",
   "execution_count": 22,
   "id": "7f83efbd",
   "metadata": {},
   "outputs": [
    {
     "name": "stdout",
     "output_type": "stream",
     "text": [
      "[116.70783345]\n",
      "[120.14166364]\n",
      "shit!\n",
      "[137.8125]\n",
      "[145.00219202]\n",
      "[100.01511944]\n",
      "[159.85983567]\n",
      "[167.80821918]\n",
      "[174.90745637]\n",
      "[189.9770247]\n"
     ]
    }
   ],
   "source": [
    "for n in range(len(mp3list)):#len(mp3list)\n",
    "    while True:\n",
    "        try:\n",
    "            array, sr=librosa.load(mp3list[n],sr=44100,mono=False)\n",
    "            #tempo, beat_frames = librosa.beat.beat_track(y=array[0], sr=sr)\n",
    "            bpm, correl = bpm_detector(array[0],sr)\n",
    "            #print(tempo)\n",
    "            break      \n",
    "        except:\n",
    "            print('shit!')\n",
    "            break"
   ]
  },
  {
   "cell_type": "code",
   "execution_count": null,
   "id": "ed5fc0f2",
   "metadata": {},
   "outputs": [],
   "source": []
  }
 ],
 "metadata": {
  "kernelspec": {
   "display_name": "Python 3 (ipykernel)",
   "language": "python",
   "name": "python3"
  },
  "language_info": {
   "codemirror_mode": {
    "name": "ipython",
    "version": 3
   },
   "file_extension": ".py",
   "mimetype": "text/x-python",
   "name": "python",
   "nbconvert_exporter": "python",
   "pygments_lexer": "ipython3",
   "version": "3.10.7"
  }
 },
 "nbformat": 4,
 "nbformat_minor": 5
}
