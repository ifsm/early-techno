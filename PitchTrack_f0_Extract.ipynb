{
 "cells": [
  {
   "cell_type": "code",
   "execution_count": 1,
   "id": "weird-disco",
   "metadata": {},
   "outputs": [],
   "source": [
    "from comsar import PitchTrack\n",
    "from apollon.audio import AudioFile\n",
    "import matplotlib.pyplot as plt\n",
    "import pandas as pd\n",
    "import numpy as np\n",
    "import heapq\n",
    "from typing import Any, Optional\n",
    "from scipy.interpolate import interp1d\n",
    "from scipy.misc import derivative\n",
    "\n",
    "import apollon.segment as aps\n",
    "import apollon.signal.tools as ast\n",
    "from IPython.display import Audio\n",
    "import glob\n",
    "import os"
   ]
  },
  {
   "cell_type": "code",
   "execution_count": 2,
   "id": "comparative-warner",
   "metadata": {},
   "outputs": [],
   "source": [
    "#Parameter setup, e.g. frame size of 1102 sample points with a hop size of 441 sample points, \n",
    "#True = extend a half windows at start and end\n",
    "params=aps.SegmentationParams(1102,1102-441,True)\n",
    "#Instantiation of Pitch Track\n",
    "tt = PitchTrack(params)"
   ]
  },
  {
   "cell_type": "code",
   "execution_count": null,
   "id": "incomplete-louisville",
   "metadata": {},
   "outputs": [],
   "source": [
    "#Collect all files in file path\n",
    "files = glob.glob('Filepath\\\\*.wav', recursive=True)\n",
    "#Extract f0 and SPL for each sound file and write a .csv file for each sound file separately\n",
    "for file in files:\n",
    "    a=tt.extract(file)\n",
    "    filename, file_extension = os.path.splitext(os.path.basename(file))\n",
    "    pd.DataFrame(a.data[:,0]).to_csv(os.path.dirname(file) + '\\\\'+filename+'_f0.csv')"
   ]
  }
 ],
 "metadata": {
  "kernelspec": {
   "display_name": "Python 3",
   "language": "python",
   "name": "python3"
  },
  "language_info": {
   "codemirror_mode": {
    "name": "ipython",
    "version": 3
   },
   "file_extension": ".py",
   "mimetype": "text/x-python",
   "name": "python",
   "nbconvert_exporter": "python",
   "pygments_lexer": "ipython3",
   "version": "3.9.7"
  }
 },
 "nbformat": 4,
 "nbformat_minor": 5
}
